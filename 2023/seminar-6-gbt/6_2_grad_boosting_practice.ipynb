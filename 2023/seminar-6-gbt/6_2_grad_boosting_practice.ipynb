{
  "cells": [
    {
      "cell_type": "markdown",
      "metadata": {
        "id": "mkpTZ7nHqZLC"
      },
      "source": [
        "# Walmart TripType prediction\n",
        "\n",
        "https://www.kaggle.com/c/walmart-recruiting-trip-type-classification\n",
        "\n",
        ">For this competition, you are tasked with categorizing shopping trip types based on the items that customers purchased. To give a few hypothetical examples of trip types: a customer may make a small daily dinner trip, a weekly large grocery trip, a trip to buy gifts for an upcoming holiday, or a seasonal trip to buy clothes.\n",
        "\n",
        "\n",
        "## Multi-class classification, goal is to predict `type of the trip`.\n",
        "\n"
      ]
    },
    {
      "cell_type": "code",
      "source": [
        "!mkdir ~/.kaggle\n",
        "!touch ~/.kaggle/kaggle.json\n",
        "\n",
        "api_token = {\"username\":\"kolesnikovia\",\"key\":\"ec2bf61f4071c8a04ff0d396f2f4f4a4\"}\n",
        "\n",
        "import json\n",
        "\n",
        "with open('/root/.kaggle/kaggle.json', 'w') as file:\n",
        "    json.dump(api_token, file)\n",
        "\n",
        "!chmod 600 ~/.kaggle/kaggle.json"
      ],
      "metadata": {
        "id": "_U3bJKe7rhFy"
      },
      "execution_count": 1,
      "outputs": []
    },
    {
      "cell_type": "code",
      "execution_count": 2,
      "metadata": {
        "colab": {
          "base_uri": "https://localhost:8080/"
        },
        "id": "-CV3SYVZqZLG",
        "outputId": "333d1f30-ab7d-4d4d-f77f-55275596fc65"
      },
      "outputs": [
        {
          "output_type": "stream",
          "name": "stdout",
          "text": [
            "Downloading walmart-recruiting-trip-type-classification.zip to /content\n",
            "\r  0% 0.00/11.0M [00:00<?, ?B/s]\r 91% 10.0M/11.0M [00:00<00:00, 104MB/s]\n",
            "\r100% 11.0M/11.0M [00:00<00:00, 107MB/s]\n"
          ]
        }
      ],
      "source": [
        "!kaggle competitions download -c walmart-recruiting-trip-type-classification"
      ]
    },
    {
      "cell_type": "code",
      "execution_count": 3,
      "metadata": {
        "id": "WwlNZ0zyqZLH"
      },
      "outputs": [],
      "source": [
        "import pandas as pd\n",
        "import numpy as np\n",
        "import matplotlib.pyplot as plt\n",
        "import seaborn as sns\n",
        "%matplotlib inline"
      ]
    },
    {
      "cell_type": "code",
      "source": [
        "!unzip /content/walmart-recruiting-trip-type-classification.zip"
      ],
      "metadata": {
        "colab": {
          "base_uri": "https://localhost:8080/"
        },
        "id": "GYO702TtwZrM",
        "outputId": "33e6cebe-346b-48eb-b447-e07990da76e6"
      },
      "execution_count": 4,
      "outputs": [
        {
          "output_type": "stream",
          "name": "stdout",
          "text": [
            "Archive:  /content/walmart-recruiting-trip-type-classification.zip\n",
            "  inflating: sample_submission.csv.zip  \n",
            "  inflating: test.csv.zip            \n",
            "  inflating: train.csv.zip           \n"
          ]
        }
      ]
    },
    {
      "cell_type": "code",
      "source": [
        "!unzip /content/train.csv.zip"
      ],
      "metadata": {
        "colab": {
          "base_uri": "https://localhost:8080/"
        },
        "id": "yRe8idJ0wsIM",
        "outputId": "2f5665ff-385d-4035-fd12-5b2fe2fafe16"
      },
      "execution_count": 5,
      "outputs": [
        {
          "output_type": "stream",
          "name": "stdout",
          "text": [
            "Archive:  /content/train.csv.zip\n",
            "  inflating: train.csv               \n"
          ]
        }
      ]
    },
    {
      "cell_type": "code",
      "execution_count": 6,
      "metadata": {
        "id": "W1WI-5twqZLH"
      },
      "outputs": [],
      "source": [
        "train = pd.read_csv('train.csv')\n",
        "#test = pd.read_csv('walmart-recruiting-trip-type-classification/test.csv')"
      ]
    },
    {
      "cell_type": "code",
      "execution_count": 7,
      "metadata": {
        "colab": {
          "base_uri": "https://localhost:8080/",
          "height": 206
        },
        "id": "NBfdmmyNqZLI",
        "outputId": "36fc35cd-5d78-4fdf-a73b-67285c5c63eb"
      },
      "outputs": [
        {
          "output_type": "execute_result",
          "data": {
            "text/plain": [
              "   TripType  VisitNumber Weekday           Upc  ScanCount  \\\n",
              "0       999            5  Friday  6.811315e+10         -1   \n",
              "1        30            7  Friday  6.053882e+10          1   \n",
              "2        30            7  Friday  7.410811e+09          1   \n",
              "3        26            8  Friday  2.238404e+09          2   \n",
              "4        26            8  Friday  2.006614e+09          2   \n",
              "\n",
              "   DepartmentDescription  FinelineNumber  \n",
              "0     FINANCIAL SERVICES          1000.0  \n",
              "1                  SHOES          8931.0  \n",
              "2          PERSONAL CARE          4504.0  \n",
              "3  PAINT AND ACCESSORIES          3565.0  \n",
              "4  PAINT AND ACCESSORIES          1017.0  "
            ],
            "text/html": [
              "\n",
              "  <div id=\"df-519166fc-8a3c-4d3e-9539-76f33402f9eb\">\n",
              "    <div class=\"colab-df-container\">\n",
              "      <div>\n",
              "<style scoped>\n",
              "    .dataframe tbody tr th:only-of-type {\n",
              "        vertical-align: middle;\n",
              "    }\n",
              "\n",
              "    .dataframe tbody tr th {\n",
              "        vertical-align: top;\n",
              "    }\n",
              "\n",
              "    .dataframe thead th {\n",
              "        text-align: right;\n",
              "    }\n",
              "</style>\n",
              "<table border=\"1\" class=\"dataframe\">\n",
              "  <thead>\n",
              "    <tr style=\"text-align: right;\">\n",
              "      <th></th>\n",
              "      <th>TripType</th>\n",
              "      <th>VisitNumber</th>\n",
              "      <th>Weekday</th>\n",
              "      <th>Upc</th>\n",
              "      <th>ScanCount</th>\n",
              "      <th>DepartmentDescription</th>\n",
              "      <th>FinelineNumber</th>\n",
              "    </tr>\n",
              "  </thead>\n",
              "  <tbody>\n",
              "    <tr>\n",
              "      <th>0</th>\n",
              "      <td>999</td>\n",
              "      <td>5</td>\n",
              "      <td>Friday</td>\n",
              "      <td>6.811315e+10</td>\n",
              "      <td>-1</td>\n",
              "      <td>FINANCIAL SERVICES</td>\n",
              "      <td>1000.0</td>\n",
              "    </tr>\n",
              "    <tr>\n",
              "      <th>1</th>\n",
              "      <td>30</td>\n",
              "      <td>7</td>\n",
              "      <td>Friday</td>\n",
              "      <td>6.053882e+10</td>\n",
              "      <td>1</td>\n",
              "      <td>SHOES</td>\n",
              "      <td>8931.0</td>\n",
              "    </tr>\n",
              "    <tr>\n",
              "      <th>2</th>\n",
              "      <td>30</td>\n",
              "      <td>7</td>\n",
              "      <td>Friday</td>\n",
              "      <td>7.410811e+09</td>\n",
              "      <td>1</td>\n",
              "      <td>PERSONAL CARE</td>\n",
              "      <td>4504.0</td>\n",
              "    </tr>\n",
              "    <tr>\n",
              "      <th>3</th>\n",
              "      <td>26</td>\n",
              "      <td>8</td>\n",
              "      <td>Friday</td>\n",
              "      <td>2.238404e+09</td>\n",
              "      <td>2</td>\n",
              "      <td>PAINT AND ACCESSORIES</td>\n",
              "      <td>3565.0</td>\n",
              "    </tr>\n",
              "    <tr>\n",
              "      <th>4</th>\n",
              "      <td>26</td>\n",
              "      <td>8</td>\n",
              "      <td>Friday</td>\n",
              "      <td>2.006614e+09</td>\n",
              "      <td>2</td>\n",
              "      <td>PAINT AND ACCESSORIES</td>\n",
              "      <td>1017.0</td>\n",
              "    </tr>\n",
              "  </tbody>\n",
              "</table>\n",
              "</div>\n",
              "      <button class=\"colab-df-convert\" onclick=\"convertToInteractive('df-519166fc-8a3c-4d3e-9539-76f33402f9eb')\"\n",
              "              title=\"Convert this dataframe to an interactive table.\"\n",
              "              style=\"display:none;\">\n",
              "        \n",
              "  <svg xmlns=\"http://www.w3.org/2000/svg\" height=\"24px\"viewBox=\"0 0 24 24\"\n",
              "       width=\"24px\">\n",
              "    <path d=\"M0 0h24v24H0V0z\" fill=\"none\"/>\n",
              "    <path d=\"M18.56 5.44l.94 2.06.94-2.06 2.06-.94-2.06-.94-.94-2.06-.94 2.06-2.06.94zm-11 1L8.5 8.5l.94-2.06 2.06-.94-2.06-.94L8.5 2.5l-.94 2.06-2.06.94zm10 10l.94 2.06.94-2.06 2.06-.94-2.06-.94-.94-2.06-.94 2.06-2.06.94z\"/><path d=\"M17.41 7.96l-1.37-1.37c-.4-.4-.92-.59-1.43-.59-.52 0-1.04.2-1.43.59L10.3 9.45l-7.72 7.72c-.78.78-.78 2.05 0 2.83L4 21.41c.39.39.9.59 1.41.59.51 0 1.02-.2 1.41-.59l7.78-7.78 2.81-2.81c.8-.78.8-2.07 0-2.86zM5.41 20L4 18.59l7.72-7.72 1.47 1.35L5.41 20z\"/>\n",
              "  </svg>\n",
              "      </button>\n",
              "      \n",
              "  <style>\n",
              "    .colab-df-container {\n",
              "      display:flex;\n",
              "      flex-wrap:wrap;\n",
              "      gap: 12px;\n",
              "    }\n",
              "\n",
              "    .colab-df-convert {\n",
              "      background-color: #E8F0FE;\n",
              "      border: none;\n",
              "      border-radius: 50%;\n",
              "      cursor: pointer;\n",
              "      display: none;\n",
              "      fill: #1967D2;\n",
              "      height: 32px;\n",
              "      padding: 0 0 0 0;\n",
              "      width: 32px;\n",
              "    }\n",
              "\n",
              "    .colab-df-convert:hover {\n",
              "      background-color: #E2EBFA;\n",
              "      box-shadow: 0px 1px 2px rgba(60, 64, 67, 0.3), 0px 1px 3px 1px rgba(60, 64, 67, 0.15);\n",
              "      fill: #174EA6;\n",
              "    }\n",
              "\n",
              "    [theme=dark] .colab-df-convert {\n",
              "      background-color: #3B4455;\n",
              "      fill: #D2E3FC;\n",
              "    }\n",
              "\n",
              "    [theme=dark] .colab-df-convert:hover {\n",
              "      background-color: #434B5C;\n",
              "      box-shadow: 0px 1px 3px 1px rgba(0, 0, 0, 0.15);\n",
              "      filter: drop-shadow(0px 1px 2px rgba(0, 0, 0, 0.3));\n",
              "      fill: #FFFFFF;\n",
              "    }\n",
              "  </style>\n",
              "\n",
              "      <script>\n",
              "        const buttonEl =\n",
              "          document.querySelector('#df-519166fc-8a3c-4d3e-9539-76f33402f9eb button.colab-df-convert');\n",
              "        buttonEl.style.display =\n",
              "          google.colab.kernel.accessAllowed ? 'block' : 'none';\n",
              "\n",
              "        async function convertToInteractive(key) {\n",
              "          const element = document.querySelector('#df-519166fc-8a3c-4d3e-9539-76f33402f9eb');\n",
              "          const dataTable =\n",
              "            await google.colab.kernel.invokeFunction('convertToInteractive',\n",
              "                                                     [key], {});\n",
              "          if (!dataTable) return;\n",
              "\n",
              "          const docLinkHtml = 'Like what you see? Visit the ' +\n",
              "            '<a target=\"_blank\" href=https://colab.research.google.com/notebooks/data_table.ipynb>data table notebook</a>'\n",
              "            + ' to learn more about interactive tables.';\n",
              "          element.innerHTML = '';\n",
              "          dataTable['output_type'] = 'display_data';\n",
              "          await google.colab.output.renderOutput(dataTable, element);\n",
              "          const docLink = document.createElement('div');\n",
              "          docLink.innerHTML = docLinkHtml;\n",
              "          element.appendChild(docLink);\n",
              "        }\n",
              "      </script>\n",
              "    </div>\n",
              "  </div>\n",
              "  "
            ]
          },
          "metadata": {},
          "execution_count": 7
        }
      ],
      "source": [
        "train.head()"
      ]
    },
    {
      "cell_type": "markdown",
      "metadata": {
        "id": "JqW-DLZ6qZLJ"
      },
      "source": [
        "### Columns description\n",
        "\n",
        "- `TripType` - a categorical id representing the type of shopping trip the customer made. This is the ground truth that you are predicting. TripType_999 is an \"other\" category.\n",
        "- `VisitNumber` - an id corresponding to a single trip by a single customer\n",
        "- `Weekday` - the weekday of the trip\n",
        "- `Upc`- the UPC number of the product purchased\n",
        "- `ScanCount` - the number of the given item that was purchased. A negative value indicates a product return.\n",
        "- `DepartmentDescription` - a high-level description of the item's department\n",
        "- `FinelineNumber` - a more refined category for each of the products, created by Walmart\n"
      ]
    },
    {
      "cell_type": "code",
      "execution_count": 8,
      "metadata": {
        "colab": {
          "base_uri": "https://localhost:8080/"
        },
        "id": "NEdb3l5PqZLJ",
        "outputId": "e2a62cac-9ad6-4dc3-fdbb-97548ccbcbce"
      },
      "outputs": [
        {
          "output_type": "execute_result",
          "data": {
            "text/plain": [
              "(647054, 7)"
            ]
          },
          "metadata": {},
          "execution_count": 8
        }
      ],
      "source": [
        "train.shape"
      ]
    },
    {
      "cell_type": "code",
      "execution_count": 9,
      "metadata": {
        "colab": {
          "base_uri": "https://localhost:8080/"
        },
        "id": "iMQfO6CRqZLK",
        "outputId": "cc7f1019-151e-4327-fdf9-2fe03504e629"
      },
      "outputs": [
        {
          "output_type": "execute_result",
          "data": {
            "text/plain": [
              "TripType                 647054\n",
              "VisitNumber              647054\n",
              "Weekday                  647054\n",
              "Upc                      642925\n",
              "ScanCount                647054\n",
              "DepartmentDescription    645693\n",
              "FinelineNumber           642925\n",
              "dtype: int64"
            ]
          },
          "metadata": {},
          "execution_count": 9
        }
      ],
      "source": [
        "train.count()"
      ]
    },
    {
      "cell_type": "code",
      "execution_count": 10,
      "metadata": {
        "colab": {
          "base_uri": "https://localhost:8080/"
        },
        "id": "jFTfUBApqZLK",
        "outputId": "f3858651-f771-4084-fd86-432f138b1bd3"
      },
      "outputs": [
        {
          "output_type": "execute_result",
          "data": {
            "text/plain": [
              "40     174164\n",
              "39      95504\n",
              "37      38954\n",
              "38      29565\n",
              "25      27609\n",
              "7       23199\n",
              "8       22844\n",
              "36      21990\n",
              "44      20424\n",
              "42      19468\n",
              "24      18015\n",
              "999     17590\n",
              "9       16820\n",
              "32      13843\n",
              "5       13836\n",
              "35      12501\n",
              "33       9918\n",
              "15       7147\n",
              "3        6827\n",
              "43       6383\n",
              "41       5508\n",
              "30       4861\n",
              "34       4751\n",
              "27       4613\n",
              "21       4032\n",
              "22       3592\n",
              "6        3405\n",
              "20       3116\n",
              "18       2977\n",
              "28       2664\n",
              "26       2507\n",
              "12       2108\n",
              "29       2105\n",
              "31       1765\n",
              "19       1188\n",
              "4         901\n",
              "23        325\n",
              "14         35\n",
              "Name: TripType, dtype: int64"
            ]
          },
          "metadata": {},
          "execution_count": 10
        }
      ],
      "source": [
        "train.TripType.value_counts()"
      ]
    },
    {
      "cell_type": "markdown",
      "metadata": {
        "id": "mHzNAGY-qZLL"
      },
      "source": [
        "# 1. Understand the task.\n",
        "\n",
        "> Every single ml task has its features, and there are no universal solutions, only generally working principles.\n",
        "\n",
        "We need to predict type of the visit: `TripType`. Every row of the data table contains information about a single product not a visit, threfore we need to combine the information about the visit from all the purchases. \n",
        "\n",
        "![](https://github.com/vanekek/iitp-ml-ds/blob/main/2023/seminar-6-gbt/trip-type.png?raw=1)\n",
        "\n",
        "Unfortunately, we do not have the information about customers, so we do not know if some of the Visits were performed by the same person.\n"
      ]
    },
    {
      "cell_type": "code",
      "execution_count": 11,
      "metadata": {
        "colab": {
          "base_uri": "https://localhost:8080/",
          "height": 206
        },
        "id": "GyUnz9yOqZLL",
        "outputId": "85f69817-0cf8-464d-830c-1828a64b4252"
      },
      "outputs": [
        {
          "output_type": "execute_result",
          "data": {
            "text/plain": [
              "   TripType  VisitNumber Weekday           Upc  ScanCount  \\\n",
              "0       999            5  Friday  6.811315e+10         -1   \n",
              "1        30            7  Friday  6.053882e+10          1   \n",
              "2        30            7  Friday  7.410811e+09          1   \n",
              "3        26            8  Friday  2.238404e+09          2   \n",
              "4        26            8  Friday  2.006614e+09          2   \n",
              "\n",
              "   DepartmentDescription  FinelineNumber  \n",
              "0     FINANCIAL SERVICES          1000.0  \n",
              "1                  SHOES          8931.0  \n",
              "2          PERSONAL CARE          4504.0  \n",
              "3  PAINT AND ACCESSORIES          3565.0  \n",
              "4  PAINT AND ACCESSORIES          1017.0  "
            ],
            "text/html": [
              "\n",
              "  <div id=\"df-3d324d12-08b4-4f0b-bee9-d91104a796c6\">\n",
              "    <div class=\"colab-df-container\">\n",
              "      <div>\n",
              "<style scoped>\n",
              "    .dataframe tbody tr th:only-of-type {\n",
              "        vertical-align: middle;\n",
              "    }\n",
              "\n",
              "    .dataframe tbody tr th {\n",
              "        vertical-align: top;\n",
              "    }\n",
              "\n",
              "    .dataframe thead th {\n",
              "        text-align: right;\n",
              "    }\n",
              "</style>\n",
              "<table border=\"1\" class=\"dataframe\">\n",
              "  <thead>\n",
              "    <tr style=\"text-align: right;\">\n",
              "      <th></th>\n",
              "      <th>TripType</th>\n",
              "      <th>VisitNumber</th>\n",
              "      <th>Weekday</th>\n",
              "      <th>Upc</th>\n",
              "      <th>ScanCount</th>\n",
              "      <th>DepartmentDescription</th>\n",
              "      <th>FinelineNumber</th>\n",
              "    </tr>\n",
              "  </thead>\n",
              "  <tbody>\n",
              "    <tr>\n",
              "      <th>0</th>\n",
              "      <td>999</td>\n",
              "      <td>5</td>\n",
              "      <td>Friday</td>\n",
              "      <td>6.811315e+10</td>\n",
              "      <td>-1</td>\n",
              "      <td>FINANCIAL SERVICES</td>\n",
              "      <td>1000.0</td>\n",
              "    </tr>\n",
              "    <tr>\n",
              "      <th>1</th>\n",
              "      <td>30</td>\n",
              "      <td>7</td>\n",
              "      <td>Friday</td>\n",
              "      <td>6.053882e+10</td>\n",
              "      <td>1</td>\n",
              "      <td>SHOES</td>\n",
              "      <td>8931.0</td>\n",
              "    </tr>\n",
              "    <tr>\n",
              "      <th>2</th>\n",
              "      <td>30</td>\n",
              "      <td>7</td>\n",
              "      <td>Friday</td>\n",
              "      <td>7.410811e+09</td>\n",
              "      <td>1</td>\n",
              "      <td>PERSONAL CARE</td>\n",
              "      <td>4504.0</td>\n",
              "    </tr>\n",
              "    <tr>\n",
              "      <th>3</th>\n",
              "      <td>26</td>\n",
              "      <td>8</td>\n",
              "      <td>Friday</td>\n",
              "      <td>2.238404e+09</td>\n",
              "      <td>2</td>\n",
              "      <td>PAINT AND ACCESSORIES</td>\n",
              "      <td>3565.0</td>\n",
              "    </tr>\n",
              "    <tr>\n",
              "      <th>4</th>\n",
              "      <td>26</td>\n",
              "      <td>8</td>\n",
              "      <td>Friday</td>\n",
              "      <td>2.006614e+09</td>\n",
              "      <td>2</td>\n",
              "      <td>PAINT AND ACCESSORIES</td>\n",
              "      <td>1017.0</td>\n",
              "    </tr>\n",
              "  </tbody>\n",
              "</table>\n",
              "</div>\n",
              "      <button class=\"colab-df-convert\" onclick=\"convertToInteractive('df-3d324d12-08b4-4f0b-bee9-d91104a796c6')\"\n",
              "              title=\"Convert this dataframe to an interactive table.\"\n",
              "              style=\"display:none;\">\n",
              "        \n",
              "  <svg xmlns=\"http://www.w3.org/2000/svg\" height=\"24px\"viewBox=\"0 0 24 24\"\n",
              "       width=\"24px\">\n",
              "    <path d=\"M0 0h24v24H0V0z\" fill=\"none\"/>\n",
              "    <path d=\"M18.56 5.44l.94 2.06.94-2.06 2.06-.94-2.06-.94-.94-2.06-.94 2.06-2.06.94zm-11 1L8.5 8.5l.94-2.06 2.06-.94-2.06-.94L8.5 2.5l-.94 2.06-2.06.94zm10 10l.94 2.06.94-2.06 2.06-.94-2.06-.94-.94-2.06-.94 2.06-2.06.94z\"/><path d=\"M17.41 7.96l-1.37-1.37c-.4-.4-.92-.59-1.43-.59-.52 0-1.04.2-1.43.59L10.3 9.45l-7.72 7.72c-.78.78-.78 2.05 0 2.83L4 21.41c.39.39.9.59 1.41.59.51 0 1.02-.2 1.41-.59l7.78-7.78 2.81-2.81c.8-.78.8-2.07 0-2.86zM5.41 20L4 18.59l7.72-7.72 1.47 1.35L5.41 20z\"/>\n",
              "  </svg>\n",
              "      </button>\n",
              "      \n",
              "  <style>\n",
              "    .colab-df-container {\n",
              "      display:flex;\n",
              "      flex-wrap:wrap;\n",
              "      gap: 12px;\n",
              "    }\n",
              "\n",
              "    .colab-df-convert {\n",
              "      background-color: #E8F0FE;\n",
              "      border: none;\n",
              "      border-radius: 50%;\n",
              "      cursor: pointer;\n",
              "      display: none;\n",
              "      fill: #1967D2;\n",
              "      height: 32px;\n",
              "      padding: 0 0 0 0;\n",
              "      width: 32px;\n",
              "    }\n",
              "\n",
              "    .colab-df-convert:hover {\n",
              "      background-color: #E2EBFA;\n",
              "      box-shadow: 0px 1px 2px rgba(60, 64, 67, 0.3), 0px 1px 3px 1px rgba(60, 64, 67, 0.15);\n",
              "      fill: #174EA6;\n",
              "    }\n",
              "\n",
              "    [theme=dark] .colab-df-convert {\n",
              "      background-color: #3B4455;\n",
              "      fill: #D2E3FC;\n",
              "    }\n",
              "\n",
              "    [theme=dark] .colab-df-convert:hover {\n",
              "      background-color: #434B5C;\n",
              "      box-shadow: 0px 1px 3px 1px rgba(0, 0, 0, 0.15);\n",
              "      filter: drop-shadow(0px 1px 2px rgba(0, 0, 0, 0.3));\n",
              "      fill: #FFFFFF;\n",
              "    }\n",
              "  </style>\n",
              "\n",
              "      <script>\n",
              "        const buttonEl =\n",
              "          document.querySelector('#df-3d324d12-08b4-4f0b-bee9-d91104a796c6 button.colab-df-convert');\n",
              "        buttonEl.style.display =\n",
              "          google.colab.kernel.accessAllowed ? 'block' : 'none';\n",
              "\n",
              "        async function convertToInteractive(key) {\n",
              "          const element = document.querySelector('#df-3d324d12-08b4-4f0b-bee9-d91104a796c6');\n",
              "          const dataTable =\n",
              "            await google.colab.kernel.invokeFunction('convertToInteractive',\n",
              "                                                     [key], {});\n",
              "          if (!dataTable) return;\n",
              "\n",
              "          const docLinkHtml = 'Like what you see? Visit the ' +\n",
              "            '<a target=\"_blank\" href=https://colab.research.google.com/notebooks/data_table.ipynb>data table notebook</a>'\n",
              "            + ' to learn more about interactive tables.';\n",
              "          element.innerHTML = '';\n",
              "          dataTable['output_type'] = 'display_data';\n",
              "          await google.colab.output.renderOutput(dataTable, element);\n",
              "          const docLink = document.createElement('div');\n",
              "          docLink.innerHTML = docLinkHtml;\n",
              "          element.appendChild(docLink);\n",
              "        }\n",
              "      </script>\n",
              "    </div>\n",
              "  </div>\n",
              "  "
            ]
          },
          "metadata": {},
          "execution_count": 11
        }
      ],
      "source": [
        "train.head(5)"
      ]
    },
    {
      "cell_type": "code",
      "execution_count": 11,
      "metadata": {
        "id": "mdUmpPMOqZLM"
      },
      "outputs": [],
      "source": []
    },
    {
      "cell_type": "markdown",
      "metadata": {
        "id": "w1-Lv-LmqZLM"
      },
      "source": [
        "# 2. Build a simple baseline model\n",
        "\n",
        "- Count number of purchases in a Visit\n",
        "- Create binary column `is_weekend`\n",
        "- Drop all the remaining columns"
      ]
    },
    {
      "cell_type": "code",
      "execution_count": 12,
      "metadata": {
        "id": "iAmVzhHBqZLM"
      },
      "outputs": [],
      "source": [
        "from sklearn.model_selection import train_test_split\n",
        "from sklearn.ensemble import RandomForestClassifier\n",
        "from sklearn.preprocessing import LabelEncoder"
      ]
    },
    {
      "cell_type": "code",
      "execution_count": 13,
      "metadata": {
        "id": "S-NLvQ5DqZLN"
      },
      "outputs": [],
      "source": [
        "def is_weekend(day):\n",
        "    return int(day in ['Saturday', 'Sunday'])\n",
        "\n",
        "df_train = train.copy()\n",
        "\n",
        "# Generate is_weekend\n",
        "df_train['is_weekend'] = df_train.Weekday.apply(is_weekend)\n",
        "\n",
        "# Generate n_products\n",
        "gp_n_products = df_train.groupby('VisitNumber')['ScanCount'].count()\n",
        "df_train['n_products'] = df_train.VisitNumber.map(gp_n_products)\n",
        "\n",
        "# drop duplicated Visit numbers\n",
        "df_train = df_train.drop_duplicates(subset=['VisitNumber']).reset_index(drop=True)\n",
        "\n",
        "# drop all columns except `is_weekend`, `n_products` and `TripType`\n",
        "df_train = df_train.drop(['VisitNumber', 'Weekday', 'Upc', 'ScanCount',\n",
        "                          'DepartmentDescription', 'FinelineNumber'], axis=1)\n",
        "\n",
        "# Encode TripType so unique values are from 0 to (m-1), where m is number of classes\n",
        "encoder = LabelEncoder().fit(df_train['TripType'])\n",
        "df_train['TripType_encoded'] =  encoder.transform(df_train['TripType'])\n",
        "df_train = df_train.drop('TripType', axis=1)\n",
        "\n",
        "# Create separate variables X and y\n",
        "X = df_train.drop('TripType_encoded', axis=1)\n",
        "y = df_train.TripType_encoded"
      ]
    },
    {
      "cell_type": "code",
      "execution_count": 14,
      "metadata": {
        "id": "5UY1IR8DqZLN"
      },
      "outputs": [],
      "source": [
        "from sklearn.model_selection import train_test_split"
      ]
    },
    {
      "cell_type": "code",
      "execution_count": 15,
      "metadata": {
        "id": "EtVKhybAqZLO"
      },
      "outputs": [],
      "source": [
        "# Split data into train and test, use parameter `stratify=y`\n",
        "\n",
        "X_train, X_test, y_train, y_test = train_test_split(X, y, test_size=0.20, random_state=774, stratify=y)"
      ]
    },
    {
      "cell_type": "code",
      "execution_count": 16,
      "metadata": {
        "id": "TZ7OpnY7qZLO"
      },
      "outputs": [],
      "source": [
        "from sklearn.ensemble import RandomForestClassifier\n",
        "from sklearn.metrics import log_loss"
      ]
    },
    {
      "cell_type": "code",
      "execution_count": 17,
      "metadata": {
        "colab": {
          "base_uri": "https://localhost:8080/",
          "height": 74
        },
        "id": "TlVO1iyDqZLO",
        "outputId": "c0f2d524-8e11-4f7d-80dd-9e0bcbd22a77"
      },
      "outputs": [
        {
          "output_type": "execute_result",
          "data": {
            "text/plain": [
              "RandomForestClassifier()"
            ],
            "text/html": [
              "<style>#sk-container-id-1 {color: black;background-color: white;}#sk-container-id-1 pre{padding: 0;}#sk-container-id-1 div.sk-toggleable {background-color: white;}#sk-container-id-1 label.sk-toggleable__label {cursor: pointer;display: block;width: 100%;margin-bottom: 0;padding: 0.3em;box-sizing: border-box;text-align: center;}#sk-container-id-1 label.sk-toggleable__label-arrow:before {content: \"▸\";float: left;margin-right: 0.25em;color: #696969;}#sk-container-id-1 label.sk-toggleable__label-arrow:hover:before {color: black;}#sk-container-id-1 div.sk-estimator:hover label.sk-toggleable__label-arrow:before {color: black;}#sk-container-id-1 div.sk-toggleable__content {max-height: 0;max-width: 0;overflow: hidden;text-align: left;background-color: #f0f8ff;}#sk-container-id-1 div.sk-toggleable__content pre {margin: 0.2em;color: black;border-radius: 0.25em;background-color: #f0f8ff;}#sk-container-id-1 input.sk-toggleable__control:checked~div.sk-toggleable__content {max-height: 200px;max-width: 100%;overflow: auto;}#sk-container-id-1 input.sk-toggleable__control:checked~label.sk-toggleable__label-arrow:before {content: \"▾\";}#sk-container-id-1 div.sk-estimator input.sk-toggleable__control:checked~label.sk-toggleable__label {background-color: #d4ebff;}#sk-container-id-1 div.sk-label input.sk-toggleable__control:checked~label.sk-toggleable__label {background-color: #d4ebff;}#sk-container-id-1 input.sk-hidden--visually {border: 0;clip: rect(1px 1px 1px 1px);clip: rect(1px, 1px, 1px, 1px);height: 1px;margin: -1px;overflow: hidden;padding: 0;position: absolute;width: 1px;}#sk-container-id-1 div.sk-estimator {font-family: monospace;background-color: #f0f8ff;border: 1px dotted black;border-radius: 0.25em;box-sizing: border-box;margin-bottom: 0.5em;}#sk-container-id-1 div.sk-estimator:hover {background-color: #d4ebff;}#sk-container-id-1 div.sk-parallel-item::after {content: \"\";width: 100%;border-bottom: 1px solid gray;flex-grow: 1;}#sk-container-id-1 div.sk-label:hover label.sk-toggleable__label {background-color: #d4ebff;}#sk-container-id-1 div.sk-serial::before {content: \"\";position: absolute;border-left: 1px solid gray;box-sizing: border-box;top: 0;bottom: 0;left: 50%;z-index: 0;}#sk-container-id-1 div.sk-serial {display: flex;flex-direction: column;align-items: center;background-color: white;padding-right: 0.2em;padding-left: 0.2em;position: relative;}#sk-container-id-1 div.sk-item {position: relative;z-index: 1;}#sk-container-id-1 div.sk-parallel {display: flex;align-items: stretch;justify-content: center;background-color: white;position: relative;}#sk-container-id-1 div.sk-item::before, #sk-container-id-1 div.sk-parallel-item::before {content: \"\";position: absolute;border-left: 1px solid gray;box-sizing: border-box;top: 0;bottom: 0;left: 50%;z-index: -1;}#sk-container-id-1 div.sk-parallel-item {display: flex;flex-direction: column;z-index: 1;position: relative;background-color: white;}#sk-container-id-1 div.sk-parallel-item:first-child::after {align-self: flex-end;width: 50%;}#sk-container-id-1 div.sk-parallel-item:last-child::after {align-self: flex-start;width: 50%;}#sk-container-id-1 div.sk-parallel-item:only-child::after {width: 0;}#sk-container-id-1 div.sk-dashed-wrapped {border: 1px dashed gray;margin: 0 0.4em 0.5em 0.4em;box-sizing: border-box;padding-bottom: 0.4em;background-color: white;}#sk-container-id-1 div.sk-label label {font-family: monospace;font-weight: bold;display: inline-block;line-height: 1.2em;}#sk-container-id-1 div.sk-label-container {text-align: center;}#sk-container-id-1 div.sk-container {/* jupyter's `normalize.less` sets `[hidden] { display: none; }` but bootstrap.min.css set `[hidden] { display: none !important; }` so we also need the `!important` here to be able to override the default hidden behavior on the sphinx rendered scikit-learn.org. See: https://github.com/scikit-learn/scikit-learn/issues/21755 */display: inline-block !important;position: relative;}#sk-container-id-1 div.sk-text-repr-fallback {display: none;}</style><div id=\"sk-container-id-1\" class=\"sk-top-container\"><div class=\"sk-text-repr-fallback\"><pre>RandomForestClassifier()</pre><b>In a Jupyter environment, please rerun this cell to show the HTML representation or trust the notebook. <br />On GitHub, the HTML representation is unable to render, please try loading this page with nbviewer.org.</b></div><div class=\"sk-container\" hidden><div class=\"sk-item\"><div class=\"sk-estimator sk-toggleable\"><input class=\"sk-toggleable__control sk-hidden--visually\" id=\"sk-estimator-id-1\" type=\"checkbox\" checked><label for=\"sk-estimator-id-1\" class=\"sk-toggleable__label sk-toggleable__label-arrow\">RandomForestClassifier</label><div class=\"sk-toggleable__content\"><pre>RandomForestClassifier()</pre></div></div></div></div></div>"
            ]
          },
          "metadata": {},
          "execution_count": 17
        }
      ],
      "source": [
        "# train a RandomForest model with default hyperparameters\n",
        "\n",
        "clf = RandomForestClassifier()\n",
        "clf.fit(X_train, y_train)"
      ]
    },
    {
      "cell_type": "markdown",
      "metadata": {
        "id": "B9NVPJ1kqZLO"
      },
      "source": [
        "---\n",
        "For this tash we are using a log loss $$- y \\log p - (1-y)\\log(1-p)$$\n",
        "in the following multi class form:\n",
        "\n",
        "$$\\frac{1}{N}\\sum_{i=1}^N \\log {\\left(\\frac{e^{a_{it_i}}}{\\sum_{j=0}^{M-1} e^{a_{ij}}}\\right)}$$\n",
        "\n",
        "$t \\in \\{0\\ldots M-1\\}$, $M$ is number of classes, $N$ is number of objects. Numerator is $a_{it_{i}}$ = \\[ unnormalized probability of an $i$'th object to be assigned to the right class $t_i$\\], thus:\n",
        "\n",
        "$$p_{it_i} = \\frac{e^{a_{it_i}}}{\\sum_{j=0}^{M-1} e^{a_{ij}}}$$\n",
        "\n",
        "see for example https://towardsdatascience.com/cross-entropy-for-classification-d98e7f974451"
      ]
    },
    {
      "cell_type": "code",
      "execution_count": 18,
      "metadata": {
        "colab": {
          "base_uri": "https://localhost:8080/"
        },
        "id": "QbbqtO9cqZLP",
        "outputId": "bcc400a7-4690-490e-f809-c5d3de2d3dc9"
      },
      "outputs": [
        {
          "output_type": "execute_result",
          "data": {
            "text/plain": [
              "2.6321170281620847"
            ]
          },
          "metadata": {},
          "execution_count": 18
        }
      ],
      "source": [
        "# predict y_test and compute multi-class log loss of your prediction\n",
        "\n",
        "y_pred = clf.predict_proba(X_test)\n",
        "log_loss(y_test, y_pred)"
      ]
    },
    {
      "cell_type": "code",
      "execution_count": 19,
      "metadata": {
        "colab": {
          "base_uri": "https://localhost:8080/"
        },
        "id": "JOClIEXxqZLP",
        "outputId": "2b4bf587-6ebc-4b47-9edc-4e2555f009ba"
      },
      "outputs": [
        {
          "output_type": "execute_result",
          "data": {
            "text/plain": [
              "(19135, 38)"
            ]
          },
          "metadata": {},
          "execution_count": 19
        }
      ],
      "source": [
        "y_pred.shape"
      ]
    },
    {
      "cell_type": "code",
      "execution_count": 20,
      "metadata": {
        "id": "2ySLf73oqZLP"
      },
      "outputs": [],
      "source": [
        "from sklearn.metrics import accuracy_score"
      ]
    },
    {
      "cell_type": "code",
      "execution_count": 21,
      "metadata": {
        "colab": {
          "base_uri": "https://localhost:8080/"
        },
        "id": "yBgZKC8HqZLP",
        "outputId": "a649c812-91d7-42a4-98c7-52ec48a4cd6e"
      },
      "outputs": [
        {
          "output_type": "execute_result",
          "data": {
            "text/plain": [
              "0.27640449438202247"
            ]
          },
          "metadata": {},
          "execution_count": 21
        }
      ],
      "source": [
        "# just to get an intuition on whether it is a good a bad prediction compute an accuracy of your model\n",
        "\n",
        "y_pred = clf.predict(X_test)\n",
        "accuracy_score(y_test, y_pred)"
      ]
    },
    {
      "cell_type": "code",
      "execution_count": 22,
      "metadata": {
        "colab": {
          "base_uri": "https://localhost:8080/"
        },
        "id": "Giz1GJZHqZLP",
        "outputId": "55735368-52d0-416e-bede-391f25d4d07d"
      },
      "outputs": [
        {
          "output_type": "execute_result",
          "data": {
            "text/plain": [
              "(array([ 5, 31, 32]), array([9480, 7923, 1732]))"
            ]
          },
          "metadata": {},
          "execution_count": 22
        }
      ],
      "source": [
        "# Remember this is a 38 class classification, count predicted classes\n",
        "\n",
        "np.unique(y_pred, return_counts=True)"
      ]
    },
    {
      "cell_type": "code",
      "execution_count": 23,
      "metadata": {
        "colab": {
          "base_uri": "https://localhost:8080/"
        },
        "id": "GnDbnknsqZLQ",
        "outputId": "d8d6ea52-aeff-4372-e2ec-6b78fcfda576"
      },
      "outputs": [
        {
          "output_type": "execute_result",
          "data": {
            "text/plain": [
              "5     9729\n",
              "31    7917\n",
              "6     7571\n",
              "37    6755\n",
              "32    4904\n",
              "4     4602\n",
              "2     3674\n",
              "17    2958\n",
              "0     2914\n",
              "28    2404\n",
              "30    2330\n",
              "29    2230\n",
              "16    2087\n",
              "27    1624\n",
              "24    1587\n",
              "34    1486\n",
              "25    1052\n",
              "3     1022\n",
              "36     950\n",
              "22     865\n",
              "9      782\n",
              "14     742\n",
              "35     698\n",
              "19     628\n",
              "26     575\n",
              "13     513\n",
              "12     510\n",
              "23     475\n",
              "33     466\n",
              "10     439\n",
              "18     403\n",
              "20     394\n",
              "21     347\n",
              "11     300\n",
              "1      277\n",
              "7      215\n",
              "15     111\n",
              "8        3\n",
              "Name: TripType_encoded, dtype: int64"
            ]
          },
          "metadata": {},
          "execution_count": 23
        }
      ],
      "source": [
        "# Check value counts of a TripType on a train set\n",
        "\n",
        "y_train.value_counts()"
      ]
    },
    {
      "cell_type": "markdown",
      "metadata": {
        "id": "Z_j92l9gqZLQ"
      },
      "source": [
        "## Compare with the constant prediction\n"
      ]
    },
    {
      "cell_type": "code",
      "execution_count": 24,
      "metadata": {
        "colab": {
          "base_uri": "https://localhost:8080/"
        },
        "id": "ztuKBtokqZLQ",
        "outputId": "62e707ef-49f2-4a57-d79a-e037f11ea456"
      },
      "outputs": [
        {
          "output_type": "stream",
          "name": "stdout",
          "text": [
            "0.1270969427750196\n",
            "31.462615236917888\n"
          ]
        }
      ],
      "source": [
        "# Compute a log loss and an accuracy of a constant prediction (predict most frequent TripType)\n",
        "\n",
        "y_dummy = [5]*19135\n",
        "print(accuracy_score(y_test, y_dummy))\n",
        "\n",
        "y_dummy_proba = np.zeros((19135, 38))\n",
        "y_dummy_proba[:, 5] = 1\n",
        "print(log_loss(y_test, y_dummy_proba))"
      ]
    },
    {
      "cell_type": "code",
      "execution_count": 24,
      "metadata": {
        "id": "fuwxa9p1qZLQ"
      },
      "outputs": [],
      "source": []
    },
    {
      "cell_type": "markdown",
      "metadata": {
        "id": "nVWcObAhqZLQ"
      },
      "source": [
        "## Conclusions on the baseline\n",
        "1. Even with this simple features and relatively stupid predictions we are better than a constant prediction.\n",
        "2. Classifier mostly predicts frequent classes.\n",
        "3. Some frequent classes are predicted and some are not. This may be due to the fact that predicted\n",
        "classes are better described by the generated features."
      ]
    },
    {
      "cell_type": "code",
      "execution_count": 24,
      "metadata": {
        "id": "lpuR5uH1qZLQ"
      },
      "outputs": [],
      "source": []
    },
    {
      "cell_type": "markdown",
      "metadata": {
        "id": "6gzJQcbfqZLR"
      },
      "source": [
        "# 3. Deeper look on the features.\n",
        "\n",
        "### Columns description\n",
        "\n",
        "- `TripType` - a categorical id representing the type of shopping trip the customer made. This is the ground truth that you are predicting. TripType_999 is an \"other\" category.\n",
        "- `VisitNumber` - an id corresponding to a single trip by a single customer\n",
        "- `Weekday` - the weekday of the trip\n",
        "- `Upc`- the UPC number of the product purchased\n",
        "- `ScanCount` - the number of the given item that was purchased. A negative value indicates a product return.\n",
        "- `DepartmentDescription` - a high-level description of the item's department\n",
        "- `FinelineNumber` - a more refined category for each of the products, created by Walmart\n"
      ]
    },
    {
      "cell_type": "code",
      "execution_count": 25,
      "metadata": {
        "colab": {
          "base_uri": "https://localhost:8080/",
          "height": 206
        },
        "id": "3TOl1EKKqZLR",
        "outputId": "4b691366-6e3f-4d9a-835a-498440761560"
      },
      "outputs": [
        {
          "output_type": "execute_result",
          "data": {
            "text/plain": [
              "   TripType  VisitNumber Weekday           Upc  ScanCount  \\\n",
              "0       999            5  Friday  6.811315e+10         -1   \n",
              "1        30            7  Friday  6.053882e+10          1   \n",
              "2        30            7  Friday  7.410811e+09          1   \n",
              "3        26            8  Friday  2.238404e+09          2   \n",
              "4        26            8  Friday  2.006614e+09          2   \n",
              "\n",
              "   DepartmentDescription  FinelineNumber  \n",
              "0     FINANCIAL SERVICES          1000.0  \n",
              "1                  SHOES          8931.0  \n",
              "2          PERSONAL CARE          4504.0  \n",
              "3  PAINT AND ACCESSORIES          3565.0  \n",
              "4  PAINT AND ACCESSORIES          1017.0  "
            ],
            "text/html": [
              "\n",
              "  <div id=\"df-91ff2347-7107-41f5-82cd-0b3f78860482\">\n",
              "    <div class=\"colab-df-container\">\n",
              "      <div>\n",
              "<style scoped>\n",
              "    .dataframe tbody tr th:only-of-type {\n",
              "        vertical-align: middle;\n",
              "    }\n",
              "\n",
              "    .dataframe tbody tr th {\n",
              "        vertical-align: top;\n",
              "    }\n",
              "\n",
              "    .dataframe thead th {\n",
              "        text-align: right;\n",
              "    }\n",
              "</style>\n",
              "<table border=\"1\" class=\"dataframe\">\n",
              "  <thead>\n",
              "    <tr style=\"text-align: right;\">\n",
              "      <th></th>\n",
              "      <th>TripType</th>\n",
              "      <th>VisitNumber</th>\n",
              "      <th>Weekday</th>\n",
              "      <th>Upc</th>\n",
              "      <th>ScanCount</th>\n",
              "      <th>DepartmentDescription</th>\n",
              "      <th>FinelineNumber</th>\n",
              "    </tr>\n",
              "  </thead>\n",
              "  <tbody>\n",
              "    <tr>\n",
              "      <th>0</th>\n",
              "      <td>999</td>\n",
              "      <td>5</td>\n",
              "      <td>Friday</td>\n",
              "      <td>6.811315e+10</td>\n",
              "      <td>-1</td>\n",
              "      <td>FINANCIAL SERVICES</td>\n",
              "      <td>1000.0</td>\n",
              "    </tr>\n",
              "    <tr>\n",
              "      <th>1</th>\n",
              "      <td>30</td>\n",
              "      <td>7</td>\n",
              "      <td>Friday</td>\n",
              "      <td>6.053882e+10</td>\n",
              "      <td>1</td>\n",
              "      <td>SHOES</td>\n",
              "      <td>8931.0</td>\n",
              "    </tr>\n",
              "    <tr>\n",
              "      <th>2</th>\n",
              "      <td>30</td>\n",
              "      <td>7</td>\n",
              "      <td>Friday</td>\n",
              "      <td>7.410811e+09</td>\n",
              "      <td>1</td>\n",
              "      <td>PERSONAL CARE</td>\n",
              "      <td>4504.0</td>\n",
              "    </tr>\n",
              "    <tr>\n",
              "      <th>3</th>\n",
              "      <td>26</td>\n",
              "      <td>8</td>\n",
              "      <td>Friday</td>\n",
              "      <td>2.238404e+09</td>\n",
              "      <td>2</td>\n",
              "      <td>PAINT AND ACCESSORIES</td>\n",
              "      <td>3565.0</td>\n",
              "    </tr>\n",
              "    <tr>\n",
              "      <th>4</th>\n",
              "      <td>26</td>\n",
              "      <td>8</td>\n",
              "      <td>Friday</td>\n",
              "      <td>2.006614e+09</td>\n",
              "      <td>2</td>\n",
              "      <td>PAINT AND ACCESSORIES</td>\n",
              "      <td>1017.0</td>\n",
              "    </tr>\n",
              "  </tbody>\n",
              "</table>\n",
              "</div>\n",
              "      <button class=\"colab-df-convert\" onclick=\"convertToInteractive('df-91ff2347-7107-41f5-82cd-0b3f78860482')\"\n",
              "              title=\"Convert this dataframe to an interactive table.\"\n",
              "              style=\"display:none;\">\n",
              "        \n",
              "  <svg xmlns=\"http://www.w3.org/2000/svg\" height=\"24px\"viewBox=\"0 0 24 24\"\n",
              "       width=\"24px\">\n",
              "    <path d=\"M0 0h24v24H0V0z\" fill=\"none\"/>\n",
              "    <path d=\"M18.56 5.44l.94 2.06.94-2.06 2.06-.94-2.06-.94-.94-2.06-.94 2.06-2.06.94zm-11 1L8.5 8.5l.94-2.06 2.06-.94-2.06-.94L8.5 2.5l-.94 2.06-2.06.94zm10 10l.94 2.06.94-2.06 2.06-.94-2.06-.94-.94-2.06-.94 2.06-2.06.94z\"/><path d=\"M17.41 7.96l-1.37-1.37c-.4-.4-.92-.59-1.43-.59-.52 0-1.04.2-1.43.59L10.3 9.45l-7.72 7.72c-.78.78-.78 2.05 0 2.83L4 21.41c.39.39.9.59 1.41.59.51 0 1.02-.2 1.41-.59l7.78-7.78 2.81-2.81c.8-.78.8-2.07 0-2.86zM5.41 20L4 18.59l7.72-7.72 1.47 1.35L5.41 20z\"/>\n",
              "  </svg>\n",
              "      </button>\n",
              "      \n",
              "  <style>\n",
              "    .colab-df-container {\n",
              "      display:flex;\n",
              "      flex-wrap:wrap;\n",
              "      gap: 12px;\n",
              "    }\n",
              "\n",
              "    .colab-df-convert {\n",
              "      background-color: #E8F0FE;\n",
              "      border: none;\n",
              "      border-radius: 50%;\n",
              "      cursor: pointer;\n",
              "      display: none;\n",
              "      fill: #1967D2;\n",
              "      height: 32px;\n",
              "      padding: 0 0 0 0;\n",
              "      width: 32px;\n",
              "    }\n",
              "\n",
              "    .colab-df-convert:hover {\n",
              "      background-color: #E2EBFA;\n",
              "      box-shadow: 0px 1px 2px rgba(60, 64, 67, 0.3), 0px 1px 3px 1px rgba(60, 64, 67, 0.15);\n",
              "      fill: #174EA6;\n",
              "    }\n",
              "\n",
              "    [theme=dark] .colab-df-convert {\n",
              "      background-color: #3B4455;\n",
              "      fill: #D2E3FC;\n",
              "    }\n",
              "\n",
              "    [theme=dark] .colab-df-convert:hover {\n",
              "      background-color: #434B5C;\n",
              "      box-shadow: 0px 1px 3px 1px rgba(0, 0, 0, 0.15);\n",
              "      filter: drop-shadow(0px 1px 2px rgba(0, 0, 0, 0.3));\n",
              "      fill: #FFFFFF;\n",
              "    }\n",
              "  </style>\n",
              "\n",
              "      <script>\n",
              "        const buttonEl =\n",
              "          document.querySelector('#df-91ff2347-7107-41f5-82cd-0b3f78860482 button.colab-df-convert');\n",
              "        buttonEl.style.display =\n",
              "          google.colab.kernel.accessAllowed ? 'block' : 'none';\n",
              "\n",
              "        async function convertToInteractive(key) {\n",
              "          const element = document.querySelector('#df-91ff2347-7107-41f5-82cd-0b3f78860482');\n",
              "          const dataTable =\n",
              "            await google.colab.kernel.invokeFunction('convertToInteractive',\n",
              "                                                     [key], {});\n",
              "          if (!dataTable) return;\n",
              "\n",
              "          const docLinkHtml = 'Like what you see? Visit the ' +\n",
              "            '<a target=\"_blank\" href=https://colab.research.google.com/notebooks/data_table.ipynb>data table notebook</a>'\n",
              "            + ' to learn more about interactive tables.';\n",
              "          element.innerHTML = '';\n",
              "          dataTable['output_type'] = 'display_data';\n",
              "          await google.colab.output.renderOutput(dataTable, element);\n",
              "          const docLink = document.createElement('div');\n",
              "          docLink.innerHTML = docLinkHtml;\n",
              "          element.appendChild(docLink);\n",
              "        }\n",
              "      </script>\n",
              "    </div>\n",
              "  </div>\n",
              "  "
            ]
          },
          "metadata": {},
          "execution_count": 25
        }
      ],
      "source": [
        "train.head()"
      ]
    },
    {
      "cell_type": "code",
      "execution_count": 26,
      "metadata": {
        "colab": {
          "base_uri": "https://localhost:8080/"
        },
        "id": "X76h6jOZqZLR",
        "outputId": "1dd4aca5-5537-4609-b695-f7ff8570c326"
      },
      "outputs": [
        {
          "output_type": "execute_result",
          "data": {
            "text/plain": [
              "TripType                   int64\n",
              "VisitNumber                int64\n",
              "Weekday                   object\n",
              "Upc                      float64\n",
              "ScanCount                  int64\n",
              "DepartmentDescription     object\n",
              "FinelineNumber           float64\n",
              "dtype: object"
            ]
          },
          "metadata": {},
          "execution_count": 26
        }
      ],
      "source": [
        "train.dtypes"
      ]
    },
    {
      "cell_type": "markdown",
      "metadata": {
        "id": "oloxjNuWqZLR"
      },
      "source": [
        "All features, except `ScanCount` are categorical, a negative value of a `ScanCount` indicates a product return.\n",
        "\n",
        "### 3.1 VisitNumber \n",
        "is an indicator of a visit, we need it to aggregate different purchases,\n",
        "but the number itself is not important it is just an index. Let's have a quick look on it."
      ]
    },
    {
      "cell_type": "code",
      "execution_count": 27,
      "metadata": {
        "colab": {
          "base_uri": "https://localhost:8080/"
        },
        "id": "baVZV_TXqZLR",
        "outputId": "016db1bf-7491-40dc-e1ed-edc53960d3ea"
      },
      "outputs": [
        {
          "output_type": "execute_result",
          "data": {
            "text/plain": [
              "72439     209\n",
              "88011     151\n",
              "9181      113\n",
              "60971     112\n",
              "65792     111\n",
              "         ... \n",
              "59978       1\n",
              "107116      1\n",
              "59988       1\n",
              "162017      1\n",
              "5           1\n",
              "Name: VisitNumber, Length: 95674, dtype: int64"
            ]
          },
          "metadata": {},
          "execution_count": 27
        }
      ],
      "source": [
        "train.VisitNumber.value_counts()"
      ]
    },
    {
      "cell_type": "code",
      "execution_count": 28,
      "metadata": {
        "colab": {
          "base_uri": "https://localhost:8080/",
          "height": 449
        },
        "id": "8U4opVvEqZLS",
        "outputId": "8f7027e8-c677-431d-b659-34a22691f3a6"
      },
      "outputs": [
        {
          "output_type": "display_data",
          "data": {
            "text/plain": [
              "<Figure size 640x480 with 1 Axes>"
            ],
            "image/png": "[encoded data removed]"
          },
          "metadata": {}
        }
      ],
      "source": [
        "sns.histplot(data=train.VisitNumber.value_counts(), bins=50);"
      ]
    },
    {
      "cell_type": "code",
      "execution_count": 29,
      "metadata": {
        "colab": {
          "base_uri": "https://localhost:8080/"
        },
        "id": "HNE45ns5qZLS",
        "outputId": "4e8d243b-a275-4fa1-febc-c3520043ebe6"
      },
      "outputs": [
        {
          "output_type": "execute_result",
          "data": {
            "text/plain": [
              "1     19563\n",
              "2     17255\n",
              "3     10362\n",
              "4      8038\n",
              "5      5884\n",
              "6      4633\n",
              "7      3716\n",
              "8      3154\n",
              "9      2593\n",
              "10     2251\n",
              "11     1889\n",
              "12     1746\n",
              "13     1519\n",
              "14     1253\n",
              "15     1207\n",
              "16     1030\n",
              "17      887\n",
              "18      772\n",
              "19      699\n",
              "20      674\n",
              "Name: VisitNumber, dtype: int64"
            ]
          },
          "metadata": {},
          "execution_count": 29
        }
      ],
      "source": [
        "train.VisitNumber.value_counts().value_counts().sort_index()[:20]"
      ]
    },
    {
      "cell_type": "markdown",
      "metadata": {
        "id": "42nnf2swqZLS"
      },
      "source": [
        "--- \n",
        "\n",
        "- More than half of all Visit consists of 4 or less purchases\n",
        "- 90% of Visits consist of 17 or less purchases"
      ]
    },
    {
      "cell_type": "code",
      "execution_count": 29,
      "metadata": {
        "id": "ZS8aZ4UuqZLS"
      },
      "outputs": [],
      "source": []
    },
    {
      "cell_type": "markdown",
      "metadata": {
        "id": "73yXJi2SqZLS"
      },
      "source": [
        "### 3.2 Weekday"
      ]
    },
    {
      "cell_type": "code",
      "execution_count": 30,
      "metadata": {
        "colab": {
          "base_uri": "https://localhost:8080/"
        },
        "id": "EYHkpocJqZLS",
        "outputId": "1122ec3f-4bcb-4b75-d46f-177275588923"
      },
      "outputs": [
        {
          "output_type": "execute_result",
          "data": {
            "text/plain": [
              "Monday        83130\n",
              "Tuesday       72529\n",
              "Wednesday     71115\n",
              "Thursday      67962\n",
              "Friday        96247\n",
              "Saturday     122096\n",
              "Sunday       133975\n",
              "Name: Weekday, dtype: int64"
            ]
          },
          "metadata": {},
          "execution_count": 30
        }
      ],
      "source": [
        "# How many visits are on different weekdays\n",
        "weekdays = ['Monday', 'Tuesday', 'Wednesday','Thursday','Friday', 'Saturday', 'Sunday']\n",
        "\n",
        "train.Weekday.value_counts().reindex(weekdays)"
      ]
    },
    {
      "cell_type": "code",
      "execution_count": 31,
      "metadata": {
        "colab": {
          "base_uri": "https://localhost:8080/"
        },
        "id": "Sle5CMqpqZLS",
        "outputId": "54fab448-1673-4d29-afe7-542c8a805e38"
      },
      "outputs": [
        {
          "output_type": "execute_result",
          "data": {
            "text/plain": [
              "Weekday\n",
              "Monday       1926\n",
              "Tuesday      1878\n",
              "Wednesday    1871\n",
              "Thursday     1793\n",
              "Friday       2418\n",
              "Saturday     2763\n",
              "Sunday       2809\n",
              "Name: IsReturn, dtype: int64"
            ]
          },
          "metadata": {},
          "execution_count": 31
        }
      ],
      "source": [
        "# Do we have more returns on some weekdays?\n",
        "\n",
        "train['IsReturn'] = train['ScanCount'].apply(lambda x: x < 0)\n",
        "train.groupby(['Weekday'])['IsReturn'].sum().sort_values().reindex(weekdays)"
      ]
    },
    {
      "cell_type": "code",
      "execution_count": 32,
      "metadata": {
        "colab": {
          "base_uri": "https://localhost:8080/"
        },
        "id": "f28CGFWUqZLT",
        "outputId": "c3352749-6221-4e23-9090-a0444a7450d4"
      },
      "outputs": [
        {
          "output_type": "execute_result",
          "data": {
            "text/plain": [
              "-1     14394\n",
              "-2       814\n",
              "-3       143\n",
              "-4        76\n",
              "-5        16\n",
              "-6        10\n",
              "-9         2\n",
              "-12        1\n",
              "-7         1\n",
              "-10        1\n",
              "Name: ScanCount, dtype: int64"
            ]
          },
          "metadata": {},
          "execution_count": 32
        }
      ],
      "source": [
        "# Is there only `-1` returns?\n",
        "\n",
        "train[train.IsReturn].ScanCount.value_counts()"
      ]
    },
    {
      "cell_type": "markdown",
      "metadata": {
        "id": "C7MknR74qZLT"
      },
      "source": [
        "### 3.3 DepartmentDescription"
      ]
    },
    {
      "cell_type": "code",
      "execution_count": 33,
      "metadata": {
        "colab": {
          "base_uri": "https://localhost:8080/"
        },
        "id": "zl_NX-d0qZLT",
        "outputId": "369d1655-1ba3-4aec-ac8f-9e6944d4ff78"
      },
      "outputs": [
        {
          "output_type": "execute_result",
          "data": {
            "text/plain": [
              "DepartmentDescription\n",
              "GROCERY DRY GOODS              88718\n",
              "DSD GROCERY                    79814\n",
              "PRODUCE                        52813\n",
              "DAIRY                          50550\n",
              "PERSONAL CARE                  44819\n",
              "IMPULSE MERCHANDISE            31811\n",
              "HOUSEHOLD CHEMICALS/SUPP       26915\n",
              "PHARMACY OTC                   25620\n",
              "FROZEN FOODS                   25368\n",
              "HOUSEHOLD PAPER GOODS          17986\n",
              "COMM BREAD                     17516\n",
              "BEAUTY                         15077\n",
              "INFANT CONSUMABLE HARDLINES    13149\n",
              "PETS AND SUPPLIES              12592\n",
              "CANDY, TOBACCO, COOKIES        11745\n",
              "MENS WEAR                      11690\n",
              "MEAT - FRESH & FROZEN          10882\n",
              "SERVICE DELI                   10777\n",
              "PRE PACKED DELI                10722\n",
              "CELEBRATION                     9957\n",
              "Name: ScanCount, dtype: int64"
            ]
          },
          "metadata": {},
          "execution_count": 33
        }
      ],
      "source": [
        "# What are the most popular Departments? (total sum over ScanCount)\n",
        "\n",
        "train.groupby('DepartmentDescription').ScanCount.sum().sort_values(ascending=False)[:20]"
      ]
    },
    {
      "cell_type": "code",
      "execution_count": 34,
      "metadata": {
        "colab": {
          "base_uri": "https://localhost:8080/",
          "height": 519
        },
        "id": "yPficM51qZLT",
        "outputId": "ef131011-4acd-4fe7-bd2c-df4d20aee511"
      },
      "outputs": [
        {
          "output_type": "execute_result",
          "data": {
            "text/plain": [
              "    TripType  Count    DepartmentDescription\n",
              "0          3   5369       FINANCIAL SERVICES\n",
              "1          3    804      IMPULSE MERCHANDISE\n",
              "2          3     76    LARGE HOUSEHOLD GOODS\n",
              "3          4    563             PHARMACY OTC\n",
              "4          4     73              DSD GROCERY\n",
              "5          4     47      IMPULSE MERCHANDISE\n",
              "6          5   5281             PHARMACY OTC\n",
              "7          5   2714              PHARMACY RX\n",
              "8          5    922            PERSONAL CARE\n",
              "9          6   1000         LIQUOR,WINE,BEER\n",
              "10         6    674  CANDY, TOBACCO, COOKIES\n",
              "11         6    360              DSD GROCERY\n",
              "12         7   3669             SERVICE DELI\n",
              "13         7   3354        GROCERY DRY GOODS\n",
              "14         7   3022                  PRODUCE"
            ],
            "text/html": [
              "\n",
              "  <div id=\"df-7bcb44b6-6789-41c5-9ed8-2f858e7d48ba\">\n",
              "    <div class=\"colab-df-container\">\n",
              "      <div>\n",
              "<style scoped>\n",
              "    .dataframe tbody tr th:only-of-type {\n",
              "        vertical-align: middle;\n",
              "    }\n",
              "\n",
              "    .dataframe tbody tr th {\n",
              "        vertical-align: top;\n",
              "    }\n",
              "\n",
              "    .dataframe thead th {\n",
              "        text-align: right;\n",
              "    }\n",
              "</style>\n",
              "<table border=\"1\" class=\"dataframe\">\n",
              "  <thead>\n",
              "    <tr style=\"text-align: right;\">\n",
              "      <th></th>\n",
              "      <th>TripType</th>\n",
              "      <th>Count</th>\n",
              "      <th>DepartmentDescription</th>\n",
              "    </tr>\n",
              "  </thead>\n",
              "  <tbody>\n",
              "    <tr>\n",
              "      <th>0</th>\n",
              "      <td>3</td>\n",
              "      <td>5369</td>\n",
              "      <td>FINANCIAL SERVICES</td>\n",
              "    </tr>\n",
              "    <tr>\n",
              "      <th>1</th>\n",
              "      <td>3</td>\n",
              "      <td>804</td>\n",
              "      <td>IMPULSE MERCHANDISE</td>\n",
              "    </tr>\n",
              "    <tr>\n",
              "      <th>2</th>\n",
              "      <td>3</td>\n",
              "      <td>76</td>\n",
              "      <td>LARGE HOUSEHOLD GOODS</td>\n",
              "    </tr>\n",
              "    <tr>\n",
              "      <th>3</th>\n",
              "      <td>4</td>\n",
              "      <td>563</td>\n",
              "      <td>PHARMACY OTC</td>\n",
              "    </tr>\n",
              "    <tr>\n",
              "      <th>4</th>\n",
              "      <td>4</td>\n",
              "      <td>73</td>\n",
              "      <td>DSD GROCERY</td>\n",
              "    </tr>\n",
              "    <tr>\n",
              "      <th>5</th>\n",
              "      <td>4</td>\n",
              "      <td>47</td>\n",
              "      <td>IMPULSE MERCHANDISE</td>\n",
              "    </tr>\n",
              "    <tr>\n",
              "      <th>6</th>\n",
              "      <td>5</td>\n",
              "      <td>5281</td>\n",
              "      <td>PHARMACY OTC</td>\n",
              "    </tr>\n",
              "    <tr>\n",
              "      <th>7</th>\n",
              "      <td>5</td>\n",
              "      <td>2714</td>\n",
              "      <td>PHARMACY RX</td>\n",
              "    </tr>\n",
              "    <tr>\n",
              "      <th>8</th>\n",
              "      <td>5</td>\n",
              "      <td>922</td>\n",
              "      <td>PERSONAL CARE</td>\n",
              "    </tr>\n",
              "    <tr>\n",
              "      <th>9</th>\n",
              "      <td>6</td>\n",
              "      <td>1000</td>\n",
              "      <td>LIQUOR,WINE,BEER</td>\n",
              "    </tr>\n",
              "    <tr>\n",
              "      <th>10</th>\n",
              "      <td>6</td>\n",
              "      <td>674</td>\n",
              "      <td>CANDY, TOBACCO, COOKIES</td>\n",
              "    </tr>\n",
              "    <tr>\n",
              "      <th>11</th>\n",
              "      <td>6</td>\n",
              "      <td>360</td>\n",
              "      <td>DSD GROCERY</td>\n",
              "    </tr>\n",
              "    <tr>\n",
              "      <th>12</th>\n",
              "      <td>7</td>\n",
              "      <td>3669</td>\n",
              "      <td>SERVICE DELI</td>\n",
              "    </tr>\n",
              "    <tr>\n",
              "      <th>13</th>\n",
              "      <td>7</td>\n",
              "      <td>3354</td>\n",
              "      <td>GROCERY DRY GOODS</td>\n",
              "    </tr>\n",
              "    <tr>\n",
              "      <th>14</th>\n",
              "      <td>7</td>\n",
              "      <td>3022</td>\n",
              "      <td>PRODUCE</td>\n",
              "    </tr>\n",
              "  </tbody>\n",
              "</table>\n",
              "</div>\n",
              "      <button class=\"colab-df-convert\" onclick=\"convertToInteractive('df-7bcb44b6-6789-41c5-9ed8-2f858e7d48ba')\"\n",
              "              title=\"Convert this dataframe to an interactive table.\"\n",
              "              style=\"display:none;\">\n",
              "        \n",
              "  <svg xmlns=\"http://www.w3.org/2000/svg\" height=\"24px\"viewBox=\"0 0 24 24\"\n",
              "       width=\"24px\">\n",
              "    <path d=\"M0 0h24v24H0V0z\" fill=\"none\"/>\n",
              "    <path d=\"M18.56 5.44l.94 2.06.94-2.06 2.06-.94-2.06-.94-.94-2.06-.94 2.06-2.06.94zm-11 1L8.5 8.5l.94-2.06 2.06-.94-2.06-.94L8.5 2.5l-.94 2.06-2.06.94zm10 10l.94 2.06.94-2.06 2.06-.94-2.06-.94-.94-2.06-.94 2.06-2.06.94z\"/><path d=\"M17.41 7.96l-1.37-1.37c-.4-.4-.92-.59-1.43-.59-.52 0-1.04.2-1.43.59L10.3 9.45l-7.72 7.72c-.78.78-.78 2.05 0 2.83L4 21.41c.39.39.9.59 1.41.59.51 0 1.02-.2 1.41-.59l7.78-7.78 2.81-2.81c.8-.78.8-2.07 0-2.86zM5.41 20L4 18.59l7.72-7.72 1.47 1.35L5.41 20z\"/>\n",
              "  </svg>\n",
              "      </button>\n",
              "      \n",
              "  <style>\n",
              "    .colab-df-container {\n",
              "      display:flex;\n",
              "      flex-wrap:wrap;\n",
              "      gap: 12px;\n",
              "    }\n",
              "\n",
              "    .colab-df-convert {\n",
              "      background-color: #E8F0FE;\n",
              "      border: none;\n",
              "      border-radius: 50%;\n",
              "      cursor: pointer;\n",
              "      display: none;\n",
              "      fill: #1967D2;\n",
              "      height: 32px;\n",
              "      padding: 0 0 0 0;\n",
              "      width: 32px;\n",
              "    }\n",
              "\n",
              "    .colab-df-convert:hover {\n",
              "      background-color: #E2EBFA;\n",
              "      box-shadow: 0px 1px 2px rgba(60, 64, 67, 0.3), 0px 1px 3px 1px rgba(60, 64, 67, 0.15);\n",
              "      fill: #174EA6;\n",
              "    }\n",
              "\n",
              "    [theme=dark] .colab-df-convert {\n",
              "      background-color: #3B4455;\n",
              "      fill: #D2E3FC;\n",
              "    }\n",
              "\n",
              "    [theme=dark] .colab-df-convert:hover {\n",
              "      background-color: #434B5C;\n",
              "      box-shadow: 0px 1px 3px 1px rgba(0, 0, 0, 0.15);\n",
              "      filter: drop-shadow(0px 1px 2px rgba(0, 0, 0, 0.3));\n",
              "      fill: #FFFFFF;\n",
              "    }\n",
              "  </style>\n",
              "\n",
              "      <script>\n",
              "        const buttonEl =\n",
              "          document.querySelector('#df-7bcb44b6-6789-41c5-9ed8-2f858e7d48ba button.colab-df-convert');\n",
              "        buttonEl.style.display =\n",
              "          google.colab.kernel.accessAllowed ? 'block' : 'none';\n",
              "\n",
              "        async function convertToInteractive(key) {\n",
              "          const element = document.querySelector('#df-7bcb44b6-6789-41c5-9ed8-2f858e7d48ba');\n",
              "          const dataTable =\n",
              "            await google.colab.kernel.invokeFunction('convertToInteractive',\n",
              "                                                     [key], {});\n",
              "          if (!dataTable) return;\n",
              "\n",
              "          const docLinkHtml = 'Like what you see? Visit the ' +\n",
              "            '<a target=\"_blank\" href=https://colab.research.google.com/notebooks/data_table.ipynb>data table notebook</a>'\n",
              "            + ' to learn more about interactive tables.';\n",
              "          element.innerHTML = '';\n",
              "          dataTable['output_type'] = 'display_data';\n",
              "          await google.colab.output.renderOutput(dataTable, element);\n",
              "          const docLink = document.createElement('div');\n",
              "          docLink.innerHTML = docLinkHtml;\n",
              "          element.appendChild(docLink);\n",
              "        }\n",
              "      </script>\n",
              "    </div>\n",
              "  </div>\n",
              "  "
            ]
          },
          "metadata": {},
          "execution_count": 34
        }
      ],
      "source": [
        "# Does most popular DepartmentDescription differ for different TripTypes?\n",
        "# > Allows to more or less deanonymize `TripType`.\n",
        "\n",
        "gp = train.groupby('TripType')['DepartmentDescription'].value_counts().reset_index(name='Count')\n",
        "gp2 = gp.groupby(['TripType'])[['Count','DepartmentDescription']]\\\n",
        "                                                           .apply(pd.DataFrame.nlargest, n=3, columns=['Count'])\\\n",
        "                                                           .reset_index()\\\n",
        "                                                           .drop('level_1', axis=1)\n",
        "\n",
        "gp2[:15]"
      ]
    },
    {
      "cell_type": "code",
      "execution_count": 35,
      "metadata": {
        "colab": {
          "base_uri": "https://localhost:8080/",
          "height": 519
        },
        "id": "c3VTQjc_qZLU",
        "outputId": "e2767877-ee78-4918-bd29-d64d61610045"
      },
      "outputs": [
        {
          "output_type": "execute_result",
          "data": {
            "text/plain": [
              "    TripType  Count       DepartmentDescription\n",
              "51        25   5381                   MENS WEAR\n",
              "52        25   3716                  LADIESWEAR\n",
              "53        25   1836  GIRLS WEAR, 4-6X  AND 7-14\n",
              "87        37  13351                     PRODUCE\n",
              "88        37   5477           GROCERY DRY GOODS\n",
              "89        37   3667                       DAIRY\n",
              "90        38   7252                       DAIRY\n",
              "91        38   6417           GROCERY DRY GOODS\n",
              "92        38   4020                 DSD GROCERY\n",
              "93        39  12956                 DSD GROCERY\n",
              "94        39  12602           GROCERY DRY GOODS\n",
              "95        39   8126               PERSONAL CARE\n",
              "96        40  32639           GROCERY DRY GOODS\n",
              "97        40  22157                 DSD GROCERY\n",
              "98        40  17354                       DAIRY"
            ],
            "text/html": [
              "\n",
              "  <div id=\"df-770cd851-d7f2-4729-9ddb-8859c8ec5a6a\">\n",
              "    <div class=\"colab-df-container\">\n",
              "      <div>\n",
              "<style scoped>\n",
              "    .dataframe tbody tr th:only-of-type {\n",
              "        vertical-align: middle;\n",
              "    }\n",
              "\n",
              "    .dataframe tbody tr th {\n",
              "        vertical-align: top;\n",
              "    }\n",
              "\n",
              "    .dataframe thead th {\n",
              "        text-align: right;\n",
              "    }\n",
              "</style>\n",
              "<table border=\"1\" class=\"dataframe\">\n",
              "  <thead>\n",
              "    <tr style=\"text-align: right;\">\n",
              "      <th></th>\n",
              "      <th>TripType</th>\n",
              "      <th>Count</th>\n",
              "      <th>DepartmentDescription</th>\n",
              "    </tr>\n",
              "  </thead>\n",
              "  <tbody>\n",
              "    <tr>\n",
              "      <th>51</th>\n",
              "      <td>25</td>\n",
              "      <td>5381</td>\n",
              "      <td>MENS WEAR</td>\n",
              "    </tr>\n",
              "    <tr>\n",
              "      <th>52</th>\n",
              "      <td>25</td>\n",
              "      <td>3716</td>\n",
              "      <td>LADIESWEAR</td>\n",
              "    </tr>\n",
              "    <tr>\n",
              "      <th>53</th>\n",
              "      <td>25</td>\n",
              "      <td>1836</td>\n",
              "      <td>GIRLS WEAR, 4-6X  AND 7-14</td>\n",
              "    </tr>\n",
              "    <tr>\n",
              "      <th>87</th>\n",
              "      <td>37</td>\n",
              "      <td>13351</td>\n",
              "      <td>PRODUCE</td>\n",
              "    </tr>\n",
              "    <tr>\n",
              "      <th>88</th>\n",
              "      <td>37</td>\n",
              "      <td>5477</td>\n",
              "      <td>GROCERY DRY GOODS</td>\n",
              "    </tr>\n",
              "    <tr>\n",
              "      <th>89</th>\n",
              "      <td>37</td>\n",
              "      <td>3667</td>\n",
              "      <td>DAIRY</td>\n",
              "    </tr>\n",
              "    <tr>\n",
              "      <th>90</th>\n",
              "      <td>38</td>\n",
              "      <td>7252</td>\n",
              "      <td>DAIRY</td>\n",
              "    </tr>\n",
              "    <tr>\n",
              "      <th>91</th>\n",
              "      <td>38</td>\n",
              "      <td>6417</td>\n",
              "      <td>GROCERY DRY GOODS</td>\n",
              "    </tr>\n",
              "    <tr>\n",
              "      <th>92</th>\n",
              "      <td>38</td>\n",
              "      <td>4020</td>\n",
              "      <td>DSD GROCERY</td>\n",
              "    </tr>\n",
              "    <tr>\n",
              "      <th>93</th>\n",
              "      <td>39</td>\n",
              "      <td>12956</td>\n",
              "      <td>DSD GROCERY</td>\n",
              "    </tr>\n",
              "    <tr>\n",
              "      <th>94</th>\n",
              "      <td>39</td>\n",
              "      <td>12602</td>\n",
              "      <td>GROCERY DRY GOODS</td>\n",
              "    </tr>\n",
              "    <tr>\n",
              "      <th>95</th>\n",
              "      <td>39</td>\n",
              "      <td>8126</td>\n",
              "      <td>PERSONAL CARE</td>\n",
              "    </tr>\n",
              "    <tr>\n",
              "      <th>96</th>\n",
              "      <td>40</td>\n",
              "      <td>32639</td>\n",
              "      <td>GROCERY DRY GOODS</td>\n",
              "    </tr>\n",
              "    <tr>\n",
              "      <th>97</th>\n",
              "      <td>40</td>\n",
              "      <td>22157</td>\n",
              "      <td>DSD GROCERY</td>\n",
              "    </tr>\n",
              "    <tr>\n",
              "      <th>98</th>\n",
              "      <td>40</td>\n",
              "      <td>17354</td>\n",
              "      <td>DAIRY</td>\n",
              "    </tr>\n",
              "  </tbody>\n",
              "</table>\n",
              "</div>\n",
              "      <button class=\"colab-df-convert\" onclick=\"convertToInteractive('df-770cd851-d7f2-4729-9ddb-8859c8ec5a6a')\"\n",
              "              title=\"Convert this dataframe to an interactive table.\"\n",
              "              style=\"display:none;\">\n",
              "        \n",
              "  <svg xmlns=\"http://www.w3.org/2000/svg\" height=\"24px\"viewBox=\"0 0 24 24\"\n",
              "       width=\"24px\">\n",
              "    <path d=\"M0 0h24v24H0V0z\" fill=\"none\"/>\n",
              "    <path d=\"M18.56 5.44l.94 2.06.94-2.06 2.06-.94-2.06-.94-.94-2.06-.94 2.06-2.06.94zm-11 1L8.5 8.5l.94-2.06 2.06-.94-2.06-.94L8.5 2.5l-.94 2.06-2.06.94zm10 10l.94 2.06.94-2.06 2.06-.94-2.06-.94-.94-2.06-.94 2.06-2.06.94z\"/><path d=\"M17.41 7.96l-1.37-1.37c-.4-.4-.92-.59-1.43-.59-.52 0-1.04.2-1.43.59L10.3 9.45l-7.72 7.72c-.78.78-.78 2.05 0 2.83L4 21.41c.39.39.9.59 1.41.59.51 0 1.02-.2 1.41-.59l7.78-7.78 2.81-2.81c.8-.78.8-2.07 0-2.86zM5.41 20L4 18.59l7.72-7.72 1.47 1.35L5.41 20z\"/>\n",
              "  </svg>\n",
              "      </button>\n",
              "      \n",
              "  <style>\n",
              "    .colab-df-container {\n",
              "      display:flex;\n",
              "      flex-wrap:wrap;\n",
              "      gap: 12px;\n",
              "    }\n",
              "\n",
              "    .colab-df-convert {\n",
              "      background-color: #E8F0FE;\n",
              "      border: none;\n",
              "      border-radius: 50%;\n",
              "      cursor: pointer;\n",
              "      display: none;\n",
              "      fill: #1967D2;\n",
              "      height: 32px;\n",
              "      padding: 0 0 0 0;\n",
              "      width: 32px;\n",
              "    }\n",
              "\n",
              "    .colab-df-convert:hover {\n",
              "      background-color: #E2EBFA;\n",
              "      box-shadow: 0px 1px 2px rgba(60, 64, 67, 0.3), 0px 1px 3px 1px rgba(60, 64, 67, 0.15);\n",
              "      fill: #174EA6;\n",
              "    }\n",
              "\n",
              "    [theme=dark] .colab-df-convert {\n",
              "      background-color: #3B4455;\n",
              "      fill: #D2E3FC;\n",
              "    }\n",
              "\n",
              "    [theme=dark] .colab-df-convert:hover {\n",
              "      background-color: #434B5C;\n",
              "      box-shadow: 0px 1px 3px 1px rgba(0, 0, 0, 0.15);\n",
              "      filter: drop-shadow(0px 1px 2px rgba(0, 0, 0, 0.3));\n",
              "      fill: #FFFFFF;\n",
              "    }\n",
              "  </style>\n",
              "\n",
              "      <script>\n",
              "        const buttonEl =\n",
              "          document.querySelector('#df-770cd851-d7f2-4729-9ddb-8859c8ec5a6a button.colab-df-convert');\n",
              "        buttonEl.style.display =\n",
              "          google.colab.kernel.accessAllowed ? 'block' : 'none';\n",
              "\n",
              "        async function convertToInteractive(key) {\n",
              "          const element = document.querySelector('#df-770cd851-d7f2-4729-9ddb-8859c8ec5a6a');\n",
              "          const dataTable =\n",
              "            await google.colab.kernel.invokeFunction('convertToInteractive',\n",
              "                                                     [key], {});\n",
              "          if (!dataTable) return;\n",
              "\n",
              "          const docLinkHtml = 'Like what you see? Visit the ' +\n",
              "            '<a target=\"_blank\" href=https://colab.research.google.com/notebooks/data_table.ipynb>data table notebook</a>'\n",
              "            + ' to learn more about interactive tables.';\n",
              "          element.innerHTML = '';\n",
              "          dataTable['output_type'] = 'display_data';\n",
              "          await google.colab.output.renderOutput(dataTable, element);\n",
              "          const docLink = document.createElement('div');\n",
              "          docLink.innerHTML = docLinkHtml;\n",
              "          element.appendChild(docLink);\n",
              "        }\n",
              "      </script>\n",
              "    </div>\n",
              "  </div>\n",
              "  "
            ]
          },
          "metadata": {},
          "execution_count": 35
        }
      ],
      "source": [
        "# From our baseline, recall most popular TripTypes, let's deanonymize them.\n",
        "# Select subset of the previous table with TripType in [40, 39, 37, 38, 25]\n",
        "\n",
        "gp2[gp2.TripType.isin([40, 39, 37, 38, 25])]"
      ]
    },
    {
      "cell_type": "code",
      "execution_count": 36,
      "metadata": {
        "colab": {
          "base_uri": "https://localhost:8080/"
        },
        "id": "TYUGa9ibqZLU",
        "outputId": "aadc8ecc-f626-4335-eea7-66b53aec96a6"
      },
      "outputs": [
        {
          "output_type": "execute_result",
          "data": {
            "text/plain": [
              "DepartmentDescription\n",
              "FINANCIAL SERVICES          1162\n",
              "LADIESWEAR                   800\n",
              "PRODUCE                      733\n",
              "PERSONAL CARE                682\n",
              "DSD GROCERY                  679\n",
              "MENS WEAR                    634\n",
              "GROCERY DRY GOODS            606\n",
              "PHARMACY OTC                 472\n",
              "IMPULSE MERCHANDISE          453\n",
              "BEAUTY                       452\n",
              "ELECTRONICS                  450\n",
              "HOUSEHOLD CHEMICALS/SUPP     392\n",
              "COOK AND DINE                382\n",
              "TOYS                         356\n",
              "DAIRY                        343\n",
              "Name: IsReturn, dtype: int64"
            ]
          },
          "metadata": {},
          "execution_count": 36
        }
      ],
      "source": [
        "# What are the DepartmentDescription with most returns?\n",
        "\n",
        "train.groupby('DepartmentDescription')['IsReturn'].sum().sort_values(ascending=False)[:15]"
      ]
    },
    {
      "cell_type": "code",
      "execution_count": 36,
      "metadata": {
        "id": "BFNSUejZqZLU"
      },
      "outputs": [],
      "source": []
    },
    {
      "cell_type": "markdown",
      "metadata": {
        "id": "LjrVgS1KqZLU"
      },
      "source": [
        "### 3.4 FinelineNumber\n",
        "\n",
        "> according to the data description `FinelineNumber` is just a more detailed `DepartmentDescription`"
      ]
    },
    {
      "cell_type": "code",
      "execution_count": 37,
      "metadata": {
        "colab": {
          "base_uri": "https://localhost:8080/",
          "height": 612
        },
        "id": "mM_q--ndqZLU",
        "outputId": "ce2f9bb2-709a-4109-bc03-68ed870af1bf"
      },
      "outputs": [
        {
          "output_type": "execute_result",
          "data": {
            "text/plain": [
              "DepartmentDescription  DAIRY  DSD GROCERY  GROCERY DRY GOODS  \\\n",
              "FinelineNumber                                                 \n",
              "100.0                      0            0                 95   \n",
              "110.0                      0            0                  0   \n",
              "115.0                      0            0                  0   \n",
              "135.0                      0            0                  0   \n",
              "203.0                      0            0                  0   \n",
              "808.0                      0            0                  0   \n",
              "1407.0                  2659            0                  0   \n",
              "1508.0                  4961            0                  0   \n",
              "3004.0                     0         1074                109   \n",
              "3555.0                     0            0               2056   \n",
              "3600.0                     0            0               2455   \n",
              "3601.0                     0           37                261   \n",
              "4606.0                     0         2721                  0   \n",
              "5501.0                     0            0                  0   \n",
              "9546.0                     0         2997                  0   \n",
              "\n",
              "DepartmentDescription  HOUSEHOLD CHEMICALS/SUPP  HOUSEHOLD PAPER GOODS  \\\n",
              "FinelineNumber                                                           \n",
              "100.0                                         0                      0   \n",
              "110.0                                       536                    770   \n",
              "115.0                                        10                      0   \n",
              "135.0                                         0                      0   \n",
              "203.0                                         0                     69   \n",
              "808.0                                         0                      0   \n",
              "1407.0                                        0                      0   \n",
              "1508.0                                        0                      0   \n",
              "3004.0                                        0                    587   \n",
              "3555.0                                        0                      0   \n",
              "3600.0                                        0                      0   \n",
              "3601.0                                        0                      0   \n",
              "4606.0                                        0                      0   \n",
              "5501.0                                        0                      0   \n",
              "9546.0                                        0                      0   \n",
              "\n",
              "DepartmentDescription  IMPULSE MERCHANDISE  PERSONAL CARE  PHARMACY OTC  \\\n",
              "FinelineNumber                                                            \n",
              "100.0                                 2354              0             0   \n",
              "110.0                                  773              0             0   \n",
              "115.0                                 2576              0             0   \n",
              "135.0                                 4417             26             0   \n",
              "203.0                                    0           2353             0   \n",
              "808.0                                 4200            140             0   \n",
              "1407.0                                   0            177             0   \n",
              "1508.0                                   0              0             0   \n",
              "3004.0                                   0              0             0   \n",
              "3555.0                                   0              0             0   \n",
              "3600.0                                   0              0             0   \n",
              "3601.0                                   0              0             0   \n",
              "4606.0                                   0              0             0   \n",
              "5501.0                                   0              0             2   \n",
              "9546.0                                   0              0             0   \n",
              "\n",
              "DepartmentDescription  PRODUCE  \n",
              "FinelineNumber                  \n",
              "100.0                       69  \n",
              "110.0                        0  \n",
              "115.0                        0  \n",
              "135.0                        0  \n",
              "203.0                        0  \n",
              "808.0                        0  \n",
              "1407.0                       0  \n",
              "1508.0                       0  \n",
              "3004.0                     486  \n",
              "3555.0                       0  \n",
              "3600.0                       0  \n",
              "3601.0                    2034  \n",
              "4606.0                       2  \n",
              "5501.0                    7799  \n",
              "9546.0                       0  "
            ],
            "text/html": [
              "\n",
              "  <div id=\"df-e5dc2c48-d264-4bef-b070-5675fae814db\">\n",
              "    <div class=\"colab-df-container\">\n",
              "      <div>\n",
              "<style scoped>\n",
              "    .dataframe tbody tr th:only-of-type {\n",
              "        vertical-align: middle;\n",
              "    }\n",
              "\n",
              "    .dataframe tbody tr th {\n",
              "        vertical-align: top;\n",
              "    }\n",
              "\n",
              "    .dataframe thead th {\n",
              "        text-align: right;\n",
              "    }\n",
              "</style>\n",
              "<table border=\"1\" class=\"dataframe\">\n",
              "  <thead>\n",
              "    <tr style=\"text-align: right;\">\n",
              "      <th>DepartmentDescription</th>\n",
              "      <th>DAIRY</th>\n",
              "      <th>DSD GROCERY</th>\n",
              "      <th>GROCERY DRY GOODS</th>\n",
              "      <th>HOUSEHOLD CHEMICALS/SUPP</th>\n",
              "      <th>HOUSEHOLD PAPER GOODS</th>\n",
              "      <th>IMPULSE MERCHANDISE</th>\n",
              "      <th>PERSONAL CARE</th>\n",
              "      <th>PHARMACY OTC</th>\n",
              "      <th>PRODUCE</th>\n",
              "    </tr>\n",
              "    <tr>\n",
              "      <th>FinelineNumber</th>\n",
              "      <th></th>\n",
              "      <th></th>\n",
              "      <th></th>\n",
              "      <th></th>\n",
              "      <th></th>\n",
              "      <th></th>\n",
              "      <th></th>\n",
              "      <th></th>\n",
              "      <th></th>\n",
              "    </tr>\n",
              "  </thead>\n",
              "  <tbody>\n",
              "    <tr>\n",
              "      <th>100.0</th>\n",
              "      <td>0</td>\n",
              "      <td>0</td>\n",
              "      <td>95</td>\n",
              "      <td>0</td>\n",
              "      <td>0</td>\n",
              "      <td>2354</td>\n",
              "      <td>0</td>\n",
              "      <td>0</td>\n",
              "      <td>69</td>\n",
              "    </tr>\n",
              "    <tr>\n",
              "      <th>110.0</th>\n",
              "      <td>0</td>\n",
              "      <td>0</td>\n",
              "      <td>0</td>\n",
              "      <td>536</td>\n",
              "      <td>770</td>\n",
              "      <td>773</td>\n",
              "      <td>0</td>\n",
              "      <td>0</td>\n",
              "      <td>0</td>\n",
              "    </tr>\n",
              "    <tr>\n",
              "      <th>115.0</th>\n",
              "      <td>0</td>\n",
              "      <td>0</td>\n",
              "      <td>0</td>\n",
              "      <td>10</td>\n",
              "      <td>0</td>\n",
              "      <td>2576</td>\n",
              "      <td>0</td>\n",
              "      <td>0</td>\n",
              "      <td>0</td>\n",
              "    </tr>\n",
              "    <tr>\n",
              "      <th>135.0</th>\n",
              "      <td>0</td>\n",
              "      <td>0</td>\n",
              "      <td>0</td>\n",
              "      <td>0</td>\n",
              "      <td>0</td>\n",
              "      <td>4417</td>\n",
              "      <td>26</td>\n",
              "      <td>0</td>\n",
              "      <td>0</td>\n",
              "    </tr>\n",
              "    <tr>\n",
              "      <th>203.0</th>\n",
              "      <td>0</td>\n",
              "      <td>0</td>\n",
              "      <td>0</td>\n",
              "      <td>0</td>\n",
              "      <td>69</td>\n",
              "      <td>0</td>\n",
              "      <td>2353</td>\n",
              "      <td>0</td>\n",
              "      <td>0</td>\n",
              "    </tr>\n",
              "    <tr>\n",
              "      <th>808.0</th>\n",
              "      <td>0</td>\n",
              "      <td>0</td>\n",
              "      <td>0</td>\n",
              "      <td>0</td>\n",
              "      <td>0</td>\n",
              "      <td>4200</td>\n",
              "      <td>140</td>\n",
              "      <td>0</td>\n",
              "      <td>0</td>\n",
              "    </tr>\n",
              "    <tr>\n",
              "      <th>1407.0</th>\n",
              "      <td>2659</td>\n",
              "      <td>0</td>\n",
              "      <td>0</td>\n",
              "      <td>0</td>\n",
              "      <td>0</td>\n",
              "      <td>0</td>\n",
              "      <td>177</td>\n",
              "      <td>0</td>\n",
              "      <td>0</td>\n",
              "    </tr>\n",
              "    <tr>\n",
              "      <th>1508.0</th>\n",
              "      <td>4961</td>\n",
              "      <td>0</td>\n",
              "      <td>0</td>\n",
              "      <td>0</td>\n",
              "      <td>0</td>\n",
              "      <td>0</td>\n",
              "      <td>0</td>\n",
              "      <td>0</td>\n",
              "      <td>0</td>\n",
              "    </tr>\n",
              "    <tr>\n",
              "      <th>3004.0</th>\n",
              "      <td>0</td>\n",
              "      <td>1074</td>\n",
              "      <td>109</td>\n",
              "      <td>0</td>\n",
              "      <td>587</td>\n",
              "      <td>0</td>\n",
              "      <td>0</td>\n",
              "      <td>0</td>\n",
              "      <td>486</td>\n",
              "    </tr>\n",
              "    <tr>\n",
              "      <th>3555.0</th>\n",
              "      <td>0</td>\n",
              "      <td>0</td>\n",
              "      <td>2056</td>\n",
              "      <td>0</td>\n",
              "      <td>0</td>\n",
              "      <td>0</td>\n",
              "      <td>0</td>\n",
              "      <td>0</td>\n",
              "      <td>0</td>\n",
              "    </tr>\n",
              "    <tr>\n",
              "      <th>3600.0</th>\n",
              "      <td>0</td>\n",
              "      <td>0</td>\n",
              "      <td>2455</td>\n",
              "      <td>0</td>\n",
              "      <td>0</td>\n",
              "      <td>0</td>\n",
              "      <td>0</td>\n",
              "      <td>0</td>\n",
              "      <td>0</td>\n",
              "    </tr>\n",
              "    <tr>\n",
              "      <th>3601.0</th>\n",
              "      <td>0</td>\n",
              "      <td>37</td>\n",
              "      <td>261</td>\n",
              "      <td>0</td>\n",
              "      <td>0</td>\n",
              "      <td>0</td>\n",
              "      <td>0</td>\n",
              "      <td>0</td>\n",
              "      <td>2034</td>\n",
              "    </tr>\n",
              "    <tr>\n",
              "      <th>4606.0</th>\n",
              "      <td>0</td>\n",
              "      <td>2721</td>\n",
              "      <td>0</td>\n",
              "      <td>0</td>\n",
              "      <td>0</td>\n",
              "      <td>0</td>\n",
              "      <td>0</td>\n",
              "      <td>0</td>\n",
              "      <td>2</td>\n",
              "    </tr>\n",
              "    <tr>\n",
              "      <th>5501.0</th>\n",
              "      <td>0</td>\n",
              "      <td>0</td>\n",
              "      <td>0</td>\n",
              "      <td>0</td>\n",
              "      <td>0</td>\n",
              "      <td>0</td>\n",
              "      <td>0</td>\n",
              "      <td>2</td>\n",
              "      <td>7799</td>\n",
              "    </tr>\n",
              "    <tr>\n",
              "      <th>9546.0</th>\n",
              "      <td>0</td>\n",
              "      <td>2997</td>\n",
              "      <td>0</td>\n",
              "      <td>0</td>\n",
              "      <td>0</td>\n",
              "      <td>0</td>\n",
              "      <td>0</td>\n",
              "      <td>0</td>\n",
              "      <td>0</td>\n",
              "    </tr>\n",
              "  </tbody>\n",
              "</table>\n",
              "</div>\n",
              "      <button class=\"colab-df-convert\" onclick=\"convertToInteractive('df-e5dc2c48-d264-4bef-b070-5675fae814db')\"\n",
              "              title=\"Convert this dataframe to an interactive table.\"\n",
              "              style=\"display:none;\">\n",
              "        \n",
              "  <svg xmlns=\"http://www.w3.org/2000/svg\" height=\"24px\"viewBox=\"0 0 24 24\"\n",
              "       width=\"24px\">\n",
              "    <path d=\"M0 0h24v24H0V0z\" fill=\"none\"/>\n",
              "    <path d=\"M18.56 5.44l.94 2.06.94-2.06 2.06-.94-2.06-.94-.94-2.06-.94 2.06-2.06.94zm-11 1L8.5 8.5l.94-2.06 2.06-.94-2.06-.94L8.5 2.5l-.94 2.06-2.06.94zm10 10l.94 2.06.94-2.06 2.06-.94-2.06-.94-.94-2.06-.94 2.06-2.06.94z\"/><path d=\"M17.41 7.96l-1.37-1.37c-.4-.4-.92-.59-1.43-.59-.52 0-1.04.2-1.43.59L10.3 9.45l-7.72 7.72c-.78.78-.78 2.05 0 2.83L4 21.41c.39.39.9.59 1.41.59.51 0 1.02-.2 1.41-.59l7.78-7.78 2.81-2.81c.8-.78.8-2.07 0-2.86zM5.41 20L4 18.59l7.72-7.72 1.47 1.35L5.41 20z\"/>\n",
              "  </svg>\n",
              "      </button>\n",
              "      \n",
              "  <style>\n",
              "    .colab-df-container {\n",
              "      display:flex;\n",
              "      flex-wrap:wrap;\n",
              "      gap: 12px;\n",
              "    }\n",
              "\n",
              "    .colab-df-convert {\n",
              "      background-color: #E8F0FE;\n",
              "      border: none;\n",
              "      border-radius: 50%;\n",
              "      cursor: pointer;\n",
              "      display: none;\n",
              "      fill: #1967D2;\n",
              "      height: 32px;\n",
              "      padding: 0 0 0 0;\n",
              "      width: 32px;\n",
              "    }\n",
              "\n",
              "    .colab-df-convert:hover {\n",
              "      background-color: #E2EBFA;\n",
              "      box-shadow: 0px 1px 2px rgba(60, 64, 67, 0.3), 0px 1px 3px 1px rgba(60, 64, 67, 0.15);\n",
              "      fill: #174EA6;\n",
              "    }\n",
              "\n",
              "    [theme=dark] .colab-df-convert {\n",
              "      background-color: #3B4455;\n",
              "      fill: #D2E3FC;\n",
              "    }\n",
              "\n",
              "    [theme=dark] .colab-df-convert:hover {\n",
              "      background-color: #434B5C;\n",
              "      box-shadow: 0px 1px 3px 1px rgba(0, 0, 0, 0.15);\n",
              "      filter: drop-shadow(0px 1px 2px rgba(0, 0, 0, 0.3));\n",
              "      fill: #FFFFFF;\n",
              "    }\n",
              "  </style>\n",
              "\n",
              "      <script>\n",
              "        const buttonEl =\n",
              "          document.querySelector('#df-e5dc2c48-d264-4bef-b070-5675fae814db button.colab-df-convert');\n",
              "        buttonEl.style.display =\n",
              "          google.colab.kernel.accessAllowed ? 'block' : 'none';\n",
              "\n",
              "        async function convertToInteractive(key) {\n",
              "          const element = document.querySelector('#df-e5dc2c48-d264-4bef-b070-5675fae814db');\n",
              "          const dataTable =\n",
              "            await google.colab.kernel.invokeFunction('convertToInteractive',\n",
              "                                                     [key], {});\n",
              "          if (!dataTable) return;\n",
              "\n",
              "          const docLinkHtml = 'Like what you see? Visit the ' +\n",
              "            '<a target=\"_blank\" href=https://colab.research.google.com/notebooks/data_table.ipynb>data table notebook</a>'\n",
              "            + ' to learn more about interactive tables.';\n",
              "          element.innerHTML = '';\n",
              "          dataTable['output_type'] = 'display_data';\n",
              "          await google.colab.output.renderOutput(dataTable, element);\n",
              "          const docLink = document.createElement('div');\n",
              "          docLink.innerHTML = docLinkHtml;\n",
              "          element.appendChild(docLink);\n",
              "        }\n",
              "      </script>\n",
              "    </div>\n",
              "  </div>\n",
              "  "
            ]
          },
          "metadata": {},
          "execution_count": 37
        }
      ],
      "source": [
        "# Build a crosstab between DepartmentDescription and FinelineNumber,\n",
        "# for most popular DepartmentDescription (total ScanCount > 20_000)\n",
        "# and most popular FinelineNumber (total ScanCount > 2000)\n",
        "\n",
        "\n",
        "popular_dd = train.groupby('DepartmentDescription').ScanCount.sum().sort_values(ascending=False)[:10].index\n",
        "sub = train[train.DepartmentDescription.isin(popular_dd)]\n",
        "sub = sub[sub.FinelineNumber.isin(sub.FinelineNumber.value_counts().iloc[:15].index)]\n",
        "\n",
        "tab = pd.crosstab(sub.FinelineNumber, sub.DepartmentDescription)\n",
        "tab"
      ]
    },
    {
      "cell_type": "code",
      "execution_count": 37,
      "metadata": {
        "id": "XarOaqHqqZLV"
      },
      "outputs": [],
      "source": []
    },
    {
      "cell_type": "markdown",
      "metadata": {
        "id": "E3OIRX-vqZLV"
      },
      "source": [
        "### 3.5 Upc"
      ]
    },
    {
      "cell_type": "code",
      "execution_count": 38,
      "metadata": {
        "colab": {
          "base_uri": "https://localhost:8080/"
        },
        "id": "VPFtI4sQqZLV",
        "outputId": "3ab24bd6-533b-4a9f-a63f-cb18145f241b"
      },
      "outputs": [
        {
          "output_type": "execute_result",
          "data": {
            "text/plain": [
              "4.011000e+03    7657\n",
              "6.053886e+10    2501\n",
              "7.874235e+09    2067\n",
              "7.874235e+09    1883\n",
              "4.046000e+03    1652\n",
              "                ... \n",
              "1.714581e+09       1\n",
              "8.961101e+11       1\n",
              "7.461946e+10       1\n",
              "7.245368e+10       1\n",
              "5.440000e+09       1\n",
              "Name: Upc, Length: 97714, dtype: int64"
            ]
          },
          "metadata": {},
          "execution_count": 38
        }
      ],
      "source": [
        "train.Upc.value_counts()"
      ]
    },
    {
      "cell_type": "code",
      "execution_count": 38,
      "metadata": {
        "id": "LOR3q13MqZLV"
      },
      "outputs": [],
      "source": []
    },
    {
      "cell_type": "markdown",
      "metadata": {
        "id": "GVrBG5VnqZLV"
      },
      "source": [
        "## Conclusions on EDA\n",
        "\n",
        " - Visits are mostly consist of small number of products\n",
        " - Large visits are on weekends\n",
        " - `TripType` depends on `DepartmentDescription` and `FinelineNumber`\n",
        " - `Upc` is something like a bar code, could be usefull but contains almost 100k unique values\n",
        " "
      ]
    },
    {
      "cell_type": "markdown",
      "metadata": {
        "id": "g86XNPSzqZLV"
      },
      "source": [
        "# 4. Generate features"
      ]
    },
    {
      "cell_type": "code",
      "execution_count": 39,
      "metadata": {
        "id": "F3SKPtLyqZLW"
      },
      "outputs": [],
      "source": [
        "train = pd.read_csv('train.csv')\n",
        "# test = pd.read_csv('walmart-recruiting-trip-type-classification/test.csv')"
      ]
    },
    {
      "cell_type": "code",
      "execution_count": 40,
      "metadata": {
        "id": "htX0gJzTqZLW"
      },
      "outputs": [],
      "source": [
        "def return_nth(x, n=0):\n",
        "    try:\n",
        "        return x[n]\n",
        "    except:\n",
        "        return np.nan\n",
        "    \n",
        "def return_nth_val(x, n=0):\n",
        "    try:\n",
        "        return x[n]\n",
        "    except:\n",
        "        return 0\n",
        "    \n",
        "def is_weekend(x):\n",
        "    return int(x in ['Sunday', 'Saturday'])\n",
        "\n",
        "def has_return(x):\n",
        "    return int(any(_x < 0 for _x in x))\n",
        "\n",
        "def sum_return(x):\n",
        "    return np.sum([_x for _x in x if _x < 0])"
      ]
    },
    {
      "cell_type": "code",
      "execution_count": 41,
      "metadata": {
        "id": "KPHsC5BSqZLW"
      },
      "outputs": [],
      "source": [
        "df = train.copy()"
      ]
    },
    {
      "cell_type": "code",
      "execution_count": 42,
      "metadata": {
        "id": "6DEParK0qZLW"
      },
      "outputs": [],
      "source": [
        "def generate_features(df):\n",
        "    \n",
        "    df = df.copy()\n",
        "    \n",
        "    # 1. Most frequent DepartmentDescription in the purchase, second most frequent, third, fourth.\n",
        "    f = lambda grp: grp.value_counts().nlargest(6)\n",
        "    x = df.groupby('VisitNumber')['DepartmentDescription'].apply(f).reset_index()\n",
        "    gp = x.groupby('VisitNumber')['level_1'].unique()\n",
        "\n",
        "    df['PopularCategory'] = df.VisitNumber.map(gp)\n",
        "    for i in range(4):\n",
        "        df[f'Category_{i}'] = df['PopularCategory'].apply(return_nth, args=[i])\n",
        "\n",
        "    # 2. Same for FinelineNumber, but 6\n",
        "    x = df.groupby('VisitNumber')['FinelineNumber'].apply(f).reset_index()\n",
        "    gp = x.groupby('VisitNumber')['level_1'].unique()\n",
        "\n",
        "    df['PopularFineline'] = df.VisitNumber.map(gp)\n",
        "    for i in range(6):\n",
        "        df[f'Fineline_{i}'] = df['PopularFineline'].apply(return_nth, args=[i]).astype(object)\n",
        "\n",
        "    # 3. Count number of unique DepartmentDescription in the purchase\n",
        "    gp = df.groupby('VisitNumber')['DepartmentDescription'].nunique()\n",
        "    df['#Unique_Department'] = df.VisitNumber.map(gp)\n",
        "\n",
        "    # 4. Count number of unique FinelineNumber in the purchase.\n",
        "    gp = df.groupby('VisitNumber')['FinelineNumber'].nunique()\n",
        "    df['#Unique_Fineline'] = df.VisitNumber.map(gp)\n",
        "\n",
        "    # 5. Count ScanCount (number of unique Upc in the purchase)\n",
        "\n",
        "    gp = df.groupby('VisitNumber')['ScanCount'].count()\n",
        "    df['#UniqueScanCount'] = df['VisitNumber'].map(gp)   \n",
        "\n",
        "    # 6. Sum ScanCount\n",
        "\n",
        "    gp = df.groupby('VisitNumber')['ScanCount'].sum()\n",
        "    df['TotalScanCount'] = df['VisitNumber'].map(gp)\n",
        "\n",
        "    # 7. Is weekend\n",
        "\n",
        "    df['is_Weekend'] = df['Weekday'].apply(is_weekend).astype(object)\n",
        "\n",
        "    # 8. Sum returns\n",
        "\n",
        "    gp = df.groupby('VisitNumber')['ScanCount'].apply(sum_return)\n",
        "    df['total_return'] = df.VisitNumber.map(gp)\n",
        "    df['total_return'].fillna(0, inplace=True)\n",
        "\n",
        "    # Drop old and intermediate features\n",
        "\n",
        "    df = df.drop(['Upc', 'ScanCount', 'DepartmentDescription',\n",
        "                  'FinelineNumber', 'PopularFineline', 'PopularCategory'], axis=1)\n",
        "\n",
        "    # Drop duplicated rows (with the same VisitNumber)\n",
        "\n",
        "    df = df.drop_duplicates(keep='first')\n",
        "    \n",
        "    return df"
      ]
    },
    {
      "cell_type": "code",
      "execution_count": 43,
      "metadata": {
        "id": "tQlnQewdqZLW"
      },
      "outputs": [],
      "source": [
        "# Running this cell takes about 10 minutes\n",
        "df = generate_features(df)"
      ]
    },
    {
      "cell_type": "markdown",
      "metadata": {
        "id": "-pjldXP_qZLW"
      },
      "source": [
        "# 5. Train a model"
      ]
    },
    {
      "cell_type": "code",
      "source": [
        "pip install catboost"
      ],
      "metadata": {
        "colab": {
          "base_uri": "https://localhost:8080/"
        },
        "id": "WbKNEMlPeVZK",
        "outputId": "e8967778-6ed4-412a-d17f-176592f90f27"
      },
      "execution_count": 44,
      "outputs": [
        {
          "output_type": "stream",
          "name": "stdout",
          "text": [
            "Looking in indexes: https://pypi.org/simple, https://us-python.pkg.dev/colab-wheels/public/simple/\n",
            "Collecting catboost\n",
            "  Downloading catboost-1.1.1-cp39-none-manylinux1_x86_64.whl (76.6 MB)\n",
            "\u001b[2K     \u001b[90m━━━━━━━━━━━━━━━━━━━━━━━━━━━━━━━━━━━━━━━━\u001b[0m \u001b[32m76.6/76.6 MB\u001b[0m \u001b[31m14.5 MB/s\u001b[0m eta \u001b[36m0:00:00\u001b[0m\n",
            "\u001b[?25hRequirement already satisfied: pandas>=0.24.0 in /usr/local/lib/python3.9/dist-packages (from catboost) (1.4.4)\n",
            "Requirement already satisfied: numpy>=1.16.0 in /usr/local/lib/python3.9/dist-packages (from catboost) (1.22.4)\n",
            "Requirement already satisfied: six in /usr/local/lib/python3.9/dist-packages (from catboost) (1.16.0)\n",
            "Requirement already satisfied: graphviz in /usr/local/lib/python3.9/dist-packages (from catboost) (0.20.1)\n",
            "Requirement already satisfied: matplotlib in /usr/local/lib/python3.9/dist-packages (from catboost) (3.7.1)\n",
            "Requirement already satisfied: plotly in /usr/local/lib/python3.9/dist-packages (from catboost) (5.13.1)\n",
            "Requirement already satisfied: scipy in /usr/local/lib/python3.9/dist-packages (from catboost) (1.10.1)\n",
            "Requirement already satisfied: pytz>=2020.1 in /usr/local/lib/python3.9/dist-packages (from pandas>=0.24.0->catboost) (2022.7.1)\n",
            "Requirement already satisfied: python-dateutil>=2.8.1 in /usr/local/lib/python3.9/dist-packages (from pandas>=0.24.0->catboost) (2.8.2)\n",
            "Requirement already satisfied: packaging>=20.0 in /usr/local/lib/python3.9/dist-packages (from matplotlib->catboost) (23.0)\n",
            "Requirement already satisfied: pillow>=6.2.0 in /usr/local/lib/python3.9/dist-packages (from matplotlib->catboost) (8.4.0)\n",
            "Requirement already satisfied: importlib-resources>=3.2.0 in /usr/local/lib/python3.9/dist-packages (from matplotlib->catboost) (5.12.0)\n",
            "Requirement already satisfied: kiwisolver>=1.0.1 in /usr/local/lib/python3.9/dist-packages (from matplotlib->catboost) (1.4.4)\n",
            "Requirement already satisfied: pyparsing>=2.3.1 in /usr/local/lib/python3.9/dist-packages (from matplotlib->catboost) (3.0.9)\n",
            "Requirement already satisfied: cycler>=0.10 in /usr/local/lib/python3.9/dist-packages (from matplotlib->catboost) (0.11.0)\n",
            "Requirement already satisfied: fonttools>=4.22.0 in /usr/local/lib/python3.9/dist-packages (from matplotlib->catboost) (4.39.3)\n",
            "Requirement already satisfied: contourpy>=1.0.1 in /usr/local/lib/python3.9/dist-packages (from matplotlib->catboost) (1.0.7)\n",
            "Requirement already satisfied: tenacity>=6.2.0 in /usr/local/lib/python3.9/dist-packages (from plotly->catboost) (8.2.2)\n",
            "Requirement already satisfied: zipp>=3.1.0 in /usr/local/lib/python3.9/dist-packages (from importlib-resources>=3.2.0->matplotlib->catboost) (3.15.0)\n",
            "Installing collected packages: catboost\n",
            "Successfully installed catboost-1.1.1\n"
          ]
        }
      ]
    },
    {
      "cell_type": "code",
      "execution_count": 45,
      "metadata": {
        "id": "JlK4PlKHqZLX"
      },
      "outputs": [],
      "source": [
        "from catboost import CatBoostClassifier, Pool"
      ]
    },
    {
      "cell_type": "code",
      "execution_count": 46,
      "metadata": {
        "colab": {
          "base_uri": "https://localhost:8080/"
        },
        "id": "YBcy6lXbqZLX",
        "outputId": "afabf2ea-1d3d-4960-938b-d109e41dfaf1"
      },
      "outputs": [
        {
          "output_type": "stream",
          "name": "stdout",
          "text": [
            "-2 TripType int64\n",
            "-1 VisitNumber int64\n",
            "0 Weekday object\n",
            "1 Category_0 object\n",
            "2 Category_1 object\n",
            "3 Category_2 object\n",
            "4 Category_3 object\n",
            "5 Fineline_0 object\n",
            "6 Fineline_1 object\n",
            "7 Fineline_2 object\n",
            "8 Fineline_3 object\n",
            "9 Fineline_4 object\n",
            "10 Fineline_5 object\n",
            "11 #Unique_Department int64\n",
            "12 #Unique_Fineline int64\n",
            "13 #UniqueScanCount int64\n",
            "14 TotalScanCount int64\n",
            "15 is_Weekend object\n",
            "16 total_return float64\n"
          ]
        }
      ],
      "source": [
        "for i, col in enumerate(df.columns):\n",
        "    print(i-2, col, df[col].dtype)"
      ]
    },
    {
      "cell_type": "code",
      "execution_count": 47,
      "metadata": {
        "id": "4umTqRLXqZLX"
      },
      "outputs": [],
      "source": [
        "for col in df.columns:\n",
        "    if col.startswith('Category'):\n",
        "        df[col]=df[col].apply(str)\n",
        "    if col.startswith('Fineline'):\n",
        "        df[col]=df[col].apply(str)"
      ]
    },
    {
      "cell_type": "code",
      "execution_count": 48,
      "metadata": {
        "id": "cepdB-BXqZLX"
      },
      "outputs": [],
      "source": [
        "df.fillna('NaN', inplace=True)\n",
        "x_train, x_eval = train_test_split(df, test_size=0.1, random_state=10, shuffle=True)\n",
        "\n",
        "cat_features = [*list(range(10)), 15]\n",
        "\n",
        "data_train = Pool(x_train.drop(['TripType', 'VisitNumber'], axis=1), \n",
        "                  label=x_train.TripType,\n",
        "                  cat_features=cat_features)\n",
        "\n",
        "data_eval = Pool(x_eval.drop(['TripType', 'VisitNumber'], axis=1), \n",
        "                 label=x_eval.TripType,\n",
        "                 cat_features=cat_features)"
      ]
    },
    {
      "cell_type": "code",
      "execution_count": 52,
      "metadata": {
        "id": "VByGZ5JIqZLY"
      },
      "outputs": [],
      "source": [
        "ctb_params = {\n",
        "    'depth': 4,\n",
        "    'learning_rate': .3,\n",
        "    'l2_leaf_reg': 3,\n",
        "    'loss_function': 'MultiClass',\n",
        "    'verbose': 1,\n",
        "    'task_type': 'GPU',\n",
        "    'thread_count': 12,\n",
        "    'iterations': 100\n",
        "}"
      ]
    },
    {
      "cell_type": "code",
      "execution_count": 53,
      "metadata": {
        "colab": {
          "base_uri": "https://localhost:8080/"
        },
        "id": "Xy8ec6vqqZLY",
        "outputId": "bd349efa-6f92-4930-8c89-44bab4bd9e8b"
      },
      "outputs": [
        {
          "output_type": "stream",
          "name": "stdout",
          "text": [
            "0:\tlearn: 2.5555084\ttest: 2.5636329\tbest: 2.5636329 (0)\ttotal: 65.1ms\tremaining: 6.44s\n",
            "1:\tlearn: 2.1890952\ttest: 2.1747671\tbest: 2.1747671 (1)\ttotal: 146ms\tremaining: 7.16s\n",
            "2:\tlearn: 2.0382964\ttest: 2.0331047\tbest: 2.0331047 (2)\ttotal: 212ms\tremaining: 6.85s\n",
            "3:\tlearn: 1.9577975\ttest: 1.9558834\tbest: 1.9558834 (3)\ttotal: 290ms\tremaining: 6.96s\n",
            "4:\tlearn: 1.8606064\ttest: 1.8583096\tbest: 1.8583096 (4)\ttotal: 342ms\tremaining: 6.49s\n",
            "5:\tlearn: 1.8185712\ttest: 1.8193100\tbest: 1.8193100 (5)\ttotal: 393ms\tremaining: 6.15s\n",
            "6:\tlearn: 1.7635302\ttest: 1.7606036\tbest: 1.7606036 (6)\ttotal: 444ms\tremaining: 5.9s\n",
            "7:\tlearn: 1.7258602\ttest: 1.7259440\tbest: 1.7259440 (7)\ttotal: 495ms\tremaining: 5.69s\n",
            "8:\tlearn: 1.6856611\ttest: 1.6823111\tbest: 1.6823111 (8)\ttotal: 541ms\tremaining: 5.47s\n",
            "9:\tlearn: 1.6528957\ttest: 1.6491824\tbest: 1.6491824 (9)\ttotal: 591ms\tremaining: 5.32s\n",
            "10:\tlearn: 1.6201898\ttest: 1.6186951\tbest: 1.6186951 (10)\ttotal: 638ms\tremaining: 5.17s\n",
            "11:\tlearn: 1.6034748\ttest: 1.6041538\tbest: 1.6041538 (11)\ttotal: 717ms\tremaining: 5.26s\n",
            "12:\tlearn: 1.5795678\ttest: 1.5785951\tbest: 1.5785951 (12)\ttotal: 772ms\tremaining: 5.17s\n",
            "13:\tlearn: 1.5625479\ttest: 1.5650196\tbest: 1.5650196 (13)\ttotal: 819ms\tremaining: 5.03s\n",
            "14:\tlearn: 1.5503845\ttest: 1.5534582\tbest: 1.5534582 (14)\ttotal: 875ms\tremaining: 4.96s\n",
            "15:\tlearn: 1.5323442\ttest: 1.5306403\tbest: 1.5306403 (15)\ttotal: 923ms\tremaining: 4.84s\n",
            "16:\tlearn: 1.5105692\ttest: 1.5094525\tbest: 1.5094525 (16)\ttotal: 980ms\tremaining: 4.78s\n",
            "17:\tlearn: 1.4958892\ttest: 1.4959007\tbest: 1.4959007 (17)\ttotal: 1.03s\tremaining: 4.68s\n",
            "18:\tlearn: 1.4783826\ttest: 1.4800668\tbest: 1.4800668 (18)\ttotal: 1.07s\tremaining: 4.58s\n",
            "19:\tlearn: 1.4690341\ttest: 1.4705340\tbest: 1.4705340 (19)\ttotal: 1.13s\tremaining: 4.51s\n",
            "20:\tlearn: 1.4620446\ttest: 1.4646008\tbest: 1.4646008 (20)\ttotal: 1.18s\tremaining: 4.45s\n",
            "21:\tlearn: 1.4527512\ttest: 1.4565434\tbest: 1.4565434 (21)\ttotal: 1.24s\tremaining: 4.4s\n",
            "22:\tlearn: 1.4411724\ttest: 1.4468022\tbest: 1.4468022 (22)\ttotal: 1.29s\tremaining: 4.31s\n",
            "23:\tlearn: 1.4319852\ttest: 1.4379434\tbest: 1.4379434 (23)\ttotal: 1.33s\tremaining: 4.22s\n",
            "24:\tlearn: 1.4195340\ttest: 1.4262403\tbest: 1.4262403 (24)\ttotal: 1.38s\tremaining: 4.14s\n",
            "25:\tlearn: 1.4024588\ttest: 1.4079161\tbest: 1.4079161 (25)\ttotal: 1.43s\tremaining: 4.07s\n",
            "26:\tlearn: 1.3937117\ttest: 1.3983250\tbest: 1.3983250 (26)\ttotal: 1.48s\tremaining: 3.99s\n",
            "27:\tlearn: 1.3832134\ttest: 1.3885135\tbest: 1.3885135 (27)\ttotal: 1.52s\tremaining: 3.92s\n",
            "28:\tlearn: 1.3774979\ttest: 1.3841902\tbest: 1.3841902 (28)\ttotal: 1.57s\tremaining: 3.85s\n",
            "29:\tlearn: 1.3648362\ttest: 1.3725261\tbest: 1.3725261 (29)\ttotal: 1.62s\tremaining: 3.78s\n",
            "30:\tlearn: 1.3564517\ttest: 1.3638962\tbest: 1.3638962 (30)\ttotal: 1.67s\tremaining: 3.72s\n",
            "31:\tlearn: 1.3443419\ttest: 1.3495659\tbest: 1.3495659 (31)\ttotal: 1.72s\tremaining: 3.65s\n",
            "32:\tlearn: 1.3390577\ttest: 1.3446081\tbest: 1.3446081 (32)\ttotal: 1.76s\tremaining: 3.58s\n",
            "33:\tlearn: 1.3352040\ttest: 1.3416975\tbest: 1.3416975 (33)\ttotal: 1.82s\tremaining: 3.53s\n",
            "34:\tlearn: 1.3269780\ttest: 1.3347596\tbest: 1.3347596 (34)\ttotal: 1.88s\tremaining: 3.49s\n",
            "35:\tlearn: 1.3175599\ttest: 1.3247210\tbest: 1.3247210 (35)\ttotal: 1.93s\tremaining: 3.43s\n",
            "36:\tlearn: 1.3105594\ttest: 1.3177881\tbest: 1.3177881 (36)\ttotal: 1.98s\tremaining: 3.36s\n",
            "37:\tlearn: 1.2985352\ttest: 1.3061192\tbest: 1.3061192 (37)\ttotal: 2.03s\tremaining: 3.31s\n",
            "38:\tlearn: 1.2954267\ttest: 1.3035035\tbest: 1.3035035 (38)\ttotal: 2.07s\tremaining: 3.24s\n",
            "39:\tlearn: 1.2918082\ttest: 1.3009896\tbest: 1.3009896 (39)\ttotal: 2.13s\tremaining: 3.2s\n",
            "40:\tlearn: 1.2829072\ttest: 1.2914408\tbest: 1.2914408 (40)\ttotal: 2.19s\tremaining: 3.15s\n",
            "41:\tlearn: 1.2781982\ttest: 1.2869788\tbest: 1.2869788 (41)\ttotal: 2.24s\tremaining: 3.1s\n",
            "42:\tlearn: 1.2737809\ttest: 1.2834400\tbest: 1.2834400 (42)\ttotal: 2.29s\tremaining: 3.03s\n",
            "43:\tlearn: 1.2685842\ttest: 1.2786350\tbest: 1.2786350 (43)\ttotal: 2.33s\tremaining: 2.97s\n",
            "44:\tlearn: 1.2629012\ttest: 1.2736002\tbest: 1.2736002 (44)\ttotal: 2.39s\tremaining: 2.92s\n",
            "45:\tlearn: 1.2597324\ttest: 1.2707377\tbest: 1.2707377 (45)\ttotal: 2.44s\tremaining: 2.86s\n",
            "46:\tlearn: 1.2525204\ttest: 1.2641353\tbest: 1.2641353 (46)\ttotal: 2.49s\tremaining: 2.81s\n",
            "47:\tlearn: 1.2467703\ttest: 1.2599355\tbest: 1.2599355 (47)\ttotal: 2.54s\tremaining: 2.75s\n",
            "48:\tlearn: 1.2437154\ttest: 1.2569076\tbest: 1.2569076 (48)\ttotal: 2.58s\tremaining: 2.69s\n",
            "49:\tlearn: 1.2412236\ttest: 1.2554034\tbest: 1.2554034 (49)\ttotal: 2.63s\tremaining: 2.63s\n",
            "50:\tlearn: 1.2370674\ttest: 1.2527382\tbest: 1.2527382 (50)\ttotal: 2.69s\tremaining: 2.58s\n",
            "51:\tlearn: 1.2321414\ttest: 1.2476270\tbest: 1.2476270 (51)\ttotal: 2.74s\tremaining: 2.53s\n",
            "52:\tlearn: 1.2282556\ttest: 1.2427516\tbest: 1.2427516 (52)\ttotal: 2.79s\tremaining: 2.47s\n",
            "53:\tlearn: 1.2213102\ttest: 1.2359472\tbest: 1.2359472 (53)\ttotal: 2.83s\tremaining: 2.41s\n",
            "54:\tlearn: 1.2183620\ttest: 1.2329787\tbest: 1.2329787 (54)\ttotal: 2.88s\tremaining: 2.36s\n",
            "55:\tlearn: 1.2158218\ttest: 1.2305192\tbest: 1.2305192 (55)\ttotal: 2.94s\tremaining: 2.31s\n",
            "56:\tlearn: 1.2106628\ttest: 1.2243158\tbest: 1.2243158 (56)\ttotal: 2.98s\tremaining: 2.25s\n",
            "57:\tlearn: 1.2070769\ttest: 1.2221830\tbest: 1.2221830 (57)\ttotal: 3.03s\tremaining: 2.2s\n",
            "58:\tlearn: 1.2027290\ttest: 1.2180575\tbest: 1.2180575 (58)\ttotal: 3.08s\tremaining: 2.14s\n",
            "59:\tlearn: 1.1987450\ttest: 1.2147926\tbest: 1.2147926 (59)\ttotal: 3.14s\tremaining: 2.09s\n",
            "60:\tlearn: 1.1955405\ttest: 1.2120106\tbest: 1.2120106 (60)\ttotal: 3.19s\tremaining: 2.04s\n",
            "61:\tlearn: 1.1943575\ttest: 1.2115628\tbest: 1.2115628 (61)\ttotal: 3.23s\tremaining: 1.98s\n",
            "62:\tlearn: 1.1914239\ttest: 1.2088709\tbest: 1.2088709 (62)\ttotal: 3.28s\tremaining: 1.93s\n",
            "63:\tlearn: 1.1898132\ttest: 1.2082921\tbest: 1.2082921 (63)\ttotal: 3.32s\tremaining: 1.87s\n",
            "64:\tlearn: 1.1860946\ttest: 1.2049267\tbest: 1.2049267 (64)\ttotal: 3.37s\tremaining: 1.82s\n",
            "65:\tlearn: 1.1821668\ttest: 1.2014337\tbest: 1.2014337 (65)\ttotal: 3.42s\tremaining: 1.76s\n",
            "66:\tlearn: 1.1794962\ttest: 1.1992874\tbest: 1.1992874 (66)\ttotal: 3.46s\tremaining: 1.71s\n",
            "67:\tlearn: 1.1752114\ttest: 1.1947875\tbest: 1.1947875 (67)\ttotal: 3.51s\tremaining: 1.65s\n",
            "68:\tlearn: 1.1735857\ttest: 1.1930605\tbest: 1.1930605 (68)\ttotal: 3.57s\tremaining: 1.6s\n",
            "69:\tlearn: 1.1709663\ttest: 1.1910318\tbest: 1.1910318 (69)\ttotal: 3.62s\tremaining: 1.55s\n",
            "70:\tlearn: 1.1693917\ttest: 1.1900530\tbest: 1.1900530 (70)\ttotal: 3.67s\tremaining: 1.5s\n",
            "71:\tlearn: 1.1654046\ttest: 1.1875308\tbest: 1.1875308 (71)\ttotal: 3.72s\tremaining: 1.45s\n",
            "72:\tlearn: 1.1638069\ttest: 1.1864971\tbest: 1.1864971 (72)\ttotal: 3.77s\tremaining: 1.39s\n",
            "73:\tlearn: 1.1606445\ttest: 1.1842791\tbest: 1.1842791 (73)\ttotal: 3.81s\tremaining: 1.34s\n",
            "74:\tlearn: 1.1595103\ttest: 1.1832865\tbest: 1.1832865 (74)\ttotal: 3.86s\tremaining: 1.29s\n",
            "75:\tlearn: 1.1563006\ttest: 1.1801775\tbest: 1.1801775 (75)\ttotal: 3.91s\tremaining: 1.24s\n",
            "76:\tlearn: 1.1555440\ttest: 1.1796843\tbest: 1.1796843 (76)\ttotal: 3.98s\tremaining: 1.19s\n",
            "77:\tlearn: 1.1543538\ttest: 1.1794552\tbest: 1.1794552 (77)\ttotal: 4.03s\tremaining: 1.14s\n",
            "78:\tlearn: 1.1511619\ttest: 1.1759595\tbest: 1.1759595 (78)\ttotal: 4.08s\tremaining: 1.08s\n",
            "79:\tlearn: 1.1488794\ttest: 1.1745281\tbest: 1.1745281 (79)\ttotal: 4.14s\tremaining: 1.03s\n",
            "80:\tlearn: 1.1444625\ttest: 1.1704256\tbest: 1.1704256 (80)\ttotal: 4.19s\tremaining: 983ms\n",
            "81:\tlearn: 1.1412535\ttest: 1.1679982\tbest: 1.1679982 (81)\ttotal: 4.24s\tremaining: 930ms\n",
            "82:\tlearn: 1.1395614\ttest: 1.1672001\tbest: 1.1672001 (82)\ttotal: 4.29s\tremaining: 878ms\n",
            "83:\tlearn: 1.1379415\ttest: 1.1657881\tbest: 1.1657881 (83)\ttotal: 4.33s\tremaining: 826ms\n",
            "84:\tlearn: 1.1366099\ttest: 1.1649974\tbest: 1.1649974 (84)\ttotal: 4.39s\tremaining: 775ms\n",
            "85:\tlearn: 1.1330911\ttest: 1.1611259\tbest: 1.1611259 (85)\ttotal: 4.46s\tremaining: 726ms\n",
            "86:\tlearn: 1.1318968\ttest: 1.1601989\tbest: 1.1601989 (86)\ttotal: 4.52s\tremaining: 675ms\n",
            "87:\tlearn: 1.1298029\ttest: 1.1591109\tbest: 1.1591109 (87)\ttotal: 4.6s\tremaining: 627ms\n",
            "88:\tlearn: 1.1271337\ttest: 1.1571764\tbest: 1.1571764 (88)\ttotal: 4.69s\tremaining: 580ms\n",
            "89:\tlearn: 1.1247852\ttest: 1.1550304\tbest: 1.1550304 (89)\ttotal: 4.77s\tremaining: 530ms\n",
            "90:\tlearn: 1.1235293\ttest: 1.1542749\tbest: 1.1542749 (90)\ttotal: 4.88s\tremaining: 483ms\n",
            "91:\tlearn: 1.1229675\ttest: 1.1536742\tbest: 1.1536742 (91)\ttotal: 5s\tremaining: 435ms\n",
            "92:\tlearn: 1.1216983\ttest: 1.1518198\tbest: 1.1518198 (92)\ttotal: 5.11s\tremaining: 385ms\n",
            "93:\tlearn: 1.1196586\ttest: 1.1494992\tbest: 1.1494992 (93)\ttotal: 5.23s\tremaining: 334ms\n",
            "94:\tlearn: 1.1186186\ttest: 1.1486012\tbest: 1.1486012 (94)\ttotal: 5.34s\tremaining: 281ms\n",
            "95:\tlearn: 1.1171090\ttest: 1.1477715\tbest: 1.1477715 (95)\ttotal: 5.46s\tremaining: 227ms\n",
            "96:\tlearn: 1.1151796\ttest: 1.1461069\tbest: 1.1461069 (96)\ttotal: 5.58s\tremaining: 172ms\n",
            "97:\tlearn: 1.1143701\ttest: 1.1457366\tbest: 1.1457366 (97)\ttotal: 5.69s\tremaining: 116ms\n",
            "98:\tlearn: 1.1112970\ttest: 1.1432094\tbest: 1.1432094 (98)\ttotal: 5.81s\tremaining: 58.7ms\n",
            "99:\tlearn: 1.1097024\ttest: 1.1422182\tbest: 1.1422182 (99)\ttotal: 5.92s\tremaining: 0us\n",
            "bestTest = 1.142218242\n",
            "bestIteration = 99\n"
          ]
        },
        {
          "output_type": "execute_result",
          "data": {
            "text/plain": [
              "<catboost.core.CatBoostClassifier at 0x7f9b987108b0>"
            ]
          },
          "metadata": {},
          "execution_count": 53
        }
      ],
      "source": [
        "model = CatBoostClassifier(**ctb_params)\n",
        "model.fit(X = data_train, silent=False, eval_set=data_eval)"
      ]
    },
    {
      "cell_type": "code",
      "execution_count": 54,
      "metadata": {
        "colab": {
          "base_uri": "https://localhost:8080/"
        },
        "id": "f3Q6UiRgqZLY",
        "outputId": "443dfc5d-5d17-43a1-a7d7-5fa438670746"
      },
      "outputs": [
        {
          "output_type": "execute_result",
          "data": {
            "text/plain": [
              "99"
            ]
          },
          "metadata": {},
          "execution_count": 54
        }
      ],
      "source": [
        "model.best_iteration_"
      ]
    },
    {
      "cell_type": "code",
      "execution_count": 52,
      "metadata": {
        "id": "awlZl3dyqZLZ"
      },
      "outputs": [],
      "source": [
        "model.save_model('catboost_depth=4_lr=.3_l2=3')\n",
        "# model = CatBoostClassifier()\n",
        "# model = model.load_model('catboost_depth=6_lr=.03_l2=3')"
      ]
    },
    {
      "cell_type": "code",
      "source": [
        "model.get_params()"
      ],
      "metadata": {
        "id": "8kMa-2lbSwrY",
        "outputId": "4fa67e82-a0d2-4488-d666-a49ecadd0cee",
        "colab": {
          "base_uri": "https://localhost:8080/"
        }
      },
      "execution_count": 55,
      "outputs": [
        {
          "output_type": "execute_result",
          "data": {
            "text/plain": [
              "{'iterations': 100,\n",
              " 'learning_rate': 0.3,\n",
              " 'depth': 4,\n",
              " 'l2_leaf_reg': 3,\n",
              " 'loss_function': 'MultiClass',\n",
              " 'thread_count': 12,\n",
              " 'verbose': 1,\n",
              " 'task_type': 'GPU'}"
            ]
          },
          "metadata": {},
          "execution_count": 55
        }
      ]
    },
    {
      "cell_type": "code",
      "source": [
        "!unzip /content/archive.zip"
      ],
      "metadata": {
        "id": "IEGHGJosS0X0",
        "outputId": "35156c6f-380d-42bb-b0c5-70f59d6f7cd0",
        "colab": {
          "base_uri": "https://localhost:8080/"
        }
      },
      "execution_count": 59,
      "outputs": [
        {
          "output_type": "stream",
          "name": "stdout",
          "text": [
            "Archive:  /content/archive.zip\n",
            "  inflating: test.csv                \n"
          ]
        }
      ]
    },
    {
      "cell_type": "code",
      "source": [
        "test_kaggle = pd.read_csv('train.csv')"
      ],
      "metadata": {
        "id": "jqVSZtWsS0aH"
      },
      "execution_count": 60,
      "outputs": []
    },
    {
      "cell_type": "code",
      "source": [
        "test_kaggle.head()"
      ],
      "metadata": {
        "id": "cY5z-499S0cK",
        "outputId": "e381598d-e52d-43ef-ac1e-7f66c50823c4",
        "colab": {
          "base_uri": "https://localhost:8080/",
          "height": 206
        }
      },
      "execution_count": 61,
      "outputs": [
        {
          "output_type": "execute_result",
          "data": {
            "text/plain": [
              "   TripType  VisitNumber Weekday           Upc  ScanCount  \\\n",
              "0       999            5  Friday  6.811315e+10         -1   \n",
              "1        30            7  Friday  6.053882e+10          1   \n",
              "2        30            7  Friday  7.410811e+09          1   \n",
              "3        26            8  Friday  2.238404e+09          2   \n",
              "4        26            8  Friday  2.006614e+09          2   \n",
              "\n",
              "   DepartmentDescription  FinelineNumber  \n",
              "0     FINANCIAL SERVICES          1000.0  \n",
              "1                  SHOES          8931.0  \n",
              "2          PERSONAL CARE          4504.0  \n",
              "3  PAINT AND ACCESSORIES          3565.0  \n",
              "4  PAINT AND ACCESSORIES          1017.0  "
            ],
            "text/html": [
              "\n",
              "  <div id=\"df-7305ecd3-29d4-490a-b4d0-27b374e4d36d\">\n",
              "    <div class=\"colab-df-container\">\n",
              "      <div>\n",
              "<style scoped>\n",
              "    .dataframe tbody tr th:only-of-type {\n",
              "        vertical-align: middle;\n",
              "    }\n",
              "\n",
              "    .dataframe tbody tr th {\n",
              "        vertical-align: top;\n",
              "    }\n",
              "\n",
              "    .dataframe thead th {\n",
              "        text-align: right;\n",
              "    }\n",
              "</style>\n",
              "<table border=\"1\" class=\"dataframe\">\n",
              "  <thead>\n",
              "    <tr style=\"text-align: right;\">\n",
              "      <th></th>\n",
              "      <th>TripType</th>\n",
              "      <th>VisitNumber</th>\n",
              "      <th>Weekday</th>\n",
              "      <th>Upc</th>\n",
              "      <th>ScanCount</th>\n",
              "      <th>DepartmentDescription</th>\n",
              "      <th>FinelineNumber</th>\n",
              "    </tr>\n",
              "  </thead>\n",
              "  <tbody>\n",
              "    <tr>\n",
              "      <th>0</th>\n",
              "      <td>999</td>\n",
              "      <td>5</td>\n",
              "      <td>Friday</td>\n",
              "      <td>6.811315e+10</td>\n",
              "      <td>-1</td>\n",
              "      <td>FINANCIAL SERVICES</td>\n",
              "      <td>1000.0</td>\n",
              "    </tr>\n",
              "    <tr>\n",
              "      <th>1</th>\n",
              "      <td>30</td>\n",
              "      <td>7</td>\n",
              "      <td>Friday</td>\n",
              "      <td>6.053882e+10</td>\n",
              "      <td>1</td>\n",
              "      <td>SHOES</td>\n",
              "      <td>8931.0</td>\n",
              "    </tr>\n",
              "    <tr>\n",
              "      <th>2</th>\n",
              "      <td>30</td>\n",
              "      <td>7</td>\n",
              "      <td>Friday</td>\n",
              "      <td>7.410811e+09</td>\n",
              "      <td>1</td>\n",
              "      <td>PERSONAL CARE</td>\n",
              "      <td>4504.0</td>\n",
              "    </tr>\n",
              "    <tr>\n",
              "      <th>3</th>\n",
              "      <td>26</td>\n",
              "      <td>8</td>\n",
              "      <td>Friday</td>\n",
              "      <td>2.238404e+09</td>\n",
              "      <td>2</td>\n",
              "      <td>PAINT AND ACCESSORIES</td>\n",
              "      <td>3565.0</td>\n",
              "    </tr>\n",
              "    <tr>\n",
              "      <th>4</th>\n",
              "      <td>26</td>\n",
              "      <td>8</td>\n",
              "      <td>Friday</td>\n",
              "      <td>2.006614e+09</td>\n",
              "      <td>2</td>\n",
              "      <td>PAINT AND ACCESSORIES</td>\n",
              "      <td>1017.0</td>\n",
              "    </tr>\n",
              "  </tbody>\n",
              "</table>\n",
              "</div>\n",
              "      <button class=\"colab-df-convert\" onclick=\"convertToInteractive('df-7305ecd3-29d4-490a-b4d0-27b374e4d36d')\"\n",
              "              title=\"Convert this dataframe to an interactive table.\"\n",
              "              style=\"display:none;\">\n",
              "        \n",
              "  <svg xmlns=\"http://www.w3.org/2000/svg\" height=\"24px\"viewBox=\"0 0 24 24\"\n",
              "       width=\"24px\">\n",
              "    <path d=\"M0 0h24v24H0V0z\" fill=\"none\"/>\n",
              "    <path d=\"M18.56 5.44l.94 2.06.94-2.06 2.06-.94-2.06-.94-.94-2.06-.94 2.06-2.06.94zm-11 1L8.5 8.5l.94-2.06 2.06-.94-2.06-.94L8.5 2.5l-.94 2.06-2.06.94zm10 10l.94 2.06.94-2.06 2.06-.94-2.06-.94-.94-2.06-.94 2.06-2.06.94z\"/><path d=\"M17.41 7.96l-1.37-1.37c-.4-.4-.92-.59-1.43-.59-.52 0-1.04.2-1.43.59L10.3 9.45l-7.72 7.72c-.78.78-.78 2.05 0 2.83L4 21.41c.39.39.9.59 1.41.59.51 0 1.02-.2 1.41-.59l7.78-7.78 2.81-2.81c.8-.78.8-2.07 0-2.86zM5.41 20L4 18.59l7.72-7.72 1.47 1.35L5.41 20z\"/>\n",
              "  </svg>\n",
              "      </button>\n",
              "      \n",
              "  <style>\n",
              "    .colab-df-container {\n",
              "      display:flex;\n",
              "      flex-wrap:wrap;\n",
              "      gap: 12px;\n",
              "    }\n",
              "\n",
              "    .colab-df-convert {\n",
              "      background-color: #E8F0FE;\n",
              "      border: none;\n",
              "      border-radius: 50%;\n",
              "      cursor: pointer;\n",
              "      display: none;\n",
              "      fill: #1967D2;\n",
              "      height: 32px;\n",
              "      padding: 0 0 0 0;\n",
              "      width: 32px;\n",
              "    }\n",
              "\n",
              "    .colab-df-convert:hover {\n",
              "      background-color: #E2EBFA;\n",
              "      box-shadow: 0px 1px 2px rgba(60, 64, 67, 0.3), 0px 1px 3px 1px rgba(60, 64, 67, 0.15);\n",
              "      fill: #174EA6;\n",
              "    }\n",
              "\n",
              "    [theme=dark] .colab-df-convert {\n",
              "      background-color: #3B4455;\n",
              "      fill: #D2E3FC;\n",
              "    }\n",
              "\n",
              "    [theme=dark] .colab-df-convert:hover {\n",
              "      background-color: #434B5C;\n",
              "      box-shadow: 0px 1px 3px 1px rgba(0, 0, 0, 0.15);\n",
              "      filter: drop-shadow(0px 1px 2px rgba(0, 0, 0, 0.3));\n",
              "      fill: #FFFFFF;\n",
              "    }\n",
              "  </style>\n",
              "\n",
              "      <script>\n",
              "        const buttonEl =\n",
              "          document.querySelector('#df-7305ecd3-29d4-490a-b4d0-27b374e4d36d button.colab-df-convert');\n",
              "        buttonEl.style.display =\n",
              "          google.colab.kernel.accessAllowed ? 'block' : 'none';\n",
              "\n",
              "        async function convertToInteractive(key) {\n",
              "          const element = document.querySelector('#df-7305ecd3-29d4-490a-b4d0-27b374e4d36d');\n",
              "          const dataTable =\n",
              "            await google.colab.kernel.invokeFunction('convertToInteractive',\n",
              "                                                     [key], {});\n",
              "          if (!dataTable) return;\n",
              "\n",
              "          const docLinkHtml = 'Like what you see? Visit the ' +\n",
              "            '<a target=\"_blank\" href=https://colab.research.google.com/notebooks/data_table.ipynb>data table notebook</a>'\n",
              "            + ' to learn more about interactive tables.';\n",
              "          element.innerHTML = '';\n",
              "          dataTable['output_type'] = 'display_data';\n",
              "          await google.colab.output.renderOutput(dataTable, element);\n",
              "          const docLink = document.createElement('div');\n",
              "          docLink.innerHTML = docLinkHtml;\n",
              "          element.appendChild(docLink);\n",
              "        }\n",
              "      </script>\n",
              "    </div>\n",
              "  </div>\n",
              "  "
            ]
          },
          "metadata": {},
          "execution_count": 61
        }
      ]
    },
    {
      "cell_type": "code",
      "source": [
        "df_test = test_kaggle.copy()"
      ],
      "metadata": {
        "id": "7U9xxFgaUI_b"
      },
      "execution_count": 62,
      "outputs": []
    },
    {
      "cell_type": "code",
      "source": [
        "df_test = generate_features(df_test)"
      ],
      "metadata": {
        "id": "vGvGJIVKUMNB"
      },
      "execution_count": 63,
      "outputs": []
    },
    {
      "cell_type": "code",
      "source": [
        "for col in df_test.columns:\n",
        "    if col.startswith('Category'):\n",
        "        df_test[col]=df_test[col].apply(str)\n",
        "    if col.startswith('Fineline'):\n",
        "        df_test[col]=df_test[col].apply(str)"
      ],
      "metadata": {
        "id": "OLWv_HGHUMPT"
      },
      "execution_count": 64,
      "outputs": []
    },
    {
      "cell_type": "code",
      "source": [
        "df_test.fillna('NaN', inplace=True)\n",
        "\n",
        "cat_features = [*list(range(10)), 15]\n",
        "\n",
        "data_test = Pool(df_test.drop(['TripType', 'VisitNumber'], axis=1), \n",
        "                  label=df_test.TripType,\n",
        "                  cat_features=cat_features)"
      ],
      "metadata": {
        "id": "txevqX3sUMTI"
      },
      "execution_count": 66,
      "outputs": []
    },
    {
      "cell_type": "code",
      "source": [
        "test_predict = model.predict(data_test,prediction_type = 'Probability', verbose=1)"
      ],
      "metadata": {
        "id": "yz7rXWZkVNIt"
      },
      "execution_count": 78,
      "outputs": []
    },
    {
      "cell_type": "code",
      "source": [
        "test_predict"
      ],
      "metadata": {
        "id": "68JPN4tPWC8U",
        "outputId": "060e7278-6df8-4b0d-b587-33bfb8d7038a",
        "colab": {
          "base_uri": "https://localhost:8080/"
        }
      },
      "execution_count": 79,
      "outputs": [
        {
          "output_type": "execute_result",
          "data": {
            "text/plain": [
              "array([[1.08283851e-05, 8.45588919e-08, 1.21743033e-07, ...,\n",
              "        1.16249886e-10, 2.47070339e-11, 9.99987037e-01],\n",
              "       [9.49101294e-04, 2.23350369e-04, 3.04497428e-03, ...,\n",
              "        1.28380464e-04, 1.48793232e-05, 3.80846938e-02],\n",
              "       [1.90507323e-05, 5.50044809e-05, 1.08659920e-03, ...,\n",
              "        5.05949625e-03, 9.52275756e-02, 1.61751496e-03],\n",
              "       ...,\n",
              "       [7.95370040e-06, 1.78445466e-04, 1.18103541e-03, ...,\n",
              "        1.13683591e-03, 4.58363852e-03, 1.57948797e-04],\n",
              "       [2.14421983e-06, 3.41784508e-05, 7.11869686e-04, ...,\n",
              "        5.20813919e-04, 1.55300703e-03, 7.66995511e-05],\n",
              "       [8.67976062e-04, 4.56990317e-05, 1.19309846e-03, ...,\n",
              "        1.34826995e-06, 6.27667805e-07, 6.07379648e-02]])"
            ]
          },
          "metadata": {},
          "execution_count": 79
        }
      ]
    },
    {
      "cell_type": "code",
      "source": [
        "submiss = pd.DataFrame(test_predict)"
      ],
      "metadata": {
        "id": "xfVPFN1mWC-a"
      },
      "execution_count": 69,
      "outputs": []
    },
    {
      "cell_type": "code",
      "source": [
        "submiss.head()"
      ],
      "metadata": {
        "id": "qU3yRHTsWq_Z",
        "outputId": "82b99325-2118-4db7-ed3d-59948d359356",
        "colab": {
          "base_uri": "https://localhost:8080/",
          "height": 206
        }
      },
      "execution_count": 70,
      "outputs": [
        {
          "output_type": "execute_result",
          "data": {
            "text/plain": [
              "     0\n",
              "0  999\n",
              "1    9\n",
              "2   40\n",
              "3    8\n",
              "4    8"
            ],
            "text/html": [
              "\n",
              "  <div id=\"df-beeefa70-5178-450a-a426-1edee94ec87e\">\n",
              "    <div class=\"colab-df-container\">\n",
              "      <div>\n",
              "<style scoped>\n",
              "    .dataframe tbody tr th:only-of-type {\n",
              "        vertical-align: middle;\n",
              "    }\n",
              "\n",
              "    .dataframe tbody tr th {\n",
              "        vertical-align: top;\n",
              "    }\n",
              "\n",
              "    .dataframe thead th {\n",
              "        text-align: right;\n",
              "    }\n",
              "</style>\n",
              "<table border=\"1\" class=\"dataframe\">\n",
              "  <thead>\n",
              "    <tr style=\"text-align: right;\">\n",
              "      <th></th>\n",
              "      <th>0</th>\n",
              "    </tr>\n",
              "  </thead>\n",
              "  <tbody>\n",
              "    <tr>\n",
              "      <th>0</th>\n",
              "      <td>999</td>\n",
              "    </tr>\n",
              "    <tr>\n",
              "      <th>1</th>\n",
              "      <td>9</td>\n",
              "    </tr>\n",
              "    <tr>\n",
              "      <th>2</th>\n",
              "      <td>40</td>\n",
              "    </tr>\n",
              "    <tr>\n",
              "      <th>3</th>\n",
              "      <td>8</td>\n",
              "    </tr>\n",
              "    <tr>\n",
              "      <th>4</th>\n",
              "      <td>8</td>\n",
              "    </tr>\n",
              "  </tbody>\n",
              "</table>\n",
              "</div>\n",
              "      <button class=\"colab-df-convert\" onclick=\"convertToInteractive('df-beeefa70-5178-450a-a426-1edee94ec87e')\"\n",
              "              title=\"Convert this dataframe to an interactive table.\"\n",
              "              style=\"display:none;\">\n",
              "        \n",
              "  <svg xmlns=\"http://www.w3.org/2000/svg\" height=\"24px\"viewBox=\"0 0 24 24\"\n",
              "       width=\"24px\">\n",
              "    <path d=\"M0 0h24v24H0V0z\" fill=\"none\"/>\n",
              "    <path d=\"M18.56 5.44l.94 2.06.94-2.06 2.06-.94-2.06-.94-.94-2.06-.94 2.06-2.06.94zm-11 1L8.5 8.5l.94-2.06 2.06-.94-2.06-.94L8.5 2.5l-.94 2.06-2.06.94zm10 10l.94 2.06.94-2.06 2.06-.94-2.06-.94-.94-2.06-.94 2.06-2.06.94z\"/><path d=\"M17.41 7.96l-1.37-1.37c-.4-.4-.92-.59-1.43-.59-.52 0-1.04.2-1.43.59L10.3 9.45l-7.72 7.72c-.78.78-.78 2.05 0 2.83L4 21.41c.39.39.9.59 1.41.59.51 0 1.02-.2 1.41-.59l7.78-7.78 2.81-2.81c.8-.78.8-2.07 0-2.86zM5.41 20L4 18.59l7.72-7.72 1.47 1.35L5.41 20z\"/>\n",
              "  </svg>\n",
              "      </button>\n",
              "      \n",
              "  <style>\n",
              "    .colab-df-container {\n",
              "      display:flex;\n",
              "      flex-wrap:wrap;\n",
              "      gap: 12px;\n",
              "    }\n",
              "\n",
              "    .colab-df-convert {\n",
              "      background-color: #E8F0FE;\n",
              "      border: none;\n",
              "      border-radius: 50%;\n",
              "      cursor: pointer;\n",
              "      display: none;\n",
              "      fill: #1967D2;\n",
              "      height: 32px;\n",
              "      padding: 0 0 0 0;\n",
              "      width: 32px;\n",
              "    }\n",
              "\n",
              "    .colab-df-convert:hover {\n",
              "      background-color: #E2EBFA;\n",
              "      box-shadow: 0px 1px 2px rgba(60, 64, 67, 0.3), 0px 1px 3px 1px rgba(60, 64, 67, 0.15);\n",
              "      fill: #174EA6;\n",
              "    }\n",
              "\n",
              "    [theme=dark] .colab-df-convert {\n",
              "      background-color: #3B4455;\n",
              "      fill: #D2E3FC;\n",
              "    }\n",
              "\n",
              "    [theme=dark] .colab-df-convert:hover {\n",
              "      background-color: #434B5C;\n",
              "      box-shadow: 0px 1px 3px 1px rgba(0, 0, 0, 0.15);\n",
              "      filter: drop-shadow(0px 1px 2px rgba(0, 0, 0, 0.3));\n",
              "      fill: #FFFFFF;\n",
              "    }\n",
              "  </style>\n",
              "\n",
              "      <script>\n",
              "        const buttonEl =\n",
              "          document.querySelector('#df-beeefa70-5178-450a-a426-1edee94ec87e button.colab-df-convert');\n",
              "        buttonEl.style.display =\n",
              "          google.colab.kernel.accessAllowed ? 'block' : 'none';\n",
              "\n",
              "        async function convertToInteractive(key) {\n",
              "          const element = document.querySelector('#df-beeefa70-5178-450a-a426-1edee94ec87e');\n",
              "          const dataTable =\n",
              "            await google.colab.kernel.invokeFunction('convertToInteractive',\n",
              "                                                     [key], {});\n",
              "          if (!dataTable) return;\n",
              "\n",
              "          const docLinkHtml = 'Like what you see? Visit the ' +\n",
              "            '<a target=\"_blank\" href=https://colab.research.google.com/notebooks/data_table.ipynb>data table notebook</a>'\n",
              "            + ' to learn more about interactive tables.';\n",
              "          element.innerHTML = '';\n",
              "          dataTable['output_type'] = 'display_data';\n",
              "          await google.colab.output.renderOutput(dataTable, element);\n",
              "          const docLink = document.createElement('div');\n",
              "          docLink.innerHTML = docLinkHtml;\n",
              "          element.appendChild(docLink);\n",
              "        }\n",
              "      </script>\n",
              "    </div>\n",
              "  </div>\n",
              "  "
            ]
          },
          "metadata": {},
          "execution_count": 70
        }
      ]
    },
    {
      "cell_type": "code",
      "source": [
        "submiss.to_csv('/content/submiss.csv', index= False)"
      ],
      "metadata": {
        "id": "eTf9Vlf_WDBG"
      },
      "execution_count": 71,
      "outputs": []
    },
    {
      "cell_type": "code",
      "source": [
        "!kaggle competitions submit -c walmart-recruiting-trip-type-classification -f submiss.csv -m \"Catboost\""
      ],
      "metadata": {
        "id": "1s7smkqmW_eZ",
        "outputId": "893ea054-e2b8-49fe-f468-bb2c516782ee",
        "colab": {
          "base_uri": "https://localhost:8080/"
        }
      },
      "execution_count": 73,
      "outputs": [
        {
          "output_type": "stream",
          "name": "stdout",
          "text": [
            "100% 247k/247k [00:01<00:00, 147kB/s]\n",
            "Successfully submitted to Walmart Recruiting: Trip Type Classification"
          ]
        }
      ]
    },
    {
      "cell_type": "code",
      "source": [
        "!unzip /content/sample_submission.csv.zip"
      ],
      "metadata": {
        "id": "WqBQvaNpYd-i",
        "outputId": "0bf916fd-256f-49bc-d0a3-5543555761dc",
        "colab": {
          "base_uri": "https://localhost:8080/"
        }
      },
      "execution_count": 75,
      "outputs": [
        {
          "output_type": "stream",
          "name": "stdout",
          "text": [
            "Archive:  /content/sample_submission.csv.zip\n",
            "  inflating: sample_submission.csv   \n"
          ]
        }
      ]
    },
    {
      "cell_type": "code",
      "source": [
        "sample_sub = pd.read_csv(\"/content/sample_submission.csv\")"
      ],
      "metadata": {
        "id": "CHwnuCa2YUfp"
      },
      "execution_count": 76,
      "outputs": []
    },
    {
      "cell_type": "code",
      "source": [
        "sample_sub.shape"
      ],
      "metadata": {
        "id": "FLqnG2lzYUiL",
        "outputId": "9c1bb3a7-9e31-43ad-e75b-c2cf1f761d24",
        "colab": {
          "base_uri": "https://localhost:8080/"
        }
      },
      "execution_count": 80,
      "outputs": [
        {
          "output_type": "execute_result",
          "data": {
            "text/plain": [
              "(95674, 39)"
            ]
          },
          "metadata": {},
          "execution_count": 80
        }
      ]
    },
    {
      "cell_type": "code",
      "source": [
        "df_test.shape"
      ],
      "metadata": {
        "id": "iKvBquYvYlhu",
        "outputId": "bd0323aa-6463-493d-ea0a-d9ea8df570bd",
        "colab": {
          "base_uri": "https://localhost:8080/"
        }
      },
      "execution_count": 81,
      "outputs": [
        {
          "output_type": "execute_result",
          "data": {
            "text/plain": [
              "(95674, 19)"
            ]
          },
          "metadata": {},
          "execution_count": 81
        }
      ]
    },
    {
      "cell_type": "code",
      "source": [
        "test_predict.shape"
      ],
      "metadata": {
        "id": "dBJiYnjiYlju",
        "outputId": "f4c07029-c2b2-4a12-ccbb-81c5f87096f1",
        "colab": {
          "base_uri": "https://localhost:8080/"
        }
      },
      "execution_count": 82,
      "outputs": [
        {
          "output_type": "execute_result",
          "data": {
            "text/plain": [
              "(95674, 38)"
            ]
          },
          "metadata": {},
          "execution_count": 82
        }
      ]
    },
    {
      "cell_type": "code",
      "source": [
        "for i, col in enumerate(sample_sub.columns):\n",
        "    if i == 0:\n",
        "      continue\n",
        "    sample_sub[col] = test_predict[:, i-1]"
      ],
      "metadata": {
        "id": "m40RttW0YlnG"
      },
      "execution_count": 84,
      "outputs": []
    },
    {
      "cell_type": "code",
      "source": [
        "sample_sub.head()"
      ],
      "metadata": {
        "id": "2PHrimKiYlo_",
        "outputId": "29531aef-7077-4f79-a480-2c90a5773f38",
        "colab": {
          "base_uri": "https://localhost:8080/",
          "height": 386
        }
      },
      "execution_count": 85,
      "outputs": [
        {
          "output_type": "execute_result",
          "data": {
            "text/plain": [
              "   VisitNumber  TripType_3    TripType_4    TripType_5    TripType_6  \\\n",
              "0            1    0.000011  8.455889e-08  1.217430e-07  1.132820e-07   \n",
              "1            2    0.000949  2.233504e-04  3.044974e-03  8.703017e-04   \n",
              "2            3    0.000019  5.500448e-05  1.086599e-03  1.817009e-04   \n",
              "3            4    0.001583  4.834772e-04  7.965698e-03  2.908007e-03   \n",
              "4            6    0.017654  2.385712e-03  2.158634e-02  5.858851e-02   \n",
              "\n",
              "     TripType_7    TripType_8  TripType_9   TripType_12   TripType_14  ...  \\\n",
              "0  3.884909e-08  3.306717e-08    0.000002  1.053666e-09  1.413639e-11  ...   \n",
              "1  3.746017e-03  1.367184e-01    0.486253  1.043011e-03  8.249309e-06  ...   \n",
              "2  5.912395e-03  1.355918e-04    0.000150  8.474928e-03  2.126918e-04  ...   \n",
              "3  8.344714e-02  7.460161e-01    0.019068  8.638728e-05  3.951001e-07  ...   \n",
              "4  1.076626e-01  6.553809e-01    0.048040  1.121486e-03  2.134325e-06  ...   \n",
              "\n",
              "    TripType_36   TripType_37   TripType_38   TripType_39   TripType_40  \\\n",
              "0  4.120416e-09  2.336399e-09  3.987810e-09  2.390396e-09  1.031765e-09   \n",
              "1  6.875576e-03  5.104628e-04  5.211444e-04  8.562347e-04  4.514711e-05   \n",
              "2  7.689246e-03  1.073001e-01  1.605603e-02  1.838280e-02  3.343054e-01   \n",
              "3  2.537088e-03  1.098312e-01  3.830900e-04  1.680755e-04  1.532509e-04   \n",
              "4  3.008653e-03  2.743115e-03  2.057041e-03  7.979766e-04  8.487347e-04   \n",
              "\n",
              "    TripType_41   TripType_42   TripType_43   TripType_44  TripType_999  \n",
              "0  4.857794e-10  1.206332e-08  1.162499e-10  2.470703e-11      0.999987  \n",
              "1  4.346037e-04  5.027426e-04  1.283805e-04  1.487932e-05      0.038085  \n",
              "2  2.105899e-02  7.895366e-02  5.059496e-03  9.522758e-02      0.001618  \n",
              "3  1.030469e-05  1.881137e-04  5.592591e-06  1.368131e-06      0.008722  \n",
              "4  1.840190e-04  4.003282e-04  1.314684e-04  1.956199e-05      0.006239  \n",
              "\n",
              "[5 rows x 39 columns]"
            ],
            "text/html": [
              "\n",
              "  <div id=\"df-e1ca4bdf-c93d-423a-b1bc-a941184583a7\">\n",
              "    <div class=\"colab-df-container\">\n",
              "      <div>\n",
              "<style scoped>\n",
              "    .dataframe tbody tr th:only-of-type {\n",
              "        vertical-align: middle;\n",
              "    }\n",
              "\n",
              "    .dataframe tbody tr th {\n",
              "        vertical-align: top;\n",
              "    }\n",
              "\n",
              "    .dataframe thead th {\n",
              "        text-align: right;\n",
              "    }\n",
              "</style>\n",
              "<table border=\"1\" class=\"dataframe\">\n",
              "  <thead>\n",
              "    <tr style=\"text-align: right;\">\n",
              "      <th></th>\n",
              "      <th>VisitNumber</th>\n",
              "      <th>TripType_3</th>\n",
              "      <th>TripType_4</th>\n",
              "      <th>TripType_5</th>\n",
              "      <th>TripType_6</th>\n",
              "      <th>TripType_7</th>\n",
              "      <th>TripType_8</th>\n",
              "      <th>TripType_9</th>\n",
              "      <th>TripType_12</th>\n",
              "      <th>TripType_14</th>\n",
              "      <th>...</th>\n",
              "      <th>TripType_36</th>\n",
              "      <th>TripType_37</th>\n",
              "      <th>TripType_38</th>\n",
              "      <th>TripType_39</th>\n",
              "      <th>TripType_40</th>\n",
              "      <th>TripType_41</th>\n",
              "      <th>TripType_42</th>\n",
              "      <th>TripType_43</th>\n",
              "      <th>TripType_44</th>\n",
              "      <th>TripType_999</th>\n",
              "    </tr>\n",
              "  </thead>\n",
              "  <tbody>\n",
              "    <tr>\n",
              "      <th>0</th>\n",
              "      <td>1</td>\n",
              "      <td>0.000011</td>\n",
              "      <td>8.455889e-08</td>\n",
              "      <td>1.217430e-07</td>\n",
              "      <td>1.132820e-07</td>\n",
              "      <td>3.884909e-08</td>\n",
              "      <td>3.306717e-08</td>\n",
              "      <td>0.000002</td>\n",
              "      <td>1.053666e-09</td>\n",
              "      <td>1.413639e-11</td>\n",
              "      <td>...</td>\n",
              "      <td>4.120416e-09</td>\n",
              "      <td>2.336399e-09</td>\n",
              "      <td>3.987810e-09</td>\n",
              "      <td>2.390396e-09</td>\n",
              "      <td>1.031765e-09</td>\n",
              "      <td>4.857794e-10</td>\n",
              "      <td>1.206332e-08</td>\n",
              "      <td>1.162499e-10</td>\n",
              "      <td>2.470703e-11</td>\n",
              "      <td>0.999987</td>\n",
              "    </tr>\n",
              "    <tr>\n",
              "      <th>1</th>\n",
              "      <td>2</td>\n",
              "      <td>0.000949</td>\n",
              "      <td>2.233504e-04</td>\n",
              "      <td>3.044974e-03</td>\n",
              "      <td>8.703017e-04</td>\n",
              "      <td>3.746017e-03</td>\n",
              "      <td>1.367184e-01</td>\n",
              "      <td>0.486253</td>\n",
              "      <td>1.043011e-03</td>\n",
              "      <td>8.249309e-06</td>\n",
              "      <td>...</td>\n",
              "      <td>6.875576e-03</td>\n",
              "      <td>5.104628e-04</td>\n",
              "      <td>5.211444e-04</td>\n",
              "      <td>8.562347e-04</td>\n",
              "      <td>4.514711e-05</td>\n",
              "      <td>4.346037e-04</td>\n",
              "      <td>5.027426e-04</td>\n",
              "      <td>1.283805e-04</td>\n",
              "      <td>1.487932e-05</td>\n",
              "      <td>0.038085</td>\n",
              "    </tr>\n",
              "    <tr>\n",
              "      <th>2</th>\n",
              "      <td>3</td>\n",
              "      <td>0.000019</td>\n",
              "      <td>5.500448e-05</td>\n",
              "      <td>1.086599e-03</td>\n",
              "      <td>1.817009e-04</td>\n",
              "      <td>5.912395e-03</td>\n",
              "      <td>1.355918e-04</td>\n",
              "      <td>0.000150</td>\n",
              "      <td>8.474928e-03</td>\n",
              "      <td>2.126918e-04</td>\n",
              "      <td>...</td>\n",
              "      <td>7.689246e-03</td>\n",
              "      <td>1.073001e-01</td>\n",
              "      <td>1.605603e-02</td>\n",
              "      <td>1.838280e-02</td>\n",
              "      <td>3.343054e-01</td>\n",
              "      <td>2.105899e-02</td>\n",
              "      <td>7.895366e-02</td>\n",
              "      <td>5.059496e-03</td>\n",
              "      <td>9.522758e-02</td>\n",
              "      <td>0.001618</td>\n",
              "    </tr>\n",
              "    <tr>\n",
              "      <th>3</th>\n",
              "      <td>4</td>\n",
              "      <td>0.001583</td>\n",
              "      <td>4.834772e-04</td>\n",
              "      <td>7.965698e-03</td>\n",
              "      <td>2.908007e-03</td>\n",
              "      <td>8.344714e-02</td>\n",
              "      <td>7.460161e-01</td>\n",
              "      <td>0.019068</td>\n",
              "      <td>8.638728e-05</td>\n",
              "      <td>3.951001e-07</td>\n",
              "      <td>...</td>\n",
              "      <td>2.537088e-03</td>\n",
              "      <td>1.098312e-01</td>\n",
              "      <td>3.830900e-04</td>\n",
              "      <td>1.680755e-04</td>\n",
              "      <td>1.532509e-04</td>\n",
              "      <td>1.030469e-05</td>\n",
              "      <td>1.881137e-04</td>\n",
              "      <td>5.592591e-06</td>\n",
              "      <td>1.368131e-06</td>\n",
              "      <td>0.008722</td>\n",
              "    </tr>\n",
              "    <tr>\n",
              "      <th>4</th>\n",
              "      <td>6</td>\n",
              "      <td>0.017654</td>\n",
              "      <td>2.385712e-03</td>\n",
              "      <td>2.158634e-02</td>\n",
              "      <td>5.858851e-02</td>\n",
              "      <td>1.076626e-01</td>\n",
              "      <td>6.553809e-01</td>\n",
              "      <td>0.048040</td>\n",
              "      <td>1.121486e-03</td>\n",
              "      <td>2.134325e-06</td>\n",
              "      <td>...</td>\n",
              "      <td>3.008653e-03</td>\n",
              "      <td>2.743115e-03</td>\n",
              "      <td>2.057041e-03</td>\n",
              "      <td>7.979766e-04</td>\n",
              "      <td>8.487347e-04</td>\n",
              "      <td>1.840190e-04</td>\n",
              "      <td>4.003282e-04</td>\n",
              "      <td>1.314684e-04</td>\n",
              "      <td>1.956199e-05</td>\n",
              "      <td>0.006239</td>\n",
              "    </tr>\n",
              "  </tbody>\n",
              "</table>\n",
              "<p>5 rows × 39 columns</p>\n",
              "</div>\n",
              "      <button class=\"colab-df-convert\" onclick=\"convertToInteractive('df-e1ca4bdf-c93d-423a-b1bc-a941184583a7')\"\n",
              "              title=\"Convert this dataframe to an interactive table.\"\n",
              "              style=\"display:none;\">\n",
              "        \n",
              "  <svg xmlns=\"http://www.w3.org/2000/svg\" height=\"24px\"viewBox=\"0 0 24 24\"\n",
              "       width=\"24px\">\n",
              "    <path d=\"M0 0h24v24H0V0z\" fill=\"none\"/>\n",
              "    <path d=\"M18.56 5.44l.94 2.06.94-2.06 2.06-.94-2.06-.94-.94-2.06-.94 2.06-2.06.94zm-11 1L8.5 8.5l.94-2.06 2.06-.94-2.06-.94L8.5 2.5l-.94 2.06-2.06.94zm10 10l.94 2.06.94-2.06 2.06-.94-2.06-.94-.94-2.06-.94 2.06-2.06.94z\"/><path d=\"M17.41 7.96l-1.37-1.37c-.4-.4-.92-.59-1.43-.59-.52 0-1.04.2-1.43.59L10.3 9.45l-7.72 7.72c-.78.78-.78 2.05 0 2.83L4 21.41c.39.39.9.59 1.41.59.51 0 1.02-.2 1.41-.59l7.78-7.78 2.81-2.81c.8-.78.8-2.07 0-2.86zM5.41 20L4 18.59l7.72-7.72 1.47 1.35L5.41 20z\"/>\n",
              "  </svg>\n",
              "      </button>\n",
              "      \n",
              "  <style>\n",
              "    .colab-df-container {\n",
              "      display:flex;\n",
              "      flex-wrap:wrap;\n",
              "      gap: 12px;\n",
              "    }\n",
              "\n",
              "    .colab-df-convert {\n",
              "      background-color: #E8F0FE;\n",
              "      border: none;\n",
              "      border-radius: 50%;\n",
              "      cursor: pointer;\n",
              "      display: none;\n",
              "      fill: #1967D2;\n",
              "      height: 32px;\n",
              "      padding: 0 0 0 0;\n",
              "      width: 32px;\n",
              "    }\n",
              "\n",
              "    .colab-df-convert:hover {\n",
              "      background-color: #E2EBFA;\n",
              "      box-shadow: 0px 1px 2px rgba(60, 64, 67, 0.3), 0px 1px 3px 1px rgba(60, 64, 67, 0.15);\n",
              "      fill: #174EA6;\n",
              "    }\n",
              "\n",
              "    [theme=dark] .colab-df-convert {\n",
              "      background-color: #3B4455;\n",
              "      fill: #D2E3FC;\n",
              "    }\n",
              "\n",
              "    [theme=dark] .colab-df-convert:hover {\n",
              "      background-color: #434B5C;\n",
              "      box-shadow: 0px 1px 3px 1px rgba(0, 0, 0, 0.15);\n",
              "      filter: drop-shadow(0px 1px 2px rgba(0, 0, 0, 0.3));\n",
              "      fill: #FFFFFF;\n",
              "    }\n",
              "  </style>\n",
              "\n",
              "      <script>\n",
              "        const buttonEl =\n",
              "          document.querySelector('#df-e1ca4bdf-c93d-423a-b1bc-a941184583a7 button.colab-df-convert');\n",
              "        buttonEl.style.display =\n",
              "          google.colab.kernel.accessAllowed ? 'block' : 'none';\n",
              "\n",
              "        async function convertToInteractive(key) {\n",
              "          const element = document.querySelector('#df-e1ca4bdf-c93d-423a-b1bc-a941184583a7');\n",
              "          const dataTable =\n",
              "            await google.colab.kernel.invokeFunction('convertToInteractive',\n",
              "                                                     [key], {});\n",
              "          if (!dataTable) return;\n",
              "\n",
              "          const docLinkHtml = 'Like what you see? Visit the ' +\n",
              "            '<a target=\"_blank\" href=https://colab.research.google.com/notebooks/data_table.ipynb>data table notebook</a>'\n",
              "            + ' to learn more about interactive tables.';\n",
              "          element.innerHTML = '';\n",
              "          dataTable['output_type'] = 'display_data';\n",
              "          await google.colab.output.renderOutput(dataTable, element);\n",
              "          const docLink = document.createElement('div');\n",
              "          docLink.innerHTML = docLinkHtml;\n",
              "          element.appendChild(docLink);\n",
              "        }\n",
              "      </script>\n",
              "    </div>\n",
              "  </div>\n",
              "  "
            ]
          },
          "metadata": {},
          "execution_count": 85
        }
      ]
    },
    {
      "cell_type": "code",
      "source": [
        "sample_sub.to_csv('/content/submission_catboost.csv', index= False)"
      ],
      "metadata": {
        "id": "UNB9gUjZYUkf"
      },
      "execution_count": 86,
      "outputs": []
    },
    {
      "cell_type": "code",
      "source": [
        "!kaggle competitions submit -c walmart-recruiting-trip-type-classification -f submission_catboost.csv -m \"Catboost\""
      ],
      "metadata": {
        "id": "lBYyE7AfaPW8",
        "outputId": "8e435de5-6c12-4d66-cd08-b6d5df09df17",
        "colab": {
          "base_uri": "https://localhost:8080/"
        }
      },
      "execution_count": 87,
      "outputs": [
        {
          "output_type": "stream",
          "name": "stdout",
          "text": [
            "100% 75.6M/75.6M [00:03<00:00, 20.0MB/s]\n",
            "Successfully submitted to Walmart Recruiting: Trip Type Classification"
          ]
        }
      ]
    },
    {
      "cell_type": "markdown",
      "source": [
        "XGBoost"
      ],
      "metadata": {
        "id": "3-LczBfMOhYF"
      }
    },
    {
      "cell_type": "code",
      "execution_count": null,
      "metadata": {
        "id": "w_3bOgf1qZLb"
      },
      "outputs": [],
      "source": [
        "pip install xgboost"
      ]
    },
    {
      "cell_type": "code",
      "source": [
        "from xgboost import XGBClassifier"
      ],
      "metadata": {
        "id": "9xC1gF4vOtEE"
      },
      "execution_count": null,
      "outputs": []
    },
    {
      "cell_type": "code",
      "source": [],
      "metadata": {
        "id": "-wch-w9JOtGP"
      },
      "execution_count": null,
      "outputs": []
    },
    {
      "cell_type": "code",
      "source": [],
      "metadata": {
        "id": "a7-klG7dOtH-"
      },
      "execution_count": null,
      "outputs": []
    },
    {
      "cell_type": "code",
      "source": [],
      "metadata": {
        "id": "E8F3A4QGOtJ0"
      },
      "execution_count": null,
      "outputs": []
    },
    {
      "cell_type": "code",
      "source": [],
      "metadata": {
        "id": "9s1q2j2NOtLc"
      },
      "execution_count": null,
      "outputs": []
    },
    {
      "cell_type": "code",
      "source": [],
      "metadata": {
        "id": "dP83ht59OtNW"
      },
      "execution_count": null,
      "outputs": []
    }
  ],
  "metadata": {
    "kernelspec": {
      "display_name": "Python 3 (ipykernel)",
      "language": "python",
      "name": "python3"
    },
    "language_info": {
      "codemirror_mode": {
        "name": "ipython",
        "version": 3
      },
      "file_extension": ".py",
      "mimetype": "text/x-python",
      "name": "python",
      "nbconvert_exporter": "python",
      "pygments_lexer": "ipython3",
      "version": "3.9.13"
    },
    "colab": {
      "provenance": []
    },
    "accelerator": "GPU",
    "gpuClass": "standard"
  },
  "nbformat": 4,
  "nbformat_minor": 0
}