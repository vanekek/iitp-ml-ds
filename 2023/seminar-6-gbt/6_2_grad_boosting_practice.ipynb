{
  "cells": [
    {
      "cell_type": "markdown",
      "metadata": {
        "id": "mkpTZ7nHqZLC"
      },
      "source": [
        "# Walmart TripType prediction\n",
        "\n",
        "https://www.kaggle.com/c/walmart-recruiting-trip-type-classification\n",
        "\n",
        ">For this competition, you are tasked with categorizing shopping trip types based on the items that customers purchased. To give a few hypothetical examples of trip types: a customer may make a small daily dinner trip, a weekly large grocery trip, a trip to buy gifts for an upcoming holiday, or a seasonal trip to buy clothes.\n",
        "\n",
        "\n",
        "## Multi-class classification, goal is to predict `type of the trip`.\n",
        "\n"
      ]
    },
    {
      "cell_type": "code",
      "source": [
        "!mkdir ~/.kaggle\n",
        "!touch ~/.kaggle/kaggle.json\n",
        "\n",
        "api_token = {\"username\":\"kolesnikovia\",\"key\":\"ec2bf61f4071c8a04ff0d396f2f4f4a4\"}\n",
        "\n",
        "import json\n",
        "\n",
        "with open('/root/.kaggle/kaggle.json', 'w') as file:\n",
        "    json.dump(api_token, file)\n",
        "\n",
        "!chmod 600 ~/.kaggle/kaggle.json"
      ],
      "metadata": {
        "id": "_U3bJKe7rhFy"
      },
      "execution_count": 6,
      "outputs": []
    },
    {
      "cell_type": "code",
      "execution_count": 7,
      "metadata": {
        "colab": {
          "base_uri": "https://localhost:8080/"
        },
        "id": "-CV3SYVZqZLG",
        "outputId": "2a23a5cb-fa3b-4247-ee14-e68741a44105"
      },
      "outputs": [
        {
          "output_type": "stream",
          "name": "stdout",
          "text": [
            "Downloading walmart-recruiting-trip-type-classification.zip to /content\n",
            " 64% 7.00M/11.0M [00:00<00:00, 13.4MB/s]\n",
            "100% 11.0M/11.0M [00:00<00:00, 13.2MB/s]\n"
          ]
        }
      ],
      "source": [
        "!kaggle competitions download -c walmart-recruiting-trip-type-classification"
      ]
    },
    {
      "cell_type": "code",
      "execution_count": 8,
      "metadata": {
        "id": "WwlNZ0zyqZLH"
      },
      "outputs": [],
      "source": [
        "import pandas as pd\n",
        "import numpy as np\n",
        "import matplotlib.pyplot as plt\n",
        "import seaborn as sns\n",
        "%matplotlib inline"
      ]
    },
    {
      "cell_type": "code",
      "source": [
        "!unzip /content/walmart-recruiting-trip-type-classification.zip"
      ],
      "metadata": {
        "colab": {
          "base_uri": "https://localhost:8080/"
        },
        "id": "GYO702TtwZrM",
        "outputId": "a673fb8c-b68e-46e2-f615-d843ac6f0a6b"
      },
      "execution_count": 9,
      "outputs": [
        {
          "output_type": "stream",
          "name": "stdout",
          "text": [
            "Archive:  /content/walmart-recruiting-trip-type-classification.zip\n",
            "  inflating: sample_submission.csv.zip  \n",
            "  inflating: test.csv.zip            \n",
            "  inflating: train.csv.zip           \n"
          ]
        }
      ]
    },
    {
      "cell_type": "code",
      "source": [
        "!unzip /content/train.csv.zip"
      ],
      "metadata": {
        "colab": {
          "base_uri": "https://localhost:8080/"
        },
        "id": "yRe8idJ0wsIM",
        "outputId": "db7a30c1-4a64-403b-f383-73fa007c6ef5"
      },
      "execution_count": 10,
      "outputs": [
        {
          "output_type": "stream",
          "name": "stdout",
          "text": [
            "Archive:  /content/train.csv.zip\n",
            "  inflating: train.csv               \n"
          ]
        }
      ]
    },
    {
      "cell_type": "code",
      "execution_count": 11,
      "metadata": {
        "id": "W1WI-5twqZLH"
      },
      "outputs": [],
      "source": [
        "train = pd.read_csv('train.csv')\n",
        "#test = pd.read_csv('walmart-recruiting-trip-type-classification/test.csv')"
      ]
    },
    {
      "cell_type": "code",
      "execution_count": 12,
      "metadata": {
        "colab": {
          "base_uri": "https://localhost:8080/",
          "height": 206
        },
        "id": "NBfdmmyNqZLI",
        "outputId": "7fe2b0b6-4b02-454b-f45f-ddbccd0bbaa8"
      },
      "outputs": [
        {
          "output_type": "execute_result",
          "data": {
            "text/plain": [
              "   TripType  VisitNumber Weekday           Upc  ScanCount  \\\n",
              "0       999            5  Friday  6.811315e+10         -1   \n",
              "1        30            7  Friday  6.053882e+10          1   \n",
              "2        30            7  Friday  7.410811e+09          1   \n",
              "3        26            8  Friday  2.238404e+09          2   \n",
              "4        26            8  Friday  2.006614e+09          2   \n",
              "\n",
              "   DepartmentDescription  FinelineNumber  \n",
              "0     FINANCIAL SERVICES          1000.0  \n",
              "1                  SHOES          8931.0  \n",
              "2          PERSONAL CARE          4504.0  \n",
              "3  PAINT AND ACCESSORIES          3565.0  \n",
              "4  PAINT AND ACCESSORIES          1017.0  "
            ],
            "text/html": [
              "\n",
              "  <div id=\"df-072c40cf-fa8c-406c-95c2-54b193708632\">\n",
              "    <div class=\"colab-df-container\">\n",
              "      <div>\n",
              "<style scoped>\n",
              "    .dataframe tbody tr th:only-of-type {\n",
              "        vertical-align: middle;\n",
              "    }\n",
              "\n",
              "    .dataframe tbody tr th {\n",
              "        vertical-align: top;\n",
              "    }\n",
              "\n",
              "    .dataframe thead th {\n",
              "        text-align: right;\n",
              "    }\n",
              "</style>\n",
              "<table border=\"1\" class=\"dataframe\">\n",
              "  <thead>\n",
              "    <tr style=\"text-align: right;\">\n",
              "      <th></th>\n",
              "      <th>TripType</th>\n",
              "      <th>VisitNumber</th>\n",
              "      <th>Weekday</th>\n",
              "      <th>Upc</th>\n",
              "      <th>ScanCount</th>\n",
              "      <th>DepartmentDescription</th>\n",
              "      <th>FinelineNumber</th>\n",
              "    </tr>\n",
              "  </thead>\n",
              "  <tbody>\n",
              "    <tr>\n",
              "      <th>0</th>\n",
              "      <td>999</td>\n",
              "      <td>5</td>\n",
              "      <td>Friday</td>\n",
              "      <td>6.811315e+10</td>\n",
              "      <td>-1</td>\n",
              "      <td>FINANCIAL SERVICES</td>\n",
              "      <td>1000.0</td>\n",
              "    </tr>\n",
              "    <tr>\n",
              "      <th>1</th>\n",
              "      <td>30</td>\n",
              "      <td>7</td>\n",
              "      <td>Friday</td>\n",
              "      <td>6.053882e+10</td>\n",
              "      <td>1</td>\n",
              "      <td>SHOES</td>\n",
              "      <td>8931.0</td>\n",
              "    </tr>\n",
              "    <tr>\n",
              "      <th>2</th>\n",
              "      <td>30</td>\n",
              "      <td>7</td>\n",
              "      <td>Friday</td>\n",
              "      <td>7.410811e+09</td>\n",
              "      <td>1</td>\n",
              "      <td>PERSONAL CARE</td>\n",
              "      <td>4504.0</td>\n",
              "    </tr>\n",
              "    <tr>\n",
              "      <th>3</th>\n",
              "      <td>26</td>\n",
              "      <td>8</td>\n",
              "      <td>Friday</td>\n",
              "      <td>2.238404e+09</td>\n",
              "      <td>2</td>\n",
              "      <td>PAINT AND ACCESSORIES</td>\n",
              "      <td>3565.0</td>\n",
              "    </tr>\n",
              "    <tr>\n",
              "      <th>4</th>\n",
              "      <td>26</td>\n",
              "      <td>8</td>\n",
              "      <td>Friday</td>\n",
              "      <td>2.006614e+09</td>\n",
              "      <td>2</td>\n",
              "      <td>PAINT AND ACCESSORIES</td>\n",
              "      <td>1017.0</td>\n",
              "    </tr>\n",
              "  </tbody>\n",
              "</table>\n",
              "</div>\n",
              "      <button class=\"colab-df-convert\" onclick=\"convertToInteractive('df-072c40cf-fa8c-406c-95c2-54b193708632')\"\n",
              "              title=\"Convert this dataframe to an interactive table.\"\n",
              "              style=\"display:none;\">\n",
              "        \n",
              "  <svg xmlns=\"http://www.w3.org/2000/svg\" height=\"24px\"viewBox=\"0 0 24 24\"\n",
              "       width=\"24px\">\n",
              "    <path d=\"M0 0h24v24H0V0z\" fill=\"none\"/>\n",
              "    <path d=\"M18.56 5.44l.94 2.06.94-2.06 2.06-.94-2.06-.94-.94-2.06-.94 2.06-2.06.94zm-11 1L8.5 8.5l.94-2.06 2.06-.94-2.06-.94L8.5 2.5l-.94 2.06-2.06.94zm10 10l.94 2.06.94-2.06 2.06-.94-2.06-.94-.94-2.06-.94 2.06-2.06.94z\"/><path d=\"M17.41 7.96l-1.37-1.37c-.4-.4-.92-.59-1.43-.59-.52 0-1.04.2-1.43.59L10.3 9.45l-7.72 7.72c-.78.78-.78 2.05 0 2.83L4 21.41c.39.39.9.59 1.41.59.51 0 1.02-.2 1.41-.59l7.78-7.78 2.81-2.81c.8-.78.8-2.07 0-2.86zM5.41 20L4 18.59l7.72-7.72 1.47 1.35L5.41 20z\"/>\n",
              "  </svg>\n",
              "      </button>\n",
              "      \n",
              "  <style>\n",
              "    .colab-df-container {\n",
              "      display:flex;\n",
              "      flex-wrap:wrap;\n",
              "      gap: 12px;\n",
              "    }\n",
              "\n",
              "    .colab-df-convert {\n",
              "      background-color: #E8F0FE;\n",
              "      border: none;\n",
              "      border-radius: 50%;\n",
              "      cursor: pointer;\n",
              "      display: none;\n",
              "      fill: #1967D2;\n",
              "      height: 32px;\n",
              "      padding: 0 0 0 0;\n",
              "      width: 32px;\n",
              "    }\n",
              "\n",
              "    .colab-df-convert:hover {\n",
              "      background-color: #E2EBFA;\n",
              "      box-shadow: 0px 1px 2px rgba(60, 64, 67, 0.3), 0px 1px 3px 1px rgba(60, 64, 67, 0.15);\n",
              "      fill: #174EA6;\n",
              "    }\n",
              "\n",
              "    [theme=dark] .colab-df-convert {\n",
              "      background-color: #3B4455;\n",
              "      fill: #D2E3FC;\n",
              "    }\n",
              "\n",
              "    [theme=dark] .colab-df-convert:hover {\n",
              "      background-color: #434B5C;\n",
              "      box-shadow: 0px 1px 3px 1px rgba(0, 0, 0, 0.15);\n",
              "      filter: drop-shadow(0px 1px 2px rgba(0, 0, 0, 0.3));\n",
              "      fill: #FFFFFF;\n",
              "    }\n",
              "  </style>\n",
              "\n",
              "      <script>\n",
              "        const buttonEl =\n",
              "          document.querySelector('#df-072c40cf-fa8c-406c-95c2-54b193708632 button.colab-df-convert');\n",
              "        buttonEl.style.display =\n",
              "          google.colab.kernel.accessAllowed ? 'block' : 'none';\n",
              "\n",
              "        async function convertToInteractive(key) {\n",
              "          const element = document.querySelector('#df-072c40cf-fa8c-406c-95c2-54b193708632');\n",
              "          const dataTable =\n",
              "            await google.colab.kernel.invokeFunction('convertToInteractive',\n",
              "                                                     [key], {});\n",
              "          if (!dataTable) return;\n",
              "\n",
              "          const docLinkHtml = 'Like what you see? Visit the ' +\n",
              "            '<a target=\"_blank\" href=https://colab.research.google.com/notebooks/data_table.ipynb>data table notebook</a>'\n",
              "            + ' to learn more about interactive tables.';\n",
              "          element.innerHTML = '';\n",
              "          dataTable['output_type'] = 'display_data';\n",
              "          await google.colab.output.renderOutput(dataTable, element);\n",
              "          const docLink = document.createElement('div');\n",
              "          docLink.innerHTML = docLinkHtml;\n",
              "          element.appendChild(docLink);\n",
              "        }\n",
              "      </script>\n",
              "    </div>\n",
              "  </div>\n",
              "  "
            ]
          },
          "metadata": {},
          "execution_count": 12
        }
      ],
      "source": [
        "train.head()"
      ]
    },
    {
      "cell_type": "markdown",
      "metadata": {
        "id": "JqW-DLZ6qZLJ"
      },
      "source": [
        "### Columns description\n",
        "\n",
        "- `TripType` - a categorical id representing the type of shopping trip the customer made. This is the ground truth that you are predicting. TripType_999 is an \"other\" category.\n",
        "- `VisitNumber` - an id corresponding to a single trip by a single customer\n",
        "- `Weekday` - the weekday of the trip\n",
        "- `Upc`- the UPC number of the product purchased\n",
        "- `ScanCount` - the number of the given item that was purchased. A negative value indicates a product return.\n",
        "- `DepartmentDescription` - a high-level description of the item's department\n",
        "- `FinelineNumber` - a more refined category for each of the products, created by Walmart\n"
      ]
    },
    {
      "cell_type": "code",
      "execution_count": 13,
      "metadata": {
        "colab": {
          "base_uri": "https://localhost:8080/"
        },
        "id": "NEdb3l5PqZLJ",
        "outputId": "3ae11785-936e-4486-aecb-bae2a06f611e"
      },
      "outputs": [
        {
          "output_type": "execute_result",
          "data": {
            "text/plain": [
              "(647054, 7)"
            ]
          },
          "metadata": {},
          "execution_count": 13
        }
      ],
      "source": [
        "train.shape"
      ]
    },
    {
      "cell_type": "code",
      "execution_count": 14,
      "metadata": {
        "colab": {
          "base_uri": "https://localhost:8080/"
        },
        "id": "iMQfO6CRqZLK",
        "outputId": "8907f6fe-bba9-4485-9b7d-0623fdcdce7f"
      },
      "outputs": [
        {
          "output_type": "execute_result",
          "data": {
            "text/plain": [
              "TripType                 647054\n",
              "VisitNumber              647054\n",
              "Weekday                  647054\n",
              "Upc                      642925\n",
              "ScanCount                647054\n",
              "DepartmentDescription    645693\n",
              "FinelineNumber           642925\n",
              "dtype: int64"
            ]
          },
          "metadata": {},
          "execution_count": 14
        }
      ],
      "source": [
        "train.count()"
      ]
    },
    {
      "cell_type": "code",
      "execution_count": 15,
      "metadata": {
        "colab": {
          "base_uri": "https://localhost:8080/"
        },
        "id": "jFTfUBApqZLK",
        "outputId": "338a06c9-44df-4132-92ff-40cf84c84247"
      },
      "outputs": [
        {
          "output_type": "execute_result",
          "data": {
            "text/plain": [
              "40     174164\n",
              "39      95504\n",
              "37      38954\n",
              "38      29565\n",
              "25      27609\n",
              "7       23199\n",
              "8       22844\n",
              "36      21990\n",
              "44      20424\n",
              "42      19468\n",
              "24      18015\n",
              "999     17590\n",
              "9       16820\n",
              "32      13843\n",
              "5       13836\n",
              "35      12501\n",
              "33       9918\n",
              "15       7147\n",
              "3        6827\n",
              "43       6383\n",
              "41       5508\n",
              "30       4861\n",
              "34       4751\n",
              "27       4613\n",
              "21       4032\n",
              "22       3592\n",
              "6        3405\n",
              "20       3116\n",
              "18       2977\n",
              "28       2664\n",
              "26       2507\n",
              "12       2108\n",
              "29       2105\n",
              "31       1765\n",
              "19       1188\n",
              "4         901\n",
              "23        325\n",
              "14         35\n",
              "Name: TripType, dtype: int64"
            ]
          },
          "metadata": {},
          "execution_count": 15
        }
      ],
      "source": [
        "train.TripType.value_counts()"
      ]
    },
    {
      "cell_type": "markdown",
      "metadata": {
        "id": "mHzNAGY-qZLL"
      },
      "source": [
        "# 1. Understand the task.\n",
        "\n",
        "> Every single ml task has its features, and there are no universal solutions, only generally working principles.\n",
        "\n",
        "We need to predict type of the visit: `TripType`. Every row of the data table contains information about a single product not a visit, threfore we need to combine the information about the visit from all the purchases. \n",
        "\n",
        "![](https://github.com/vanekek/iitp-ml-ds/blob/main/2023/seminar-6-gbt/trip-type.png?raw=1)\n",
        "\n",
        "Unfortunately, we do not have the information about customers, so we do not know if some of the Visits were performed by the same person.\n"
      ]
    },
    {
      "cell_type": "code",
      "execution_count": 16,
      "metadata": {
        "colab": {
          "base_uri": "https://localhost:8080/",
          "height": 206
        },
        "id": "GyUnz9yOqZLL",
        "outputId": "bc98598c-b75d-4074-f819-f17cc8149d6c"
      },
      "outputs": [
        {
          "output_type": "execute_result",
          "data": {
            "text/plain": [
              "   TripType  VisitNumber Weekday           Upc  ScanCount  \\\n",
              "0       999            5  Friday  6.811315e+10         -1   \n",
              "1        30            7  Friday  6.053882e+10          1   \n",
              "2        30            7  Friday  7.410811e+09          1   \n",
              "3        26            8  Friday  2.238404e+09          2   \n",
              "4        26            8  Friday  2.006614e+09          2   \n",
              "\n",
              "   DepartmentDescription  FinelineNumber  \n",
              "0     FINANCIAL SERVICES          1000.0  \n",
              "1                  SHOES          8931.0  \n",
              "2          PERSONAL CARE          4504.0  \n",
              "3  PAINT AND ACCESSORIES          3565.0  \n",
              "4  PAINT AND ACCESSORIES          1017.0  "
            ],
            "text/html": [
              "\n",
              "  <div id=\"df-c1aa1875-41b1-4ce0-b207-d78a20a31467\">\n",
              "    <div class=\"colab-df-container\">\n",
              "      <div>\n",
              "<style scoped>\n",
              "    .dataframe tbody tr th:only-of-type {\n",
              "        vertical-align: middle;\n",
              "    }\n",
              "\n",
              "    .dataframe tbody tr th {\n",
              "        vertical-align: top;\n",
              "    }\n",
              "\n",
              "    .dataframe thead th {\n",
              "        text-align: right;\n",
              "    }\n",
              "</style>\n",
              "<table border=\"1\" class=\"dataframe\">\n",
              "  <thead>\n",
              "    <tr style=\"text-align: right;\">\n",
              "      <th></th>\n",
              "      <th>TripType</th>\n",
              "      <th>VisitNumber</th>\n",
              "      <th>Weekday</th>\n",
              "      <th>Upc</th>\n",
              "      <th>ScanCount</th>\n",
              "      <th>DepartmentDescription</th>\n",
              "      <th>FinelineNumber</th>\n",
              "    </tr>\n",
              "  </thead>\n",
              "  <tbody>\n",
              "    <tr>\n",
              "      <th>0</th>\n",
              "      <td>999</td>\n",
              "      <td>5</td>\n",
              "      <td>Friday</td>\n",
              "      <td>6.811315e+10</td>\n",
              "      <td>-1</td>\n",
              "      <td>FINANCIAL SERVICES</td>\n",
              "      <td>1000.0</td>\n",
              "    </tr>\n",
              "    <tr>\n",
              "      <th>1</th>\n",
              "      <td>30</td>\n",
              "      <td>7</td>\n",
              "      <td>Friday</td>\n",
              "      <td>6.053882e+10</td>\n",
              "      <td>1</td>\n",
              "      <td>SHOES</td>\n",
              "      <td>8931.0</td>\n",
              "    </tr>\n",
              "    <tr>\n",
              "      <th>2</th>\n",
              "      <td>30</td>\n",
              "      <td>7</td>\n",
              "      <td>Friday</td>\n",
              "      <td>7.410811e+09</td>\n",
              "      <td>1</td>\n",
              "      <td>PERSONAL CARE</td>\n",
              "      <td>4504.0</td>\n",
              "    </tr>\n",
              "    <tr>\n",
              "      <th>3</th>\n",
              "      <td>26</td>\n",
              "      <td>8</td>\n",
              "      <td>Friday</td>\n",
              "      <td>2.238404e+09</td>\n",
              "      <td>2</td>\n",
              "      <td>PAINT AND ACCESSORIES</td>\n",
              "      <td>3565.0</td>\n",
              "    </tr>\n",
              "    <tr>\n",
              "      <th>4</th>\n",
              "      <td>26</td>\n",
              "      <td>8</td>\n",
              "      <td>Friday</td>\n",
              "      <td>2.006614e+09</td>\n",
              "      <td>2</td>\n",
              "      <td>PAINT AND ACCESSORIES</td>\n",
              "      <td>1017.0</td>\n",
              "    </tr>\n",
              "  </tbody>\n",
              "</table>\n",
              "</div>\n",
              "      <button class=\"colab-df-convert\" onclick=\"convertToInteractive('df-c1aa1875-41b1-4ce0-b207-d78a20a31467')\"\n",
              "              title=\"Convert this dataframe to an interactive table.\"\n",
              "              style=\"display:none;\">\n",
              "        \n",
              "  <svg xmlns=\"http://www.w3.org/2000/svg\" height=\"24px\"viewBox=\"0 0 24 24\"\n",
              "       width=\"24px\">\n",
              "    <path d=\"M0 0h24v24H0V0z\" fill=\"none\"/>\n",
              "    <path d=\"M18.56 5.44l.94 2.06.94-2.06 2.06-.94-2.06-.94-.94-2.06-.94 2.06-2.06.94zm-11 1L8.5 8.5l.94-2.06 2.06-.94-2.06-.94L8.5 2.5l-.94 2.06-2.06.94zm10 10l.94 2.06.94-2.06 2.06-.94-2.06-.94-.94-2.06-.94 2.06-2.06.94z\"/><path d=\"M17.41 7.96l-1.37-1.37c-.4-.4-.92-.59-1.43-.59-.52 0-1.04.2-1.43.59L10.3 9.45l-7.72 7.72c-.78.78-.78 2.05 0 2.83L4 21.41c.39.39.9.59 1.41.59.51 0 1.02-.2 1.41-.59l7.78-7.78 2.81-2.81c.8-.78.8-2.07 0-2.86zM5.41 20L4 18.59l7.72-7.72 1.47 1.35L5.41 20z\"/>\n",
              "  </svg>\n",
              "      </button>\n",
              "      \n",
              "  <style>\n",
              "    .colab-df-container {\n",
              "      display:flex;\n",
              "      flex-wrap:wrap;\n",
              "      gap: 12px;\n",
              "    }\n",
              "\n",
              "    .colab-df-convert {\n",
              "      background-color: #E8F0FE;\n",
              "      border: none;\n",
              "      border-radius: 50%;\n",
              "      cursor: pointer;\n",
              "      display: none;\n",
              "      fill: #1967D2;\n",
              "      height: 32px;\n",
              "      padding: 0 0 0 0;\n",
              "      width: 32px;\n",
              "    }\n",
              "\n",
              "    .colab-df-convert:hover {\n",
              "      background-color: #E2EBFA;\n",
              "      box-shadow: 0px 1px 2px rgba(60, 64, 67, 0.3), 0px 1px 3px 1px rgba(60, 64, 67, 0.15);\n",
              "      fill: #174EA6;\n",
              "    }\n",
              "\n",
              "    [theme=dark] .colab-df-convert {\n",
              "      background-color: #3B4455;\n",
              "      fill: #D2E3FC;\n",
              "    }\n",
              "\n",
              "    [theme=dark] .colab-df-convert:hover {\n",
              "      background-color: #434B5C;\n",
              "      box-shadow: 0px 1px 3px 1px rgba(0, 0, 0, 0.15);\n",
              "      filter: drop-shadow(0px 1px 2px rgba(0, 0, 0, 0.3));\n",
              "      fill: #FFFFFF;\n",
              "    }\n",
              "  </style>\n",
              "\n",
              "      <script>\n",
              "        const buttonEl =\n",
              "          document.querySelector('#df-c1aa1875-41b1-4ce0-b207-d78a20a31467 button.colab-df-convert');\n",
              "        buttonEl.style.display =\n",
              "          google.colab.kernel.accessAllowed ? 'block' : 'none';\n",
              "\n",
              "        async function convertToInteractive(key) {\n",
              "          const element = document.querySelector('#df-c1aa1875-41b1-4ce0-b207-d78a20a31467');\n",
              "          const dataTable =\n",
              "            await google.colab.kernel.invokeFunction('convertToInteractive',\n",
              "                                                     [key], {});\n",
              "          if (!dataTable) return;\n",
              "\n",
              "          const docLinkHtml = 'Like what you see? Visit the ' +\n",
              "            '<a target=\"_blank\" href=https://colab.research.google.com/notebooks/data_table.ipynb>data table notebook</a>'\n",
              "            + ' to learn more about interactive tables.';\n",
              "          element.innerHTML = '';\n",
              "          dataTable['output_type'] = 'display_data';\n",
              "          await google.colab.output.renderOutput(dataTable, element);\n",
              "          const docLink = document.createElement('div');\n",
              "          docLink.innerHTML = docLinkHtml;\n",
              "          element.appendChild(docLink);\n",
              "        }\n",
              "      </script>\n",
              "    </div>\n",
              "  </div>\n",
              "  "
            ]
          },
          "metadata": {},
          "execution_count": 16
        }
      ],
      "source": [
        "train.head(5)"
      ]
    },
    {
      "cell_type": "code",
      "execution_count": 16,
      "metadata": {
        "id": "mdUmpPMOqZLM"
      },
      "outputs": [],
      "source": []
    },
    {
      "cell_type": "markdown",
      "metadata": {
        "id": "w1-Lv-LmqZLM"
      },
      "source": [
        "# 2. Build a simple baseline model\n",
        "\n",
        "- Count number of purchases in a Visit\n",
        "- Create binary column `is_weekend`\n",
        "- Drop all the remaining columns"
      ]
    },
    {
      "cell_type": "code",
      "execution_count": 17,
      "metadata": {
        "id": "iAmVzhHBqZLM"
      },
      "outputs": [],
      "source": [
        "from sklearn.model_selection import train_test_split\n",
        "from sklearn.ensemble import RandomForestClassifier\n",
        "from sklearn.preprocessing import LabelEncoder"
      ]
    },
    {
      "cell_type": "code",
      "execution_count": 18,
      "metadata": {
        "id": "S-NLvQ5DqZLN"
      },
      "outputs": [],
      "source": [
        "def is_weekend(day):\n",
        "    return int(day in ['Saturday', 'Sunday'])\n",
        "\n",
        "df_train = train.copy()\n",
        "\n",
        "# Generate is_weekend\n",
        "df_train['is_weekend'] = df_train.Weekday.apply(is_weekend)\n",
        "\n",
        "# Generate n_products\n",
        "gp_n_products = df_train.groupby('VisitNumber')['ScanCount'].count()\n",
        "df_train['n_products'] = df_train.VisitNumber.map(gp_n_products)\n",
        "\n",
        "# drop duplicated Visit numbers\n",
        "df_train = df_train.drop_duplicates(subset=['VisitNumber']).reset_index(drop=True)\n",
        "\n",
        "# drop all columns except `is_weekend`, `n_products` and `TripType`\n",
        "df_train = df_train.drop(['VisitNumber', 'Weekday', 'Upc', 'ScanCount',\n",
        "                          'DepartmentDescription', 'FinelineNumber'], axis=1)\n",
        "\n",
        "# Encode TripType so unique values are from 0 to (m-1), where m is number of classes\n",
        "encoder = LabelEncoder().fit(df_train['TripType'])\n",
        "df_train['TripType_encoded'] =  encoder.transform(df_train['TripType'])\n",
        "df_train = df_train.drop('TripType', axis=1)\n",
        "\n",
        "# Create separate variables X and y\n",
        "X = df_train.drop('TripType_encoded', axis=1)\n",
        "y = df_train.TripType_encoded"
      ]
    },
    {
      "cell_type": "code",
      "execution_count": 19,
      "metadata": {
        "id": "5UY1IR8DqZLN"
      },
      "outputs": [],
      "source": [
        "from sklearn.model_selection import train_test_split"
      ]
    },
    {
      "cell_type": "code",
      "execution_count": 20,
      "metadata": {
        "id": "EtVKhybAqZLO"
      },
      "outputs": [],
      "source": [
        "# Split data into train and test, use parameter `stratify=y`\n",
        "\n",
        "X_train, X_test, y_train, y_test = train_test_split(X, y, test_size=0.20, random_state=774, stratify=y)"
      ]
    },
    {
      "cell_type": "code",
      "execution_count": 21,
      "metadata": {
        "id": "TZ7OpnY7qZLO"
      },
      "outputs": [],
      "source": [
        "from sklearn.ensemble import RandomForestClassifier\n",
        "from sklearn.metrics import log_loss"
      ]
    },
    {
      "cell_type": "code",
      "execution_count": 22,
      "metadata": {
        "colab": {
          "base_uri": "https://localhost:8080/",
          "height": 74
        },
        "id": "TlVO1iyDqZLO",
        "outputId": "6545648e-0404-4a21-a1e1-dde7efbba27e"
      },
      "outputs": [
        {
          "output_type": "execute_result",
          "data": {
            "text/plain": [
              "RandomForestClassifier()"
            ],
            "text/html": [
              "<style>#sk-container-id-1 {color: black;background-color: white;}#sk-container-id-1 pre{padding: 0;}#sk-container-id-1 div.sk-toggleable {background-color: white;}#sk-container-id-1 label.sk-toggleable__label {cursor: pointer;display: block;width: 100%;margin-bottom: 0;padding: 0.3em;box-sizing: border-box;text-align: center;}#sk-container-id-1 label.sk-toggleable__label-arrow:before {content: \"▸\";float: left;margin-right: 0.25em;color: #696969;}#sk-container-id-1 label.sk-toggleable__label-arrow:hover:before {color: black;}#sk-container-id-1 div.sk-estimator:hover label.sk-toggleable__label-arrow:before {color: black;}#sk-container-id-1 div.sk-toggleable__content {max-height: 0;max-width: 0;overflow: hidden;text-align: left;background-color: #f0f8ff;}#sk-container-id-1 div.sk-toggleable__content pre {margin: 0.2em;color: black;border-radius: 0.25em;background-color: #f0f8ff;}#sk-container-id-1 input.sk-toggleable__control:checked~div.sk-toggleable__content {max-height: 200px;max-width: 100%;overflow: auto;}#sk-container-id-1 input.sk-toggleable__control:checked~label.sk-toggleable__label-arrow:before {content: \"▾\";}#sk-container-id-1 div.sk-estimator input.sk-toggleable__control:checked~label.sk-toggleable__label {background-color: #d4ebff;}#sk-container-id-1 div.sk-label input.sk-toggleable__control:checked~label.sk-toggleable__label {background-color: #d4ebff;}#sk-container-id-1 input.sk-hidden--visually {border: 0;clip: rect(1px 1px 1px 1px);clip: rect(1px, 1px, 1px, 1px);height: 1px;margin: -1px;overflow: hidden;padding: 0;position: absolute;width: 1px;}#sk-container-id-1 div.sk-estimator {font-family: monospace;background-color: #f0f8ff;border: 1px dotted black;border-radius: 0.25em;box-sizing: border-box;margin-bottom: 0.5em;}#sk-container-id-1 div.sk-estimator:hover {background-color: #d4ebff;}#sk-container-id-1 div.sk-parallel-item::after {content: \"\";width: 100%;border-bottom: 1px solid gray;flex-grow: 1;}#sk-container-id-1 div.sk-label:hover label.sk-toggleable__label {background-color: #d4ebff;}#sk-container-id-1 div.sk-serial::before {content: \"\";position: absolute;border-left: 1px solid gray;box-sizing: border-box;top: 0;bottom: 0;left: 50%;z-index: 0;}#sk-container-id-1 div.sk-serial {display: flex;flex-direction: column;align-items: center;background-color: white;padding-right: 0.2em;padding-left: 0.2em;position: relative;}#sk-container-id-1 div.sk-item {position: relative;z-index: 1;}#sk-container-id-1 div.sk-parallel {display: flex;align-items: stretch;justify-content: center;background-color: white;position: relative;}#sk-container-id-1 div.sk-item::before, #sk-container-id-1 div.sk-parallel-item::before {content: \"\";position: absolute;border-left: 1px solid gray;box-sizing: border-box;top: 0;bottom: 0;left: 50%;z-index: -1;}#sk-container-id-1 div.sk-parallel-item {display: flex;flex-direction: column;z-index: 1;position: relative;background-color: white;}#sk-container-id-1 div.sk-parallel-item:first-child::after {align-self: flex-end;width: 50%;}#sk-container-id-1 div.sk-parallel-item:last-child::after {align-self: flex-start;width: 50%;}#sk-container-id-1 div.sk-parallel-item:only-child::after {width: 0;}#sk-container-id-1 div.sk-dashed-wrapped {border: 1px dashed gray;margin: 0 0.4em 0.5em 0.4em;box-sizing: border-box;padding-bottom: 0.4em;background-color: white;}#sk-container-id-1 div.sk-label label {font-family: monospace;font-weight: bold;display: inline-block;line-height: 1.2em;}#sk-container-id-1 div.sk-label-container {text-align: center;}#sk-container-id-1 div.sk-container {/* jupyter's `normalize.less` sets `[hidden] { display: none; }` but bootstrap.min.css set `[hidden] { display: none !important; }` so we also need the `!important` here to be able to override the default hidden behavior on the sphinx rendered scikit-learn.org. See: https://github.com/scikit-learn/scikit-learn/issues/21755 */display: inline-block !important;position: relative;}#sk-container-id-1 div.sk-text-repr-fallback {display: none;}</style><div id=\"sk-container-id-1\" class=\"sk-top-container\"><div class=\"sk-text-repr-fallback\"><pre>RandomForestClassifier()</pre><b>In a Jupyter environment, please rerun this cell to show the HTML representation or trust the notebook. <br />On GitHub, the HTML representation is unable to render, please try loading this page with nbviewer.org.</b></div><div class=\"sk-container\" hidden><div class=\"sk-item\"><div class=\"sk-estimator sk-toggleable\"><input class=\"sk-toggleable__control sk-hidden--visually\" id=\"sk-estimator-id-1\" type=\"checkbox\" checked><label for=\"sk-estimator-id-1\" class=\"sk-toggleable__label sk-toggleable__label-arrow\">RandomForestClassifier</label><div class=\"sk-toggleable__content\"><pre>RandomForestClassifier()</pre></div></div></div></div></div>"
            ]
          },
          "metadata": {},
          "execution_count": 22
        }
      ],
      "source": [
        "# train a RandomForest model with default hyperparameters\n",
        "\n",
        "clf = RandomForestClassifier()\n",
        "clf.fit(X_train, y_train)"
      ]
    },
    {
      "cell_type": "markdown",
      "metadata": {
        "id": "B9NVPJ1kqZLO"
      },
      "source": [
        "---\n",
        "For this tash we are using a log loss $$- y \\log p - (1-y)\\log(1-p)$$\n",
        "in the following multi class form:\n",
        "\n",
        "$$\\frac{1}{N}\\sum_{i=1}^N \\log {\\left(\\frac{e^{a_{it_i}}}{\\sum_{j=0}^{M-1} e^{a_{ij}}}\\right)}$$\n",
        "\n",
        "$t \\in \\{0\\ldots M-1\\}$, $M$ is number of classes, $N$ is number of objects. Numerator is $a_{it_{i}}$ = \\[ unnormalized probability of an $i$'th object to be assigned to the right class $t_i$\\], thus:\n",
        "\n",
        "$$p_{it_i} = \\frac{e^{a_{it_i}}}{\\sum_{j=0}^{M-1} e^{a_{ij}}}$$\n",
        "\n",
        "see for example https://towardsdatascience.com/cross-entropy-for-classification-d98e7f974451"
      ]
    },
    {
      "cell_type": "code",
      "execution_count": 23,
      "metadata": {
        "colab": {
          "base_uri": "https://localhost:8080/"
        },
        "id": "QbbqtO9cqZLP",
        "outputId": "46e1b807-07e5-4e64-e2fb-8990eeea5f81"
      },
      "outputs": [
        {
          "output_type": "execute_result",
          "data": {
            "text/plain": [
              "2.63229318742383"
            ]
          },
          "metadata": {},
          "execution_count": 23
        }
      ],
      "source": [
        "# predict y_test and compute multi-class log loss of your prediction\n",
        "\n",
        "y_pred = clf.predict_proba(X_test)\n",
        "log_loss(y_test, y_pred)"
      ]
    },
    {
      "cell_type": "code",
      "execution_count": 24,
      "metadata": {
        "colab": {
          "base_uri": "https://localhost:8080/"
        },
        "id": "JOClIEXxqZLP",
        "outputId": "e9871450-b86f-4242-96fb-e7c160171b92"
      },
      "outputs": [
        {
          "output_type": "execute_result",
          "data": {
            "text/plain": [
              "(19135, 38)"
            ]
          },
          "metadata": {},
          "execution_count": 24
        }
      ],
      "source": [
        "y_pred.shape"
      ]
    },
    {
      "cell_type": "code",
      "execution_count": 25,
      "metadata": {
        "id": "2ySLf73oqZLP"
      },
      "outputs": [],
      "source": [
        "from sklearn.metrics import accuracy_score"
      ]
    },
    {
      "cell_type": "code",
      "execution_count": 26,
      "metadata": {
        "colab": {
          "base_uri": "https://localhost:8080/"
        },
        "id": "yBgZKC8HqZLP",
        "outputId": "fecb9a38-bffa-46d8-dab0-df438fb6c936"
      },
      "outputs": [
        {
          "output_type": "execute_result",
          "data": {
            "text/plain": [
              "0.27640449438202247"
            ]
          },
          "metadata": {},
          "execution_count": 26
        }
      ],
      "source": [
        "# just to get an intuition on whether it is a good a bad prediction compute an accuracy of your model\n",
        "\n",
        "y_pred = clf.predict(X_test)\n",
        "accuracy_score(y_test, y_pred)"
      ]
    },
    {
      "cell_type": "code",
      "execution_count": 27,
      "metadata": {
        "colab": {
          "base_uri": "https://localhost:8080/"
        },
        "id": "Giz1GJZHqZLP",
        "outputId": "fd46b844-8509-4f5c-9013-21f731e0d687"
      },
      "outputs": [
        {
          "output_type": "execute_result",
          "data": {
            "text/plain": [
              "(array([ 5, 31, 32]), array([9480, 7923, 1732]))"
            ]
          },
          "metadata": {},
          "execution_count": 27
        }
      ],
      "source": [
        "# Remember this is a 38 class classification, count predicted classes\n",
        "\n",
        "np.unique(y_pred, return_counts=True)"
      ]
    },
    {
      "cell_type": "code",
      "execution_count": 28,
      "metadata": {
        "colab": {
          "base_uri": "https://localhost:8080/"
        },
        "id": "GnDbnknsqZLQ",
        "outputId": "52d7543c-b613-494a-9523-84c572f462c0"
      },
      "outputs": [
        {
          "output_type": "execute_result",
          "data": {
            "text/plain": [
              "5     9729\n",
              "31    7917\n",
              "6     7571\n",
              "37    6755\n",
              "32    4904\n",
              "4     4602\n",
              "2     3674\n",
              "17    2958\n",
              "0     2914\n",
              "28    2404\n",
              "30    2330\n",
              "29    2230\n",
              "16    2087\n",
              "27    1624\n",
              "24    1587\n",
              "34    1486\n",
              "25    1052\n",
              "3     1022\n",
              "36     950\n",
              "22     865\n",
              "9      782\n",
              "14     742\n",
              "35     698\n",
              "19     628\n",
              "26     575\n",
              "13     513\n",
              "12     510\n",
              "23     475\n",
              "33     466\n",
              "10     439\n",
              "18     403\n",
              "20     394\n",
              "21     347\n",
              "11     300\n",
              "1      277\n",
              "7      215\n",
              "15     111\n",
              "8        3\n",
              "Name: TripType_encoded, dtype: int64"
            ]
          },
          "metadata": {},
          "execution_count": 28
        }
      ],
      "source": [
        "# Check value counts of a TripType on a train set\n",
        "\n",
        "y_train.value_counts()"
      ]
    },
    {
      "cell_type": "markdown",
      "metadata": {
        "id": "Z_j92l9gqZLQ"
      },
      "source": [
        "## Compare with the constant prediction\n"
      ]
    },
    {
      "cell_type": "code",
      "execution_count": 29,
      "metadata": {
        "colab": {
          "base_uri": "https://localhost:8080/"
        },
        "id": "ztuKBtokqZLQ",
        "outputId": "1bd70b6d-0b76-4df9-ab71-415fe87fccf6"
      },
      "outputs": [
        {
          "output_type": "stream",
          "name": "stdout",
          "text": [
            "0.1270969427750196\n",
            "31.462615236917888\n"
          ]
        }
      ],
      "source": [
        "# Compute a log loss and an accuracy of a constant prediction (predict most frequent TripType)\n",
        "\n",
        "y_dummy = [5]*19135\n",
        "print(accuracy_score(y_test, y_dummy))\n",
        "\n",
        "y_dummy_proba = np.zeros((19135, 38))\n",
        "y_dummy_proba[:, 5] = 1\n",
        "print(log_loss(y_test, y_dummy_proba))"
      ]
    },
    {
      "cell_type": "code",
      "execution_count": 29,
      "metadata": {
        "id": "fuwxa9p1qZLQ"
      },
      "outputs": [],
      "source": []
    },
    {
      "cell_type": "markdown",
      "metadata": {
        "id": "nVWcObAhqZLQ"
      },
      "source": [
        "## Conclusions on the baseline\n",
        "1. Even with this simple features and relatively stupid predictions we are better than a constant prediction.\n",
        "2. Classifier mostly predicts frequent classes.\n",
        "3. Some frequent classes are predicted and some are not. This may be due to the fact that predicted\n",
        "classes are better described by the generated features."
      ]
    },
    {
      "cell_type": "code",
      "execution_count": 29,
      "metadata": {
        "id": "lpuR5uH1qZLQ"
      },
      "outputs": [],
      "source": []
    },
    {
      "cell_type": "markdown",
      "metadata": {
        "id": "6gzJQcbfqZLR"
      },
      "source": [
        "# 3. Deeper look on the features.\n",
        "\n",
        "### Columns description\n",
        "\n",
        "- `TripType` - a categorical id representing the type of shopping trip the customer made. This is the ground truth that you are predicting. TripType_999 is an \"other\" category.\n",
        "- `VisitNumber` - an id corresponding to a single trip by a single customer\n",
        "- `Weekday` - the weekday of the trip\n",
        "- `Upc`- the UPC number of the product purchased\n",
        "- `ScanCount` - the number of the given item that was purchased. A negative value indicates a product return.\n",
        "- `DepartmentDescription` - a high-level description of the item's department\n",
        "- `FinelineNumber` - a more refined category for each of the products, created by Walmart\n"
      ]
    },
    {
      "cell_type": "code",
      "execution_count": 30,
      "metadata": {
        "colab": {
          "base_uri": "https://localhost:8080/",
          "height": 206
        },
        "id": "3TOl1EKKqZLR",
        "outputId": "4a1fea07-5b55-4c9b-ef8a-320cf883e7c3"
      },
      "outputs": [
        {
          "output_type": "execute_result",
          "data": {
            "text/plain": [
              "   TripType  VisitNumber Weekday           Upc  ScanCount  \\\n",
              "0       999            5  Friday  6.811315e+10         -1   \n",
              "1        30            7  Friday  6.053882e+10          1   \n",
              "2        30            7  Friday  7.410811e+09          1   \n",
              "3        26            8  Friday  2.238404e+09          2   \n",
              "4        26            8  Friday  2.006614e+09          2   \n",
              "\n",
              "   DepartmentDescription  FinelineNumber  \n",
              "0     FINANCIAL SERVICES          1000.0  \n",
              "1                  SHOES          8931.0  \n",
              "2          PERSONAL CARE          4504.0  \n",
              "3  PAINT AND ACCESSORIES          3565.0  \n",
              "4  PAINT AND ACCESSORIES          1017.0  "
            ],
            "text/html": [
              "\n",
              "  <div id=\"df-93bbc3c9-4a81-4c4f-b5da-9bd9f322029f\">\n",
              "    <div class=\"colab-df-container\">\n",
              "      <div>\n",
              "<style scoped>\n",
              "    .dataframe tbody tr th:only-of-type {\n",
              "        vertical-align: middle;\n",
              "    }\n",
              "\n",
              "    .dataframe tbody tr th {\n",
              "        vertical-align: top;\n",
              "    }\n",
              "\n",
              "    .dataframe thead th {\n",
              "        text-align: right;\n",
              "    }\n",
              "</style>\n",
              "<table border=\"1\" class=\"dataframe\">\n",
              "  <thead>\n",
              "    <tr style=\"text-align: right;\">\n",
              "      <th></th>\n",
              "      <th>TripType</th>\n",
              "      <th>VisitNumber</th>\n",
              "      <th>Weekday</th>\n",
              "      <th>Upc</th>\n",
              "      <th>ScanCount</th>\n",
              "      <th>DepartmentDescription</th>\n",
              "      <th>FinelineNumber</th>\n",
              "    </tr>\n",
              "  </thead>\n",
              "  <tbody>\n",
              "    <tr>\n",
              "      <th>0</th>\n",
              "      <td>999</td>\n",
              "      <td>5</td>\n",
              "      <td>Friday</td>\n",
              "      <td>6.811315e+10</td>\n",
              "      <td>-1</td>\n",
              "      <td>FINANCIAL SERVICES</td>\n",
              "      <td>1000.0</td>\n",
              "    </tr>\n",
              "    <tr>\n",
              "      <th>1</th>\n",
              "      <td>30</td>\n",
              "      <td>7</td>\n",
              "      <td>Friday</td>\n",
              "      <td>6.053882e+10</td>\n",
              "      <td>1</td>\n",
              "      <td>SHOES</td>\n",
              "      <td>8931.0</td>\n",
              "    </tr>\n",
              "    <tr>\n",
              "      <th>2</th>\n",
              "      <td>30</td>\n",
              "      <td>7</td>\n",
              "      <td>Friday</td>\n",
              "      <td>7.410811e+09</td>\n",
              "      <td>1</td>\n",
              "      <td>PERSONAL CARE</td>\n",
              "      <td>4504.0</td>\n",
              "    </tr>\n",
              "    <tr>\n",
              "      <th>3</th>\n",
              "      <td>26</td>\n",
              "      <td>8</td>\n",
              "      <td>Friday</td>\n",
              "      <td>2.238404e+09</td>\n",
              "      <td>2</td>\n",
              "      <td>PAINT AND ACCESSORIES</td>\n",
              "      <td>3565.0</td>\n",
              "    </tr>\n",
              "    <tr>\n",
              "      <th>4</th>\n",
              "      <td>26</td>\n",
              "      <td>8</td>\n",
              "      <td>Friday</td>\n",
              "      <td>2.006614e+09</td>\n",
              "      <td>2</td>\n",
              "      <td>PAINT AND ACCESSORIES</td>\n",
              "      <td>1017.0</td>\n",
              "    </tr>\n",
              "  </tbody>\n",
              "</table>\n",
              "</div>\n",
              "      <button class=\"colab-df-convert\" onclick=\"convertToInteractive('df-93bbc3c9-4a81-4c4f-b5da-9bd9f322029f')\"\n",
              "              title=\"Convert this dataframe to an interactive table.\"\n",
              "              style=\"display:none;\">\n",
              "        \n",
              "  <svg xmlns=\"http://www.w3.org/2000/svg\" height=\"24px\"viewBox=\"0 0 24 24\"\n",
              "       width=\"24px\">\n",
              "    <path d=\"M0 0h24v24H0V0z\" fill=\"none\"/>\n",
              "    <path d=\"M18.56 5.44l.94 2.06.94-2.06 2.06-.94-2.06-.94-.94-2.06-.94 2.06-2.06.94zm-11 1L8.5 8.5l.94-2.06 2.06-.94-2.06-.94L8.5 2.5l-.94 2.06-2.06.94zm10 10l.94 2.06.94-2.06 2.06-.94-2.06-.94-.94-2.06-.94 2.06-2.06.94z\"/><path d=\"M17.41 7.96l-1.37-1.37c-.4-.4-.92-.59-1.43-.59-.52 0-1.04.2-1.43.59L10.3 9.45l-7.72 7.72c-.78.78-.78 2.05 0 2.83L4 21.41c.39.39.9.59 1.41.59.51 0 1.02-.2 1.41-.59l7.78-7.78 2.81-2.81c.8-.78.8-2.07 0-2.86zM5.41 20L4 18.59l7.72-7.72 1.47 1.35L5.41 20z\"/>\n",
              "  </svg>\n",
              "      </button>\n",
              "      \n",
              "  <style>\n",
              "    .colab-df-container {\n",
              "      display:flex;\n",
              "      flex-wrap:wrap;\n",
              "      gap: 12px;\n",
              "    }\n",
              "\n",
              "    .colab-df-convert {\n",
              "      background-color: #E8F0FE;\n",
              "      border: none;\n",
              "      border-radius: 50%;\n",
              "      cursor: pointer;\n",
              "      display: none;\n",
              "      fill: #1967D2;\n",
              "      height: 32px;\n",
              "      padding: 0 0 0 0;\n",
              "      width: 32px;\n",
              "    }\n",
              "\n",
              "    .colab-df-convert:hover {\n",
              "      background-color: #E2EBFA;\n",
              "      box-shadow: 0px 1px 2px rgba(60, 64, 67, 0.3), 0px 1px 3px 1px rgba(60, 64, 67, 0.15);\n",
              "      fill: #174EA6;\n",
              "    }\n",
              "\n",
              "    [theme=dark] .colab-df-convert {\n",
              "      background-color: #3B4455;\n",
              "      fill: #D2E3FC;\n",
              "    }\n",
              "\n",
              "    [theme=dark] .colab-df-convert:hover {\n",
              "      background-color: #434B5C;\n",
              "      box-shadow: 0px 1px 3px 1px rgba(0, 0, 0, 0.15);\n",
              "      filter: drop-shadow(0px 1px 2px rgba(0, 0, 0, 0.3));\n",
              "      fill: #FFFFFF;\n",
              "    }\n",
              "  </style>\n",
              "\n",
              "      <script>\n",
              "        const buttonEl =\n",
              "          document.querySelector('#df-93bbc3c9-4a81-4c4f-b5da-9bd9f322029f button.colab-df-convert');\n",
              "        buttonEl.style.display =\n",
              "          google.colab.kernel.accessAllowed ? 'block' : 'none';\n",
              "\n",
              "        async function convertToInteractive(key) {\n",
              "          const element = document.querySelector('#df-93bbc3c9-4a81-4c4f-b5da-9bd9f322029f');\n",
              "          const dataTable =\n",
              "            await google.colab.kernel.invokeFunction('convertToInteractive',\n",
              "                                                     [key], {});\n",
              "          if (!dataTable) return;\n",
              "\n",
              "          const docLinkHtml = 'Like what you see? Visit the ' +\n",
              "            '<a target=\"_blank\" href=https://colab.research.google.com/notebooks/data_table.ipynb>data table notebook</a>'\n",
              "            + ' to learn more about interactive tables.';\n",
              "          element.innerHTML = '';\n",
              "          dataTable['output_type'] = 'display_data';\n",
              "          await google.colab.output.renderOutput(dataTable, element);\n",
              "          const docLink = document.createElement('div');\n",
              "          docLink.innerHTML = docLinkHtml;\n",
              "          element.appendChild(docLink);\n",
              "        }\n",
              "      </script>\n",
              "    </div>\n",
              "  </div>\n",
              "  "
            ]
          },
          "metadata": {},
          "execution_count": 30
        }
      ],
      "source": [
        "train.head()"
      ]
    },
    {
      "cell_type": "code",
      "execution_count": 31,
      "metadata": {
        "colab": {
          "base_uri": "https://localhost:8080/"
        },
        "id": "X76h6jOZqZLR",
        "outputId": "38246d8c-1f18-4396-a465-4b9c537f4fa1"
      },
      "outputs": [
        {
          "output_type": "execute_result",
          "data": {
            "text/plain": [
              "TripType                   int64\n",
              "VisitNumber                int64\n",
              "Weekday                   object\n",
              "Upc                      float64\n",
              "ScanCount                  int64\n",
              "DepartmentDescription     object\n",
              "FinelineNumber           float64\n",
              "dtype: object"
            ]
          },
          "metadata": {},
          "execution_count": 31
        }
      ],
      "source": [
        "train.dtypes"
      ]
    },
    {
      "cell_type": "markdown",
      "metadata": {
        "id": "oloxjNuWqZLR"
      },
      "source": [
        "All features, except `ScanCount` are categorical, a negative value of a `ScanCount` indicates a product return.\n",
        "\n",
        "### 3.1 VisitNumber \n",
        "is an indicator of a visit, we need it to aggregate different purchases,\n",
        "but the number itself is not important it is just an index. Let's have a quick look on it."
      ]
    },
    {
      "cell_type": "code",
      "execution_count": 32,
      "metadata": {
        "colab": {
          "base_uri": "https://localhost:8080/"
        },
        "id": "baVZV_TXqZLR",
        "outputId": "d36222b5-3e21-43fc-a3c9-18b41f188a9b"
      },
      "outputs": [
        {
          "output_type": "execute_result",
          "data": {
            "text/plain": [
              "72439     209\n",
              "88011     151\n",
              "9181      113\n",
              "60971     112\n",
              "65792     111\n",
              "         ... \n",
              "59978       1\n",
              "107116      1\n",
              "59988       1\n",
              "162017      1\n",
              "5           1\n",
              "Name: VisitNumber, Length: 95674, dtype: int64"
            ]
          },
          "metadata": {},
          "execution_count": 32
        }
      ],
      "source": [
        "train.VisitNumber.value_counts()"
      ]
    },
    {
      "cell_type": "code",
      "execution_count": 33,
      "metadata": {
        "colab": {
          "base_uri": "https://localhost:8080/",
          "height": 449
        },
        "id": "8U4opVvEqZLS",
        "outputId": "9916e05f-4f57-47e3-ab5b-907428b42eff"
      },
      "outputs": [
        {
          "output_type": "display_data",
          "data": {
            "text/plain": [
              "<Figure size 640x480 with 1 Axes>"
            ],
            "image/png": "[encoded data removed]"
          },
          "metadata": {}
        }
      ],
      "source": [
        "sns.histplot(data=train.VisitNumber.value_counts(), bins=50);"
      ]
    },
    {
      "cell_type": "code",
      "execution_count": 34,
      "metadata": {
        "colab": {
          "base_uri": "https://localhost:8080/"
        },
        "id": "HNE45ns5qZLS",
        "outputId": "4626faf4-392b-40e9-b861-06d77938855c"
      },
      "outputs": [
        {
          "output_type": "execute_result",
          "data": {
            "text/plain": [
              "1     19563\n",
              "2     17255\n",
              "3     10362\n",
              "4      8038\n",
              "5      5884\n",
              "6      4633\n",
              "7      3716\n",
              "8      3154\n",
              "9      2593\n",
              "10     2251\n",
              "11     1889\n",
              "12     1746\n",
              "13     1519\n",
              "14     1253\n",
              "15     1207\n",
              "16     1030\n",
              "17      887\n",
              "18      772\n",
              "19      699\n",
              "20      674\n",
              "Name: VisitNumber, dtype: int64"
            ]
          },
          "metadata": {},
          "execution_count": 34
        }
      ],
      "source": [
        "train.VisitNumber.value_counts().value_counts().sort_index()[:20]"
      ]
    },
    {
      "cell_type": "markdown",
      "metadata": {
        "id": "42nnf2swqZLS"
      },
      "source": [
        "--- \n",
        "\n",
        "- More than half of all Visit consists of 4 or less purchases\n",
        "- 90% of Visits consist of 17 or less purchases"
      ]
    },
    {
      "cell_type": "code",
      "execution_count": 34,
      "metadata": {
        "id": "ZS8aZ4UuqZLS"
      },
      "outputs": [],
      "source": []
    },
    {
      "cell_type": "markdown",
      "metadata": {
        "id": "73yXJi2SqZLS"
      },
      "source": [
        "### 3.2 Weekday"
      ]
    },
    {
      "cell_type": "code",
      "execution_count": 35,
      "metadata": {
        "colab": {
          "base_uri": "https://localhost:8080/"
        },
        "id": "EYHkpocJqZLS",
        "outputId": "aa658864-0cf3-4ac1-96d8-9e08acb374c0"
      },
      "outputs": [
        {
          "output_type": "execute_result",
          "data": {
            "text/plain": [
              "Monday        83130\n",
              "Tuesday       72529\n",
              "Wednesday     71115\n",
              "Thursday      67962\n",
              "Friday        96247\n",
              "Saturday     122096\n",
              "Sunday       133975\n",
              "Name: Weekday, dtype: int64"
            ]
          },
          "metadata": {},
          "execution_count": 35
        }
      ],
      "source": [
        "# How many visits are on different weekdays\n",
        "weekdays = ['Monday', 'Tuesday', 'Wednesday','Thursday','Friday', 'Saturday', 'Sunday']\n",
        "\n",
        "train.Weekday.value_counts().reindex(weekdays)"
      ]
    },
    {
      "cell_type": "code",
      "execution_count": 36,
      "metadata": {
        "colab": {
          "base_uri": "https://localhost:8080/"
        },
        "id": "Sle5CMqpqZLS",
        "outputId": "d2863f84-34bb-4c32-cf69-0921622491c0"
      },
      "outputs": [
        {
          "output_type": "execute_result",
          "data": {
            "text/plain": [
              "Weekday\n",
              "Monday       1926\n",
              "Tuesday      1878\n",
              "Wednesday    1871\n",
              "Thursday     1793\n",
              "Friday       2418\n",
              "Saturday     2763\n",
              "Sunday       2809\n",
              "Name: IsReturn, dtype: int64"
            ]
          },
          "metadata": {},
          "execution_count": 36
        }
      ],
      "source": [
        "# Do we have more returns on some weekdays?\n",
        "\n",
        "train['IsReturn'] = train['ScanCount'].apply(lambda x: x < 0)\n",
        "train.groupby(['Weekday'])['IsReturn'].sum().sort_values().reindex(weekdays)"
      ]
    },
    {
      "cell_type": "code",
      "execution_count": 37,
      "metadata": {
        "colab": {
          "base_uri": "https://localhost:8080/"
        },
        "id": "f28CGFWUqZLT",
        "outputId": "6fff3013-86cb-4903-b8b2-7ef7307ce0d3"
      },
      "outputs": [
        {
          "output_type": "execute_result",
          "data": {
            "text/plain": [
              "-1     14394\n",
              "-2       814\n",
              "-3       143\n",
              "-4        76\n",
              "-5        16\n",
              "-6        10\n",
              "-9         2\n",
              "-12        1\n",
              "-7         1\n",
              "-10        1\n",
              "Name: ScanCount, dtype: int64"
            ]
          },
          "metadata": {},
          "execution_count": 37
        }
      ],
      "source": [
        "# Is there only `-1` returns?\n",
        "\n",
        "train[train.IsReturn].ScanCount.value_counts()"
      ]
    },
    {
      "cell_type": "markdown",
      "metadata": {
        "id": "C7MknR74qZLT"
      },
      "source": [
        "### 3.3 DepartmentDescription"
      ]
    },
    {
      "cell_type": "code",
      "execution_count": 38,
      "metadata": {
        "colab": {
          "base_uri": "https://localhost:8080/"
        },
        "id": "zl_NX-d0qZLT",
        "outputId": "bffff293-7a9b-40fb-e6dc-60d38da17f76"
      },
      "outputs": [
        {
          "output_type": "execute_result",
          "data": {
            "text/plain": [
              "DepartmentDescription\n",
              "GROCERY DRY GOODS              88718\n",
              "DSD GROCERY                    79814\n",
              "PRODUCE                        52813\n",
              "DAIRY                          50550\n",
              "PERSONAL CARE                  44819\n",
              "IMPULSE MERCHANDISE            31811\n",
              "HOUSEHOLD CHEMICALS/SUPP       26915\n",
              "PHARMACY OTC                   25620\n",
              "FROZEN FOODS                   25368\n",
              "HOUSEHOLD PAPER GOODS          17986\n",
              "COMM BREAD                     17516\n",
              "BEAUTY                         15077\n",
              "INFANT CONSUMABLE HARDLINES    13149\n",
              "PETS AND SUPPLIES              12592\n",
              "CANDY, TOBACCO, COOKIES        11745\n",
              "MENS WEAR                      11690\n",
              "MEAT - FRESH & FROZEN          10882\n",
              "SERVICE DELI                   10777\n",
              "PRE PACKED DELI                10722\n",
              "CELEBRATION                     9957\n",
              "Name: ScanCount, dtype: int64"
            ]
          },
          "metadata": {},
          "execution_count": 38
        }
      ],
      "source": [
        "# What are the most popular Departments? (total sum over ScanCount)\n",
        "\n",
        "train.groupby('DepartmentDescription').ScanCount.sum().sort_values(ascending=False)[:20]"
      ]
    },
    {
      "cell_type": "code",
      "execution_count": 39,
      "metadata": {
        "colab": {
          "base_uri": "https://localhost:8080/",
          "height": 519
        },
        "id": "yPficM51qZLT",
        "outputId": "bcad8516-d853-491d-e073-641756006720"
      },
      "outputs": [
        {
          "output_type": "execute_result",
          "data": {
            "text/plain": [
              "    TripType  Count    DepartmentDescription\n",
              "0          3   5369       FINANCIAL SERVICES\n",
              "1          3    804      IMPULSE MERCHANDISE\n",
              "2          3     76    LARGE HOUSEHOLD GOODS\n",
              "3          4    563             PHARMACY OTC\n",
              "4          4     73              DSD GROCERY\n",
              "5          4     47      IMPULSE MERCHANDISE\n",
              "6          5   5281             PHARMACY OTC\n",
              "7          5   2714              PHARMACY RX\n",
              "8          5    922            PERSONAL CARE\n",
              "9          6   1000         LIQUOR,WINE,BEER\n",
              "10         6    674  CANDY, TOBACCO, COOKIES\n",
              "11         6    360              DSD GROCERY\n",
              "12         7   3669             SERVICE DELI\n",
              "13         7   3354        GROCERY DRY GOODS\n",
              "14         7   3022                  PRODUCE"
            ],
            "text/html": [
              "\n",
              "  <div id=\"df-f80ce37f-3428-4dfd-a11b-c9fb7c1a0067\">\n",
              "    <div class=\"colab-df-container\">\n",
              "      <div>\n",
              "<style scoped>\n",
              "    .dataframe tbody tr th:only-of-type {\n",
              "        vertical-align: middle;\n",
              "    }\n",
              "\n",
              "    .dataframe tbody tr th {\n",
              "        vertical-align: top;\n",
              "    }\n",
              "\n",
              "    .dataframe thead th {\n",
              "        text-align: right;\n",
              "    }\n",
              "</style>\n",
              "<table border=\"1\" class=\"dataframe\">\n",
              "  <thead>\n",
              "    <tr style=\"text-align: right;\">\n",
              "      <th></th>\n",
              "      <th>TripType</th>\n",
              "      <th>Count</th>\n",
              "      <th>DepartmentDescription</th>\n",
              "    </tr>\n",
              "  </thead>\n",
              "  <tbody>\n",
              "    <tr>\n",
              "      <th>0</th>\n",
              "      <td>3</td>\n",
              "      <td>5369</td>\n",
              "      <td>FINANCIAL SERVICES</td>\n",
              "    </tr>\n",
              "    <tr>\n",
              "      <th>1</th>\n",
              "      <td>3</td>\n",
              "      <td>804</td>\n",
              "      <td>IMPULSE MERCHANDISE</td>\n",
              "    </tr>\n",
              "    <tr>\n",
              "      <th>2</th>\n",
              "      <td>3</td>\n",
              "      <td>76</td>\n",
              "      <td>LARGE HOUSEHOLD GOODS</td>\n",
              "    </tr>\n",
              "    <tr>\n",
              "      <th>3</th>\n",
              "      <td>4</td>\n",
              "      <td>563</td>\n",
              "      <td>PHARMACY OTC</td>\n",
              "    </tr>\n",
              "    <tr>\n",
              "      <th>4</th>\n",
              "      <td>4</td>\n",
              "      <td>73</td>\n",
              "      <td>DSD GROCERY</td>\n",
              "    </tr>\n",
              "    <tr>\n",
              "      <th>5</th>\n",
              "      <td>4</td>\n",
              "      <td>47</td>\n",
              "      <td>IMPULSE MERCHANDISE</td>\n",
              "    </tr>\n",
              "    <tr>\n",
              "      <th>6</th>\n",
              "      <td>5</td>\n",
              "      <td>5281</td>\n",
              "      <td>PHARMACY OTC</td>\n",
              "    </tr>\n",
              "    <tr>\n",
              "      <th>7</th>\n",
              "      <td>5</td>\n",
              "      <td>2714</td>\n",
              "      <td>PHARMACY RX</td>\n",
              "    </tr>\n",
              "    <tr>\n",
              "      <th>8</th>\n",
              "      <td>5</td>\n",
              "      <td>922</td>\n",
              "      <td>PERSONAL CARE</td>\n",
              "    </tr>\n",
              "    <tr>\n",
              "      <th>9</th>\n",
              "      <td>6</td>\n",
              "      <td>1000</td>\n",
              "      <td>LIQUOR,WINE,BEER</td>\n",
              "    </tr>\n",
              "    <tr>\n",
              "      <th>10</th>\n",
              "      <td>6</td>\n",
              "      <td>674</td>\n",
              "      <td>CANDY, TOBACCO, COOKIES</td>\n",
              "    </tr>\n",
              "    <tr>\n",
              "      <th>11</th>\n",
              "      <td>6</td>\n",
              "      <td>360</td>\n",
              "      <td>DSD GROCERY</td>\n",
              "    </tr>\n",
              "    <tr>\n",
              "      <th>12</th>\n",
              "      <td>7</td>\n",
              "      <td>3669</td>\n",
              "      <td>SERVICE DELI</td>\n",
              "    </tr>\n",
              "    <tr>\n",
              "      <th>13</th>\n",
              "      <td>7</td>\n",
              "      <td>3354</td>\n",
              "      <td>GROCERY DRY GOODS</td>\n",
              "    </tr>\n",
              "    <tr>\n",
              "      <th>14</th>\n",
              "      <td>7</td>\n",
              "      <td>3022</td>\n",
              "      <td>PRODUCE</td>\n",
              "    </tr>\n",
              "  </tbody>\n",
              "</table>\n",
              "</div>\n",
              "      <button class=\"colab-df-convert\" onclick=\"convertToInteractive('df-f80ce37f-3428-4dfd-a11b-c9fb7c1a0067')\"\n",
              "              title=\"Convert this dataframe to an interactive table.\"\n",
              "              style=\"display:none;\">\n",
              "        \n",
              "  <svg xmlns=\"http://www.w3.org/2000/svg\" height=\"24px\"viewBox=\"0 0 24 24\"\n",
              "       width=\"24px\">\n",
              "    <path d=\"M0 0h24v24H0V0z\" fill=\"none\"/>\n",
              "    <path d=\"M18.56 5.44l.94 2.06.94-2.06 2.06-.94-2.06-.94-.94-2.06-.94 2.06-2.06.94zm-11 1L8.5 8.5l.94-2.06 2.06-.94-2.06-.94L8.5 2.5l-.94 2.06-2.06.94zm10 10l.94 2.06.94-2.06 2.06-.94-2.06-.94-.94-2.06-.94 2.06-2.06.94z\"/><path d=\"M17.41 7.96l-1.37-1.37c-.4-.4-.92-.59-1.43-.59-.52 0-1.04.2-1.43.59L10.3 9.45l-7.72 7.72c-.78.78-.78 2.05 0 2.83L4 21.41c.39.39.9.59 1.41.59.51 0 1.02-.2 1.41-.59l7.78-7.78 2.81-2.81c.8-.78.8-2.07 0-2.86zM5.41 20L4 18.59l7.72-7.72 1.47 1.35L5.41 20z\"/>\n",
              "  </svg>\n",
              "      </button>\n",
              "      \n",
              "  <style>\n",
              "    .colab-df-container {\n",
              "      display:flex;\n",
              "      flex-wrap:wrap;\n",
              "      gap: 12px;\n",
              "    }\n",
              "\n",
              "    .colab-df-convert {\n",
              "      background-color: #E8F0FE;\n",
              "      border: none;\n",
              "      border-radius: 50%;\n",
              "      cursor: pointer;\n",
              "      display: none;\n",
              "      fill: #1967D2;\n",
              "      height: 32px;\n",
              "      padding: 0 0 0 0;\n",
              "      width: 32px;\n",
              "    }\n",
              "\n",
              "    .colab-df-convert:hover {\n",
              "      background-color: #E2EBFA;\n",
              "      box-shadow: 0px 1px 2px rgba(60, 64, 67, 0.3), 0px 1px 3px 1px rgba(60, 64, 67, 0.15);\n",
              "      fill: #174EA6;\n",
              "    }\n",
              "\n",
              "    [theme=dark] .colab-df-convert {\n",
              "      background-color: #3B4455;\n",
              "      fill: #D2E3FC;\n",
              "    }\n",
              "\n",
              "    [theme=dark] .colab-df-convert:hover {\n",
              "      background-color: #434B5C;\n",
              "      box-shadow: 0px 1px 3px 1px rgba(0, 0, 0, 0.15);\n",
              "      filter: drop-shadow(0px 1px 2px rgba(0, 0, 0, 0.3));\n",
              "      fill: #FFFFFF;\n",
              "    }\n",
              "  </style>\n",
              "\n",
              "      <script>\n",
              "        const buttonEl =\n",
              "          document.querySelector('#df-f80ce37f-3428-4dfd-a11b-c9fb7c1a0067 button.colab-df-convert');\n",
              "        buttonEl.style.display =\n",
              "          google.colab.kernel.accessAllowed ? 'block' : 'none';\n",
              "\n",
              "        async function convertToInteractive(key) {\n",
              "          const element = document.querySelector('#df-f80ce37f-3428-4dfd-a11b-c9fb7c1a0067');\n",
              "          const dataTable =\n",
              "            await google.colab.kernel.invokeFunction('convertToInteractive',\n",
              "                                                     [key], {});\n",
              "          if (!dataTable) return;\n",
              "\n",
              "          const docLinkHtml = 'Like what you see? Visit the ' +\n",
              "            '<a target=\"_blank\" href=https://colab.research.google.com/notebooks/data_table.ipynb>data table notebook</a>'\n",
              "            + ' to learn more about interactive tables.';\n",
              "          element.innerHTML = '';\n",
              "          dataTable['output_type'] = 'display_data';\n",
              "          await google.colab.output.renderOutput(dataTable, element);\n",
              "          const docLink = document.createElement('div');\n",
              "          docLink.innerHTML = docLinkHtml;\n",
              "          element.appendChild(docLink);\n",
              "        }\n",
              "      </script>\n",
              "    </div>\n",
              "  </div>\n",
              "  "
            ]
          },
          "metadata": {},
          "execution_count": 39
        }
      ],
      "source": [
        "# Does most popular DepartmentDescription differ for different TripTypes?\n",
        "# > Allows to more or less deanonymize `TripType`.\n",
        "\n",
        "gp = train.groupby('TripType')['DepartmentDescription'].value_counts().reset_index(name='Count')\n",
        "gp2 = gp.groupby(['TripType'])[['Count','DepartmentDescription']]\\\n",
        "                                                           .apply(pd.DataFrame.nlargest, n=3, columns=['Count'])\\\n",
        "                                                           .reset_index()\\\n",
        "                                                           .drop('level_1', axis=1)\n",
        "\n",
        "gp2[:15]"
      ]
    },
    {
      "cell_type": "code",
      "execution_count": 40,
      "metadata": {
        "colab": {
          "base_uri": "https://localhost:8080/",
          "height": 519
        },
        "id": "c3VTQjc_qZLU",
        "outputId": "20f2e50d-ffe6-40df-c3d7-7876b5bee44c"
      },
      "outputs": [
        {
          "output_type": "execute_result",
          "data": {
            "text/plain": [
              "    TripType  Count       DepartmentDescription\n",
              "51        25   5381                   MENS WEAR\n",
              "52        25   3716                  LADIESWEAR\n",
              "53        25   1836  GIRLS WEAR, 4-6X  AND 7-14\n",
              "87        37  13351                     PRODUCE\n",
              "88        37   5477           GROCERY DRY GOODS\n",
              "89        37   3667                       DAIRY\n",
              "90        38   7252                       DAIRY\n",
              "91        38   6417           GROCERY DRY GOODS\n",
              "92        38   4020                 DSD GROCERY\n",
              "93        39  12956                 DSD GROCERY\n",
              "94        39  12602           GROCERY DRY GOODS\n",
              "95        39   8126               PERSONAL CARE\n",
              "96        40  32639           GROCERY DRY GOODS\n",
              "97        40  22157                 DSD GROCERY\n",
              "98        40  17354                       DAIRY"
            ],
            "text/html": [
              "\n",
              "  <div id=\"df-5942ce2e-bdef-4c80-a61a-029e3f73a1e1\">\n",
              "    <div class=\"colab-df-container\">\n",
              "      <div>\n",
              "<style scoped>\n",
              "    .dataframe tbody tr th:only-of-type {\n",
              "        vertical-align: middle;\n",
              "    }\n",
              "\n",
              "    .dataframe tbody tr th {\n",
              "        vertical-align: top;\n",
              "    }\n",
              "\n",
              "    .dataframe thead th {\n",
              "        text-align: right;\n",
              "    }\n",
              "</style>\n",
              "<table border=\"1\" class=\"dataframe\">\n",
              "  <thead>\n",
              "    <tr style=\"text-align: right;\">\n",
              "      <th></th>\n",
              "      <th>TripType</th>\n",
              "      <th>Count</th>\n",
              "      <th>DepartmentDescription</th>\n",
              "    </tr>\n",
              "  </thead>\n",
              "  <tbody>\n",
              "    <tr>\n",
              "      <th>51</th>\n",
              "      <td>25</td>\n",
              "      <td>5381</td>\n",
              "      <td>MENS WEAR</td>\n",
              "    </tr>\n",
              "    <tr>\n",
              "      <th>52</th>\n",
              "      <td>25</td>\n",
              "      <td>3716</td>\n",
              "      <td>LADIESWEAR</td>\n",
              "    </tr>\n",
              "    <tr>\n",
              "      <th>53</th>\n",
              "      <td>25</td>\n",
              "      <td>1836</td>\n",
              "      <td>GIRLS WEAR, 4-6X  AND 7-14</td>\n",
              "    </tr>\n",
              "    <tr>\n",
              "      <th>87</th>\n",
              "      <td>37</td>\n",
              "      <td>13351</td>\n",
              "      <td>PRODUCE</td>\n",
              "    </tr>\n",
              "    <tr>\n",
              "      <th>88</th>\n",
              "      <td>37</td>\n",
              "      <td>5477</td>\n",
              "      <td>GROCERY DRY GOODS</td>\n",
              "    </tr>\n",
              "    <tr>\n",
              "      <th>89</th>\n",
              "      <td>37</td>\n",
              "      <td>3667</td>\n",
              "      <td>DAIRY</td>\n",
              "    </tr>\n",
              "    <tr>\n",
              "      <th>90</th>\n",
              "      <td>38</td>\n",
              "      <td>7252</td>\n",
              "      <td>DAIRY</td>\n",
              "    </tr>\n",
              "    <tr>\n",
              "      <th>91</th>\n",
              "      <td>38</td>\n",
              "      <td>6417</td>\n",
              "      <td>GROCERY DRY GOODS</td>\n",
              "    </tr>\n",
              "    <tr>\n",
              "      <th>92</th>\n",
              "      <td>38</td>\n",
              "      <td>4020</td>\n",
              "      <td>DSD GROCERY</td>\n",
              "    </tr>\n",
              "    <tr>\n",
              "      <th>93</th>\n",
              "      <td>39</td>\n",
              "      <td>12956</td>\n",
              "      <td>DSD GROCERY</td>\n",
              "    </tr>\n",
              "    <tr>\n",
              "      <th>94</th>\n",
              "      <td>39</td>\n",
              "      <td>12602</td>\n",
              "      <td>GROCERY DRY GOODS</td>\n",
              "    </tr>\n",
              "    <tr>\n",
              "      <th>95</th>\n",
              "      <td>39</td>\n",
              "      <td>8126</td>\n",
              "      <td>PERSONAL CARE</td>\n",
              "    </tr>\n",
              "    <tr>\n",
              "      <th>96</th>\n",
              "      <td>40</td>\n",
              "      <td>32639</td>\n",
              "      <td>GROCERY DRY GOODS</td>\n",
              "    </tr>\n",
              "    <tr>\n",
              "      <th>97</th>\n",
              "      <td>40</td>\n",
              "      <td>22157</td>\n",
              "      <td>DSD GROCERY</td>\n",
              "    </tr>\n",
              "    <tr>\n",
              "      <th>98</th>\n",
              "      <td>40</td>\n",
              "      <td>17354</td>\n",
              "      <td>DAIRY</td>\n",
              "    </tr>\n",
              "  </tbody>\n",
              "</table>\n",
              "</div>\n",
              "      <button class=\"colab-df-convert\" onclick=\"convertToInteractive('df-5942ce2e-bdef-4c80-a61a-029e3f73a1e1')\"\n",
              "              title=\"Convert this dataframe to an interactive table.\"\n",
              "              style=\"display:none;\">\n",
              "        \n",
              "  <svg xmlns=\"http://www.w3.org/2000/svg\" height=\"24px\"viewBox=\"0 0 24 24\"\n",
              "       width=\"24px\">\n",
              "    <path d=\"M0 0h24v24H0V0z\" fill=\"none\"/>\n",
              "    <path d=\"M18.56 5.44l.94 2.06.94-2.06 2.06-.94-2.06-.94-.94-2.06-.94 2.06-2.06.94zm-11 1L8.5 8.5l.94-2.06 2.06-.94-2.06-.94L8.5 2.5l-.94 2.06-2.06.94zm10 10l.94 2.06.94-2.06 2.06-.94-2.06-.94-.94-2.06-.94 2.06-2.06.94z\"/><path d=\"M17.41 7.96l-1.37-1.37c-.4-.4-.92-.59-1.43-.59-.52 0-1.04.2-1.43.59L10.3 9.45l-7.72 7.72c-.78.78-.78 2.05 0 2.83L4 21.41c.39.39.9.59 1.41.59.51 0 1.02-.2 1.41-.59l7.78-7.78 2.81-2.81c.8-.78.8-2.07 0-2.86zM5.41 20L4 18.59l7.72-7.72 1.47 1.35L5.41 20z\"/>\n",
              "  </svg>\n",
              "      </button>\n",
              "      \n",
              "  <style>\n",
              "    .colab-df-container {\n",
              "      display:flex;\n",
              "      flex-wrap:wrap;\n",
              "      gap: 12px;\n",
              "    }\n",
              "\n",
              "    .colab-df-convert {\n",
              "      background-color: #E8F0FE;\n",
              "      border: none;\n",
              "      border-radius: 50%;\n",
              "      cursor: pointer;\n",
              "      display: none;\n",
              "      fill: #1967D2;\n",
              "      height: 32px;\n",
              "      padding: 0 0 0 0;\n",
              "      width: 32px;\n",
              "    }\n",
              "\n",
              "    .colab-df-convert:hover {\n",
              "      background-color: #E2EBFA;\n",
              "      box-shadow: 0px 1px 2px rgba(60, 64, 67, 0.3), 0px 1px 3px 1px rgba(60, 64, 67, 0.15);\n",
              "      fill: #174EA6;\n",
              "    }\n",
              "\n",
              "    [theme=dark] .colab-df-convert {\n",
              "      background-color: #3B4455;\n",
              "      fill: #D2E3FC;\n",
              "    }\n",
              "\n",
              "    [theme=dark] .colab-df-convert:hover {\n",
              "      background-color: #434B5C;\n",
              "      box-shadow: 0px 1px 3px 1px rgba(0, 0, 0, 0.15);\n",
              "      filter: drop-shadow(0px 1px 2px rgba(0, 0, 0, 0.3));\n",
              "      fill: #FFFFFF;\n",
              "    }\n",
              "  </style>\n",
              "\n",
              "      <script>\n",
              "        const buttonEl =\n",
              "          document.querySelector('#df-5942ce2e-bdef-4c80-a61a-029e3f73a1e1 button.colab-df-convert');\n",
              "        buttonEl.style.display =\n",
              "          google.colab.kernel.accessAllowed ? 'block' : 'none';\n",
              "\n",
              "        async function convertToInteractive(key) {\n",
              "          const element = document.querySelector('#df-5942ce2e-bdef-4c80-a61a-029e3f73a1e1');\n",
              "          const dataTable =\n",
              "            await google.colab.kernel.invokeFunction('convertToInteractive',\n",
              "                                                     [key], {});\n",
              "          if (!dataTable) return;\n",
              "\n",
              "          const docLinkHtml = 'Like what you see? Visit the ' +\n",
              "            '<a target=\"_blank\" href=https://colab.research.google.com/notebooks/data_table.ipynb>data table notebook</a>'\n",
              "            + ' to learn more about interactive tables.';\n",
              "          element.innerHTML = '';\n",
              "          dataTable['output_type'] = 'display_data';\n",
              "          await google.colab.output.renderOutput(dataTable, element);\n",
              "          const docLink = document.createElement('div');\n",
              "          docLink.innerHTML = docLinkHtml;\n",
              "          element.appendChild(docLink);\n",
              "        }\n",
              "      </script>\n",
              "    </div>\n",
              "  </div>\n",
              "  "
            ]
          },
          "metadata": {},
          "execution_count": 40
        }
      ],
      "source": [
        "# From our baseline, recall most popular TripTypes, let's deanonymize them.\n",
        "# Select subset of the previous table with TripType in [40, 39, 37, 38, 25]\n",
        "\n",
        "gp2[gp2.TripType.isin([40, 39, 37, 38, 25])]"
      ]
    },
    {
      "cell_type": "code",
      "execution_count": 41,
      "metadata": {
        "colab": {
          "base_uri": "https://localhost:8080/"
        },
        "id": "TYUGa9ibqZLU",
        "outputId": "1bd2663c-ddce-426f-eb9c-4dba296573c2"
      },
      "outputs": [
        {
          "output_type": "execute_result",
          "data": {
            "text/plain": [
              "DepartmentDescription\n",
              "FINANCIAL SERVICES          1162\n",
              "LADIESWEAR                   800\n",
              "PRODUCE                      733\n",
              "PERSONAL CARE                682\n",
              "DSD GROCERY                  679\n",
              "MENS WEAR                    634\n",
              "GROCERY DRY GOODS            606\n",
              "PHARMACY OTC                 472\n",
              "IMPULSE MERCHANDISE          453\n",
              "BEAUTY                       452\n",
              "ELECTRONICS                  450\n",
              "HOUSEHOLD CHEMICALS/SUPP     392\n",
              "COOK AND DINE                382\n",
              "TOYS                         356\n",
              "DAIRY                        343\n",
              "Name: IsReturn, dtype: int64"
            ]
          },
          "metadata": {},
          "execution_count": 41
        }
      ],
      "source": [
        "# What are the DepartmentDescription with most returns?\n",
        "\n",
        "train.groupby('DepartmentDescription')['IsReturn'].sum().sort_values(ascending=False)[:15]"
      ]
    },
    {
      "cell_type": "code",
      "execution_count": 41,
      "metadata": {
        "id": "BFNSUejZqZLU"
      },
      "outputs": [],
      "source": []
    },
    {
      "cell_type": "markdown",
      "metadata": {
        "id": "LjrVgS1KqZLU"
      },
      "source": [
        "### 3.4 FinelineNumber\n",
        "\n",
        "> according to the data description `FinelineNumber` is just a more detailed `DepartmentDescription`"
      ]
    },
    {
      "cell_type": "code",
      "execution_count": 42,
      "metadata": {
        "colab": {
          "base_uri": "https://localhost:8080/",
          "height": 612
        },
        "id": "mM_q--ndqZLU",
        "outputId": "ac68d9ac-54c2-4b74-8b7f-1ac0494d931f"
      },
      "outputs": [
        {
          "output_type": "execute_result",
          "data": {
            "text/plain": [
              "DepartmentDescription  DAIRY  DSD GROCERY  GROCERY DRY GOODS  \\\n",
              "FinelineNumber                                                 \n",
              "100.0                      0            0                 95   \n",
              "110.0                      0            0                  0   \n",
              "115.0                      0            0                  0   \n",
              "135.0                      0            0                  0   \n",
              "203.0                      0            0                  0   \n",
              "808.0                      0            0                  0   \n",
              "1407.0                  2659            0                  0   \n",
              "1508.0                  4961            0                  0   \n",
              "3004.0                     0         1074                109   \n",
              "3555.0                     0            0               2056   \n",
              "3600.0                     0            0               2455   \n",
              "3601.0                     0           37                261   \n",
              "4606.0                     0         2721                  0   \n",
              "5501.0                     0            0                  0   \n",
              "9546.0                     0         2997                  0   \n",
              "\n",
              "DepartmentDescription  HOUSEHOLD CHEMICALS/SUPP  HOUSEHOLD PAPER GOODS  \\\n",
              "FinelineNumber                                                           \n",
              "100.0                                         0                      0   \n",
              "110.0                                       536                    770   \n",
              "115.0                                        10                      0   \n",
              "135.0                                         0                      0   \n",
              "203.0                                         0                     69   \n",
              "808.0                                         0                      0   \n",
              "1407.0                                        0                      0   \n",
              "1508.0                                        0                      0   \n",
              "3004.0                                        0                    587   \n",
              "3555.0                                        0                      0   \n",
              "3600.0                                        0                      0   \n",
              "3601.0                                        0                      0   \n",
              "4606.0                                        0                      0   \n",
              "5501.0                                        0                      0   \n",
              "9546.0                                        0                      0   \n",
              "\n",
              "DepartmentDescription  IMPULSE MERCHANDISE  PERSONAL CARE  PHARMACY OTC  \\\n",
              "FinelineNumber                                                            \n",
              "100.0                                 2354              0             0   \n",
              "110.0                                  773              0             0   \n",
              "115.0                                 2576              0             0   \n",
              "135.0                                 4417             26             0   \n",
              "203.0                                    0           2353             0   \n",
              "808.0                                 4200            140             0   \n",
              "1407.0                                   0            177             0   \n",
              "1508.0                                   0              0             0   \n",
              "3004.0                                   0              0             0   \n",
              "3555.0                                   0              0             0   \n",
              "3600.0                                   0              0             0   \n",
              "3601.0                                   0              0             0   \n",
              "4606.0                                   0              0             0   \n",
              "5501.0                                   0              0             2   \n",
              "9546.0                                   0              0             0   \n",
              "\n",
              "DepartmentDescription  PRODUCE  \n",
              "FinelineNumber                  \n",
              "100.0                       69  \n",
              "110.0                        0  \n",
              "115.0                        0  \n",
              "135.0                        0  \n",
              "203.0                        0  \n",
              "808.0                        0  \n",
              "1407.0                       0  \n",
              "1508.0                       0  \n",
              "3004.0                     486  \n",
              "3555.0                       0  \n",
              "3600.0                       0  \n",
              "3601.0                    2034  \n",
              "4606.0                       2  \n",
              "5501.0                    7799  \n",
              "9546.0                       0  "
            ],
            "text/html": [
              "\n",
              "  <div id=\"df-5c2eaf4d-52df-4e3d-a443-fbc4308645e7\">\n",
              "    <div class=\"colab-df-container\">\n",
              "      <div>\n",
              "<style scoped>\n",
              "    .dataframe tbody tr th:only-of-type {\n",
              "        vertical-align: middle;\n",
              "    }\n",
              "\n",
              "    .dataframe tbody tr th {\n",
              "        vertical-align: top;\n",
              "    }\n",
              "\n",
              "    .dataframe thead th {\n",
              "        text-align: right;\n",
              "    }\n",
              "</style>\n",
              "<table border=\"1\" class=\"dataframe\">\n",
              "  <thead>\n",
              "    <tr style=\"text-align: right;\">\n",
              "      <th>DepartmentDescription</th>\n",
              "      <th>DAIRY</th>\n",
              "      <th>DSD GROCERY</th>\n",
              "      <th>GROCERY DRY GOODS</th>\n",
              "      <th>HOUSEHOLD CHEMICALS/SUPP</th>\n",
              "      <th>HOUSEHOLD PAPER GOODS</th>\n",
              "      <th>IMPULSE MERCHANDISE</th>\n",
              "      <th>PERSONAL CARE</th>\n",
              "      <th>PHARMACY OTC</th>\n",
              "      <th>PRODUCE</th>\n",
              "    </tr>\n",
              "    <tr>\n",
              "      <th>FinelineNumber</th>\n",
              "      <th></th>\n",
              "      <th></th>\n",
              "      <th></th>\n",
              "      <th></th>\n",
              "      <th></th>\n",
              "      <th></th>\n",
              "      <th></th>\n",
              "      <th></th>\n",
              "      <th></th>\n",
              "    </tr>\n",
              "  </thead>\n",
              "  <tbody>\n",
              "    <tr>\n",
              "      <th>100.0</th>\n",
              "      <td>0</td>\n",
              "      <td>0</td>\n",
              "      <td>95</td>\n",
              "      <td>0</td>\n",
              "      <td>0</td>\n",
              "      <td>2354</td>\n",
              "      <td>0</td>\n",
              "      <td>0</td>\n",
              "      <td>69</td>\n",
              "    </tr>\n",
              "    <tr>\n",
              "      <th>110.0</th>\n",
              "      <td>0</td>\n",
              "      <td>0</td>\n",
              "      <td>0</td>\n",
              "      <td>536</td>\n",
              "      <td>770</td>\n",
              "      <td>773</td>\n",
              "      <td>0</td>\n",
              "      <td>0</td>\n",
              "      <td>0</td>\n",
              "    </tr>\n",
              "    <tr>\n",
              "      <th>115.0</th>\n",
              "      <td>0</td>\n",
              "      <td>0</td>\n",
              "      <td>0</td>\n",
              "      <td>10</td>\n",
              "      <td>0</td>\n",
              "      <td>2576</td>\n",
              "      <td>0</td>\n",
              "      <td>0</td>\n",
              "      <td>0</td>\n",
              "    </tr>\n",
              "    <tr>\n",
              "      <th>135.0</th>\n",
              "      <td>0</td>\n",
              "      <td>0</td>\n",
              "      <td>0</td>\n",
              "      <td>0</td>\n",
              "      <td>0</td>\n",
              "      <td>4417</td>\n",
              "      <td>26</td>\n",
              "      <td>0</td>\n",
              "      <td>0</td>\n",
              "    </tr>\n",
              "    <tr>\n",
              "      <th>203.0</th>\n",
              "      <td>0</td>\n",
              "      <td>0</td>\n",
              "      <td>0</td>\n",
              "      <td>0</td>\n",
              "      <td>69</td>\n",
              "      <td>0</td>\n",
              "      <td>2353</td>\n",
              "      <td>0</td>\n",
              "      <td>0</td>\n",
              "    </tr>\n",
              "    <tr>\n",
              "      <th>808.0</th>\n",
              "      <td>0</td>\n",
              "      <td>0</td>\n",
              "      <td>0</td>\n",
              "      <td>0</td>\n",
              "      <td>0</td>\n",
              "      <td>4200</td>\n",
              "      <td>140</td>\n",
              "      <td>0</td>\n",
              "      <td>0</td>\n",
              "    </tr>\n",
              "    <tr>\n",
              "      <th>1407.0</th>\n",
              "      <td>2659</td>\n",
              "      <td>0</td>\n",
              "      <td>0</td>\n",
              "      <td>0</td>\n",
              "      <td>0</td>\n",
              "      <td>0</td>\n",
              "      <td>177</td>\n",
              "      <td>0</td>\n",
              "      <td>0</td>\n",
              "    </tr>\n",
              "    <tr>\n",
              "      <th>1508.0</th>\n",
              "      <td>4961</td>\n",
              "      <td>0</td>\n",
              "      <td>0</td>\n",
              "      <td>0</td>\n",
              "      <td>0</td>\n",
              "      <td>0</td>\n",
              "      <td>0</td>\n",
              "      <td>0</td>\n",
              "      <td>0</td>\n",
              "    </tr>\n",
              "    <tr>\n",
              "      <th>3004.0</th>\n",
              "      <td>0</td>\n",
              "      <td>1074</td>\n",
              "      <td>109</td>\n",
              "      <td>0</td>\n",
              "      <td>587</td>\n",
              "      <td>0</td>\n",
              "      <td>0</td>\n",
              "      <td>0</td>\n",
              "      <td>486</td>\n",
              "    </tr>\n",
              "    <tr>\n",
              "      <th>3555.0</th>\n",
              "      <td>0</td>\n",
              "      <td>0</td>\n",
              "      <td>2056</td>\n",
              "      <td>0</td>\n",
              "      <td>0</td>\n",
              "      <td>0</td>\n",
              "      <td>0</td>\n",
              "      <td>0</td>\n",
              "      <td>0</td>\n",
              "    </tr>\n",
              "    <tr>\n",
              "      <th>3600.0</th>\n",
              "      <td>0</td>\n",
              "      <td>0</td>\n",
              "      <td>2455</td>\n",
              "      <td>0</td>\n",
              "      <td>0</td>\n",
              "      <td>0</td>\n",
              "      <td>0</td>\n",
              "      <td>0</td>\n",
              "      <td>0</td>\n",
              "    </tr>\n",
              "    <tr>\n",
              "      <th>3601.0</th>\n",
              "      <td>0</td>\n",
              "      <td>37</td>\n",
              "      <td>261</td>\n",
              "      <td>0</td>\n",
              "      <td>0</td>\n",
              "      <td>0</td>\n",
              "      <td>0</td>\n",
              "      <td>0</td>\n",
              "      <td>2034</td>\n",
              "    </tr>\n",
              "    <tr>\n",
              "      <th>4606.0</th>\n",
              "      <td>0</td>\n",
              "      <td>2721</td>\n",
              "      <td>0</td>\n",
              "      <td>0</td>\n",
              "      <td>0</td>\n",
              "      <td>0</td>\n",
              "      <td>0</td>\n",
              "      <td>0</td>\n",
              "      <td>2</td>\n",
              "    </tr>\n",
              "    <tr>\n",
              "      <th>5501.0</th>\n",
              "      <td>0</td>\n",
              "      <td>0</td>\n",
              "      <td>0</td>\n",
              "      <td>0</td>\n",
              "      <td>0</td>\n",
              "      <td>0</td>\n",
              "      <td>0</td>\n",
              "      <td>2</td>\n",
              "      <td>7799</td>\n",
              "    </tr>\n",
              "    <tr>\n",
              "      <th>9546.0</th>\n",
              "      <td>0</td>\n",
              "      <td>2997</td>\n",
              "      <td>0</td>\n",
              "      <td>0</td>\n",
              "      <td>0</td>\n",
              "      <td>0</td>\n",
              "      <td>0</td>\n",
              "      <td>0</td>\n",
              "      <td>0</td>\n",
              "    </tr>\n",
              "  </tbody>\n",
              "</table>\n",
              "</div>\n",
              "      <button class=\"colab-df-convert\" onclick=\"convertToInteractive('df-5c2eaf4d-52df-4e3d-a443-fbc4308645e7')\"\n",
              "              title=\"Convert this dataframe to an interactive table.\"\n",
              "              style=\"display:none;\">\n",
              "        \n",
              "  <svg xmlns=\"http://www.w3.org/2000/svg\" height=\"24px\"viewBox=\"0 0 24 24\"\n",
              "       width=\"24px\">\n",
              "    <path d=\"M0 0h24v24H0V0z\" fill=\"none\"/>\n",
              "    <path d=\"M18.56 5.44l.94 2.06.94-2.06 2.06-.94-2.06-.94-.94-2.06-.94 2.06-2.06.94zm-11 1L8.5 8.5l.94-2.06 2.06-.94-2.06-.94L8.5 2.5l-.94 2.06-2.06.94zm10 10l.94 2.06.94-2.06 2.06-.94-2.06-.94-.94-2.06-.94 2.06-2.06.94z\"/><path d=\"M17.41 7.96l-1.37-1.37c-.4-.4-.92-.59-1.43-.59-.52 0-1.04.2-1.43.59L10.3 9.45l-7.72 7.72c-.78.78-.78 2.05 0 2.83L4 21.41c.39.39.9.59 1.41.59.51 0 1.02-.2 1.41-.59l7.78-7.78 2.81-2.81c.8-.78.8-2.07 0-2.86zM5.41 20L4 18.59l7.72-7.72 1.47 1.35L5.41 20z\"/>\n",
              "  </svg>\n",
              "      </button>\n",
              "      \n",
              "  <style>\n",
              "    .colab-df-container {\n",
              "      display:flex;\n",
              "      flex-wrap:wrap;\n",
              "      gap: 12px;\n",
              "    }\n",
              "\n",
              "    .colab-df-convert {\n",
              "      background-color: #E8F0FE;\n",
              "      border: none;\n",
              "      border-radius: 50%;\n",
              "      cursor: pointer;\n",
              "      display: none;\n",
              "      fill: #1967D2;\n",
              "      height: 32px;\n",
              "      padding: 0 0 0 0;\n",
              "      width: 32px;\n",
              "    }\n",
              "\n",
              "    .colab-df-convert:hover {\n",
              "      background-color: #E2EBFA;\n",
              "      box-shadow: 0px 1px 2px rgba(60, 64, 67, 0.3), 0px 1px 3px 1px rgba(60, 64, 67, 0.15);\n",
              "      fill: #174EA6;\n",
              "    }\n",
              "\n",
              "    [theme=dark] .colab-df-convert {\n",
              "      background-color: #3B4455;\n",
              "      fill: #D2E3FC;\n",
              "    }\n",
              "\n",
              "    [theme=dark] .colab-df-convert:hover {\n",
              "      background-color: #434B5C;\n",
              "      box-shadow: 0px 1px 3px 1px rgba(0, 0, 0, 0.15);\n",
              "      filter: drop-shadow(0px 1px 2px rgba(0, 0, 0, 0.3));\n",
              "      fill: #FFFFFF;\n",
              "    }\n",
              "  </style>\n",
              "\n",
              "      <script>\n",
              "        const buttonEl =\n",
              "          document.querySelector('#df-5c2eaf4d-52df-4e3d-a443-fbc4308645e7 button.colab-df-convert');\n",
              "        buttonEl.style.display =\n",
              "          google.colab.kernel.accessAllowed ? 'block' : 'none';\n",
              "\n",
              "        async function convertToInteractive(key) {\n",
              "          const element = document.querySelector('#df-5c2eaf4d-52df-4e3d-a443-fbc4308645e7');\n",
              "          const dataTable =\n",
              "            await google.colab.kernel.invokeFunction('convertToInteractive',\n",
              "                                                     [key], {});\n",
              "          if (!dataTable) return;\n",
              "\n",
              "          const docLinkHtml = 'Like what you see? Visit the ' +\n",
              "            '<a target=\"_blank\" href=https://colab.research.google.com/notebooks/data_table.ipynb>data table notebook</a>'\n",
              "            + ' to learn more about interactive tables.';\n",
              "          element.innerHTML = '';\n",
              "          dataTable['output_type'] = 'display_data';\n",
              "          await google.colab.output.renderOutput(dataTable, element);\n",
              "          const docLink = document.createElement('div');\n",
              "          docLink.innerHTML = docLinkHtml;\n",
              "          element.appendChild(docLink);\n",
              "        }\n",
              "      </script>\n",
              "    </div>\n",
              "  </div>\n",
              "  "
            ]
          },
          "metadata": {},
          "execution_count": 42
        }
      ],
      "source": [
        "# Build a crosstab between DepartmentDescription and FinelineNumber,\n",
        "# for most popular DepartmentDescription (total ScanCount > 20_000)\n",
        "# and most popular FinelineNumber (total ScanCount > 2000)\n",
        "\n",
        "\n",
        "popular_dd = train.groupby('DepartmentDescription').ScanCount.sum().sort_values(ascending=False)[:10].index\n",
        "sub = train[train.DepartmentDescription.isin(popular_dd)]\n",
        "sub = sub[sub.FinelineNumber.isin(sub.FinelineNumber.value_counts().iloc[:15].index)]\n",
        "\n",
        "tab = pd.crosstab(sub.FinelineNumber, sub.DepartmentDescription)\n",
        "tab"
      ]
    },
    {
      "cell_type": "code",
      "execution_count": 42,
      "metadata": {
        "id": "XarOaqHqqZLV"
      },
      "outputs": [],
      "source": []
    },
    {
      "cell_type": "markdown",
      "metadata": {
        "id": "E3OIRX-vqZLV"
      },
      "source": [
        "### 3.5 Upc"
      ]
    },
    {
      "cell_type": "code",
      "execution_count": 43,
      "metadata": {
        "colab": {
          "base_uri": "https://localhost:8080/"
        },
        "id": "VPFtI4sQqZLV",
        "outputId": "a12274af-d9f8-436d-f802-73b9ba45dcce"
      },
      "outputs": [
        {
          "output_type": "execute_result",
          "data": {
            "text/plain": [
              "4.011000e+03    7657\n",
              "6.053886e+10    2501\n",
              "7.874235e+09    2067\n",
              "7.874235e+09    1883\n",
              "4.046000e+03    1652\n",
              "                ... \n",
              "1.714581e+09       1\n",
              "8.961101e+11       1\n",
              "7.461946e+10       1\n",
              "7.245368e+10       1\n",
              "5.440000e+09       1\n",
              "Name: Upc, Length: 97714, dtype: int64"
            ]
          },
          "metadata": {},
          "execution_count": 43
        }
      ],
      "source": [
        "train.Upc.value_counts()"
      ]
    },
    {
      "cell_type": "code",
      "execution_count": 43,
      "metadata": {
        "id": "LOR3q13MqZLV"
      },
      "outputs": [],
      "source": []
    },
    {
      "cell_type": "markdown",
      "metadata": {
        "id": "GVrBG5VnqZLV"
      },
      "source": [
        "## Conclusions on EDA\n",
        "\n",
        " - Visits are mostly consist of small number of products\n",
        " - Large visits are on weekends\n",
        " - `TripType` depends on `DepartmentDescription` and `FinelineNumber`\n",
        " - `Upc` is something like a bar code, could be usefull but contains almost 100k unique values\n",
        " "
      ]
    },
    {
      "cell_type": "markdown",
      "metadata": {
        "id": "g86XNPSzqZLV"
      },
      "source": [
        "# 4. Generate features"
      ]
    },
    {
      "cell_type": "code",
      "execution_count": 44,
      "metadata": {
        "id": "F3SKPtLyqZLW"
      },
      "outputs": [],
      "source": [
        "train = pd.read_csv('train.csv')\n",
        "# test = pd.read_csv('walmart-recruiting-trip-type-classification/test.csv')"
      ]
    },
    {
      "cell_type": "code",
      "execution_count": 45,
      "metadata": {
        "id": "htX0gJzTqZLW"
      },
      "outputs": [],
      "source": [
        "def return_nth(x, n=0):\n",
        "    try:\n",
        "        return x[n]\n",
        "    except:\n",
        "        return np.nan\n",
        "    \n",
        "def return_nth_val(x, n=0):\n",
        "    try:\n",
        "        return x[n]\n",
        "    except:\n",
        "        return 0\n",
        "    \n",
        "def is_weekend(x):\n",
        "    return int(x in ['Sunday', 'Saturday'])\n",
        "\n",
        "def has_return(x):\n",
        "    return int(any(_x < 0 for _x in x))\n",
        "\n",
        "def sum_return(x):\n",
        "    return np.sum([_x for _x in x if _x < 0])"
      ]
    },
    {
      "cell_type": "code",
      "execution_count": 46,
      "metadata": {
        "id": "KPHsC5BSqZLW"
      },
      "outputs": [],
      "source": [
        "df = train.copy()"
      ]
    },
    {
      "cell_type": "code",
      "execution_count": 47,
      "metadata": {
        "id": "6DEParK0qZLW"
      },
      "outputs": [],
      "source": [
        "def generate_features(df):\n",
        "    \n",
        "    df = df.copy()\n",
        "    \n",
        "    # 1. Most frequent DepartmentDescription in the purchase, second most frequent, third, fourth.\n",
        "    f = lambda grp: grp.value_counts().nlargest(6)\n",
        "    x = df.groupby('VisitNumber')['DepartmentDescription'].apply(f).reset_index()\n",
        "    gp = x.groupby('VisitNumber')['level_1'].unique()\n",
        "\n",
        "    df['PopularCategory'] = df.VisitNumber.map(gp)\n",
        "    for i in range(4):\n",
        "        df[f'Category_{i}'] = df['PopularCategory'].apply(return_nth, args=[i])\n",
        "\n",
        "    # 2. Same for FinelineNumber, but 6\n",
        "    x = df.groupby('VisitNumber')['FinelineNumber'].apply(f).reset_index()\n",
        "    gp = x.groupby('VisitNumber')['level_1'].unique()\n",
        "\n",
        "    df['PopularFineline'] = df.VisitNumber.map(gp)\n",
        "    for i in range(6):\n",
        "        df[f'Fineline_{i}'] = df['PopularFineline'].apply(return_nth, args=[i]).astype(object)\n",
        "\n",
        "    # 3. Count number of unique DepartmentDescription in the purchase\n",
        "    gp = df.groupby('VisitNumber')['DepartmentDescription'].nunique()\n",
        "    df['#Unique_Department'] = df.VisitNumber.map(gp)\n",
        "\n",
        "    # 4. Count number of unique FinelineNumber in the purchase.\n",
        "    gp = df.groupby('VisitNumber')['FinelineNumber'].nunique()\n",
        "    df['#Unique_Fineline'] = df.VisitNumber.map(gp)\n",
        "\n",
        "    # 5. Count ScanCount (number of unique Upc in the purchase)\n",
        "\n",
        "    gp = df.groupby('VisitNumber')['ScanCount'].count()\n",
        "    df['#UniqueScanCount'] = df['VisitNumber'].map(gp)   \n",
        "\n",
        "    # 6. Sum ScanCount\n",
        "\n",
        "    gp = df.groupby('VisitNumber')['ScanCount'].sum()\n",
        "    df['TotalScanCount'] = df['VisitNumber'].map(gp)\n",
        "\n",
        "    # 7. Is weekend\n",
        "\n",
        "    df['is_Weekend'] = df['Weekday'].apply(is_weekend).astype(object)\n",
        "\n",
        "    # 8. Sum returns\n",
        "\n",
        "    gp = df.groupby('VisitNumber')['ScanCount'].apply(sum_return)\n",
        "    df['total_return'] = df.VisitNumber.map(gp)\n",
        "    df['total_return'].fillna(0, inplace=True)\n",
        "\n",
        "    # Drop old and intermediate features\n",
        "\n",
        "    df = df.drop(['Upc', 'ScanCount', 'DepartmentDescription',\n",
        "                  'FinelineNumber', 'PopularFineline', 'PopularCategory'], axis=1)\n",
        "\n",
        "    # Drop duplicated rows (with the same VisitNumber)\n",
        "\n",
        "    df = df.drop_duplicates(keep='first')\n",
        "    \n",
        "    return df"
      ]
    },
    {
      "cell_type": "code",
      "execution_count": 48,
      "metadata": {
        "id": "tQlnQewdqZLW"
      },
      "outputs": [],
      "source": [
        "# Running this cell takes about 10 minutes\n",
        "df = generate_features(df)"
      ]
    },
    {
      "cell_type": "markdown",
      "metadata": {
        "id": "-pjldXP_qZLW"
      },
      "source": [
        "# 5. Train a model"
      ]
    },
    {
      "cell_type": "code",
      "source": [
        "pip install catboost"
      ],
      "metadata": {
        "colab": {
          "base_uri": "https://localhost:8080/"
        },
        "id": "WbKNEMlPeVZK",
        "outputId": "a00f5d49-d844-4a3a-f434-cb98e053c674"
      },
      "execution_count": 44,
      "outputs": [
        {
          "output_type": "stream",
          "name": "stdout",
          "text": [
            "Looking in indexes: https://pypi.org/simple, https://us-python.pkg.dev/colab-wheels/public/simple/\n",
            "Collecting catboost\n",
            "  Downloading catboost-1.1.1-cp39-none-manylinux1_x86_64.whl (76.6 MB)\n",
            "\u001b[2K     \u001b[90m━━━━━━━━━━━━━━━━━━━━━━━━━━━━━━━━━━━━━━━━\u001b[0m \u001b[32m76.6/76.6 MB\u001b[0m \u001b[31m12.1 MB/s\u001b[0m eta \u001b[36m0:00:00\u001b[0m\n",
            "\u001b[?25hRequirement already satisfied: pandas>=0.24.0 in /usr/local/lib/python3.9/dist-packages (from catboost) (1.4.4)\n",
            "Requirement already satisfied: scipy in /usr/local/lib/python3.9/dist-packages (from catboost) (1.10.1)\n",
            "Requirement already satisfied: plotly in /usr/local/lib/python3.9/dist-packages (from catboost) (5.13.1)\n",
            "Requirement already satisfied: numpy>=1.16.0 in /usr/local/lib/python3.9/dist-packages (from catboost) (1.22.4)\n",
            "Requirement already satisfied: six in /usr/local/lib/python3.9/dist-packages (from catboost) (1.16.0)\n",
            "Requirement already satisfied: matplotlib in /usr/local/lib/python3.9/dist-packages (from catboost) (3.7.1)\n",
            "Requirement already satisfied: graphviz in /usr/local/lib/python3.9/dist-packages (from catboost) (0.20.1)\n",
            "Requirement already satisfied: pytz>=2020.1 in /usr/local/lib/python3.9/dist-packages (from pandas>=0.24.0->catboost) (2022.7.1)\n",
            "Requirement already satisfied: python-dateutil>=2.8.1 in /usr/local/lib/python3.9/dist-packages (from pandas>=0.24.0->catboost) (2.8.2)\n",
            "Requirement already satisfied: kiwisolver>=1.0.1 in /usr/local/lib/python3.9/dist-packages (from matplotlib->catboost) (1.4.4)\n",
            "Requirement already satisfied: cycler>=0.10 in /usr/local/lib/python3.9/dist-packages (from matplotlib->catboost) (0.11.0)\n",
            "Requirement already satisfied: pillow>=6.2.0 in /usr/local/lib/python3.9/dist-packages (from matplotlib->catboost) (8.4.0)\n",
            "Requirement already satisfied: pyparsing>=2.3.1 in /usr/local/lib/python3.9/dist-packages (from matplotlib->catboost) (3.0.9)\n",
            "Requirement already satisfied: importlib-resources>=3.2.0 in /usr/local/lib/python3.9/dist-packages (from matplotlib->catboost) (5.12.0)\n",
            "Requirement already satisfied: contourpy>=1.0.1 in /usr/local/lib/python3.9/dist-packages (from matplotlib->catboost) (1.0.7)\n",
            "Requirement already satisfied: fonttools>=4.22.0 in /usr/local/lib/python3.9/dist-packages (from matplotlib->catboost) (4.39.3)\n",
            "Requirement already satisfied: packaging>=20.0 in /usr/local/lib/python3.9/dist-packages (from matplotlib->catboost) (23.0)\n",
            "Requirement already satisfied: tenacity>=6.2.0 in /usr/local/lib/python3.9/dist-packages (from plotly->catboost) (8.2.2)\n",
            "Requirement already satisfied: zipp>=3.1.0 in /usr/local/lib/python3.9/dist-packages (from importlib-resources>=3.2.0->matplotlib->catboost) (3.15.0)\n",
            "Installing collected packages: catboost\n",
            "Successfully installed catboost-1.1.1\n"
          ]
        }
      ]
    },
    {
      "cell_type": "code",
      "execution_count": 45,
      "metadata": {
        "id": "JlK4PlKHqZLX"
      },
      "outputs": [],
      "source": [
        "from catboost import CatBoostClassifier, Pool"
      ]
    },
    {
      "cell_type": "code",
      "execution_count": 46,
      "metadata": {
        "colab": {
          "base_uri": "https://localhost:8080/"
        },
        "id": "YBcy6lXbqZLX",
        "outputId": "cfe663a6-57d5-4cb9-ac58-217e7f3e32a2"
      },
      "outputs": [
        {
          "output_type": "stream",
          "name": "stdout",
          "text": [
            "-2 TripType int64\n",
            "-1 VisitNumber int64\n",
            "0 Weekday object\n",
            "1 Category_0 object\n",
            "2 Category_1 object\n",
            "3 Category_2 object\n",
            "4 Category_3 object\n",
            "5 Fineline_0 object\n",
            "6 Fineline_1 object\n",
            "7 Fineline_2 object\n",
            "8 Fineline_3 object\n",
            "9 Fineline_4 object\n",
            "10 Fineline_5 object\n",
            "11 #Unique_Department int64\n",
            "12 #Unique_Fineline int64\n",
            "13 #UniqueScanCount int64\n",
            "14 TotalScanCount int64\n",
            "15 is_Weekend object\n",
            "16 total_return float64\n"
          ]
        }
      ],
      "source": [
        "for i, col in enumerate(df.columns):\n",
        "    print(i-2, col, df[col].dtype)"
      ]
    },
    {
      "cell_type": "code",
      "execution_count": 47,
      "metadata": {
        "id": "4umTqRLXqZLX"
      },
      "outputs": [],
      "source": [
        "for col in df.columns:\n",
        "    if col.startswith('Category'):\n",
        "        df[col]=df[col].apply(str)\n",
        "    if col.startswith('Fineline'):\n",
        "        df[col]=df[col].apply(str)"
      ]
    },
    {
      "cell_type": "code",
      "execution_count": 48,
      "metadata": {
        "id": "cepdB-BXqZLX"
      },
      "outputs": [],
      "source": [
        "df.fillna('NaN', inplace=True)\n",
        "x_train, x_eval = train_test_split(df, test_size=0.1, random_state=10, shuffle=True)\n",
        "\n",
        "cat_features = [*list(range(10)), 15]\n",
        "\n",
        "data_train = Pool(x_train.drop(['TripType', 'VisitNumber'], axis=1), \n",
        "                  label=x_train.TripType,\n",
        "                  cat_features=cat_features)\n",
        "\n",
        "data_eval = Pool(x_eval.drop(['TripType', 'VisitNumber'], axis=1), \n",
        "                 label=x_eval.TripType,\n",
        "                 cat_features=cat_features)"
      ]
    },
    {
      "cell_type": "code",
      "execution_count": 49,
      "metadata": {
        "id": "VByGZ5JIqZLY"
      },
      "outputs": [],
      "source": [
        "ctb_params = {\n",
        "    'depth': 4,\n",
        "    'learning_rate': .3,\n",
        "    'l2_leaf_reg': 3,\n",
        "    'loss_function': 'MultiClass',\n",
        "    'verbose': 1,\n",
        "    'task_type': 'GPU',\n",
        "    'thread_count': 12,\n",
        "    'iterations': 100\n",
        "}"
      ]
    },
    {
      "cell_type": "code",
      "execution_count": 50,
      "metadata": {
        "colab": {
          "base_uri": "https://localhost:8080/"
        },
        "id": "Xy8ec6vqqZLY",
        "outputId": "25baf71b-18bb-4ec6-9ab6-b9a610eb112f"
      },
      "outputs": [
        {
          "output_type": "stream",
          "name": "stdout",
          "text": [
            "0:\tlearn: 2.5555086\ttest: 2.5636335\tbest: 2.5636335 (0)\ttotal: 66.6ms\tremaining: 6.59s\n",
            "1:\tlearn: 2.1890952\ttest: 2.1747675\tbest: 2.1747675 (1)\ttotal: 131ms\tremaining: 6.42s\n",
            "2:\tlearn: 2.0382956\ttest: 2.0331047\tbest: 2.0331047 (2)\ttotal: 189ms\tremaining: 6.12s\n",
            "3:\tlearn: 1.9577973\ttest: 1.9558832\tbest: 1.9558832 (3)\ttotal: 245ms\tremaining: 5.88s\n",
            "4:\tlearn: 1.8606057\ttest: 1.8583096\tbest: 1.8583096 (4)\ttotal: 314ms\tremaining: 5.96s\n",
            "5:\tlearn: 1.8185712\ttest: 1.8193100\tbest: 1.8193100 (5)\ttotal: 382ms\tremaining: 5.98s\n",
            "6:\tlearn: 1.7635306\ttest: 1.7606036\tbest: 1.7606036 (6)\ttotal: 428ms\tremaining: 5.69s\n",
            "7:\tlearn: 1.7258602\ttest: 1.7259438\tbest: 1.7259438 (7)\ttotal: 473ms\tremaining: 5.44s\n",
            "8:\tlearn: 1.6856605\ttest: 1.6823111\tbest: 1.6823111 (8)\ttotal: 520ms\tremaining: 5.26s\n",
            "9:\tlearn: 1.6528957\ttest: 1.6491824\tbest: 1.6491824 (9)\ttotal: 566ms\tremaining: 5.1s\n",
            "10:\tlearn: 1.6201896\ttest: 1.6186948\tbest: 1.6186948 (10)\ttotal: 614ms\tremaining: 4.97s\n",
            "11:\tlearn: 1.6034746\ttest: 1.6041538\tbest: 1.6041538 (11)\ttotal: 662ms\tremaining: 4.85s\n",
            "12:\tlearn: 1.5795678\ttest: 1.5785949\tbest: 1.5785949 (12)\ttotal: 717ms\tremaining: 4.8s\n",
            "13:\tlearn: 1.5625483\ttest: 1.5650194\tbest: 1.5650194 (13)\ttotal: 769ms\tremaining: 4.72s\n",
            "14:\tlearn: 1.5503847\ttest: 1.5534581\tbest: 1.5534581 (14)\ttotal: 815ms\tremaining: 4.62s\n",
            "15:\tlearn: 1.5323444\ttest: 1.5306402\tbest: 1.5306402 (15)\ttotal: 860ms\tremaining: 4.52s\n",
            "16:\tlearn: 1.5105693\ttest: 1.5094524\tbest: 1.5094524 (16)\ttotal: 906ms\tremaining: 4.42s\n",
            "17:\tlearn: 1.4958890\ttest: 1.4959007\tbest: 1.4959007 (17)\ttotal: 953ms\tremaining: 4.34s\n",
            "18:\tlearn: 1.4783827\ttest: 1.4800668\tbest: 1.4800668 (18)\ttotal: 1s\tremaining: 4.27s\n",
            "19:\tlearn: 1.4690343\ttest: 1.4705340\tbest: 1.4705340 (19)\ttotal: 1.05s\tremaining: 4.19s\n",
            "20:\tlearn: 1.4620443\ttest: 1.4646006\tbest: 1.4646006 (20)\ttotal: 1.09s\tremaining: 4.11s\n",
            "21:\tlearn: 1.4527513\ttest: 1.4565434\tbest: 1.4565434 (21)\ttotal: 1.14s\tremaining: 4.04s\n",
            "22:\tlearn: 1.4411724\ttest: 1.4468020\tbest: 1.4468020 (22)\ttotal: 1.18s\tremaining: 3.97s\n",
            "23:\tlearn: 1.4319853\ttest: 1.4379434\tbest: 1.4379434 (23)\ttotal: 1.23s\tremaining: 3.91s\n",
            "24:\tlearn: 1.4195343\ttest: 1.4262403\tbest: 1.4262403 (24)\ttotal: 1.28s\tremaining: 3.84s\n",
            "25:\tlearn: 1.4024588\ttest: 1.4079162\tbest: 1.4079162 (25)\ttotal: 1.33s\tremaining: 3.8s\n",
            "26:\tlearn: 1.3937117\ttest: 1.3983248\tbest: 1.3983248 (26)\ttotal: 1.38s\tremaining: 3.73s\n",
            "27:\tlearn: 1.3832134\ttest: 1.3885136\tbest: 1.3885136 (27)\ttotal: 1.43s\tremaining: 3.67s\n",
            "28:\tlearn: 1.3774976\ttest: 1.3841904\tbest: 1.3841904 (28)\ttotal: 1.48s\tremaining: 3.62s\n",
            "29:\tlearn: 1.3648359\ttest: 1.3725260\tbest: 1.3725260 (29)\ttotal: 1.53s\tremaining: 3.56s\n",
            "30:\tlearn: 1.3564519\ttest: 1.3638963\tbest: 1.3638963 (30)\ttotal: 1.57s\tremaining: 3.5s\n",
            "31:\tlearn: 1.3443419\ttest: 1.3495659\tbest: 1.3495659 (31)\ttotal: 1.65s\tremaining: 3.5s\n",
            "32:\tlearn: 1.3390579\ttest: 1.3446082\tbest: 1.3446082 (32)\ttotal: 1.71s\tremaining: 3.47s\n",
            "33:\tlearn: 1.3352039\ttest: 1.3416977\tbest: 1.3416977 (33)\ttotal: 1.76s\tremaining: 3.42s\n",
            "34:\tlearn: 1.3269783\ttest: 1.3347598\tbest: 1.3347598 (34)\ttotal: 1.82s\tremaining: 3.38s\n",
            "35:\tlearn: 1.3175594\ttest: 1.3247209\tbest: 1.3247209 (35)\ttotal: 1.87s\tremaining: 3.33s\n",
            "36:\tlearn: 1.3105595\ttest: 1.3177882\tbest: 1.3177882 (36)\ttotal: 1.93s\tremaining: 3.28s\n",
            "37:\tlearn: 1.2985349\ttest: 1.3061189\tbest: 1.3061189 (37)\ttotal: 1.98s\tremaining: 3.23s\n",
            "38:\tlearn: 1.2954266\ttest: 1.3035036\tbest: 1.3035036 (38)\ttotal: 2.04s\tremaining: 3.19s\n",
            "39:\tlearn: 1.2918080\ttest: 1.3009898\tbest: 1.3009898 (39)\ttotal: 2.11s\tremaining: 3.16s\n",
            "40:\tlearn: 1.2829069\ttest: 1.2914409\tbest: 1.2914409 (40)\ttotal: 2.15s\tremaining: 3.1s\n",
            "41:\tlearn: 1.2781982\ttest: 1.2869790\tbest: 1.2869790 (41)\ttotal: 2.21s\tremaining: 3.06s\n",
            "42:\tlearn: 1.2737810\ttest: 1.2834401\tbest: 1.2834401 (42)\ttotal: 2.26s\tremaining: 3s\n",
            "43:\tlearn: 1.2685841\ttest: 1.2786351\tbest: 1.2786351 (43)\ttotal: 2.31s\tremaining: 2.94s\n",
            "44:\tlearn: 1.2629010\ttest: 1.2735999\tbest: 1.2735999 (44)\ttotal: 2.36s\tremaining: 2.89s\n",
            "45:\tlearn: 1.2597325\ttest: 1.2707378\tbest: 1.2707378 (45)\ttotal: 2.41s\tremaining: 2.83s\n",
            "46:\tlearn: 1.2525205\ttest: 1.2641355\tbest: 1.2641355 (46)\ttotal: 2.46s\tremaining: 2.77s\n",
            "47:\tlearn: 1.2467703\ttest: 1.2599356\tbest: 1.2599356 (47)\ttotal: 2.5s\tremaining: 2.71s\n",
            "48:\tlearn: 1.2437156\ttest: 1.2569075\tbest: 1.2569075 (48)\ttotal: 2.55s\tremaining: 2.66s\n",
            "49:\tlearn: 1.2412234\ttest: 1.2554037\tbest: 1.2554037 (49)\ttotal: 2.6s\tremaining: 2.6s\n",
            "50:\tlearn: 1.2370673\ttest: 1.2527382\tbest: 1.2527382 (50)\ttotal: 2.65s\tremaining: 2.55s\n",
            "51:\tlearn: 1.2321414\ttest: 1.2476270\tbest: 1.2476270 (51)\ttotal: 2.7s\tremaining: 2.49s\n",
            "52:\tlearn: 1.2282556\ttest: 1.2427514\tbest: 1.2427514 (52)\ttotal: 2.75s\tremaining: 2.44s\n",
            "53:\tlearn: 1.2213102\ttest: 1.2359471\tbest: 1.2359471 (53)\ttotal: 2.79s\tremaining: 2.38s\n",
            "54:\tlearn: 1.2183619\ttest: 1.2329787\tbest: 1.2329787 (54)\ttotal: 2.87s\tremaining: 2.35s\n",
            "55:\tlearn: 1.2158218\ttest: 1.2305194\tbest: 1.2305194 (55)\ttotal: 2.95s\tremaining: 2.32s\n",
            "56:\tlearn: 1.2106627\ttest: 1.2243158\tbest: 1.2243158 (56)\ttotal: 3.02s\tremaining: 2.28s\n",
            "57:\tlearn: 1.2070771\ttest: 1.2221831\tbest: 1.2221831 (57)\ttotal: 3.1s\tremaining: 2.24s\n",
            "58:\tlearn: 1.2027290\ttest: 1.2180576\tbest: 1.2180576 (58)\ttotal: 3.22s\tremaining: 2.24s\n",
            "59:\tlearn: 1.1987450\ttest: 1.2147929\tbest: 1.2147929 (59)\ttotal: 3.35s\tremaining: 2.23s\n",
            "60:\tlearn: 1.1955406\ttest: 1.2120107\tbest: 1.2120107 (60)\ttotal: 3.47s\tremaining: 2.22s\n",
            "61:\tlearn: 1.1943577\ttest: 1.2115628\tbest: 1.2115628 (61)\ttotal: 3.6s\tremaining: 2.2s\n",
            "62:\tlearn: 1.1914239\ttest: 1.2088709\tbest: 1.2088709 (62)\ttotal: 3.71s\tremaining: 2.18s\n",
            "63:\tlearn: 1.1898127\ttest: 1.2082921\tbest: 1.2082921 (63)\ttotal: 3.81s\tremaining: 2.14s\n",
            "64:\tlearn: 1.1860947\ttest: 1.2049267\tbest: 1.2049267 (64)\ttotal: 3.92s\tremaining: 2.11s\n",
            "65:\tlearn: 1.1821668\ttest: 1.2014339\tbest: 1.2014339 (65)\ttotal: 4.03s\tremaining: 2.07s\n",
            "66:\tlearn: 1.1794960\ttest: 1.1992874\tbest: 1.1992874 (66)\ttotal: 4.14s\tremaining: 2.04s\n",
            "67:\tlearn: 1.1752113\ttest: 1.1947874\tbest: 1.1947874 (67)\ttotal: 4.25s\tremaining: 2s\n",
            "68:\tlearn: 1.1735856\ttest: 1.1930606\tbest: 1.1930606 (68)\ttotal: 4.36s\tremaining: 1.96s\n",
            "69:\tlearn: 1.1709662\ttest: 1.1910319\tbest: 1.1910319 (69)\ttotal: 4.47s\tremaining: 1.92s\n",
            "70:\tlearn: 1.1693917\ttest: 1.1900531\tbest: 1.1900531 (70)\ttotal: 4.58s\tremaining: 1.87s\n",
            "71:\tlearn: 1.1654050\ttest: 1.1875305\tbest: 1.1875305 (71)\ttotal: 4.69s\tremaining: 1.82s\n",
            "72:\tlearn: 1.1638069\ttest: 1.1864971\tbest: 1.1864971 (72)\ttotal: 4.79s\tremaining: 1.77s\n",
            "73:\tlearn: 1.1606447\ttest: 1.1842791\tbest: 1.1842791 (73)\ttotal: 4.88s\tremaining: 1.72s\n",
            "74:\tlearn: 1.1595103\ttest: 1.1832867\tbest: 1.1832867 (74)\ttotal: 5.02s\tremaining: 1.67s\n",
            "75:\tlearn: 1.1563004\ttest: 1.1801774\tbest: 1.1801774 (75)\ttotal: 5.14s\tremaining: 1.62s\n",
            "76:\tlearn: 1.1555439\ttest: 1.1796843\tbest: 1.1796843 (76)\ttotal: 5.25s\tremaining: 1.57s\n",
            "77:\tlearn: 1.1543536\ttest: 1.1794552\tbest: 1.1794552 (77)\ttotal: 5.29s\tremaining: 1.49s\n",
            "78:\tlearn: 1.1511619\ttest: 1.1759596\tbest: 1.1759596 (78)\ttotal: 5.34s\tremaining: 1.42s\n",
            "79:\tlearn: 1.1488793\ttest: 1.1745280\tbest: 1.1745280 (79)\ttotal: 5.38s\tremaining: 1.35s\n",
            "80:\tlearn: 1.1444625\ttest: 1.1704254\tbest: 1.1704254 (80)\ttotal: 5.44s\tremaining: 1.27s\n",
            "81:\tlearn: 1.1412533\ttest: 1.1679983\tbest: 1.1679983 (81)\ttotal: 5.49s\tremaining: 1.21s\n",
            "82:\tlearn: 1.1395615\ttest: 1.1672003\tbest: 1.1672003 (82)\ttotal: 5.54s\tremaining: 1.13s\n",
            "83:\tlearn: 1.1379417\ttest: 1.1657883\tbest: 1.1657883 (83)\ttotal: 5.58s\tremaining: 1.06s\n",
            "84:\tlearn: 1.1366101\ttest: 1.1649975\tbest: 1.1649975 (84)\ttotal: 5.63s\tremaining: 994ms\n",
            "85:\tlearn: 1.1330910\ttest: 1.1611258\tbest: 1.1611258 (85)\ttotal: 5.68s\tremaining: 925ms\n",
            "86:\tlearn: 1.1318968\ttest: 1.1601986\tbest: 1.1601986 (86)\ttotal: 5.8s\tremaining: 866ms\n",
            "87:\tlearn: 1.1298028\ttest: 1.1591109\tbest: 1.1591109 (87)\ttotal: 5.91s\tremaining: 806ms\n",
            "88:\tlearn: 1.1271335\ttest: 1.1571764\tbest: 1.1571764 (88)\ttotal: 6.02s\tremaining: 744ms\n",
            "89:\tlearn: 1.1247852\ttest: 1.1550303\tbest: 1.1550303 (89)\ttotal: 6.14s\tremaining: 683ms\n",
            "90:\tlearn: 1.1235292\ttest: 1.1542747\tbest: 1.1542747 (90)\ttotal: 6.21s\tremaining: 614ms\n",
            "91:\tlearn: 1.1229673\ttest: 1.1536741\tbest: 1.1536741 (91)\ttotal: 6.3s\tremaining: 547ms\n",
            "92:\tlearn: 1.1216981\ttest: 1.1518198\tbest: 1.1518198 (92)\ttotal: 6.36s\tremaining: 478ms\n",
            "93:\tlearn: 1.1196587\ttest: 1.1494995\tbest: 1.1494995 (93)\ttotal: 6.42s\tremaining: 410ms\n",
            "94:\tlearn: 1.1186186\ttest: 1.1486011\tbest: 1.1486011 (94)\ttotal: 6.51s\tremaining: 343ms\n",
            "95:\tlearn: 1.1171089\ttest: 1.1477716\tbest: 1.1477716 (95)\ttotal: 6.57s\tremaining: 274ms\n",
            "96:\tlearn: 1.1151796\ttest: 1.1461069\tbest: 1.1461069 (96)\ttotal: 6.68s\tremaining: 207ms\n",
            "97:\tlearn: 1.1143698\ttest: 1.1457368\tbest: 1.1457368 (97)\ttotal: 6.8s\tremaining: 139ms\n",
            "98:\tlearn: 1.1112969\ttest: 1.1432095\tbest: 1.1432095 (98)\ttotal: 6.91s\tremaining: 69.8ms\n",
            "99:\tlearn: 1.1097027\ttest: 1.1422183\tbest: 1.1422183 (99)\ttotal: 7.02s\tremaining: 0us\n",
            "bestTest = 1.142218344\n",
            "bestIteration = 99\n"
          ]
        },
        {
          "output_type": "execute_result",
          "data": {
            "text/plain": [
              "<catboost.core.CatBoostClassifier at 0x7f32e62e9cd0>"
            ]
          },
          "metadata": {},
          "execution_count": 50
        }
      ],
      "source": [
        "model = CatBoostClassifier(**ctb_params)\n",
        "model.fit(X = data_train, silent=False, eval_set=data_eval)"
      ]
    },
    {
      "cell_type": "code",
      "execution_count": 51,
      "metadata": {
        "colab": {
          "base_uri": "https://localhost:8080/"
        },
        "id": "f3Q6UiRgqZLY",
        "outputId": "fad0edaf-9d1b-4808-d058-76fab5123c37"
      },
      "outputs": [
        {
          "output_type": "execute_result",
          "data": {
            "text/plain": [
              "99"
            ]
          },
          "metadata": {},
          "execution_count": 51
        }
      ],
      "source": [
        "model.best_iteration_"
      ]
    },
    {
      "cell_type": "code",
      "execution_count": 52,
      "metadata": {
        "id": "awlZl3dyqZLZ"
      },
      "outputs": [],
      "source": [
        "model.save_model('catboost_depth=4_lr=.3_l2=3')\n",
        "# model = CatBoostClassifier()\n",
        "# model = model.load_model('catboost_depth=6_lr=.03_l2=3')"
      ]
    },
    {
      "cell_type": "code",
      "source": [
        "model.get_params()"
      ],
      "metadata": {
        "colab": {
          "base_uri": "https://localhost:8080/"
        },
        "id": "8kMa-2lbSwrY",
        "outputId": "1f77a7d1-56ee-46f6-c165-99c15c9a982f"
      },
      "execution_count": 53,
      "outputs": [
        {
          "output_type": "execute_result",
          "data": {
            "text/plain": [
              "{'iterations': 100,\n",
              " 'learning_rate': 0.3,\n",
              " 'depth': 4,\n",
              " 'l2_leaf_reg': 3,\n",
              " 'loss_function': 'MultiClass',\n",
              " 'thread_count': 12,\n",
              " 'verbose': 1,\n",
              " 'task_type': 'GPU'}"
            ]
          },
          "metadata": {},
          "execution_count": 53
        }
      ]
    },
    {
      "cell_type": "code",
      "source": [
        "!unzip /content/archive.zip"
      ],
      "metadata": {
        "colab": {
          "base_uri": "https://localhost:8080/"
        },
        "id": "IEGHGJosS0X0",
        "outputId": "0b2890bf-b159-46a9-b5e5-f5e4b82a0f25"
      },
      "execution_count": 58,
      "outputs": [
        {
          "output_type": "stream",
          "name": "stdout",
          "text": [
            "Archive:  /content/archive.zip\n",
            "  inflating: test.csv                \n"
          ]
        }
      ]
    },
    {
      "cell_type": "code",
      "source": [
        "test_kaggle = pd.read_csv('test.csv')"
      ],
      "metadata": {
        "id": "jqVSZtWsS0aH"
      },
      "execution_count": 59,
      "outputs": []
    },
    {
      "cell_type": "code",
      "source": [
        "test_kaggle.head()"
      ],
      "metadata": {
        "colab": {
          "base_uri": "https://localhost:8080/",
          "height": 206
        },
        "id": "cY5z-499S0cK",
        "outputId": "a9f15693-71c8-41b4-d4d4-33b2c7a02e30"
      },
      "execution_count": 60,
      "outputs": [
        {
          "output_type": "execute_result",
          "data": {
            "text/plain": [
              "   VisitNumber Weekday           Upc  ScanCount DepartmentDescription  \\\n",
              "0            1  Friday  7.250339e+10          1                 SHOES   \n",
              "1            1  Friday  1.707711e+09          1                 DAIRY   \n",
              "2            1  Friday  8.947000e+10          1                 DAIRY   \n",
              "3            1  Friday  8.849121e+10          1     GROCERY DRY GOODS   \n",
              "4            2  Friday  2.840015e+09          1           DSD GROCERY   \n",
              "\n",
              "   FinelineNumber  \n",
              "0          3002.0  \n",
              "1          1526.0  \n",
              "2          1431.0  \n",
              "3          3555.0  \n",
              "4          4408.0  "
            ],
            "text/html": [
              "\n",
              "  <div id=\"df-5ba063a0-d1cd-4b52-bbea-157acbcd870d\">\n",
              "    <div class=\"colab-df-container\">\n",
              "      <div>\n",
              "<style scoped>\n",
              "    .dataframe tbody tr th:only-of-type {\n",
              "        vertical-align: middle;\n",
              "    }\n",
              "\n",
              "    .dataframe tbody tr th {\n",
              "        vertical-align: top;\n",
              "    }\n",
              "\n",
              "    .dataframe thead th {\n",
              "        text-align: right;\n",
              "    }\n",
              "</style>\n",
              "<table border=\"1\" class=\"dataframe\">\n",
              "  <thead>\n",
              "    <tr style=\"text-align: right;\">\n",
              "      <th></th>\n",
              "      <th>VisitNumber</th>\n",
              "      <th>Weekday</th>\n",
              "      <th>Upc</th>\n",
              "      <th>ScanCount</th>\n",
              "      <th>DepartmentDescription</th>\n",
              "      <th>FinelineNumber</th>\n",
              "    </tr>\n",
              "  </thead>\n",
              "  <tbody>\n",
              "    <tr>\n",
              "      <th>0</th>\n",
              "      <td>1</td>\n",
              "      <td>Friday</td>\n",
              "      <td>7.250339e+10</td>\n",
              "      <td>1</td>\n",
              "      <td>SHOES</td>\n",
              "      <td>3002.0</td>\n",
              "    </tr>\n",
              "    <tr>\n",
              "      <th>1</th>\n",
              "      <td>1</td>\n",
              "      <td>Friday</td>\n",
              "      <td>1.707711e+09</td>\n",
              "      <td>1</td>\n",
              "      <td>DAIRY</td>\n",
              "      <td>1526.0</td>\n",
              "    </tr>\n",
              "    <tr>\n",
              "      <th>2</th>\n",
              "      <td>1</td>\n",
              "      <td>Friday</td>\n",
              "      <td>8.947000e+10</td>\n",
              "      <td>1</td>\n",
              "      <td>DAIRY</td>\n",
              "      <td>1431.0</td>\n",
              "    </tr>\n",
              "    <tr>\n",
              "      <th>3</th>\n",
              "      <td>1</td>\n",
              "      <td>Friday</td>\n",
              "      <td>8.849121e+10</td>\n",
              "      <td>1</td>\n",
              "      <td>GROCERY DRY GOODS</td>\n",
              "      <td>3555.0</td>\n",
              "    </tr>\n",
              "    <tr>\n",
              "      <th>4</th>\n",
              "      <td>2</td>\n",
              "      <td>Friday</td>\n",
              "      <td>2.840015e+09</td>\n",
              "      <td>1</td>\n",
              "      <td>DSD GROCERY</td>\n",
              "      <td>4408.0</td>\n",
              "    </tr>\n",
              "  </tbody>\n",
              "</table>\n",
              "</div>\n",
              "      <button class=\"colab-df-convert\" onclick=\"convertToInteractive('df-5ba063a0-d1cd-4b52-bbea-157acbcd870d')\"\n",
              "              title=\"Convert this dataframe to an interactive table.\"\n",
              "              style=\"display:none;\">\n",
              "        \n",
              "  <svg xmlns=\"http://www.w3.org/2000/svg\" height=\"24px\"viewBox=\"0 0 24 24\"\n",
              "       width=\"24px\">\n",
              "    <path d=\"M0 0h24v24H0V0z\" fill=\"none\"/>\n",
              "    <path d=\"M18.56 5.44l.94 2.06.94-2.06 2.06-.94-2.06-.94-.94-2.06-.94 2.06-2.06.94zm-11 1L8.5 8.5l.94-2.06 2.06-.94-2.06-.94L8.5 2.5l-.94 2.06-2.06.94zm10 10l.94 2.06.94-2.06 2.06-.94-2.06-.94-.94-2.06-.94 2.06-2.06.94z\"/><path d=\"M17.41 7.96l-1.37-1.37c-.4-.4-.92-.59-1.43-.59-.52 0-1.04.2-1.43.59L10.3 9.45l-7.72 7.72c-.78.78-.78 2.05 0 2.83L4 21.41c.39.39.9.59 1.41.59.51 0 1.02-.2 1.41-.59l7.78-7.78 2.81-2.81c.8-.78.8-2.07 0-2.86zM5.41 20L4 18.59l7.72-7.72 1.47 1.35L5.41 20z\"/>\n",
              "  </svg>\n",
              "      </button>\n",
              "      \n",
              "  <style>\n",
              "    .colab-df-container {\n",
              "      display:flex;\n",
              "      flex-wrap:wrap;\n",
              "      gap: 12px;\n",
              "    }\n",
              "\n",
              "    .colab-df-convert {\n",
              "      background-color: #E8F0FE;\n",
              "      border: none;\n",
              "      border-radius: 50%;\n",
              "      cursor: pointer;\n",
              "      display: none;\n",
              "      fill: #1967D2;\n",
              "      height: 32px;\n",
              "      padding: 0 0 0 0;\n",
              "      width: 32px;\n",
              "    }\n",
              "\n",
              "    .colab-df-convert:hover {\n",
              "      background-color: #E2EBFA;\n",
              "      box-shadow: 0px 1px 2px rgba(60, 64, 67, 0.3), 0px 1px 3px 1px rgba(60, 64, 67, 0.15);\n",
              "      fill: #174EA6;\n",
              "    }\n",
              "\n",
              "    [theme=dark] .colab-df-convert {\n",
              "      background-color: #3B4455;\n",
              "      fill: #D2E3FC;\n",
              "    }\n",
              "\n",
              "    [theme=dark] .colab-df-convert:hover {\n",
              "      background-color: #434B5C;\n",
              "      box-shadow: 0px 1px 3px 1px rgba(0, 0, 0, 0.15);\n",
              "      filter: drop-shadow(0px 1px 2px rgba(0, 0, 0, 0.3));\n",
              "      fill: #FFFFFF;\n",
              "    }\n",
              "  </style>\n",
              "\n",
              "      <script>\n",
              "        const buttonEl =\n",
              "          document.querySelector('#df-5ba063a0-d1cd-4b52-bbea-157acbcd870d button.colab-df-convert');\n",
              "        buttonEl.style.display =\n",
              "          google.colab.kernel.accessAllowed ? 'block' : 'none';\n",
              "\n",
              "        async function convertToInteractive(key) {\n",
              "          const element = document.querySelector('#df-5ba063a0-d1cd-4b52-bbea-157acbcd870d');\n",
              "          const dataTable =\n",
              "            await google.colab.kernel.invokeFunction('convertToInteractive',\n",
              "                                                     [key], {});\n",
              "          if (!dataTable) return;\n",
              "\n",
              "          const docLinkHtml = 'Like what you see? Visit the ' +\n",
              "            '<a target=\"_blank\" href=https://colab.research.google.com/notebooks/data_table.ipynb>data table notebook</a>'\n",
              "            + ' to learn more about interactive tables.';\n",
              "          element.innerHTML = '';\n",
              "          dataTable['output_type'] = 'display_data';\n",
              "          await google.colab.output.renderOutput(dataTable, element);\n",
              "          const docLink = document.createElement('div');\n",
              "          docLink.innerHTML = docLinkHtml;\n",
              "          element.appendChild(docLink);\n",
              "        }\n",
              "      </script>\n",
              "    </div>\n",
              "  </div>\n",
              "  "
            ]
          },
          "metadata": {},
          "execution_count": 60
        }
      ]
    },
    {
      "cell_type": "code",
      "source": [
        "df_test = test_kaggle.copy()"
      ],
      "metadata": {
        "id": "7U9xxFgaUI_b"
      },
      "execution_count": 61,
      "outputs": []
    },
    {
      "cell_type": "code",
      "source": [
        "df_test = generate_features(df_test)"
      ],
      "metadata": {
        "id": "vGvGJIVKUMNB"
      },
      "execution_count": 62,
      "outputs": []
    },
    {
      "cell_type": "code",
      "source": [
        "for col in df_test.columns:\n",
        "    if col.startswith('Category'):\n",
        "        df_test[col]=df_test[col].apply(str)\n",
        "    if col.startswith('Fineline'):\n",
        "        df_test[col]=df_test[col].apply(str)"
      ],
      "metadata": {
        "id": "OLWv_HGHUMPT"
      },
      "execution_count": 63,
      "outputs": []
    },
    {
      "cell_type": "code",
      "source": [
        "df_test.fillna('NaN', inplace=True)\n",
        "\n",
        "cat_features = [*list(range(10)), 15]\n",
        "\n",
        "data_test = Pool(df_test.drop(['VisitNumber'], axis=1), \n",
        "                  label=df.TripType,\n",
        "                  cat_features=cat_features)"
      ],
      "metadata": {
        "colab": {
          "base_uri": "https://localhost:8080/",
          "height": 242
        },
        "id": "txevqX3sUMTI",
        "outputId": "c2057046-3c1e-41a0-8f7b-77aa1c70d024"
      },
      "execution_count": 64,
      "outputs": [
        {
          "output_type": "error",
          "ename": "NameError",
          "evalue": "ignored",
          "traceback": [
            "\u001b[0;31m---------------------------------------------------------------------------\u001b[0m",
            "\u001b[0;31mNameError\u001b[0m                                 Traceback (most recent call last)",
            "\u001b[0;32m<ipython-input-64-1dc8e9c8b934>\u001b[0m in \u001b[0;36m<cell line: 5>\u001b[0;34m()\u001b[0m\n\u001b[1;32m      3\u001b[0m \u001b[0mcat_features\u001b[0m \u001b[0;34m=\u001b[0m \u001b[0;34m[\u001b[0m\u001b[0;34m*\u001b[0m\u001b[0mlist\u001b[0m\u001b[0;34m(\u001b[0m\u001b[0mrange\u001b[0m\u001b[0;34m(\u001b[0m\u001b[0;36m10\u001b[0m\u001b[0;34m)\u001b[0m\u001b[0;34m)\u001b[0m\u001b[0;34m,\u001b[0m \u001b[0;36m15\u001b[0m\u001b[0;34m]\u001b[0m\u001b[0;34m\u001b[0m\u001b[0;34m\u001b[0m\u001b[0m\n\u001b[1;32m      4\u001b[0m \u001b[0;34m\u001b[0m\u001b[0m\n\u001b[0;32m----> 5\u001b[0;31m data_test = Pool(df_test.drop(['VisitNumber'], axis=1), \n\u001b[0m\u001b[1;32m      6\u001b[0m                   \u001b[0mlabel\u001b[0m\u001b[0;34m=\u001b[0m\u001b[0mdf\u001b[0m\u001b[0;34m.\u001b[0m\u001b[0mTripType\u001b[0m\u001b[0;34m,\u001b[0m\u001b[0;34m\u001b[0m\u001b[0;34m\u001b[0m\u001b[0m\n\u001b[1;32m      7\u001b[0m                   cat_features=cat_features)\n",
            "\u001b[0;31mNameError\u001b[0m: name 'Pool' is not defined"
          ]
        }
      ]
    },
    {
      "cell_type": "code",
      "source": [
        "test_predict = model.predict(data_test,prediction_type = 'Probability', verbose=1)"
      ],
      "metadata": {
        "id": "yz7rXWZkVNIt"
      },
      "execution_count": 68,
      "outputs": []
    },
    {
      "cell_type": "code",
      "source": [
        "test_predict"
      ],
      "metadata": {
        "colab": {
          "base_uri": "https://localhost:8080/"
        },
        "id": "68JPN4tPWC8U",
        "outputId": "9540ae39-518e-4644-b04d-312d1413bc20"
      },
      "execution_count": 69,
      "outputs": [
        {
          "output_type": "execute_result",
          "data": {
            "text/plain": [
              "array([[4.53909720e-04, 3.74005771e-04, 7.12675854e-03, ...,\n",
              "        3.71167291e-03, 2.66567571e-04, 1.49979705e-02],\n",
              "       [1.11367235e-03, 3.85317846e-03, 2.12043941e-02, ...,\n",
              "        6.51953368e-03, 5.31531535e-04, 5.32475746e-03],\n",
              "       [2.13342761e-07, 9.10188452e-07, 1.22633384e-05, ...,\n",
              "        1.57403980e-08, 6.63675504e-09, 9.99836225e-01],\n",
              "       ...,\n",
              "       [3.64594390e-02, 6.56360593e-04, 2.04286409e-03, ...,\n",
              "        2.39473267e-06, 9.03483680e-07, 5.37970387e-02],\n",
              "       [3.64997360e-05, 1.72835624e-05, 3.60670752e-04, ...,\n",
              "        1.43621120e-02, 1.73669700e-02, 5.46857478e-04],\n",
              "       [3.49748422e-04, 1.74735786e-04, 3.68749056e-03, ...,\n",
              "        8.78864240e-03, 2.98270815e-03, 1.23490349e-03]])"
            ]
          },
          "metadata": {},
          "execution_count": 69
        }
      ]
    },
    {
      "cell_type": "code",
      "source": [
        "!unzip /content/sample_submission.csv.zip"
      ],
      "metadata": {
        "colab": {
          "base_uri": "https://localhost:8080/"
        },
        "id": "WqBQvaNpYd-i",
        "outputId": "315f5405-b0dc-4506-b74a-bf3e1c8635ce"
      },
      "execution_count": 65,
      "outputs": [
        {
          "output_type": "stream",
          "name": "stdout",
          "text": [
            "Archive:  /content/sample_submission.csv.zip\n",
            "  inflating: sample_submission.csv   \n"
          ]
        }
      ]
    },
    {
      "cell_type": "code",
      "source": [
        "sample_sub = pd.read_csv(\"/content/sample_submission.csv\")"
      ],
      "metadata": {
        "id": "CHwnuCa2YUfp"
      },
      "execution_count": 66,
      "outputs": []
    },
    {
      "cell_type": "code",
      "source": [
        "sample_sub.shape"
      ],
      "metadata": {
        "colab": {
          "base_uri": "https://localhost:8080/"
        },
        "id": "FLqnG2lzYUiL",
        "outputId": "5f8bedb6-c646-4417-88a9-53bcc76f577a"
      },
      "execution_count": 72,
      "outputs": [
        {
          "output_type": "execute_result",
          "data": {
            "text/plain": [
              "(95674, 39)"
            ]
          },
          "metadata": {},
          "execution_count": 72
        }
      ]
    },
    {
      "cell_type": "code",
      "source": [
        "df_test.shape"
      ],
      "metadata": {
        "colab": {
          "base_uri": "https://localhost:8080/"
        },
        "id": "iKvBquYvYlhu",
        "outputId": "7c1bd2ae-896b-4750-bd1f-f7f3aa821078"
      },
      "execution_count": 73,
      "outputs": [
        {
          "output_type": "execute_result",
          "data": {
            "text/plain": [
              "(95674, 18)"
            ]
          },
          "metadata": {},
          "execution_count": 73
        }
      ]
    },
    {
      "cell_type": "code",
      "source": [
        "test_predict.shape"
      ],
      "metadata": {
        "colab": {
          "base_uri": "https://localhost:8080/"
        },
        "id": "dBJiYnjiYlju",
        "outputId": "65208d37-e192-4488-ee18-da2f0f0d555d"
      },
      "execution_count": 74,
      "outputs": [
        {
          "output_type": "execute_result",
          "data": {
            "text/plain": [
              "(95674, 38)"
            ]
          },
          "metadata": {},
          "execution_count": 74
        }
      ]
    },
    {
      "cell_type": "code",
      "source": [
        "for i, col in enumerate(sample_sub.columns):\n",
        "    if i == 0:\n",
        "      continue\n",
        "    sample_sub[col] = test_predict[:, i-1]"
      ],
      "metadata": {
        "id": "m40RttW0YlnG"
      },
      "execution_count": 75,
      "outputs": []
    },
    {
      "cell_type": "code",
      "source": [
        "sample_sub.head()"
      ],
      "metadata": {
        "colab": {
          "base_uri": "https://localhost:8080/",
          "height": 386
        },
        "id": "2PHrimKiYlo_",
        "outputId": "62e485d3-ab2d-48a4-e6a6-66247be8c7e3"
      },
      "execution_count": 76,
      "outputs": [
        {
          "output_type": "execute_result",
          "data": {
            "text/plain": [
              "   VisitNumber    TripType_3    TripType_4    TripType_5  TripType_6  \\\n",
              "0            1  4.539097e-04  3.740058e-04  7.126759e-03    0.005121   \n",
              "1            2  1.113672e-03  3.853178e-03  2.120439e-02    0.010506   \n",
              "2            3  2.133428e-07  9.101885e-07  1.226334e-05    0.000003   \n",
              "3            4  2.073450e-03  2.523303e-04  4.019230e-03    0.191957   \n",
              "4            6  3.259630e-07  6.939676e-08  7.454159e-07    0.000006   \n",
              "\n",
              "   TripType_7  TripType_8  TripType_9   TripType_12   TripType_14  ...  \\\n",
              "0    0.062258    0.024400    0.003878  2.991755e-03  7.815338e-06  ...   \n",
              "1    0.052074    0.006046    0.001876  5.157311e-03  1.021791e-05  ...   \n",
              "2    0.000036    0.000008    0.000014  2.210370e-07  1.046011e-09  ...   \n",
              "3    0.006657    0.009615    0.612497  1.079321e-04  5.605842e-06  ...   \n",
              "4    0.000004    0.000004    0.000005  3.246783e-08  3.683166e-09  ...   \n",
              "\n",
              "    TripType_36   TripType_37   TripType_38   TripType_39   TripType_40  \\\n",
              "0  3.106874e-02  1.892879e-02  5.433279e-01  1.820322e-01  5.090233e-04   \n",
              "1  4.322973e-02  2.119951e-02  3.394533e-02  1.798123e-01  1.069026e-03   \n",
              "2  6.624655e-05  4.150904e-06  2.820187e-07  1.214580e-06  1.890629e-07   \n",
              "3  1.126116e-04  3.813604e-05  9.975549e-05  9.551670e-05  3.730620e-06   \n",
              "4  1.284148e-07  9.322495e-08  9.923494e-08  1.833563e-07  4.949319e-09   \n",
              "\n",
              "    TripType_41   TripType_42   TripType_43   TripType_44  TripType_999  \n",
              "0  1.177388e-03  1.415727e-03  3.711673e-03  2.665676e-04      0.014998  \n",
              "1  3.847570e-03  2.313367e-02  6.519534e-03  5.315315e-04      0.005325  \n",
              "2  4.979777e-08  1.551733e-06  1.574040e-08  6.636755e-09      0.999836  \n",
              "3  5.342357e-05  4.736443e-04  7.461815e-06  1.561407e-06      0.006819  \n",
              "4  4.545461e-08  3.780668e-07  7.966232e-09  1.427893e-09      0.999944  \n",
              "\n",
              "[5 rows x 39 columns]"
            ],
            "text/html": [
              "\n",
              "  <div id=\"df-db8c5c80-2a53-48ad-b5df-701111858abb\">\n",
              "    <div class=\"colab-df-container\">\n",
              "      <div>\n",
              "<style scoped>\n",
              "    .dataframe tbody tr th:only-of-type {\n",
              "        vertical-align: middle;\n",
              "    }\n",
              "\n",
              "    .dataframe tbody tr th {\n",
              "        vertical-align: top;\n",
              "    }\n",
              "\n",
              "    .dataframe thead th {\n",
              "        text-align: right;\n",
              "    }\n",
              "</style>\n",
              "<table border=\"1\" class=\"dataframe\">\n",
              "  <thead>\n",
              "    <tr style=\"text-align: right;\">\n",
              "      <th></th>\n",
              "      <th>VisitNumber</th>\n",
              "      <th>TripType_3</th>\n",
              "      <th>TripType_4</th>\n",
              "      <th>TripType_5</th>\n",
              "      <th>TripType_6</th>\n",
              "      <th>TripType_7</th>\n",
              "      <th>TripType_8</th>\n",
              "      <th>TripType_9</th>\n",
              "      <th>TripType_12</th>\n",
              "      <th>TripType_14</th>\n",
              "      <th>...</th>\n",
              "      <th>TripType_36</th>\n",
              "      <th>TripType_37</th>\n",
              "      <th>TripType_38</th>\n",
              "      <th>TripType_39</th>\n",
              "      <th>TripType_40</th>\n",
              "      <th>TripType_41</th>\n",
              "      <th>TripType_42</th>\n",
              "      <th>TripType_43</th>\n",
              "      <th>TripType_44</th>\n",
              "      <th>TripType_999</th>\n",
              "    </tr>\n",
              "  </thead>\n",
              "  <tbody>\n",
              "    <tr>\n",
              "      <th>0</th>\n",
              "      <td>1</td>\n",
              "      <td>4.539097e-04</td>\n",
              "      <td>3.740058e-04</td>\n",
              "      <td>7.126759e-03</td>\n",
              "      <td>0.005121</td>\n",
              "      <td>0.062258</td>\n",
              "      <td>0.024400</td>\n",
              "      <td>0.003878</td>\n",
              "      <td>2.991755e-03</td>\n",
              "      <td>7.815338e-06</td>\n",
              "      <td>...</td>\n",
              "      <td>3.106874e-02</td>\n",
              "      <td>1.892879e-02</td>\n",
              "      <td>5.433279e-01</td>\n",
              "      <td>1.820322e-01</td>\n",
              "      <td>5.090233e-04</td>\n",
              "      <td>1.177388e-03</td>\n",
              "      <td>1.415727e-03</td>\n",
              "      <td>3.711673e-03</td>\n",
              "      <td>2.665676e-04</td>\n",
              "      <td>0.014998</td>\n",
              "    </tr>\n",
              "    <tr>\n",
              "      <th>1</th>\n",
              "      <td>2</td>\n",
              "      <td>1.113672e-03</td>\n",
              "      <td>3.853178e-03</td>\n",
              "      <td>2.120439e-02</td>\n",
              "      <td>0.010506</td>\n",
              "      <td>0.052074</td>\n",
              "      <td>0.006046</td>\n",
              "      <td>0.001876</td>\n",
              "      <td>5.157311e-03</td>\n",
              "      <td>1.021791e-05</td>\n",
              "      <td>...</td>\n",
              "      <td>4.322973e-02</td>\n",
              "      <td>2.119951e-02</td>\n",
              "      <td>3.394533e-02</td>\n",
              "      <td>1.798123e-01</td>\n",
              "      <td>1.069026e-03</td>\n",
              "      <td>3.847570e-03</td>\n",
              "      <td>2.313367e-02</td>\n",
              "      <td>6.519534e-03</td>\n",
              "      <td>5.315315e-04</td>\n",
              "      <td>0.005325</td>\n",
              "    </tr>\n",
              "    <tr>\n",
              "      <th>2</th>\n",
              "      <td>3</td>\n",
              "      <td>2.133428e-07</td>\n",
              "      <td>9.101885e-07</td>\n",
              "      <td>1.226334e-05</td>\n",
              "      <td>0.000003</td>\n",
              "      <td>0.000036</td>\n",
              "      <td>0.000008</td>\n",
              "      <td>0.000014</td>\n",
              "      <td>2.210370e-07</td>\n",
              "      <td>1.046011e-09</td>\n",
              "      <td>...</td>\n",
              "      <td>6.624655e-05</td>\n",
              "      <td>4.150904e-06</td>\n",
              "      <td>2.820187e-07</td>\n",
              "      <td>1.214580e-06</td>\n",
              "      <td>1.890629e-07</td>\n",
              "      <td>4.979777e-08</td>\n",
              "      <td>1.551733e-06</td>\n",
              "      <td>1.574040e-08</td>\n",
              "      <td>6.636755e-09</td>\n",
              "      <td>0.999836</td>\n",
              "    </tr>\n",
              "    <tr>\n",
              "      <th>3</th>\n",
              "      <td>4</td>\n",
              "      <td>2.073450e-03</td>\n",
              "      <td>2.523303e-04</td>\n",
              "      <td>4.019230e-03</td>\n",
              "      <td>0.191957</td>\n",
              "      <td>0.006657</td>\n",
              "      <td>0.009615</td>\n",
              "      <td>0.612497</td>\n",
              "      <td>1.079321e-04</td>\n",
              "      <td>5.605842e-06</td>\n",
              "      <td>...</td>\n",
              "      <td>1.126116e-04</td>\n",
              "      <td>3.813604e-05</td>\n",
              "      <td>9.975549e-05</td>\n",
              "      <td>9.551670e-05</td>\n",
              "      <td>3.730620e-06</td>\n",
              "      <td>5.342357e-05</td>\n",
              "      <td>4.736443e-04</td>\n",
              "      <td>7.461815e-06</td>\n",
              "      <td>1.561407e-06</td>\n",
              "      <td>0.006819</td>\n",
              "    </tr>\n",
              "    <tr>\n",
              "      <th>4</th>\n",
              "      <td>6</td>\n",
              "      <td>3.259630e-07</td>\n",
              "      <td>6.939676e-08</td>\n",
              "      <td>7.454159e-07</td>\n",
              "      <td>0.000006</td>\n",
              "      <td>0.000004</td>\n",
              "      <td>0.000004</td>\n",
              "      <td>0.000005</td>\n",
              "      <td>3.246783e-08</td>\n",
              "      <td>3.683166e-09</td>\n",
              "      <td>...</td>\n",
              "      <td>1.284148e-07</td>\n",
              "      <td>9.322495e-08</td>\n",
              "      <td>9.923494e-08</td>\n",
              "      <td>1.833563e-07</td>\n",
              "      <td>4.949319e-09</td>\n",
              "      <td>4.545461e-08</td>\n",
              "      <td>3.780668e-07</td>\n",
              "      <td>7.966232e-09</td>\n",
              "      <td>1.427893e-09</td>\n",
              "      <td>0.999944</td>\n",
              "    </tr>\n",
              "  </tbody>\n",
              "</table>\n",
              "<p>5 rows × 39 columns</p>\n",
              "</div>\n",
              "      <button class=\"colab-df-convert\" onclick=\"convertToInteractive('df-db8c5c80-2a53-48ad-b5df-701111858abb')\"\n",
              "              title=\"Convert this dataframe to an interactive table.\"\n",
              "              style=\"display:none;\">\n",
              "        \n",
              "  <svg xmlns=\"http://www.w3.org/2000/svg\" height=\"24px\"viewBox=\"0 0 24 24\"\n",
              "       width=\"24px\">\n",
              "    <path d=\"M0 0h24v24H0V0z\" fill=\"none\"/>\n",
              "    <path d=\"M18.56 5.44l.94 2.06.94-2.06 2.06-.94-2.06-.94-.94-2.06-.94 2.06-2.06.94zm-11 1L8.5 8.5l.94-2.06 2.06-.94-2.06-.94L8.5 2.5l-.94 2.06-2.06.94zm10 10l.94 2.06.94-2.06 2.06-.94-2.06-.94-.94-2.06-.94 2.06-2.06.94z\"/><path d=\"M17.41 7.96l-1.37-1.37c-.4-.4-.92-.59-1.43-.59-.52 0-1.04.2-1.43.59L10.3 9.45l-7.72 7.72c-.78.78-.78 2.05 0 2.83L4 21.41c.39.39.9.59 1.41.59.51 0 1.02-.2 1.41-.59l7.78-7.78 2.81-2.81c.8-.78.8-2.07 0-2.86zM5.41 20L4 18.59l7.72-7.72 1.47 1.35L5.41 20z\"/>\n",
              "  </svg>\n",
              "      </button>\n",
              "      \n",
              "  <style>\n",
              "    .colab-df-container {\n",
              "      display:flex;\n",
              "      flex-wrap:wrap;\n",
              "      gap: 12px;\n",
              "    }\n",
              "\n",
              "    .colab-df-convert {\n",
              "      background-color: #E8F0FE;\n",
              "      border: none;\n",
              "      border-radius: 50%;\n",
              "      cursor: pointer;\n",
              "      display: none;\n",
              "      fill: #1967D2;\n",
              "      height: 32px;\n",
              "      padding: 0 0 0 0;\n",
              "      width: 32px;\n",
              "    }\n",
              "\n",
              "    .colab-df-convert:hover {\n",
              "      background-color: #E2EBFA;\n",
              "      box-shadow: 0px 1px 2px rgba(60, 64, 67, 0.3), 0px 1px 3px 1px rgba(60, 64, 67, 0.15);\n",
              "      fill: #174EA6;\n",
              "    }\n",
              "\n",
              "    [theme=dark] .colab-df-convert {\n",
              "      background-color: #3B4455;\n",
              "      fill: #D2E3FC;\n",
              "    }\n",
              "\n",
              "    [theme=dark] .colab-df-convert:hover {\n",
              "      background-color: #434B5C;\n",
              "      box-shadow: 0px 1px 3px 1px rgba(0, 0, 0, 0.15);\n",
              "      filter: drop-shadow(0px 1px 2px rgba(0, 0, 0, 0.3));\n",
              "      fill: #FFFFFF;\n",
              "    }\n",
              "  </style>\n",
              "\n",
              "      <script>\n",
              "        const buttonEl =\n",
              "          document.querySelector('#df-db8c5c80-2a53-48ad-b5df-701111858abb button.colab-df-convert');\n",
              "        buttonEl.style.display =\n",
              "          google.colab.kernel.accessAllowed ? 'block' : 'none';\n",
              "\n",
              "        async function convertToInteractive(key) {\n",
              "          const element = document.querySelector('#df-db8c5c80-2a53-48ad-b5df-701111858abb');\n",
              "          const dataTable =\n",
              "            await google.colab.kernel.invokeFunction('convertToInteractive',\n",
              "                                                     [key], {});\n",
              "          if (!dataTable) return;\n",
              "\n",
              "          const docLinkHtml = 'Like what you see? Visit the ' +\n",
              "            '<a target=\"_blank\" href=https://colab.research.google.com/notebooks/data_table.ipynb>data table notebook</a>'\n",
              "            + ' to learn more about interactive tables.';\n",
              "          element.innerHTML = '';\n",
              "          dataTable['output_type'] = 'display_data';\n",
              "          await google.colab.output.renderOutput(dataTable, element);\n",
              "          const docLink = document.createElement('div');\n",
              "          docLink.innerHTML = docLinkHtml;\n",
              "          element.appendChild(docLink);\n",
              "        }\n",
              "      </script>\n",
              "    </div>\n",
              "  </div>\n",
              "  "
            ]
          },
          "metadata": {},
          "execution_count": 76
        }
      ]
    },
    {
      "cell_type": "code",
      "source": [
        "sample_sub.to_csv('/content/submission_catboost.csv', index= False)"
      ],
      "metadata": {
        "id": "UNB9gUjZYUkf"
      },
      "execution_count": 77,
      "outputs": []
    },
    {
      "cell_type": "code",
      "source": [
        "!kaggle competitions submit -c walmart-recruiting-trip-type-classification -f submission_catboost.csv -m \"Catboost\""
      ],
      "metadata": {
        "colab": {
          "base_uri": "https://localhost:8080/"
        },
        "id": "lBYyE7AfaPW8",
        "outputId": "c5e63d24-76d5-4114-89f9-444be1c45465"
      },
      "execution_count": 78,
      "outputs": [
        {
          "output_type": "stream",
          "name": "stdout",
          "text": [
            "100% 75.6M/75.6M [00:07<00:00, 10.4MB/s]\n",
            "Successfully submitted to Walmart Recruiting: Trip Type Classification"
          ]
        }
      ]
    },
    {
      "cell_type": "markdown",
      "source": [
        "#XGBoost"
      ],
      "metadata": {
        "id": "3-LczBfMOhYF"
      }
    },
    {
      "cell_type": "code",
      "execution_count": 79,
      "metadata": {
        "colab": {
          "base_uri": "https://localhost:8080/"
        },
        "id": "w_3bOgf1qZLb",
        "outputId": "b08ced32-5db1-4c86-917b-79e209a2b3c4"
      },
      "outputs": [
        {
          "output_type": "stream",
          "name": "stdout",
          "text": [
            "Looking in indexes: https://pypi.org/simple, https://us-python.pkg.dev/colab-wheels/public/simple/\n",
            "Requirement already satisfied: xgboost in /usr/local/lib/python3.9/dist-packages (1.7.4)\n",
            "Requirement already satisfied: numpy in /usr/local/lib/python3.9/dist-packages (from xgboost) (1.22.4)\n",
            "Requirement already satisfied: scipy in /usr/local/lib/python3.9/dist-packages (from xgboost) (1.10.1)\n"
          ]
        }
      ],
      "source": [
        "pip install xgboost"
      ]
    },
    {
      "cell_type": "code",
      "source": [
        "from xgboost import XGBClassifier"
      ],
      "metadata": {
        "id": "9xC1gF4vOtEE"
      },
      "execution_count": 80,
      "outputs": []
    },
    {
      "cell_type": "code",
      "source": [
        "df_xgb = df.copy()"
      ],
      "metadata": {
        "id": "9vmBt1cKwNRd"
      },
      "execution_count": 67,
      "outputs": []
    },
    {
      "cell_type": "code",
      "source": [
        "for col in df_xgb.columns:\n",
        "    if col.startswith('Category'):\n",
        "        df_xgb[col] = df_xgb[col].astype(str)\n",
        "    if col.startswith('Fineline'):\n",
        "        df_xgb[col] = df_xgb[col].astype(str)\n",
        "\n",
        "df_xgb[\"is_Weekend\"] = df_xgb[\"is_Weekend\"].apply(str)\n",
        "df_xgb[\"is_Weekend\"] = df_xgb[\"is_Weekend\"].astype(int)"
      ],
      "metadata": {
        "id": "-wch-w9JOtGP"
      },
      "execution_count": 68,
      "outputs": []
    },
    {
      "cell_type": "code",
      "source": [
        "df_xgb.fillna('NaN', inplace=True)"
      ],
      "metadata": {
        "id": "oBu3n9Crwg-a"
      },
      "execution_count": 69,
      "outputs": []
    },
    {
      "cell_type": "code",
      "source": [
        "for col in df_xgb.columns:\n",
        "    if col.startswith('Category'):\n",
        "        df_xgb[col] = df_xgb[col].astype(\"category\")\n",
        "    if col.startswith('Fineline'):\n",
        "        df_xgb[col] = df_xgb[col].astype(\"category\")\n",
        "\n",
        "df_xgb[\"is_Weekend\"] = df_xgb[\"is_Weekend\"].astype(\"category\")\n",
        "df_xgb[\"Weekday\"] = df_xgb[\"Weekday\"].astype(\"category\")"
      ],
      "metadata": {
        "id": "eq4MY1TLwhII"
      },
      "execution_count": 70,
      "outputs": []
    },
    {
      "cell_type": "code",
      "source": [
        "X_train = df_xgb.drop(['TripType','VisitNumber'],axis = 1)\n",
        "y_train = df_xgb['TripType']"
      ],
      "metadata": {
        "id": "uBCJIXhJwhKH"
      },
      "execution_count": 71,
      "outputs": []
    },
    {
      "cell_type": "code",
      "source": [
        "le = LabelEncoder()\n",
        "y_train = le.fit_transform(y_train)\n",
        "le.inverse_transform(range(38))"
      ],
      "metadata": {
        "id": "RkkPeBr7whMK",
        "outputId": "88002e25-6a0d-475a-a83b-c025cfc6cccb",
        "colab": {
          "base_uri": "https://localhost:8080/"
        }
      },
      "execution_count": 72,
      "outputs": [
        {
          "output_type": "execute_result",
          "data": {
            "text/plain": [
              "array([  3,   4,   5,   6,   7,   8,   9,  12,  14,  15,  18,  19,  20,\n",
              "        21,  22,  23,  24,  25,  26,  27,  28,  29,  30,  31,  32,  33,\n",
              "        34,  35,  36,  37,  38,  39,  40,  41,  42,  43,  44, 999])"
            ]
          },
          "metadata": {},
          "execution_count": 72
        }
      ]
    },
    {
      "cell_type": "code",
      "source": [
        "xgb_params = {\n",
        "    'n_estimators': 100, \n",
        "    'max_depth': 4, \n",
        "    'learning_rate': .3, \n",
        "    'verbosity': 1,\n",
        "    'objective': 'multi:softprob',\n",
        "    'reg_lambda': 3,\n",
        "    'nthread': 12,\n",
        "    'tree_method' : 'gpu_hist',\n",
        "    'enable_categorical': True\n",
        "}"
      ],
      "metadata": {
        "id": "a7-klG7dOtH-"
      },
      "execution_count": 102,
      "outputs": []
    },
    {
      "cell_type": "code",
      "source": [
        "model_xgb = XGBClassifier(**xgb_params)"
      ],
      "metadata": {
        "id": "E8F3A4QGOtJ0"
      },
      "execution_count": 103,
      "outputs": []
    },
    {
      "cell_type": "code",
      "source": [
        "%time model_xgb.fit(X=X_train, y=y_train)"
      ],
      "metadata": {
        "colab": {
          "base_uri": "https://localhost:8080/",
          "height": 284
        },
        "id": "9s1q2j2NOtLc",
        "outputId": "c3035e33-4aed-49f8-afcc-b3607982f365"
      },
      "execution_count": 105,
      "outputs": [
        {
          "output_type": "stream",
          "name": "stdout",
          "text": [
            "CPU times: user 27.6 s, sys: 551 ms, total: 28.2 s\n",
            "Wall time: 27.6 s\n"
          ]
        },
        {
          "output_type": "execute_result",
          "data": {
            "text/plain": [
              "XGBClassifier(base_score=None, booster=None, callbacks=None,\n",
              "              colsample_bylevel=None, colsample_bynode=None,\n",
              "              colsample_bytree=None, early_stopping_rounds=None,\n",
              "              enable_categorical=True, eval_metric=None, feature_types=None,\n",
              "              gamma=None, gpu_id=None, grow_policy=None, importance_type=None,\n",
              "              interaction_constraints=None, learning_rate=0.3, max_bin=None,\n",
              "              max_cat_threshold=None, max_cat_to_onehot=None,\n",
              "              max_delta_step=None, max_depth=4, max_leaves=None,\n",
              "              min_child_weight=None, missing=nan, monotone_constraints=None,\n",
              "              n_estimators=100, n_jobs=None, nthread=12, num_parallel_tree=None,\n",
              "              objective='multi:softprob', ...)"
            ],
            "text/html": [
              "<style>#sk-container-id-3 {color: black;background-color: white;}#sk-container-id-3 pre{padding: 0;}#sk-container-id-3 div.sk-toggleable {background-color: white;}#sk-container-id-3 label.sk-toggleable__label {cursor: pointer;display: block;width: 100%;margin-bottom: 0;padding: 0.3em;box-sizing: border-box;text-align: center;}#sk-container-id-3 label.sk-toggleable__label-arrow:before {content: \"▸\";float: left;margin-right: 0.25em;color: #696969;}#sk-container-id-3 label.sk-toggleable__label-arrow:hover:before {color: black;}#sk-container-id-3 div.sk-estimator:hover label.sk-toggleable__label-arrow:before {color: black;}#sk-container-id-3 div.sk-toggleable__content {max-height: 0;max-width: 0;overflow: hidden;text-align: left;background-color: #f0f8ff;}#sk-container-id-3 div.sk-toggleable__content pre {margin: 0.2em;color: black;border-radius: 0.25em;background-color: #f0f8ff;}#sk-container-id-3 input.sk-toggleable__control:checked~div.sk-toggleable__content {max-height: 200px;max-width: 100%;overflow: auto;}#sk-container-id-3 input.sk-toggleable__control:checked~label.sk-toggleable__label-arrow:before {content: \"▾\";}#sk-container-id-3 div.sk-estimator input.sk-toggleable__control:checked~label.sk-toggleable__label {background-color: #d4ebff;}#sk-container-id-3 div.sk-label input.sk-toggleable__control:checked~label.sk-toggleable__label {background-color: #d4ebff;}#sk-container-id-3 input.sk-hidden--visually {border: 0;clip: rect(1px 1px 1px 1px);clip: rect(1px, 1px, 1px, 1px);height: 1px;margin: -1px;overflow: hidden;padding: 0;position: absolute;width: 1px;}#sk-container-id-3 div.sk-estimator {font-family: monospace;background-color: #f0f8ff;border: 1px dotted black;border-radius: 0.25em;box-sizing: border-box;margin-bottom: 0.5em;}#sk-container-id-3 div.sk-estimator:hover {background-color: #d4ebff;}#sk-container-id-3 div.sk-parallel-item::after {content: \"\";width: 100%;border-bottom: 1px solid gray;flex-grow: 1;}#sk-container-id-3 div.sk-label:hover label.sk-toggleable__label {background-color: #d4ebff;}#sk-container-id-3 div.sk-serial::before {content: \"\";position: absolute;border-left: 1px solid gray;box-sizing: border-box;top: 0;bottom: 0;left: 50%;z-index: 0;}#sk-container-id-3 div.sk-serial {display: flex;flex-direction: column;align-items: center;background-color: white;padding-right: 0.2em;padding-left: 0.2em;position: relative;}#sk-container-id-3 div.sk-item {position: relative;z-index: 1;}#sk-container-id-3 div.sk-parallel {display: flex;align-items: stretch;justify-content: center;background-color: white;position: relative;}#sk-container-id-3 div.sk-item::before, #sk-container-id-3 div.sk-parallel-item::before {content: \"\";position: absolute;border-left: 1px solid gray;box-sizing: border-box;top: 0;bottom: 0;left: 50%;z-index: -1;}#sk-container-id-3 div.sk-parallel-item {display: flex;flex-direction: column;z-index: 1;position: relative;background-color: white;}#sk-container-id-3 div.sk-parallel-item:first-child::after {align-self: flex-end;width: 50%;}#sk-container-id-3 div.sk-parallel-item:last-child::after {align-self: flex-start;width: 50%;}#sk-container-id-3 div.sk-parallel-item:only-child::after {width: 0;}#sk-container-id-3 div.sk-dashed-wrapped {border: 1px dashed gray;margin: 0 0.4em 0.5em 0.4em;box-sizing: border-box;padding-bottom: 0.4em;background-color: white;}#sk-container-id-3 div.sk-label label {font-family: monospace;font-weight: bold;display: inline-block;line-height: 1.2em;}#sk-container-id-3 div.sk-label-container {text-align: center;}#sk-container-id-3 div.sk-container {/* jupyter's `normalize.less` sets `[hidden] { display: none; }` but bootstrap.min.css set `[hidden] { display: none !important; }` so we also need the `!important` here to be able to override the default hidden behavior on the sphinx rendered scikit-learn.org. See: https://github.com/scikit-learn/scikit-learn/issues/21755 */display: inline-block !important;position: relative;}#sk-container-id-3 div.sk-text-repr-fallback {display: none;}</style><div id=\"sk-container-id-3\" class=\"sk-top-container\"><div class=\"sk-text-repr-fallback\"><pre>XGBClassifier(base_score=None, booster=None, callbacks=None,\n",
              "              colsample_bylevel=None, colsample_bynode=None,\n",
              "              colsample_bytree=None, early_stopping_rounds=None,\n",
              "              enable_categorical=True, eval_metric=None, feature_types=None,\n",
              "              gamma=None, gpu_id=None, grow_policy=None, importance_type=None,\n",
              "              interaction_constraints=None, learning_rate=0.3, max_bin=None,\n",
              "              max_cat_threshold=None, max_cat_to_onehot=None,\n",
              "              max_delta_step=None, max_depth=4, max_leaves=None,\n",
              "              min_child_weight=None, missing=nan, monotone_constraints=None,\n",
              "              n_estimators=100, n_jobs=None, nthread=12, num_parallel_tree=None,\n",
              "              objective=&#x27;multi:softprob&#x27;, ...)</pre><b>In a Jupyter environment, please rerun this cell to show the HTML representation or trust the notebook. <br />On GitHub, the HTML representation is unable to render, please try loading this page with nbviewer.org.</b></div><div class=\"sk-container\" hidden><div class=\"sk-item\"><div class=\"sk-estimator sk-toggleable\"><input class=\"sk-toggleable__control sk-hidden--visually\" id=\"sk-estimator-id-3\" type=\"checkbox\" checked><label for=\"sk-estimator-id-3\" class=\"sk-toggleable__label sk-toggleable__label-arrow\">XGBClassifier</label><div class=\"sk-toggleable__content\"><pre>XGBClassifier(base_score=None, booster=None, callbacks=None,\n",
              "              colsample_bylevel=None, colsample_bynode=None,\n",
              "              colsample_bytree=None, early_stopping_rounds=None,\n",
              "              enable_categorical=True, eval_metric=None, feature_types=None,\n",
              "              gamma=None, gpu_id=None, grow_policy=None, importance_type=None,\n",
              "              interaction_constraints=None, learning_rate=0.3, max_bin=None,\n",
              "              max_cat_threshold=None, max_cat_to_onehot=None,\n",
              "              max_delta_step=None, max_depth=4, max_leaves=None,\n",
              "              min_child_weight=None, missing=nan, monotone_constraints=None,\n",
              "              n_estimators=100, n_jobs=None, nthread=12, num_parallel_tree=None,\n",
              "              objective=&#x27;multi:softprob&#x27;, ...)</pre></div></div></div></div></div>"
            ]
          },
          "metadata": {},
          "execution_count": 105
        }
      ]
    },
    {
      "cell_type": "code",
      "source": [
        "df_xgb_test = df_test.copy()"
      ],
      "metadata": {
        "id": "ngTcBe1M6wpx"
      },
      "execution_count": 73,
      "outputs": []
    },
    {
      "cell_type": "code",
      "source": [
        "for col in df_xgb_test.columns:\n",
        "    if col.startswith('Category'):\n",
        "        df_xgb_test[col] = df_xgb_test[col].astype(str)\n",
        "    if col.startswith('Fineline'):\n",
        "        df_xgb_test[col] = df_xgb_test[col].astype(str)\n",
        "\n",
        "df_xgb_test[\"is_Weekend\"] = df_xgb_test[\"is_Weekend\"].apply(str)\n",
        "df_xgb_test[\"is_Weekend\"] = df_xgb_test[\"is_Weekend\"].astype(int)"
      ],
      "metadata": {
        "id": "wRJcUfAzyxBp"
      },
      "execution_count": 74,
      "outputs": []
    },
    {
      "cell_type": "code",
      "source": [
        "df_xgb_test.fillna('NaN', inplace=True)"
      ],
      "metadata": {
        "id": "O0iYxoNMyw9-"
      },
      "execution_count": 75,
      "outputs": []
    },
    {
      "cell_type": "code",
      "source": [
        "for col in df_xgb_test.columns:\n",
        "    if col.startswith('Category'):\n",
        "        df_xgb_test[col] = df_xgb_test[col].astype('category')\n",
        "    if col.startswith('Fineline'):\n",
        "        df_xgb_test[col] = df_xgb_test[col].astype('category')\n",
        "\n",
        "df_xgb_test[\"is_Weekend\"] = df_xgb_test[\"is_Weekend\"].astype('category')\n",
        "df_xgb_test[\"Weekday\"] = df_xgb_test[\"Weekday\"].astype('category')"
      ],
      "metadata": {
        "id": "Z6fZ7J8Yyw8U"
      },
      "execution_count": 76,
      "outputs": []
    },
    {
      "cell_type": "code",
      "source": [
        "X_test = df_xgb_test.drop(['VisitNumber'],axis = 1)"
      ],
      "metadata": {
        "id": "-u6W-qh6yw6l"
      },
      "execution_count": 77,
      "outputs": []
    },
    {
      "cell_type": "code",
      "source": [
        "pred_xgb = model_xgb.predict_proba(X_test)"
      ],
      "metadata": {
        "id": "W-sfAunvyw4W"
      },
      "execution_count": 115,
      "outputs": []
    },
    {
      "cell_type": "code",
      "source": [
        "pred_xgb"
      ],
      "metadata": {
        "id": "QPNCrwFNyw2D",
        "outputId": "265aca69-84a0-4453-b359-3a6f6ed37142",
        "colab": {
          "base_uri": "https://localhost:8080/"
        }
      },
      "execution_count": 116,
      "outputs": [
        {
          "output_type": "execute_result",
          "data": {
            "text/plain": [
              "array([[4.1408163e-07, 7.1270433e-06, 9.3490171e-04, ..., 3.3475734e-02,\n",
              "        1.0980865e-02, 1.3752673e-04],\n",
              "       [2.8041691e-07, 5.5971639e-05, 4.4055661e-05, ..., 1.0540884e-02,\n",
              "        5.7705372e-05, 9.9104582e-06],\n",
              "       [1.9606682e-04, 1.1040498e-05, 4.0372026e-05, ..., 5.4108095e-05,\n",
              "        4.2847887e-06, 9.9038297e-01],\n",
              "       ...,\n",
              "       [5.6359422e-04, 6.3537102e-04, 1.0539710e-04, ..., 8.8485435e-04,\n",
              "        1.2980016e-05, 1.6560605e-04],\n",
              "       [4.4340301e-05, 2.9223504e-05, 3.6663178e-04, ..., 1.1621820e-01,\n",
              "        9.6429989e-02, 1.9549052e-03],\n",
              "       [2.0223334e-04, 2.1515301e-05, 1.1197645e-03, ..., 3.5160933e-02,\n",
              "        4.2809062e-03, 6.2144306e-03]], dtype=float32)"
            ]
          },
          "metadata": {},
          "execution_count": 116
        }
      ]
    },
    {
      "cell_type": "code",
      "source": [
        "submission_xgb = pd.read_csv(\"/content/sample_submission.csv\")"
      ],
      "metadata": {
        "id": "VDStwKxGywzD"
      },
      "execution_count": 117,
      "outputs": []
    },
    {
      "cell_type": "code",
      "source": [
        "for i, col in enumerate(submission_xgb.columns):\n",
        "    if i == 0:\n",
        "      continue\n",
        "    submission_xgb[col] = pred_xgb[:, i-1]"
      ],
      "metadata": {
        "id": "HSkqwIyP0Vw5"
      },
      "execution_count": 118,
      "outputs": []
    },
    {
      "cell_type": "code",
      "source": [
        "submission_xgb"
      ],
      "metadata": {
        "id": "o7mfKY562s6W",
        "outputId": "adb22bda-cf4e-4f42-f748-6ccb01f68577",
        "colab": {
          "base_uri": "https://localhost:8080/",
          "height": 661
        }
      },
      "execution_count": 122,
      "outputs": [
        {
          "output_type": "execute_result",
          "data": {
            "text/plain": [
              "       VisitNumber    TripType_3  TripType_4  TripType_5  TripType_6  \\\n",
              "0                1  4.140816e-07    0.000007    0.000935    0.000024   \n",
              "1                2  2.804169e-07    0.000056    0.000044    0.000011   \n",
              "2                3  1.960668e-04    0.000011    0.000040    0.000004   \n",
              "3                4  2.472352e-03    0.000286    0.001326    0.000050   \n",
              "4                6  1.369831e-04    0.000020    0.000031    0.000003   \n",
              "...            ...           ...         ...         ...         ...   \n",
              "95669       191338  1.416294e-05    0.000355    0.002630    0.000763   \n",
              "95670       191339  2.325023e-05    0.001515    0.000856    0.000566   \n",
              "95671       191340  5.635942e-04    0.000635    0.000105    0.000905   \n",
              "95672       191341  4.434030e-05    0.000029    0.000367    0.000497   \n",
              "95673       191348  2.022333e-04    0.000022    0.001120    0.000278   \n",
              "\n",
              "       TripType_7  TripType_8  TripType_9  TripType_12   TripType_14  ...  \\\n",
              "0        0.030068    0.001152    0.001565     0.000159  1.694044e-06  ...   \n",
              "1        0.000594    0.000056    0.000008     0.000223  5.171356e-08  ...   \n",
              "2        0.001005    0.000028    0.000004     0.000003  2.643156e-09  ...   \n",
              "3        0.015259    0.000876    0.010569     0.000072  1.091270e-06  ...   \n",
              "4        0.000559    0.000034    0.000017     0.000006  8.534027e-09  ...   \n",
              "...           ...         ...         ...          ...           ...  ...   \n",
              "95669    0.000937    0.000489    0.001470     0.000042  1.141471e-05  ...   \n",
              "95670    0.001218    0.001009    0.004217     0.001470  1.671752e-05  ...   \n",
              "95671    0.003324    0.062528    0.000033     0.002219  1.348201e-08  ...   \n",
              "95672    0.001449    0.001389    0.001902     0.000741  2.044644e-05  ...   \n",
              "95673    0.000522    0.000455    0.015053     0.000081  2.419792e-05  ...   \n",
              "\n",
              "       TripType_36  TripType_37  TripType_38  TripType_39  TripType_40  \\\n",
              "0         0.001032     0.042513     0.486999     0.311844     0.007146   \n",
              "1         0.000475     0.004523     0.193514     0.636571     0.002613   \n",
              "2         0.000110     0.000687     0.000326     0.000274     0.000009   \n",
              "3         0.009393     0.009737     0.021507     0.008942     0.000822   \n",
              "4         0.000304     0.000278     0.000764     0.000484     0.000051   \n",
              "...            ...          ...          ...          ...          ...   \n",
              "95669     0.000988     0.001779     0.001017     0.812944     0.000958   \n",
              "95670     0.001480     0.003669     0.003360     0.128440     0.001337   \n",
              "95671     0.004216     0.001038     0.018433     0.008549     0.000155   \n",
              "95672     0.020935     0.002490     0.001526     0.172049     0.004337   \n",
              "95673     0.003445     0.004056     0.001310     0.020220     0.003349   \n",
              "\n",
              "       TripType_41  TripType_42  TripType_43  TripType_44  TripType_999  \n",
              "0         0.006533     0.019662     0.033476     0.010981      0.000138  \n",
              "1         0.000021     0.000283     0.010541     0.000058      0.000010  \n",
              "2         0.000021     0.000067     0.000054     0.000004      0.990383  \n",
              "3         0.000428     0.014570     0.005984     0.000175      0.000550  \n",
              "4         0.000079     0.000264     0.000104     0.000006      0.976299  \n",
              "...            ...          ...          ...          ...           ...  \n",
              "95669     0.004397     0.007387     0.009452     0.003880      0.005471  \n",
              "95670     0.044734     0.376590     0.049869     0.039642      0.003872  \n",
              "95671     0.000329     0.000025     0.000885     0.000013      0.000166  \n",
              "95672     0.010612     0.433387     0.116218     0.096430      0.001955  \n",
              "95673     0.020793     0.013747     0.035161     0.004281      0.006214  \n",
              "\n",
              "[95674 rows x 39 columns]"
            ],
            "text/html": [
              "\n",
              "  <div id=\"df-2b02ace5-d1dc-493e-921d-a29b9584a307\">\n",
              "    <div class=\"colab-df-container\">\n",
              "      <div>\n",
              "<style scoped>\n",
              "    .dataframe tbody tr th:only-of-type {\n",
              "        vertical-align: middle;\n",
              "    }\n",
              "\n",
              "    .dataframe tbody tr th {\n",
              "        vertical-align: top;\n",
              "    }\n",
              "\n",
              "    .dataframe thead th {\n",
              "        text-align: right;\n",
              "    }\n",
              "</style>\n",
              "<table border=\"1\" class=\"dataframe\">\n",
              "  <thead>\n",
              "    <tr style=\"text-align: right;\">\n",
              "      <th></th>\n",
              "      <th>VisitNumber</th>\n",
              "      <th>TripType_3</th>\n",
              "      <th>TripType_4</th>\n",
              "      <th>TripType_5</th>\n",
              "      <th>TripType_6</th>\n",
              "      <th>TripType_7</th>\n",
              "      <th>TripType_8</th>\n",
              "      <th>TripType_9</th>\n",
              "      <th>TripType_12</th>\n",
              "      <th>TripType_14</th>\n",
              "      <th>...</th>\n",
              "      <th>TripType_36</th>\n",
              "      <th>TripType_37</th>\n",
              "      <th>TripType_38</th>\n",
              "      <th>TripType_39</th>\n",
              "      <th>TripType_40</th>\n",
              "      <th>TripType_41</th>\n",
              "      <th>TripType_42</th>\n",
              "      <th>TripType_43</th>\n",
              "      <th>TripType_44</th>\n",
              "      <th>TripType_999</th>\n",
              "    </tr>\n",
              "  </thead>\n",
              "  <tbody>\n",
              "    <tr>\n",
              "      <th>0</th>\n",
              "      <td>1</td>\n",
              "      <td>4.140816e-07</td>\n",
              "      <td>0.000007</td>\n",
              "      <td>0.000935</td>\n",
              "      <td>0.000024</td>\n",
              "      <td>0.030068</td>\n",
              "      <td>0.001152</td>\n",
              "      <td>0.001565</td>\n",
              "      <td>0.000159</td>\n",
              "      <td>1.694044e-06</td>\n",
              "      <td>...</td>\n",
              "      <td>0.001032</td>\n",
              "      <td>0.042513</td>\n",
              "      <td>0.486999</td>\n",
              "      <td>0.311844</td>\n",
              "      <td>0.007146</td>\n",
              "      <td>0.006533</td>\n",
              "      <td>0.019662</td>\n",
              "      <td>0.033476</td>\n",
              "      <td>0.010981</td>\n",
              "      <td>0.000138</td>\n",
              "    </tr>\n",
              "    <tr>\n",
              "      <th>1</th>\n",
              "      <td>2</td>\n",
              "      <td>2.804169e-07</td>\n",
              "      <td>0.000056</td>\n",
              "      <td>0.000044</td>\n",
              "      <td>0.000011</td>\n",
              "      <td>0.000594</td>\n",
              "      <td>0.000056</td>\n",
              "      <td>0.000008</td>\n",
              "      <td>0.000223</td>\n",
              "      <td>5.171356e-08</td>\n",
              "      <td>...</td>\n",
              "      <td>0.000475</td>\n",
              "      <td>0.004523</td>\n",
              "      <td>0.193514</td>\n",
              "      <td>0.636571</td>\n",
              "      <td>0.002613</td>\n",
              "      <td>0.000021</td>\n",
              "      <td>0.000283</td>\n",
              "      <td>0.010541</td>\n",
              "      <td>0.000058</td>\n",
              "      <td>0.000010</td>\n",
              "    </tr>\n",
              "    <tr>\n",
              "      <th>2</th>\n",
              "      <td>3</td>\n",
              "      <td>1.960668e-04</td>\n",
              "      <td>0.000011</td>\n",
              "      <td>0.000040</td>\n",
              "      <td>0.000004</td>\n",
              "      <td>0.001005</td>\n",
              "      <td>0.000028</td>\n",
              "      <td>0.000004</td>\n",
              "      <td>0.000003</td>\n",
              "      <td>2.643156e-09</td>\n",
              "      <td>...</td>\n",
              "      <td>0.000110</td>\n",
              "      <td>0.000687</td>\n",
              "      <td>0.000326</td>\n",
              "      <td>0.000274</td>\n",
              "      <td>0.000009</td>\n",
              "      <td>0.000021</td>\n",
              "      <td>0.000067</td>\n",
              "      <td>0.000054</td>\n",
              "      <td>0.000004</td>\n",
              "      <td>0.990383</td>\n",
              "    </tr>\n",
              "    <tr>\n",
              "      <th>3</th>\n",
              "      <td>4</td>\n",
              "      <td>2.472352e-03</td>\n",
              "      <td>0.000286</td>\n",
              "      <td>0.001326</td>\n",
              "      <td>0.000050</td>\n",
              "      <td>0.015259</td>\n",
              "      <td>0.000876</td>\n",
              "      <td>0.010569</td>\n",
              "      <td>0.000072</td>\n",
              "      <td>1.091270e-06</td>\n",
              "      <td>...</td>\n",
              "      <td>0.009393</td>\n",
              "      <td>0.009737</td>\n",
              "      <td>0.021507</td>\n",
              "      <td>0.008942</td>\n",
              "      <td>0.000822</td>\n",
              "      <td>0.000428</td>\n",
              "      <td>0.014570</td>\n",
              "      <td>0.005984</td>\n",
              "      <td>0.000175</td>\n",
              "      <td>0.000550</td>\n",
              "    </tr>\n",
              "    <tr>\n",
              "      <th>4</th>\n",
              "      <td>6</td>\n",
              "      <td>1.369831e-04</td>\n",
              "      <td>0.000020</td>\n",
              "      <td>0.000031</td>\n",
              "      <td>0.000003</td>\n",
              "      <td>0.000559</td>\n",
              "      <td>0.000034</td>\n",
              "      <td>0.000017</td>\n",
              "      <td>0.000006</td>\n",
              "      <td>8.534027e-09</td>\n",
              "      <td>...</td>\n",
              "      <td>0.000304</td>\n",
              "      <td>0.000278</td>\n",
              "      <td>0.000764</td>\n",
              "      <td>0.000484</td>\n",
              "      <td>0.000051</td>\n",
              "      <td>0.000079</td>\n",
              "      <td>0.000264</td>\n",
              "      <td>0.000104</td>\n",
              "      <td>0.000006</td>\n",
              "      <td>0.976299</td>\n",
              "    </tr>\n",
              "    <tr>\n",
              "      <th>...</th>\n",
              "      <td>...</td>\n",
              "      <td>...</td>\n",
              "      <td>...</td>\n",
              "      <td>...</td>\n",
              "      <td>...</td>\n",
              "      <td>...</td>\n",
              "      <td>...</td>\n",
              "      <td>...</td>\n",
              "      <td>...</td>\n",
              "      <td>...</td>\n",
              "      <td>...</td>\n",
              "      <td>...</td>\n",
              "      <td>...</td>\n",
              "      <td>...</td>\n",
              "      <td>...</td>\n",
              "      <td>...</td>\n",
              "      <td>...</td>\n",
              "      <td>...</td>\n",
              "      <td>...</td>\n",
              "      <td>...</td>\n",
              "      <td>...</td>\n",
              "    </tr>\n",
              "    <tr>\n",
              "      <th>95669</th>\n",
              "      <td>191338</td>\n",
              "      <td>1.416294e-05</td>\n",
              "      <td>0.000355</td>\n",
              "      <td>0.002630</td>\n",
              "      <td>0.000763</td>\n",
              "      <td>0.000937</td>\n",
              "      <td>0.000489</td>\n",
              "      <td>0.001470</td>\n",
              "      <td>0.000042</td>\n",
              "      <td>1.141471e-05</td>\n",
              "      <td>...</td>\n",
              "      <td>0.000988</td>\n",
              "      <td>0.001779</td>\n",
              "      <td>0.001017</td>\n",
              "      <td>0.812944</td>\n",
              "      <td>0.000958</td>\n",
              "      <td>0.004397</td>\n",
              "      <td>0.007387</td>\n",
              "      <td>0.009452</td>\n",
              "      <td>0.003880</td>\n",
              "      <td>0.005471</td>\n",
              "    </tr>\n",
              "    <tr>\n",
              "      <th>95670</th>\n",
              "      <td>191339</td>\n",
              "      <td>2.325023e-05</td>\n",
              "      <td>0.001515</td>\n",
              "      <td>0.000856</td>\n",
              "      <td>0.000566</td>\n",
              "      <td>0.001218</td>\n",
              "      <td>0.001009</td>\n",
              "      <td>0.004217</td>\n",
              "      <td>0.001470</td>\n",
              "      <td>1.671752e-05</td>\n",
              "      <td>...</td>\n",
              "      <td>0.001480</td>\n",
              "      <td>0.003669</td>\n",
              "      <td>0.003360</td>\n",
              "      <td>0.128440</td>\n",
              "      <td>0.001337</td>\n",
              "      <td>0.044734</td>\n",
              "      <td>0.376590</td>\n",
              "      <td>0.049869</td>\n",
              "      <td>0.039642</td>\n",
              "      <td>0.003872</td>\n",
              "    </tr>\n",
              "    <tr>\n",
              "      <th>95671</th>\n",
              "      <td>191340</td>\n",
              "      <td>5.635942e-04</td>\n",
              "      <td>0.000635</td>\n",
              "      <td>0.000105</td>\n",
              "      <td>0.000905</td>\n",
              "      <td>0.003324</td>\n",
              "      <td>0.062528</td>\n",
              "      <td>0.000033</td>\n",
              "      <td>0.002219</td>\n",
              "      <td>1.348201e-08</td>\n",
              "      <td>...</td>\n",
              "      <td>0.004216</td>\n",
              "      <td>0.001038</td>\n",
              "      <td>0.018433</td>\n",
              "      <td>0.008549</td>\n",
              "      <td>0.000155</td>\n",
              "      <td>0.000329</td>\n",
              "      <td>0.000025</td>\n",
              "      <td>0.000885</td>\n",
              "      <td>0.000013</td>\n",
              "      <td>0.000166</td>\n",
              "    </tr>\n",
              "    <tr>\n",
              "      <th>95672</th>\n",
              "      <td>191341</td>\n",
              "      <td>4.434030e-05</td>\n",
              "      <td>0.000029</td>\n",
              "      <td>0.000367</td>\n",
              "      <td>0.000497</td>\n",
              "      <td>0.001449</td>\n",
              "      <td>0.001389</td>\n",
              "      <td>0.001902</td>\n",
              "      <td>0.000741</td>\n",
              "      <td>2.044644e-05</td>\n",
              "      <td>...</td>\n",
              "      <td>0.020935</td>\n",
              "      <td>0.002490</td>\n",
              "      <td>0.001526</td>\n",
              "      <td>0.172049</td>\n",
              "      <td>0.004337</td>\n",
              "      <td>0.010612</td>\n",
              "      <td>0.433387</td>\n",
              "      <td>0.116218</td>\n",
              "      <td>0.096430</td>\n",
              "      <td>0.001955</td>\n",
              "    </tr>\n",
              "    <tr>\n",
              "      <th>95673</th>\n",
              "      <td>191348</td>\n",
              "      <td>2.022333e-04</td>\n",
              "      <td>0.000022</td>\n",
              "      <td>0.001120</td>\n",
              "      <td>0.000278</td>\n",
              "      <td>0.000522</td>\n",
              "      <td>0.000455</td>\n",
              "      <td>0.015053</td>\n",
              "      <td>0.000081</td>\n",
              "      <td>2.419792e-05</td>\n",
              "      <td>...</td>\n",
              "      <td>0.003445</td>\n",
              "      <td>0.004056</td>\n",
              "      <td>0.001310</td>\n",
              "      <td>0.020220</td>\n",
              "      <td>0.003349</td>\n",
              "      <td>0.020793</td>\n",
              "      <td>0.013747</td>\n",
              "      <td>0.035161</td>\n",
              "      <td>0.004281</td>\n",
              "      <td>0.006214</td>\n",
              "    </tr>\n",
              "  </tbody>\n",
              "</table>\n",
              "<p>95674 rows × 39 columns</p>\n",
              "</div>\n",
              "      <button class=\"colab-df-convert\" onclick=\"convertToInteractive('df-2b02ace5-d1dc-493e-921d-a29b9584a307')\"\n",
              "              title=\"Convert this dataframe to an interactive table.\"\n",
              "              style=\"display:none;\">\n",
              "        \n",
              "  <svg xmlns=\"http://www.w3.org/2000/svg\" height=\"24px\"viewBox=\"0 0 24 24\"\n",
              "       width=\"24px\">\n",
              "    <path d=\"M0 0h24v24H0V0z\" fill=\"none\"/>\n",
              "    <path d=\"M18.56 5.44l.94 2.06.94-2.06 2.06-.94-2.06-.94-.94-2.06-.94 2.06-2.06.94zm-11 1L8.5 8.5l.94-2.06 2.06-.94-2.06-.94L8.5 2.5l-.94 2.06-2.06.94zm10 10l.94 2.06.94-2.06 2.06-.94-2.06-.94-.94-2.06-.94 2.06-2.06.94z\"/><path d=\"M17.41 7.96l-1.37-1.37c-.4-.4-.92-.59-1.43-.59-.52 0-1.04.2-1.43.59L10.3 9.45l-7.72 7.72c-.78.78-.78 2.05 0 2.83L4 21.41c.39.39.9.59 1.41.59.51 0 1.02-.2 1.41-.59l7.78-7.78 2.81-2.81c.8-.78.8-2.07 0-2.86zM5.41 20L4 18.59l7.72-7.72 1.47 1.35L5.41 20z\"/>\n",
              "  </svg>\n",
              "      </button>\n",
              "      \n",
              "  <style>\n",
              "    .colab-df-container {\n",
              "      display:flex;\n",
              "      flex-wrap:wrap;\n",
              "      gap: 12px;\n",
              "    }\n",
              "\n",
              "    .colab-df-convert {\n",
              "      background-color: #E8F0FE;\n",
              "      border: none;\n",
              "      border-radius: 50%;\n",
              "      cursor: pointer;\n",
              "      display: none;\n",
              "      fill: #1967D2;\n",
              "      height: 32px;\n",
              "      padding: 0 0 0 0;\n",
              "      width: 32px;\n",
              "    }\n",
              "\n",
              "    .colab-df-convert:hover {\n",
              "      background-color: #E2EBFA;\n",
              "      box-shadow: 0px 1px 2px rgba(60, 64, 67, 0.3), 0px 1px 3px 1px rgba(60, 64, 67, 0.15);\n",
              "      fill: #174EA6;\n",
              "    }\n",
              "\n",
              "    [theme=dark] .colab-df-convert {\n",
              "      background-color: #3B4455;\n",
              "      fill: #D2E3FC;\n",
              "    }\n",
              "\n",
              "    [theme=dark] .colab-df-convert:hover {\n",
              "      background-color: #434B5C;\n",
              "      box-shadow: 0px 1px 3px 1px rgba(0, 0, 0, 0.15);\n",
              "      filter: drop-shadow(0px 1px 2px rgba(0, 0, 0, 0.3));\n",
              "      fill: #FFFFFF;\n",
              "    }\n",
              "  </style>\n",
              "\n",
              "      <script>\n",
              "        const buttonEl =\n",
              "          document.querySelector('#df-2b02ace5-d1dc-493e-921d-a29b9584a307 button.colab-df-convert');\n",
              "        buttonEl.style.display =\n",
              "          google.colab.kernel.accessAllowed ? 'block' : 'none';\n",
              "\n",
              "        async function convertToInteractive(key) {\n",
              "          const element = document.querySelector('#df-2b02ace5-d1dc-493e-921d-a29b9584a307');\n",
              "          const dataTable =\n",
              "            await google.colab.kernel.invokeFunction('convertToInteractive',\n",
              "                                                     [key], {});\n",
              "          if (!dataTable) return;\n",
              "\n",
              "          const docLinkHtml = 'Like what you see? Visit the ' +\n",
              "            '<a target=\"_blank\" href=https://colab.research.google.com/notebooks/data_table.ipynb>data table notebook</a>'\n",
              "            + ' to learn more about interactive tables.';\n",
              "          element.innerHTML = '';\n",
              "          dataTable['output_type'] = 'display_data';\n",
              "          await google.colab.output.renderOutput(dataTable, element);\n",
              "          const docLink = document.createElement('div');\n",
              "          docLink.innerHTML = docLinkHtml;\n",
              "          element.appendChild(docLink);\n",
              "        }\n",
              "      </script>\n",
              "    </div>\n",
              "  </div>\n",
              "  "
            ]
          },
          "metadata": {},
          "execution_count": 122
        }
      ]
    },
    {
      "cell_type": "code",
      "source": [
        "sample_sub"
      ],
      "metadata": {
        "id": "IvSkC5EE3Vcl",
        "outputId": "4e8b9f11-6a40-4e8e-ac94-58b6530d5bad",
        "colab": {
          "base_uri": "https://localhost:8080/",
          "height": 661
        }
      },
      "execution_count": 123,
      "outputs": [
        {
          "output_type": "execute_result",
          "data": {
            "text/plain": [
              "       VisitNumber    TripType_3    TripType_4    TripType_5  TripType_6  \\\n",
              "0                1  4.539097e-04  3.740058e-04  7.126759e-03    0.005121   \n",
              "1                2  1.113672e-03  3.853178e-03  2.120439e-02    0.010506   \n",
              "2                3  2.133428e-07  9.101885e-07  1.226334e-05    0.000003   \n",
              "3                4  2.073450e-03  2.523303e-04  4.019230e-03    0.191957   \n",
              "4                6  3.259630e-07  6.939676e-08  7.454159e-07    0.000006   \n",
              "...            ...           ...           ...           ...         ...   \n",
              "95669       191338  1.878480e-04  4.745565e-04  1.095282e-02    0.001529   \n",
              "95670       191339  3.195360e-05  3.833933e-04  3.464951e-03    0.009249   \n",
              "95671       191340  3.645944e-02  6.563606e-04  2.042864e-03    0.018182   \n",
              "95672       191341  3.649974e-05  1.728356e-05  3.606708e-04    0.000325   \n",
              "95673       191348  3.497484e-04  1.747358e-04  3.687491e-03    0.000527   \n",
              "\n",
              "       TripType_7  TripType_8  TripType_9   TripType_12   TripType_14  ...  \\\n",
              "0        0.062258    0.024400    0.003878  2.991755e-03  7.815338e-06  ...   \n",
              "1        0.052074    0.006046    0.001876  5.157311e-03  1.021791e-05  ...   \n",
              "2        0.000036    0.000008    0.000014  2.210370e-07  1.046011e-09  ...   \n",
              "3        0.006657    0.009615    0.612497  1.079321e-04  5.605842e-06  ...   \n",
              "4        0.000004    0.000004    0.000005  3.246783e-08  3.683166e-09  ...   \n",
              "...           ...         ...         ...           ...           ...  ...   \n",
              "95669    0.087838    0.009137    0.000408  7.332350e-03  1.402896e-05  ...   \n",
              "95670    0.004062    0.000118    0.003659  2.690568e-03  6.719446e-05  ...   \n",
              "95671    0.000429    0.767464    0.102235  4.443375e-05  3.673048e-07  ...   \n",
              "95672    0.000624    0.000195    0.000262  9.446583e-04  1.133086e-05  ...   \n",
              "95673    0.000372    0.000039    0.003941  1.451634e-04  6.758097e-05  ...   \n",
              "\n",
              "        TripType_36   TripType_37   TripType_38   TripType_39   TripType_40  \\\n",
              "0      3.106874e-02  1.892879e-02  5.433279e-01  1.820322e-01  5.090233e-04   \n",
              "1      4.322973e-02  2.119951e-02  3.394533e-02  1.798123e-01  1.069026e-03   \n",
              "2      6.624655e-05  4.150904e-06  2.820187e-07  1.214580e-06  1.890629e-07   \n",
              "3      1.126116e-04  3.813604e-05  9.975549e-05  9.551670e-05  3.730620e-06   \n",
              "4      1.284148e-07  9.322495e-08  9.923494e-08  1.833563e-07  4.949319e-09   \n",
              "...             ...           ...           ...           ...           ...   \n",
              "95669  3.665528e-02  9.126049e-03  3.366172e-02  2.204259e-01  3.113203e-03   \n",
              "95670  6.226719e-03  1.271267e-03  2.045733e-03  2.311192e-02  4.137652e-05   \n",
              "95671  4.574558e-04  5.087350e-04  1.177875e-04  1.053520e-04  3.311174e-05   \n",
              "95672  3.030303e-03  3.645663e-04  1.048054e-03  6.993077e-02  1.214659e-03   \n",
              "95673  6.919141e-04  1.490458e-04  1.417311e-04  2.501338e-03  2.497998e-05   \n",
              "\n",
              "        TripType_41   TripType_42   TripType_43   TripType_44  TripType_999  \n",
              "0      1.177388e-03  1.415727e-03  3.711673e-03  2.665676e-04      0.014998  \n",
              "1      3.847570e-03  2.313367e-02  6.519534e-03  5.315315e-04      0.005325  \n",
              "2      4.979777e-08  1.551733e-06  1.574040e-08  6.636755e-09      0.999836  \n",
              "3      5.342357e-05  4.736443e-04  7.461815e-06  1.561407e-06      0.006819  \n",
              "4      4.545461e-08  3.780668e-07  7.966232e-09  1.427893e-09      0.999944  \n",
              "...             ...           ...           ...           ...           ...  \n",
              "95669  1.168862e-03  1.919773e-03  4.935632e-03  1.336500e-03      0.006457  \n",
              "95670  3.369539e-02  1.317351e-01  3.901009e-02  2.793342e-03      0.000127  \n",
              "95671  9.815554e-06  1.916128e-03  2.394733e-06  9.034837e-07      0.053797  \n",
              "95672  1.381571e-02  2.258006e-02  1.436211e-02  1.736697e-02      0.000547  \n",
              "95673  3.383064e-02  1.229080e-01  8.788642e-03  2.982708e-03      0.001235  \n",
              "\n",
              "[95674 rows x 39 columns]"
            ],
            "text/html": [
              "\n",
              "  <div id=\"df-6da733f0-5308-4926-b15a-3e86cca9bbe8\">\n",
              "    <div class=\"colab-df-container\">\n",
              "      <div>\n",
              "<style scoped>\n",
              "    .dataframe tbody tr th:only-of-type {\n",
              "        vertical-align: middle;\n",
              "    }\n",
              "\n",
              "    .dataframe tbody tr th {\n",
              "        vertical-align: top;\n",
              "    }\n",
              "\n",
              "    .dataframe thead th {\n",
              "        text-align: right;\n",
              "    }\n",
              "</style>\n",
              "<table border=\"1\" class=\"dataframe\">\n",
              "  <thead>\n",
              "    <tr style=\"text-align: right;\">\n",
              "      <th></th>\n",
              "      <th>VisitNumber</th>\n",
              "      <th>TripType_3</th>\n",
              "      <th>TripType_4</th>\n",
              "      <th>TripType_5</th>\n",
              "      <th>TripType_6</th>\n",
              "      <th>TripType_7</th>\n",
              "      <th>TripType_8</th>\n",
              "      <th>TripType_9</th>\n",
              "      <th>TripType_12</th>\n",
              "      <th>TripType_14</th>\n",
              "      <th>...</th>\n",
              "      <th>TripType_36</th>\n",
              "      <th>TripType_37</th>\n",
              "      <th>TripType_38</th>\n",
              "      <th>TripType_39</th>\n",
              "      <th>TripType_40</th>\n",
              "      <th>TripType_41</th>\n",
              "      <th>TripType_42</th>\n",
              "      <th>TripType_43</th>\n",
              "      <th>TripType_44</th>\n",
              "      <th>TripType_999</th>\n",
              "    </tr>\n",
              "  </thead>\n",
              "  <tbody>\n",
              "    <tr>\n",
              "      <th>0</th>\n",
              "      <td>1</td>\n",
              "      <td>4.539097e-04</td>\n",
              "      <td>3.740058e-04</td>\n",
              "      <td>7.126759e-03</td>\n",
              "      <td>0.005121</td>\n",
              "      <td>0.062258</td>\n",
              "      <td>0.024400</td>\n",
              "      <td>0.003878</td>\n",
              "      <td>2.991755e-03</td>\n",
              "      <td>7.815338e-06</td>\n",
              "      <td>...</td>\n",
              "      <td>3.106874e-02</td>\n",
              "      <td>1.892879e-02</td>\n",
              "      <td>5.433279e-01</td>\n",
              "      <td>1.820322e-01</td>\n",
              "      <td>5.090233e-04</td>\n",
              "      <td>1.177388e-03</td>\n",
              "      <td>1.415727e-03</td>\n",
              "      <td>3.711673e-03</td>\n",
              "      <td>2.665676e-04</td>\n",
              "      <td>0.014998</td>\n",
              "    </tr>\n",
              "    <tr>\n",
              "      <th>1</th>\n",
              "      <td>2</td>\n",
              "      <td>1.113672e-03</td>\n",
              "      <td>3.853178e-03</td>\n",
              "      <td>2.120439e-02</td>\n",
              "      <td>0.010506</td>\n",
              "      <td>0.052074</td>\n",
              "      <td>0.006046</td>\n",
              "      <td>0.001876</td>\n",
              "      <td>5.157311e-03</td>\n",
              "      <td>1.021791e-05</td>\n",
              "      <td>...</td>\n",
              "      <td>4.322973e-02</td>\n",
              "      <td>2.119951e-02</td>\n",
              "      <td>3.394533e-02</td>\n",
              "      <td>1.798123e-01</td>\n",
              "      <td>1.069026e-03</td>\n",
              "      <td>3.847570e-03</td>\n",
              "      <td>2.313367e-02</td>\n",
              "      <td>6.519534e-03</td>\n",
              "      <td>5.315315e-04</td>\n",
              "      <td>0.005325</td>\n",
              "    </tr>\n",
              "    <tr>\n",
              "      <th>2</th>\n",
              "      <td>3</td>\n",
              "      <td>2.133428e-07</td>\n",
              "      <td>9.101885e-07</td>\n",
              "      <td>1.226334e-05</td>\n",
              "      <td>0.000003</td>\n",
              "      <td>0.000036</td>\n",
              "      <td>0.000008</td>\n",
              "      <td>0.000014</td>\n",
              "      <td>2.210370e-07</td>\n",
              "      <td>1.046011e-09</td>\n",
              "      <td>...</td>\n",
              "      <td>6.624655e-05</td>\n",
              "      <td>4.150904e-06</td>\n",
              "      <td>2.820187e-07</td>\n",
              "      <td>1.214580e-06</td>\n",
              "      <td>1.890629e-07</td>\n",
              "      <td>4.979777e-08</td>\n",
              "      <td>1.551733e-06</td>\n",
              "      <td>1.574040e-08</td>\n",
              "      <td>6.636755e-09</td>\n",
              "      <td>0.999836</td>\n",
              "    </tr>\n",
              "    <tr>\n",
              "      <th>3</th>\n",
              "      <td>4</td>\n",
              "      <td>2.073450e-03</td>\n",
              "      <td>2.523303e-04</td>\n",
              "      <td>4.019230e-03</td>\n",
              "      <td>0.191957</td>\n",
              "      <td>0.006657</td>\n",
              "      <td>0.009615</td>\n",
              "      <td>0.612497</td>\n",
              "      <td>1.079321e-04</td>\n",
              "      <td>5.605842e-06</td>\n",
              "      <td>...</td>\n",
              "      <td>1.126116e-04</td>\n",
              "      <td>3.813604e-05</td>\n",
              "      <td>9.975549e-05</td>\n",
              "      <td>9.551670e-05</td>\n",
              "      <td>3.730620e-06</td>\n",
              "      <td>5.342357e-05</td>\n",
              "      <td>4.736443e-04</td>\n",
              "      <td>7.461815e-06</td>\n",
              "      <td>1.561407e-06</td>\n",
              "      <td>0.006819</td>\n",
              "    </tr>\n",
              "    <tr>\n",
              "      <th>4</th>\n",
              "      <td>6</td>\n",
              "      <td>3.259630e-07</td>\n",
              "      <td>6.939676e-08</td>\n",
              "      <td>7.454159e-07</td>\n",
              "      <td>0.000006</td>\n",
              "      <td>0.000004</td>\n",
              "      <td>0.000004</td>\n",
              "      <td>0.000005</td>\n",
              "      <td>3.246783e-08</td>\n",
              "      <td>3.683166e-09</td>\n",
              "      <td>...</td>\n",
              "      <td>1.284148e-07</td>\n",
              "      <td>9.322495e-08</td>\n",
              "      <td>9.923494e-08</td>\n",
              "      <td>1.833563e-07</td>\n",
              "      <td>4.949319e-09</td>\n",
              "      <td>4.545461e-08</td>\n",
              "      <td>3.780668e-07</td>\n",
              "      <td>7.966232e-09</td>\n",
              "      <td>1.427893e-09</td>\n",
              "      <td>0.999944</td>\n",
              "    </tr>\n",
              "    <tr>\n",
              "      <th>...</th>\n",
              "      <td>...</td>\n",
              "      <td>...</td>\n",
              "      <td>...</td>\n",
              "      <td>...</td>\n",
              "      <td>...</td>\n",
              "      <td>...</td>\n",
              "      <td>...</td>\n",
              "      <td>...</td>\n",
              "      <td>...</td>\n",
              "      <td>...</td>\n",
              "      <td>...</td>\n",
              "      <td>...</td>\n",
              "      <td>...</td>\n",
              "      <td>...</td>\n",
              "      <td>...</td>\n",
              "      <td>...</td>\n",
              "      <td>...</td>\n",
              "      <td>...</td>\n",
              "      <td>...</td>\n",
              "      <td>...</td>\n",
              "      <td>...</td>\n",
              "    </tr>\n",
              "    <tr>\n",
              "      <th>95669</th>\n",
              "      <td>191338</td>\n",
              "      <td>1.878480e-04</td>\n",
              "      <td>4.745565e-04</td>\n",
              "      <td>1.095282e-02</td>\n",
              "      <td>0.001529</td>\n",
              "      <td>0.087838</td>\n",
              "      <td>0.009137</td>\n",
              "      <td>0.000408</td>\n",
              "      <td>7.332350e-03</td>\n",
              "      <td>1.402896e-05</td>\n",
              "      <td>...</td>\n",
              "      <td>3.665528e-02</td>\n",
              "      <td>9.126049e-03</td>\n",
              "      <td>3.366172e-02</td>\n",
              "      <td>2.204259e-01</td>\n",
              "      <td>3.113203e-03</td>\n",
              "      <td>1.168862e-03</td>\n",
              "      <td>1.919773e-03</td>\n",
              "      <td>4.935632e-03</td>\n",
              "      <td>1.336500e-03</td>\n",
              "      <td>0.006457</td>\n",
              "    </tr>\n",
              "    <tr>\n",
              "      <th>95670</th>\n",
              "      <td>191339</td>\n",
              "      <td>3.195360e-05</td>\n",
              "      <td>3.833933e-04</td>\n",
              "      <td>3.464951e-03</td>\n",
              "      <td>0.009249</td>\n",
              "      <td>0.004062</td>\n",
              "      <td>0.000118</td>\n",
              "      <td>0.003659</td>\n",
              "      <td>2.690568e-03</td>\n",
              "      <td>6.719446e-05</td>\n",
              "      <td>...</td>\n",
              "      <td>6.226719e-03</td>\n",
              "      <td>1.271267e-03</td>\n",
              "      <td>2.045733e-03</td>\n",
              "      <td>2.311192e-02</td>\n",
              "      <td>4.137652e-05</td>\n",
              "      <td>3.369539e-02</td>\n",
              "      <td>1.317351e-01</td>\n",
              "      <td>3.901009e-02</td>\n",
              "      <td>2.793342e-03</td>\n",
              "      <td>0.000127</td>\n",
              "    </tr>\n",
              "    <tr>\n",
              "      <th>95671</th>\n",
              "      <td>191340</td>\n",
              "      <td>3.645944e-02</td>\n",
              "      <td>6.563606e-04</td>\n",
              "      <td>2.042864e-03</td>\n",
              "      <td>0.018182</td>\n",
              "      <td>0.000429</td>\n",
              "      <td>0.767464</td>\n",
              "      <td>0.102235</td>\n",
              "      <td>4.443375e-05</td>\n",
              "      <td>3.673048e-07</td>\n",
              "      <td>...</td>\n",
              "      <td>4.574558e-04</td>\n",
              "      <td>5.087350e-04</td>\n",
              "      <td>1.177875e-04</td>\n",
              "      <td>1.053520e-04</td>\n",
              "      <td>3.311174e-05</td>\n",
              "      <td>9.815554e-06</td>\n",
              "      <td>1.916128e-03</td>\n",
              "      <td>2.394733e-06</td>\n",
              "      <td>9.034837e-07</td>\n",
              "      <td>0.053797</td>\n",
              "    </tr>\n",
              "    <tr>\n",
              "      <th>95672</th>\n",
              "      <td>191341</td>\n",
              "      <td>3.649974e-05</td>\n",
              "      <td>1.728356e-05</td>\n",
              "      <td>3.606708e-04</td>\n",
              "      <td>0.000325</td>\n",
              "      <td>0.000624</td>\n",
              "      <td>0.000195</td>\n",
              "      <td>0.000262</td>\n",
              "      <td>9.446583e-04</td>\n",
              "      <td>1.133086e-05</td>\n",
              "      <td>...</td>\n",
              "      <td>3.030303e-03</td>\n",
              "      <td>3.645663e-04</td>\n",
              "      <td>1.048054e-03</td>\n",
              "      <td>6.993077e-02</td>\n",
              "      <td>1.214659e-03</td>\n",
              "      <td>1.381571e-02</td>\n",
              "      <td>2.258006e-02</td>\n",
              "      <td>1.436211e-02</td>\n",
              "      <td>1.736697e-02</td>\n",
              "      <td>0.000547</td>\n",
              "    </tr>\n",
              "    <tr>\n",
              "      <th>95673</th>\n",
              "      <td>191348</td>\n",
              "      <td>3.497484e-04</td>\n",
              "      <td>1.747358e-04</td>\n",
              "      <td>3.687491e-03</td>\n",
              "      <td>0.000527</td>\n",
              "      <td>0.000372</td>\n",
              "      <td>0.000039</td>\n",
              "      <td>0.003941</td>\n",
              "      <td>1.451634e-04</td>\n",
              "      <td>6.758097e-05</td>\n",
              "      <td>...</td>\n",
              "      <td>6.919141e-04</td>\n",
              "      <td>1.490458e-04</td>\n",
              "      <td>1.417311e-04</td>\n",
              "      <td>2.501338e-03</td>\n",
              "      <td>2.497998e-05</td>\n",
              "      <td>3.383064e-02</td>\n",
              "      <td>1.229080e-01</td>\n",
              "      <td>8.788642e-03</td>\n",
              "      <td>2.982708e-03</td>\n",
              "      <td>0.001235</td>\n",
              "    </tr>\n",
              "  </tbody>\n",
              "</table>\n",
              "<p>95674 rows × 39 columns</p>\n",
              "</div>\n",
              "      <button class=\"colab-df-convert\" onclick=\"convertToInteractive('df-6da733f0-5308-4926-b15a-3e86cca9bbe8')\"\n",
              "              title=\"Convert this dataframe to an interactive table.\"\n",
              "              style=\"display:none;\">\n",
              "        \n",
              "  <svg xmlns=\"http://www.w3.org/2000/svg\" height=\"24px\"viewBox=\"0 0 24 24\"\n",
              "       width=\"24px\">\n",
              "    <path d=\"M0 0h24v24H0V0z\" fill=\"none\"/>\n",
              "    <path d=\"M18.56 5.44l.94 2.06.94-2.06 2.06-.94-2.06-.94-.94-2.06-.94 2.06-2.06.94zm-11 1L8.5 8.5l.94-2.06 2.06-.94-2.06-.94L8.5 2.5l-.94 2.06-2.06.94zm10 10l.94 2.06.94-2.06 2.06-.94-2.06-.94-.94-2.06-.94 2.06-2.06.94z\"/><path d=\"M17.41 7.96l-1.37-1.37c-.4-.4-.92-.59-1.43-.59-.52 0-1.04.2-1.43.59L10.3 9.45l-7.72 7.72c-.78.78-.78 2.05 0 2.83L4 21.41c.39.39.9.59 1.41.59.51 0 1.02-.2 1.41-.59l7.78-7.78 2.81-2.81c.8-.78.8-2.07 0-2.86zM5.41 20L4 18.59l7.72-7.72 1.47 1.35L5.41 20z\"/>\n",
              "  </svg>\n",
              "      </button>\n",
              "      \n",
              "  <style>\n",
              "    .colab-df-container {\n",
              "      display:flex;\n",
              "      flex-wrap:wrap;\n",
              "      gap: 12px;\n",
              "    }\n",
              "\n",
              "    .colab-df-convert {\n",
              "      background-color: #E8F0FE;\n",
              "      border: none;\n",
              "      border-radius: 50%;\n",
              "      cursor: pointer;\n",
              "      display: none;\n",
              "      fill: #1967D2;\n",
              "      height: 32px;\n",
              "      padding: 0 0 0 0;\n",
              "      width: 32px;\n",
              "    }\n",
              "\n",
              "    .colab-df-convert:hover {\n",
              "      background-color: #E2EBFA;\n",
              "      box-shadow: 0px 1px 2px rgba(60, 64, 67, 0.3), 0px 1px 3px 1px rgba(60, 64, 67, 0.15);\n",
              "      fill: #174EA6;\n",
              "    }\n",
              "\n",
              "    [theme=dark] .colab-df-convert {\n",
              "      background-color: #3B4455;\n",
              "      fill: #D2E3FC;\n",
              "    }\n",
              "\n",
              "    [theme=dark] .colab-df-convert:hover {\n",
              "      background-color: #434B5C;\n",
              "      box-shadow: 0px 1px 3px 1px rgba(0, 0, 0, 0.15);\n",
              "      filter: drop-shadow(0px 1px 2px rgba(0, 0, 0, 0.3));\n",
              "      fill: #FFFFFF;\n",
              "    }\n",
              "  </style>\n",
              "\n",
              "      <script>\n",
              "        const buttonEl =\n",
              "          document.querySelector('#df-6da733f0-5308-4926-b15a-3e86cca9bbe8 button.colab-df-convert');\n",
              "        buttonEl.style.display =\n",
              "          google.colab.kernel.accessAllowed ? 'block' : 'none';\n",
              "\n",
              "        async function convertToInteractive(key) {\n",
              "          const element = document.querySelector('#df-6da733f0-5308-4926-b15a-3e86cca9bbe8');\n",
              "          const dataTable =\n",
              "            await google.colab.kernel.invokeFunction('convertToInteractive',\n",
              "                                                     [key], {});\n",
              "          if (!dataTable) return;\n",
              "\n",
              "          const docLinkHtml = 'Like what you see? Visit the ' +\n",
              "            '<a target=\"_blank\" href=https://colab.research.google.com/notebooks/data_table.ipynb>data table notebook</a>'\n",
              "            + ' to learn more about interactive tables.';\n",
              "          element.innerHTML = '';\n",
              "          dataTable['output_type'] = 'display_data';\n",
              "          await google.colab.output.renderOutput(dataTable, element);\n",
              "          const docLink = document.createElement('div');\n",
              "          docLink.innerHTML = docLinkHtml;\n",
              "          element.appendChild(docLink);\n",
              "        }\n",
              "      </script>\n",
              "    </div>\n",
              "  </div>\n",
              "  "
            ]
          },
          "metadata": {},
          "execution_count": 123
        }
      ]
    },
    {
      "cell_type": "code",
      "source": [
        "submission_xgb.to_csv('/content/submission_xgb.csv', index= False)"
      ],
      "metadata": {
        "id": "N4rZstvb0jVA"
      },
      "execution_count": 130,
      "outputs": []
    },
    {
      "cell_type": "code",
      "source": [
        "!kaggle competitions submit -c walmart-recruiting-trip-type-classification -f submission_xgb.csv -m \"XGB\""
      ],
      "metadata": {
        "id": "-RKjYrst0kQE",
        "outputId": "1ccd3c4f-bdb1-4002-ae02-60e4e38768a5",
        "colab": {
          "base_uri": "https://localhost:8080/"
        }
      },
      "execution_count": 131,
      "outputs": [
        {
          "output_type": "stream",
          "name": "stdout",
          "text": [
            "100% 46.0M/46.0M [00:05<00:00, 8.78MB/s]\n",
            "Successfully submitted to Walmart Recruiting: Trip Type Classification"
          ]
        }
      ]
    },
    {
      "cell_type": "markdown",
      "source": [
        "#LightGBM"
      ],
      "metadata": {
        "id": "Gf5N-UES4kyA"
      }
    },
    {
      "cell_type": "code",
      "source": [
        "pip install lightgbm"
      ],
      "metadata": {
        "id": "yOl0MIUB0kM6",
        "outputId": "c90a451a-53f7-453d-db64-2afadc6e8958",
        "colab": {
          "base_uri": "https://localhost:8080/"
        }
      },
      "execution_count": 78,
      "outputs": [
        {
          "output_type": "stream",
          "name": "stdout",
          "text": [
            "Looking in indexes: https://pypi.org/simple, https://us-python.pkg.dev/colab-wheels/public/simple/\n",
            "Requirement already satisfied: lightgbm in /usr/local/lib/python3.9/dist-packages (3.3.5)\n",
            "Requirement already satisfied: scikit-learn!=0.22.0 in /usr/local/lib/python3.9/dist-packages (from lightgbm) (1.2.2)\n",
            "Requirement already satisfied: numpy in /usr/local/lib/python3.9/dist-packages (from lightgbm) (1.22.4)\n",
            "Requirement already satisfied: scipy in /usr/local/lib/python3.9/dist-packages (from lightgbm) (1.10.1)\n",
            "Requirement already satisfied: wheel in /usr/local/lib/python3.9/dist-packages (from lightgbm) (0.40.0)\n",
            "Requirement already satisfied: threadpoolctl>=2.0.0 in /usr/local/lib/python3.9/dist-packages (from scikit-learn!=0.22.0->lightgbm) (3.1.0)\n",
            "Requirement already satisfied: joblib>=1.1.1 in /usr/local/lib/python3.9/dist-packages (from scikit-learn!=0.22.0->lightgbm) (1.1.1)\n"
          ]
        }
      ]
    },
    {
      "cell_type": "code",
      "source": [
        "from lightgbm import LGBMClassifier"
      ],
      "metadata": {
        "id": "dSQJ5My40kLD"
      },
      "execution_count": 79,
      "outputs": []
    },
    {
      "cell_type": "code",
      "source": [],
      "metadata": {
        "id": "vEcfkhYD0kJT"
      },
      "execution_count": 79,
      "outputs": []
    },
    {
      "cell_type": "code",
      "source": [
        "lgbm_params = {\n",
        "    'n_estimators': 100,\n",
        "    'max_depth': 4,\n",
        "    'learning_rate': .3,\n",
        "    'objective': 'multiclass',\n",
        "    'reg_lambda': 3,\n",
        "    'n_jobs': 12,\n",
        "        \n",
        "}"
      ],
      "metadata": {
        "id": "P4x8Kogo0kHT"
      },
      "execution_count": 80,
      "outputs": []
    },
    {
      "cell_type": "code",
      "source": [
        "model_light = LGBMClassifier(**lgbm_params)"
      ],
      "metadata": {
        "id": "FNKQgruT0kFZ"
      },
      "execution_count": 81,
      "outputs": []
    },
    {
      "cell_type": "code",
      "source": [
        "%time model_light.fit(X_train,y_train)"
      ],
      "metadata": {
        "id": "SO-2x3gc0kDO",
        "outputId": "9337c05f-62aa-45e5-8c1c-cf03c8572bf4",
        "colab": {
          "base_uri": "https://localhost:8080/",
          "height": 128
        }
      },
      "execution_count": 92,
      "outputs": [
        {
          "output_type": "stream",
          "name": "stdout",
          "text": [
            "CPU times: user 1min 23s, sys: 12.2 s, total: 1min 36s\n",
            "Wall time: 1min 7s\n"
          ]
        },
        {
          "output_type": "execute_result",
          "data": {
            "text/plain": [
              "LGBMClassifier(learning_rate=0.3, max_depth=4, n_jobs=12,\n",
              "               objective='multiclass', reg_lambda=3)"
            ],
            "text/html": [
              "<style>#sk-container-id-3 {color: black;background-color: white;}#sk-container-id-3 pre{padding: 0;}#sk-container-id-3 div.sk-toggleable {background-color: white;}#sk-container-id-3 label.sk-toggleable__label {cursor: pointer;display: block;width: 100%;margin-bottom: 0;padding: 0.3em;box-sizing: border-box;text-align: center;}#sk-container-id-3 label.sk-toggleable__label-arrow:before {content: \"▸\";float: left;margin-right: 0.25em;color: #696969;}#sk-container-id-3 label.sk-toggleable__label-arrow:hover:before {color: black;}#sk-container-id-3 div.sk-estimator:hover label.sk-toggleable__label-arrow:before {color: black;}#sk-container-id-3 div.sk-toggleable__content {max-height: 0;max-width: 0;overflow: hidden;text-align: left;background-color: #f0f8ff;}#sk-container-id-3 div.sk-toggleable__content pre {margin: 0.2em;color: black;border-radius: 0.25em;background-color: #f0f8ff;}#sk-container-id-3 input.sk-toggleable__control:checked~div.sk-toggleable__content {max-height: 200px;max-width: 100%;overflow: auto;}#sk-container-id-3 input.sk-toggleable__control:checked~label.sk-toggleable__label-arrow:before {content: \"▾\";}#sk-container-id-3 div.sk-estimator input.sk-toggleable__control:checked~label.sk-toggleable__label {background-color: #d4ebff;}#sk-container-id-3 div.sk-label input.sk-toggleable__control:checked~label.sk-toggleable__label {background-color: #d4ebff;}#sk-container-id-3 input.sk-hidden--visually {border: 0;clip: rect(1px 1px 1px 1px);clip: rect(1px, 1px, 1px, 1px);height: 1px;margin: -1px;overflow: hidden;padding: 0;position: absolute;width: 1px;}#sk-container-id-3 div.sk-estimator {font-family: monospace;background-color: #f0f8ff;border: 1px dotted black;border-radius: 0.25em;box-sizing: border-box;margin-bottom: 0.5em;}#sk-container-id-3 div.sk-estimator:hover {background-color: #d4ebff;}#sk-container-id-3 div.sk-parallel-item::after {content: \"\";width: 100%;border-bottom: 1px solid gray;flex-grow: 1;}#sk-container-id-3 div.sk-label:hover label.sk-toggleable__label {background-color: #d4ebff;}#sk-container-id-3 div.sk-serial::before {content: \"\";position: absolute;border-left: 1px solid gray;box-sizing: border-box;top: 0;bottom: 0;left: 50%;z-index: 0;}#sk-container-id-3 div.sk-serial {display: flex;flex-direction: column;align-items: center;background-color: white;padding-right: 0.2em;padding-left: 0.2em;position: relative;}#sk-container-id-3 div.sk-item {position: relative;z-index: 1;}#sk-container-id-3 div.sk-parallel {display: flex;align-items: stretch;justify-content: center;background-color: white;position: relative;}#sk-container-id-3 div.sk-item::before, #sk-container-id-3 div.sk-parallel-item::before {content: \"\";position: absolute;border-left: 1px solid gray;box-sizing: border-box;top: 0;bottom: 0;left: 50%;z-index: -1;}#sk-container-id-3 div.sk-parallel-item {display: flex;flex-direction: column;z-index: 1;position: relative;background-color: white;}#sk-container-id-3 div.sk-parallel-item:first-child::after {align-self: flex-end;width: 50%;}#sk-container-id-3 div.sk-parallel-item:last-child::after {align-self: flex-start;width: 50%;}#sk-container-id-3 div.sk-parallel-item:only-child::after {width: 0;}#sk-container-id-3 div.sk-dashed-wrapped {border: 1px dashed gray;margin: 0 0.4em 0.5em 0.4em;box-sizing: border-box;padding-bottom: 0.4em;background-color: white;}#sk-container-id-3 div.sk-label label {font-family: monospace;font-weight: bold;display: inline-block;line-height: 1.2em;}#sk-container-id-3 div.sk-label-container {text-align: center;}#sk-container-id-3 div.sk-container {/* jupyter's `normalize.less` sets `[hidden] { display: none; }` but bootstrap.min.css set `[hidden] { display: none !important; }` so we also need the `!important` here to be able to override the default hidden behavior on the sphinx rendered scikit-learn.org. See: https://github.com/scikit-learn/scikit-learn/issues/21755 */display: inline-block !important;position: relative;}#sk-container-id-3 div.sk-text-repr-fallback {display: none;}</style><div id=\"sk-container-id-3\" class=\"sk-top-container\"><div class=\"sk-text-repr-fallback\"><pre>LGBMClassifier(learning_rate=0.3, max_depth=4, n_jobs=12,\n",
              "               objective=&#x27;multiclass&#x27;, reg_lambda=3)</pre><b>In a Jupyter environment, please rerun this cell to show the HTML representation or trust the notebook. <br />On GitHub, the HTML representation is unable to render, please try loading this page with nbviewer.org.</b></div><div class=\"sk-container\" hidden><div class=\"sk-item\"><div class=\"sk-estimator sk-toggleable\"><input class=\"sk-toggleable__control sk-hidden--visually\" id=\"sk-estimator-id-3\" type=\"checkbox\" checked><label for=\"sk-estimator-id-3\" class=\"sk-toggleable__label sk-toggleable__label-arrow\">LGBMClassifier</label><div class=\"sk-toggleable__content\"><pre>LGBMClassifier(learning_rate=0.3, max_depth=4, n_jobs=12,\n",
              "               objective=&#x27;multiclass&#x27;, reg_lambda=3)</pre></div></div></div></div></div>"
            ]
          },
          "metadata": {},
          "execution_count": 92
        }
      ]
    },
    {
      "cell_type": "code",
      "source": [
        "light_pred = model_light.predict_proba(X_test)"
      ],
      "metadata": {
        "id": "WKlRCjcX0kBu"
      },
      "execution_count": 83,
      "outputs": []
    },
    {
      "cell_type": "code",
      "source": [
        "light_pred"
      ],
      "metadata": {
        "id": "TYOByEHiLdhO",
        "outputId": "002a6f21-940b-4303-efec-00cd0bda1eab",
        "colab": {
          "base_uri": "https://localhost:8080/"
        }
      },
      "execution_count": 84,
      "outputs": [
        {
          "output_type": "execute_result",
          "data": {
            "text/plain": [
              "array([[3.26078304e-10, 4.83224608e-11, 7.71628591e-07, ...,\n",
              "        3.51642388e-05, 6.91261338e-07, 2.29833764e-04],\n",
              "       [1.79416584e-05, 1.80899242e-05, 1.70276121e-04, ...,\n",
              "        7.15161698e-05, 2.24673829e-05, 6.84396837e-01],\n",
              "       [3.88853130e-12, 8.27171639e-12, 1.69910968e-09, ...,\n",
              "        7.29727335e-11, 7.43832500e-12, 9.99998032e-01],\n",
              "       ...,\n",
              "       [2.34913817e-05, 1.88546081e-06, 5.86525076e-04, ...,\n",
              "        2.49467132e-06, 2.69066622e-06, 1.37811020e-03],\n",
              "       [5.03304718e-34, 7.78525588e-33, 1.34015200e-29, ...,\n",
              "        5.67420904e-29, 3.23162028e-18, 1.32828574e-30],\n",
              "       [8.18587762e-14, 7.30881520e-14, 7.95190365e-09, ...,\n",
              "        2.03200680e-06, 1.03512212e-08, 7.54682582e-09]])"
            ]
          },
          "metadata": {},
          "execution_count": 84
        }
      ]
    },
    {
      "cell_type": "code",
      "source": [
        "submission_light = pd.read_csv(\"/content/sample_submission.csv\")"
      ],
      "metadata": {
        "id": "3_vsXl-hLdd1"
      },
      "execution_count": 85,
      "outputs": []
    },
    {
      "cell_type": "code",
      "source": [
        "for i, col in enumerate(submission_light.columns):\n",
        "    if i == 0:\n",
        "      continue\n",
        "    submission_light[col] = light_pred[:, i-1]"
      ],
      "metadata": {
        "id": "zJKBbI7lLdbd"
      },
      "execution_count": 86,
      "outputs": []
    },
    {
      "cell_type": "code",
      "source": [
        "submission_light.to_csv('/content/submission_light.csv', index= False)"
      ],
      "metadata": {
        "id": "rNmjQefbLdZr"
      },
      "execution_count": 90,
      "outputs": []
    },
    {
      "cell_type": "code",
      "source": [
        "!kaggle competitions submit -c walmart-recruiting-trip-type-classification -f submission_light.csv -m \"LightGBM\""
      ],
      "metadata": {
        "id": "rkCElHxmLdXw",
        "outputId": "1633b96e-dbac-469e-c275-df5880bafd35",
        "colab": {
          "base_uri": "https://localhost:8080/"
        }
      },
      "execution_count": 91,
      "outputs": [
        {
          "output_type": "stream",
          "name": "stdout",
          "text": [
            "100% 77.4M/77.4M [00:03<00:00, 25.5MB/s]\n",
            "Successfully submitted to Walmart Recruiting: Trip Type Classification"
          ]
        }
      ]
    },
    {
      "cell_type": "code",
      "source": [],
      "metadata": {
        "id": "ck6Bl28HMDdg"
      },
      "execution_count": null,
      "outputs": []
    }
  ],
  "metadata": {
    "kernelspec": {
      "display_name": "Python 3 (ipykernel)",
      "language": "python",
      "name": "python3"
    },
    "language_info": {
      "codemirror_mode": {
        "name": "ipython",
        "version": 3
      },
      "file_extension": ".py",
      "mimetype": "text/x-python",
      "name": "python",
      "nbconvert_exporter": "python",
      "pygments_lexer": "ipython3",
      "version": "3.9.13"
    },
    "colab": {
      "provenance": []
    },
    "accelerator": "GPU",
    "gpuClass": "standard"
  },
  "nbformat": 4,
  "nbformat_minor": 0
}