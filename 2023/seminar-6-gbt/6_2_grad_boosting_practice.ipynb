{
  "cells": [
    {
      "cell_type": "markdown",
      "metadata": {
        "id": "mkpTZ7nHqZLC"
      },
      "source": [
        "# Walmart TripType prediction\n",
        "\n",
        "https://www.kaggle.com/c/walmart-recruiting-trip-type-classification\n",
        "\n",
        ">For this competition, you are tasked with categorizing shopping trip types based on the items that customers purchased. To give a few hypothetical examples of trip types: a customer may make a small daily dinner trip, a weekly large grocery trip, a trip to buy gifts for an upcoming holiday, or a seasonal trip to buy clothes.\n",
        "\n",
        "\n",
        "## Multi-class classification, goal is to predict `type of the trip`.\n",
        "\n"
      ]
    },
    {
      "cell_type": "code",
      "source": [
        "!mkdir ~/.kaggle\n",
        "!touch ~/.kaggle/kaggle.json\n",
        "\n",
        "api_token = {\"username\":\"kolesnikovia\",\"key\":\"ec2bf61f4071c8a04ff0d396f2f4f4a4\"}\n",
        "\n",
        "import json\n",
        "\n",
        "with open('/root/.kaggle/kaggle.json', 'w') as file:\n",
        "    json.dump(api_token, file)\n",
        "\n",
        "!chmod 600 ~/.kaggle/kaggle.json"
      ],
      "metadata": {
        "id": "_U3bJKe7rhFy"
      },
      "execution_count": 1,
      "outputs": []
    },
    {
      "cell_type": "code",
      "execution_count": 2,
      "metadata": {
        "colab": {
          "base_uri": "https://localhost:8080/"
        },
        "id": "-CV3SYVZqZLG",
        "outputId": "18645e03-7b00-4282-a4dc-89b6e5fb7408"
      },
      "outputs": [
        {
          "output_type": "stream",
          "name": "stdout",
          "text": [
            "Downloading walmart-recruiting-trip-type-classification.zip to /content\n",
            "\r  0% 0.00/11.0M [00:00<?, ?B/s]\r 55% 6.00M/11.0M [00:00<00:00, 60.6MB/s]\n",
            "\r100% 11.0M/11.0M [00:00<00:00, 89.9MB/s]\n"
          ]
        }
      ],
      "source": [
        "!kaggle competitions download -c walmart-recruiting-trip-type-classification"
      ]
    },
    {
      "cell_type": "code",
      "execution_count": 3,
      "metadata": {
        "id": "WwlNZ0zyqZLH"
      },
      "outputs": [],
      "source": [
        "import pandas as pd\n",
        "import numpy as np\n",
        "import matplotlib.pyplot as plt\n",
        "import seaborn as sns\n",
        "%matplotlib inline"
      ]
    },
    {
      "cell_type": "code",
      "source": [
        "!unzip /content/walmart-recruiting-trip-type-classification.zip"
      ],
      "metadata": {
        "colab": {
          "base_uri": "https://localhost:8080/"
        },
        "id": "GYO702TtwZrM",
        "outputId": "51e6cac8-83d5-494f-e6e3-2a77376f9734"
      },
      "execution_count": 4,
      "outputs": [
        {
          "output_type": "stream",
          "name": "stdout",
          "text": [
            "Archive:  /content/walmart-recruiting-trip-type-classification.zip\n",
            "  inflating: sample_submission.csv.zip  \n",
            "  inflating: test.csv.zip            \n",
            "  inflating: train.csv.zip           \n"
          ]
        }
      ]
    },
    {
      "cell_type": "code",
      "source": [
        "!unzip /content/train.csv.zip"
      ],
      "metadata": {
        "colab": {
          "base_uri": "https://localhost:8080/"
        },
        "id": "yRe8idJ0wsIM",
        "outputId": "430d92d8-bb3d-4922-dbed-bb0b9018fa3b"
      },
      "execution_count": 5,
      "outputs": [
        {
          "output_type": "stream",
          "name": "stdout",
          "text": [
            "Archive:  /content/train.csv.zip\n",
            "  inflating: train.csv               \n"
          ]
        }
      ]
    },
    {
      "cell_type": "code",
      "execution_count": 6,
      "metadata": {
        "id": "W1WI-5twqZLH"
      },
      "outputs": [],
      "source": [
        "train = pd.read_csv('train.csv')\n",
        "#test = pd.read_csv('walmart-recruiting-trip-type-classification/test.csv')"
      ]
    },
    {
      "cell_type": "code",
      "execution_count": 7,
      "metadata": {
        "colab": {
          "base_uri": "https://localhost:8080/",
          "height": 206
        },
        "id": "NBfdmmyNqZLI",
        "outputId": "0e7b41bc-c258-44dc-ace7-4fdd5551eab4"
      },
      "outputs": [
        {
          "output_type": "execute_result",
          "data": {
            "text/plain": [
              "   TripType  VisitNumber Weekday           Upc  ScanCount  \\\n",
              "0       999            5  Friday  6.811315e+10         -1   \n",
              "1        30            7  Friday  6.053882e+10          1   \n",
              "2        30            7  Friday  7.410811e+09          1   \n",
              "3        26            8  Friday  2.238404e+09          2   \n",
              "4        26            8  Friday  2.006614e+09          2   \n",
              "\n",
              "   DepartmentDescription  FinelineNumber  \n",
              "0     FINANCIAL SERVICES          1000.0  \n",
              "1                  SHOES          8931.0  \n",
              "2          PERSONAL CARE          4504.0  \n",
              "3  PAINT AND ACCESSORIES          3565.0  \n",
              "4  PAINT AND ACCESSORIES          1017.0  "
            ],
            "text/html": [
              "\n",
              "  <div id=\"df-9c3cce1a-cc0a-49c8-9cb7-b52fdadc08a0\">\n",
              "    <div class=\"colab-df-container\">\n",
              "      <div>\n",
              "<style scoped>\n",
              "    .dataframe tbody tr th:only-of-type {\n",
              "        vertical-align: middle;\n",
              "    }\n",
              "\n",
              "    .dataframe tbody tr th {\n",
              "        vertical-align: top;\n",
              "    }\n",
              "\n",
              "    .dataframe thead th {\n",
              "        text-align: right;\n",
              "    }\n",
              "</style>\n",
              "<table border=\"1\" class=\"dataframe\">\n",
              "  <thead>\n",
              "    <tr style=\"text-align: right;\">\n",
              "      <th></th>\n",
              "      <th>TripType</th>\n",
              "      <th>VisitNumber</th>\n",
              "      <th>Weekday</th>\n",
              "      <th>Upc</th>\n",
              "      <th>ScanCount</th>\n",
              "      <th>DepartmentDescription</th>\n",
              "      <th>FinelineNumber</th>\n",
              "    </tr>\n",
              "  </thead>\n",
              "  <tbody>\n",
              "    <tr>\n",
              "      <th>0</th>\n",
              "      <td>999</td>\n",
              "      <td>5</td>\n",
              "      <td>Friday</td>\n",
              "      <td>6.811315e+10</td>\n",
              "      <td>-1</td>\n",
              "      <td>FINANCIAL SERVICES</td>\n",
              "      <td>1000.0</td>\n",
              "    </tr>\n",
              "    <tr>\n",
              "      <th>1</th>\n",
              "      <td>30</td>\n",
              "      <td>7</td>\n",
              "      <td>Friday</td>\n",
              "      <td>6.053882e+10</td>\n",
              "      <td>1</td>\n",
              "      <td>SHOES</td>\n",
              "      <td>8931.0</td>\n",
              "    </tr>\n",
              "    <tr>\n",
              "      <th>2</th>\n",
              "      <td>30</td>\n",
              "      <td>7</td>\n",
              "      <td>Friday</td>\n",
              "      <td>7.410811e+09</td>\n",
              "      <td>1</td>\n",
              "      <td>PERSONAL CARE</td>\n",
              "      <td>4504.0</td>\n",
              "    </tr>\n",
              "    <tr>\n",
              "      <th>3</th>\n",
              "      <td>26</td>\n",
              "      <td>8</td>\n",
              "      <td>Friday</td>\n",
              "      <td>2.238404e+09</td>\n",
              "      <td>2</td>\n",
              "      <td>PAINT AND ACCESSORIES</td>\n",
              "      <td>3565.0</td>\n",
              "    </tr>\n",
              "    <tr>\n",
              "      <th>4</th>\n",
              "      <td>26</td>\n",
              "      <td>8</td>\n",
              "      <td>Friday</td>\n",
              "      <td>2.006614e+09</td>\n",
              "      <td>2</td>\n",
              "      <td>PAINT AND ACCESSORIES</td>\n",
              "      <td>1017.0</td>\n",
              "    </tr>\n",
              "  </tbody>\n",
              "</table>\n",
              "</div>\n",
              "      <button class=\"colab-df-convert\" onclick=\"convertToInteractive('df-9c3cce1a-cc0a-49c8-9cb7-b52fdadc08a0')\"\n",
              "              title=\"Convert this dataframe to an interactive table.\"\n",
              "              style=\"display:none;\">\n",
              "        \n",
              "  <svg xmlns=\"http://www.w3.org/2000/svg\" height=\"24px\"viewBox=\"0 0 24 24\"\n",
              "       width=\"24px\">\n",
              "    <path d=\"M0 0h24v24H0V0z\" fill=\"none\"/>\n",
              "    <path d=\"M18.56 5.44l.94 2.06.94-2.06 2.06-.94-2.06-.94-.94-2.06-.94 2.06-2.06.94zm-11 1L8.5 8.5l.94-2.06 2.06-.94-2.06-.94L8.5 2.5l-.94 2.06-2.06.94zm10 10l.94 2.06.94-2.06 2.06-.94-2.06-.94-.94-2.06-.94 2.06-2.06.94z\"/><path d=\"M17.41 7.96l-1.37-1.37c-.4-.4-.92-.59-1.43-.59-.52 0-1.04.2-1.43.59L10.3 9.45l-7.72 7.72c-.78.78-.78 2.05 0 2.83L4 21.41c.39.39.9.59 1.41.59.51 0 1.02-.2 1.41-.59l7.78-7.78 2.81-2.81c.8-.78.8-2.07 0-2.86zM5.41 20L4 18.59l7.72-7.72 1.47 1.35L5.41 20z\"/>\n",
              "  </svg>\n",
              "      </button>\n",
              "      \n",
              "  <style>\n",
              "    .colab-df-container {\n",
              "      display:flex;\n",
              "      flex-wrap:wrap;\n",
              "      gap: 12px;\n",
              "    }\n",
              "\n",
              "    .colab-df-convert {\n",
              "      background-color: #E8F0FE;\n",
              "      border: none;\n",
              "      border-radius: 50%;\n",
              "      cursor: pointer;\n",
              "      display: none;\n",
              "      fill: #1967D2;\n",
              "      height: 32px;\n",
              "      padding: 0 0 0 0;\n",
              "      width: 32px;\n",
              "    }\n",
              "\n",
              "    .colab-df-convert:hover {\n",
              "      background-color: #E2EBFA;\n",
              "      box-shadow: 0px 1px 2px rgba(60, 64, 67, 0.3), 0px 1px 3px 1px rgba(60, 64, 67, 0.15);\n",
              "      fill: #174EA6;\n",
              "    }\n",
              "\n",
              "    [theme=dark] .colab-df-convert {\n",
              "      background-color: #3B4455;\n",
              "      fill: #D2E3FC;\n",
              "    }\n",
              "\n",
              "    [theme=dark] .colab-df-convert:hover {\n",
              "      background-color: #434B5C;\n",
              "      box-shadow: 0px 1px 3px 1px rgba(0, 0, 0, 0.15);\n",
              "      filter: drop-shadow(0px 1px 2px rgba(0, 0, 0, 0.3));\n",
              "      fill: #FFFFFF;\n",
              "    }\n",
              "  </style>\n",
              "\n",
              "      <script>\n",
              "        const buttonEl =\n",
              "          document.querySelector('#df-9c3cce1a-cc0a-49c8-9cb7-b52fdadc08a0 button.colab-df-convert');\n",
              "        buttonEl.style.display =\n",
              "          google.colab.kernel.accessAllowed ? 'block' : 'none';\n",
              "\n",
              "        async function convertToInteractive(key) {\n",
              "          const element = document.querySelector('#df-9c3cce1a-cc0a-49c8-9cb7-b52fdadc08a0');\n",
              "          const dataTable =\n",
              "            await google.colab.kernel.invokeFunction('convertToInteractive',\n",
              "                                                     [key], {});\n",
              "          if (!dataTable) return;\n",
              "\n",
              "          const docLinkHtml = 'Like what you see? Visit the ' +\n",
              "            '<a target=\"_blank\" href=https://colab.research.google.com/notebooks/data_table.ipynb>data table notebook</a>'\n",
              "            + ' to learn more about interactive tables.';\n",
              "          element.innerHTML = '';\n",
              "          dataTable['output_type'] = 'display_data';\n",
              "          await google.colab.output.renderOutput(dataTable, element);\n",
              "          const docLink = document.createElement('div');\n",
              "          docLink.innerHTML = docLinkHtml;\n",
              "          element.appendChild(docLink);\n",
              "        }\n",
              "      </script>\n",
              "    </div>\n",
              "  </div>\n",
              "  "
            ]
          },
          "metadata": {},
          "execution_count": 7
        }
      ],
      "source": [
        "train.head()"
      ]
    },
    {
      "cell_type": "markdown",
      "metadata": {
        "id": "JqW-DLZ6qZLJ"
      },
      "source": [
        "### Columns description\n",
        "\n",
        "- `TripType` - a categorical id representing the type of shopping trip the customer made. This is the ground truth that you are predicting. TripType_999 is an \"other\" category.\n",
        "- `VisitNumber` - an id corresponding to a single trip by a single customer\n",
        "- `Weekday` - the weekday of the trip\n",
        "- `Upc`- the UPC number of the product purchased\n",
        "- `ScanCount` - the number of the given item that was purchased. A negative value indicates a product return.\n",
        "- `DepartmentDescription` - a high-level description of the item's department\n",
        "- `FinelineNumber` - a more refined category for each of the products, created by Walmart\n"
      ]
    },
    {
      "cell_type": "code",
      "execution_count": 8,
      "metadata": {
        "colab": {
          "base_uri": "https://localhost:8080/"
        },
        "id": "NEdb3l5PqZLJ",
        "outputId": "0f5b1be2-7ae3-4601-d63b-f96b693dd6d2"
      },
      "outputs": [
        {
          "output_type": "execute_result",
          "data": {
            "text/plain": [
              "(647054, 7)"
            ]
          },
          "metadata": {},
          "execution_count": 8
        }
      ],
      "source": [
        "train.shape"
      ]
    },
    {
      "cell_type": "code",
      "execution_count": 9,
      "metadata": {
        "colab": {
          "base_uri": "https://localhost:8080/"
        },
        "id": "iMQfO6CRqZLK",
        "outputId": "f78ac339-f255-4ae0-f203-cbf2e695a6f3"
      },
      "outputs": [
        {
          "output_type": "execute_result",
          "data": {
            "text/plain": [
              "TripType                 647054\n",
              "VisitNumber              647054\n",
              "Weekday                  647054\n",
              "Upc                      642925\n",
              "ScanCount                647054\n",
              "DepartmentDescription    645693\n",
              "FinelineNumber           642925\n",
              "dtype: int64"
            ]
          },
          "metadata": {},
          "execution_count": 9
        }
      ],
      "source": [
        "train.count()"
      ]
    },
    {
      "cell_type": "code",
      "execution_count": 10,
      "metadata": {
        "colab": {
          "base_uri": "https://localhost:8080/"
        },
        "id": "jFTfUBApqZLK",
        "outputId": "368af9ef-c662-4338-fabd-72d6771e2050"
      },
      "outputs": [
        {
          "output_type": "execute_result",
          "data": {
            "text/plain": [
              "40     174164\n",
              "39      95504\n",
              "37      38954\n",
              "38      29565\n",
              "25      27609\n",
              "7       23199\n",
              "8       22844\n",
              "36      21990\n",
              "44      20424\n",
              "42      19468\n",
              "24      18015\n",
              "999     17590\n",
              "9       16820\n",
              "32      13843\n",
              "5       13836\n",
              "35      12501\n",
              "33       9918\n",
              "15       7147\n",
              "3        6827\n",
              "43       6383\n",
              "41       5508\n",
              "30       4861\n",
              "34       4751\n",
              "27       4613\n",
              "21       4032\n",
              "22       3592\n",
              "6        3405\n",
              "20       3116\n",
              "18       2977\n",
              "28       2664\n",
              "26       2507\n",
              "12       2108\n",
              "29       2105\n",
              "31       1765\n",
              "19       1188\n",
              "4         901\n",
              "23        325\n",
              "14         35\n",
              "Name: TripType, dtype: int64"
            ]
          },
          "metadata": {},
          "execution_count": 10
        }
      ],
      "source": [
        "train.TripType.value_counts()"
      ]
    },
    {
      "cell_type": "markdown",
      "metadata": {
        "id": "mHzNAGY-qZLL"
      },
      "source": [
        "# 1. Understand the task.\n",
        "\n",
        "> Every single ml task has its features, and there are no universal solutions, only generally working principles.\n",
        "\n",
        "We need to predict type of the visit: `TripType`. Every row of the data table contains information about a single product not a visit, threfore we need to combine the information about the visit from all the purchases. \n",
        "\n",
        "![](https://github.com/vanekek/iitp-ml-ds/blob/main/2023/seminar-6-gbt/trip-type.png?raw=1)\n",
        "\n",
        "Unfortunately, we do not have the information about customers, so we do not know if some of the Visits were performed by the same person.\n"
      ]
    },
    {
      "cell_type": "code",
      "execution_count": 11,
      "metadata": {
        "colab": {
          "base_uri": "https://localhost:8080/",
          "height": 206
        },
        "id": "GyUnz9yOqZLL",
        "outputId": "4123587d-b2d9-495e-aa97-c5960f332d45"
      },
      "outputs": [
        {
          "output_type": "execute_result",
          "data": {
            "text/plain": [
              "   TripType  VisitNumber Weekday           Upc  ScanCount  \\\n",
              "0       999            5  Friday  6.811315e+10         -1   \n",
              "1        30            7  Friday  6.053882e+10          1   \n",
              "2        30            7  Friday  7.410811e+09          1   \n",
              "3        26            8  Friday  2.238404e+09          2   \n",
              "4        26            8  Friday  2.006614e+09          2   \n",
              "\n",
              "   DepartmentDescription  FinelineNumber  \n",
              "0     FINANCIAL SERVICES          1000.0  \n",
              "1                  SHOES          8931.0  \n",
              "2          PERSONAL CARE          4504.0  \n",
              "3  PAINT AND ACCESSORIES          3565.0  \n",
              "4  PAINT AND ACCESSORIES          1017.0  "
            ],
            "text/html": [
              "\n",
              "  <div id=\"df-b702bf26-16bb-4628-8252-b8c712453419\">\n",
              "    <div class=\"colab-df-container\">\n",
              "      <div>\n",
              "<style scoped>\n",
              "    .dataframe tbody tr th:only-of-type {\n",
              "        vertical-align: middle;\n",
              "    }\n",
              "\n",
              "    .dataframe tbody tr th {\n",
              "        vertical-align: top;\n",
              "    }\n",
              "\n",
              "    .dataframe thead th {\n",
              "        text-align: right;\n",
              "    }\n",
              "</style>\n",
              "<table border=\"1\" class=\"dataframe\">\n",
              "  <thead>\n",
              "    <tr style=\"text-align: right;\">\n",
              "      <th></th>\n",
              "      <th>TripType</th>\n",
              "      <th>VisitNumber</th>\n",
              "      <th>Weekday</th>\n",
              "      <th>Upc</th>\n",
              "      <th>ScanCount</th>\n",
              "      <th>DepartmentDescription</th>\n",
              "      <th>FinelineNumber</th>\n",
              "    </tr>\n",
              "  </thead>\n",
              "  <tbody>\n",
              "    <tr>\n",
              "      <th>0</th>\n",
              "      <td>999</td>\n",
              "      <td>5</td>\n",
              "      <td>Friday</td>\n",
              "      <td>6.811315e+10</td>\n",
              "      <td>-1</td>\n",
              "      <td>FINANCIAL SERVICES</td>\n",
              "      <td>1000.0</td>\n",
              "    </tr>\n",
              "    <tr>\n",
              "      <th>1</th>\n",
              "      <td>30</td>\n",
              "      <td>7</td>\n",
              "      <td>Friday</td>\n",
              "      <td>6.053882e+10</td>\n",
              "      <td>1</td>\n",
              "      <td>SHOES</td>\n",
              "      <td>8931.0</td>\n",
              "    </tr>\n",
              "    <tr>\n",
              "      <th>2</th>\n",
              "      <td>30</td>\n",
              "      <td>7</td>\n",
              "      <td>Friday</td>\n",
              "      <td>7.410811e+09</td>\n",
              "      <td>1</td>\n",
              "      <td>PERSONAL CARE</td>\n",
              "      <td>4504.0</td>\n",
              "    </tr>\n",
              "    <tr>\n",
              "      <th>3</th>\n",
              "      <td>26</td>\n",
              "      <td>8</td>\n",
              "      <td>Friday</td>\n",
              "      <td>2.238404e+09</td>\n",
              "      <td>2</td>\n",
              "      <td>PAINT AND ACCESSORIES</td>\n",
              "      <td>3565.0</td>\n",
              "    </tr>\n",
              "    <tr>\n",
              "      <th>4</th>\n",
              "      <td>26</td>\n",
              "      <td>8</td>\n",
              "      <td>Friday</td>\n",
              "      <td>2.006614e+09</td>\n",
              "      <td>2</td>\n",
              "      <td>PAINT AND ACCESSORIES</td>\n",
              "      <td>1017.0</td>\n",
              "    </tr>\n",
              "  </tbody>\n",
              "</table>\n",
              "</div>\n",
              "      <button class=\"colab-df-convert\" onclick=\"convertToInteractive('df-b702bf26-16bb-4628-8252-b8c712453419')\"\n",
              "              title=\"Convert this dataframe to an interactive table.\"\n",
              "              style=\"display:none;\">\n",
              "        \n",
              "  <svg xmlns=\"http://www.w3.org/2000/svg\" height=\"24px\"viewBox=\"0 0 24 24\"\n",
              "       width=\"24px\">\n",
              "    <path d=\"M0 0h24v24H0V0z\" fill=\"none\"/>\n",
              "    <path d=\"M18.56 5.44l.94 2.06.94-2.06 2.06-.94-2.06-.94-.94-2.06-.94 2.06-2.06.94zm-11 1L8.5 8.5l.94-2.06 2.06-.94-2.06-.94L8.5 2.5l-.94 2.06-2.06.94zm10 10l.94 2.06.94-2.06 2.06-.94-2.06-.94-.94-2.06-.94 2.06-2.06.94z\"/><path d=\"M17.41 7.96l-1.37-1.37c-.4-.4-.92-.59-1.43-.59-.52 0-1.04.2-1.43.59L10.3 9.45l-7.72 7.72c-.78.78-.78 2.05 0 2.83L4 21.41c.39.39.9.59 1.41.59.51 0 1.02-.2 1.41-.59l7.78-7.78 2.81-2.81c.8-.78.8-2.07 0-2.86zM5.41 20L4 18.59l7.72-7.72 1.47 1.35L5.41 20z\"/>\n",
              "  </svg>\n",
              "      </button>\n",
              "      \n",
              "  <style>\n",
              "    .colab-df-container {\n",
              "      display:flex;\n",
              "      flex-wrap:wrap;\n",
              "      gap: 12px;\n",
              "    }\n",
              "\n",
              "    .colab-df-convert {\n",
              "      background-color: #E8F0FE;\n",
              "      border: none;\n",
              "      border-radius: 50%;\n",
              "      cursor: pointer;\n",
              "      display: none;\n",
              "      fill: #1967D2;\n",
              "      height: 32px;\n",
              "      padding: 0 0 0 0;\n",
              "      width: 32px;\n",
              "    }\n",
              "\n",
              "    .colab-df-convert:hover {\n",
              "      background-color: #E2EBFA;\n",
              "      box-shadow: 0px 1px 2px rgba(60, 64, 67, 0.3), 0px 1px 3px 1px rgba(60, 64, 67, 0.15);\n",
              "      fill: #174EA6;\n",
              "    }\n",
              "\n",
              "    [theme=dark] .colab-df-convert {\n",
              "      background-color: #3B4455;\n",
              "      fill: #D2E3FC;\n",
              "    }\n",
              "\n",
              "    [theme=dark] .colab-df-convert:hover {\n",
              "      background-color: #434B5C;\n",
              "      box-shadow: 0px 1px 3px 1px rgba(0, 0, 0, 0.15);\n",
              "      filter: drop-shadow(0px 1px 2px rgba(0, 0, 0, 0.3));\n",
              "      fill: #FFFFFF;\n",
              "    }\n",
              "  </style>\n",
              "\n",
              "      <script>\n",
              "        const buttonEl =\n",
              "          document.querySelector('#df-b702bf26-16bb-4628-8252-b8c712453419 button.colab-df-convert');\n",
              "        buttonEl.style.display =\n",
              "          google.colab.kernel.accessAllowed ? 'block' : 'none';\n",
              "\n",
              "        async function convertToInteractive(key) {\n",
              "          const element = document.querySelector('#df-b702bf26-16bb-4628-8252-b8c712453419');\n",
              "          const dataTable =\n",
              "            await google.colab.kernel.invokeFunction('convertToInteractive',\n",
              "                                                     [key], {});\n",
              "          if (!dataTable) return;\n",
              "\n",
              "          const docLinkHtml = 'Like what you see? Visit the ' +\n",
              "            '<a target=\"_blank\" href=https://colab.research.google.com/notebooks/data_table.ipynb>data table notebook</a>'\n",
              "            + ' to learn more about interactive tables.';\n",
              "          element.innerHTML = '';\n",
              "          dataTable['output_type'] = 'display_data';\n",
              "          await google.colab.output.renderOutput(dataTable, element);\n",
              "          const docLink = document.createElement('div');\n",
              "          docLink.innerHTML = docLinkHtml;\n",
              "          element.appendChild(docLink);\n",
              "        }\n",
              "      </script>\n",
              "    </div>\n",
              "  </div>\n",
              "  "
            ]
          },
          "metadata": {},
          "execution_count": 11
        }
      ],
      "source": [
        "train.head(5)"
      ]
    },
    {
      "cell_type": "code",
      "execution_count": 11,
      "metadata": {
        "id": "mdUmpPMOqZLM"
      },
      "outputs": [],
      "source": []
    },
    {
      "cell_type": "markdown",
      "metadata": {
        "id": "w1-Lv-LmqZLM"
      },
      "source": [
        "# 2. Build a simple baseline model\n",
        "\n",
        "- Count number of purchases in a Visit\n",
        "- Create binary column `is_weekend`\n",
        "- Drop all the remaining columns"
      ]
    },
    {
      "cell_type": "code",
      "execution_count": 12,
      "metadata": {
        "id": "iAmVzhHBqZLM"
      },
      "outputs": [],
      "source": [
        "from sklearn.model_selection import train_test_split\n",
        "from sklearn.ensemble import RandomForestClassifier\n",
        "from sklearn.preprocessing import LabelEncoder"
      ]
    },
    {
      "cell_type": "code",
      "execution_count": 13,
      "metadata": {
        "id": "S-NLvQ5DqZLN"
      },
      "outputs": [],
      "source": [
        "def is_weekend(day):\n",
        "    return int(day in ['Saturday', 'Sunday'])\n",
        "\n",
        "df_train = train.copy()\n",
        "\n",
        "# Generate is_weekend\n",
        "df_train['is_weekend'] = df_train.Weekday.apply(is_weekend)\n",
        "\n",
        "# Generate n_products\n",
        "gp_n_products = df_train.groupby('VisitNumber')['ScanCount'].count()\n",
        "df_train['n_products'] = df_train.VisitNumber.map(gp_n_products)\n",
        "\n",
        "# drop duplicated Visit numbers\n",
        "df_train = df_train.drop_duplicates(subset=['VisitNumber']).reset_index(drop=True)\n",
        "\n",
        "# drop all columns except `is_weekend`, `n_products` and `TripType`\n",
        "df_train = df_train.drop(['VisitNumber', 'Weekday', 'Upc', 'ScanCount',\n",
        "                          'DepartmentDescription', 'FinelineNumber'], axis=1)\n",
        "\n",
        "# Encode TripType so unique values are from 0 to (m-1), where m is number of classes\n",
        "encoder = LabelEncoder().fit(df_train['TripType'])\n",
        "df_train['TripType_encoded'] =  encoder.transform(df_train['TripType'])\n",
        "df_train = df_train.drop('TripType', axis=1)\n",
        "\n",
        "# Create separate variables X and y\n",
        "X = df_train.drop('TripType_encoded', axis=1)\n",
        "y = df_train.TripType_encoded"
      ]
    },
    {
      "cell_type": "code",
      "execution_count": 14,
      "metadata": {
        "id": "5UY1IR8DqZLN"
      },
      "outputs": [],
      "source": [
        "from sklearn.model_selection import train_test_split"
      ]
    },
    {
      "cell_type": "code",
      "execution_count": 15,
      "metadata": {
        "id": "EtVKhybAqZLO"
      },
      "outputs": [],
      "source": [
        "# Split data into train and test, use parameter `stratify=y`\n",
        "\n",
        "X_train, X_test, y_train, y_test = train_test_split(X, y, test_size=0.20, random_state=774, stratify=y)"
      ]
    },
    {
      "cell_type": "code",
      "execution_count": 16,
      "metadata": {
        "id": "TZ7OpnY7qZLO"
      },
      "outputs": [],
      "source": [
        "from sklearn.ensemble import RandomForestClassifier\n",
        "from sklearn.metrics import log_loss"
      ]
    },
    {
      "cell_type": "code",
      "execution_count": 17,
      "metadata": {
        "colab": {
          "base_uri": "https://localhost:8080/",
          "height": 74
        },
        "id": "TlVO1iyDqZLO",
        "outputId": "bd531539-08cd-49ca-d319-34b035e4b499"
      },
      "outputs": [
        {
          "output_type": "execute_result",
          "data": {
            "text/plain": [
              "RandomForestClassifier()"
            ],
            "text/html": [
              "<style>#sk-container-id-1 {color: black;background-color: white;}#sk-container-id-1 pre{padding: 0;}#sk-container-id-1 div.sk-toggleable {background-color: white;}#sk-container-id-1 label.sk-toggleable__label {cursor: pointer;display: block;width: 100%;margin-bottom: 0;padding: 0.3em;box-sizing: border-box;text-align: center;}#sk-container-id-1 label.sk-toggleable__label-arrow:before {content: \"▸\";float: left;margin-right: 0.25em;color: #696969;}#sk-container-id-1 label.sk-toggleable__label-arrow:hover:before {color: black;}#sk-container-id-1 div.sk-estimator:hover label.sk-toggleable__label-arrow:before {color: black;}#sk-container-id-1 div.sk-toggleable__content {max-height: 0;max-width: 0;overflow: hidden;text-align: left;background-color: #f0f8ff;}#sk-container-id-1 div.sk-toggleable__content pre {margin: 0.2em;color: black;border-radius: 0.25em;background-color: #f0f8ff;}#sk-container-id-1 input.sk-toggleable__control:checked~div.sk-toggleable__content {max-height: 200px;max-width: 100%;overflow: auto;}#sk-container-id-1 input.sk-toggleable__control:checked~label.sk-toggleable__label-arrow:before {content: \"▾\";}#sk-container-id-1 div.sk-estimator input.sk-toggleable__control:checked~label.sk-toggleable__label {background-color: #d4ebff;}#sk-container-id-1 div.sk-label input.sk-toggleable__control:checked~label.sk-toggleable__label {background-color: #d4ebff;}#sk-container-id-1 input.sk-hidden--visually {border: 0;clip: rect(1px 1px 1px 1px);clip: rect(1px, 1px, 1px, 1px);height: 1px;margin: -1px;overflow: hidden;padding: 0;position: absolute;width: 1px;}#sk-container-id-1 div.sk-estimator {font-family: monospace;background-color: #f0f8ff;border: 1px dotted black;border-radius: 0.25em;box-sizing: border-box;margin-bottom: 0.5em;}#sk-container-id-1 div.sk-estimator:hover {background-color: #d4ebff;}#sk-container-id-1 div.sk-parallel-item::after {content: \"\";width: 100%;border-bottom: 1px solid gray;flex-grow: 1;}#sk-container-id-1 div.sk-label:hover label.sk-toggleable__label {background-color: #d4ebff;}#sk-container-id-1 div.sk-serial::before {content: \"\";position: absolute;border-left: 1px solid gray;box-sizing: border-box;top: 0;bottom: 0;left: 50%;z-index: 0;}#sk-container-id-1 div.sk-serial {display: flex;flex-direction: column;align-items: center;background-color: white;padding-right: 0.2em;padding-left: 0.2em;position: relative;}#sk-container-id-1 div.sk-item {position: relative;z-index: 1;}#sk-container-id-1 div.sk-parallel {display: flex;align-items: stretch;justify-content: center;background-color: white;position: relative;}#sk-container-id-1 div.sk-item::before, #sk-container-id-1 div.sk-parallel-item::before {content: \"\";position: absolute;border-left: 1px solid gray;box-sizing: border-box;top: 0;bottom: 0;left: 50%;z-index: -1;}#sk-container-id-1 div.sk-parallel-item {display: flex;flex-direction: column;z-index: 1;position: relative;background-color: white;}#sk-container-id-1 div.sk-parallel-item:first-child::after {align-self: flex-end;width: 50%;}#sk-container-id-1 div.sk-parallel-item:last-child::after {align-self: flex-start;width: 50%;}#sk-container-id-1 div.sk-parallel-item:only-child::after {width: 0;}#sk-container-id-1 div.sk-dashed-wrapped {border: 1px dashed gray;margin: 0 0.4em 0.5em 0.4em;box-sizing: border-box;padding-bottom: 0.4em;background-color: white;}#sk-container-id-1 div.sk-label label {font-family: monospace;font-weight: bold;display: inline-block;line-height: 1.2em;}#sk-container-id-1 div.sk-label-container {text-align: center;}#sk-container-id-1 div.sk-container {/* jupyter's `normalize.less` sets `[hidden] { display: none; }` but bootstrap.min.css set `[hidden] { display: none !important; }` so we also need the `!important` here to be able to override the default hidden behavior on the sphinx rendered scikit-learn.org. See: https://github.com/scikit-learn/scikit-learn/issues/21755 */display: inline-block !important;position: relative;}#sk-container-id-1 div.sk-text-repr-fallback {display: none;}</style><div id=\"sk-container-id-1\" class=\"sk-top-container\"><div class=\"sk-text-repr-fallback\"><pre>RandomForestClassifier()</pre><b>In a Jupyter environment, please rerun this cell to show the HTML representation or trust the notebook. <br />On GitHub, the HTML representation is unable to render, please try loading this page with nbviewer.org.</b></div><div class=\"sk-container\" hidden><div class=\"sk-item\"><div class=\"sk-estimator sk-toggleable\"><input class=\"sk-toggleable__control sk-hidden--visually\" id=\"sk-estimator-id-1\" type=\"checkbox\" checked><label for=\"sk-estimator-id-1\" class=\"sk-toggleable__label sk-toggleable__label-arrow\">RandomForestClassifier</label><div class=\"sk-toggleable__content\"><pre>RandomForestClassifier()</pre></div></div></div></div></div>"
            ]
          },
          "metadata": {},
          "execution_count": 17
        }
      ],
      "source": [
        "# train a RandomForest model with default hyperparameters\n",
        "\n",
        "clf = RandomForestClassifier()\n",
        "clf.fit(X_train, y_train)"
      ]
    },
    {
      "cell_type": "markdown",
      "metadata": {
        "id": "B9NVPJ1kqZLO"
      },
      "source": [
        "---\n",
        "For this tash we are using a log loss $$- y \\log p - (1-y)\\log(1-p)$$\n",
        "in the following multi class form:\n",
        "\n",
        "$$\\frac{1}{N}\\sum_{i=1}^N \\log {\\left(\\frac{e^{a_{it_i}}}{\\sum_{j=0}^{M-1} e^{a_{ij}}}\\right)}$$\n",
        "\n",
        "$t \\in \\{0\\ldots M-1\\}$, $M$ is number of classes, $N$ is number of objects. Numerator is $a_{it_{i}}$ = \\[ unnormalized probability of an $i$'th object to be assigned to the right class $t_i$\\], thus:\n",
        "\n",
        "$$p_{it_i} = \\frac{e^{a_{it_i}}}{\\sum_{j=0}^{M-1} e^{a_{ij}}}$$\n",
        "\n",
        "see for example https://towardsdatascience.com/cross-entropy-for-classification-d98e7f974451"
      ]
    },
    {
      "cell_type": "code",
      "execution_count": 18,
      "metadata": {
        "colab": {
          "base_uri": "https://localhost:8080/"
        },
        "id": "QbbqtO9cqZLP",
        "outputId": "c3d0fff9-2e3b-4517-e1b2-15e9b3d1aa4e"
      },
      "outputs": [
        {
          "output_type": "execute_result",
          "data": {
            "text/plain": [
              "2.6321083647394974"
            ]
          },
          "metadata": {},
          "execution_count": 18
        }
      ],
      "source": [
        "# predict y_test and compute multi-class log loss of your prediction\n",
        "\n",
        "y_pred = clf.predict_proba(X_test)\n",
        "log_loss(y_test, y_pred)"
      ]
    },
    {
      "cell_type": "code",
      "execution_count": 19,
      "metadata": {
        "colab": {
          "base_uri": "https://localhost:8080/"
        },
        "id": "JOClIEXxqZLP",
        "outputId": "f0395a91-59e6-49a7-fbb5-563b0abefb67"
      },
      "outputs": [
        {
          "output_type": "execute_result",
          "data": {
            "text/plain": [
              "(19135, 38)"
            ]
          },
          "metadata": {},
          "execution_count": 19
        }
      ],
      "source": [
        "y_pred.shape"
      ]
    },
    {
      "cell_type": "code",
      "execution_count": 20,
      "metadata": {
        "id": "2ySLf73oqZLP"
      },
      "outputs": [],
      "source": [
        "from sklearn.metrics import accuracy_score"
      ]
    },
    {
      "cell_type": "code",
      "execution_count": 21,
      "metadata": {
        "colab": {
          "base_uri": "https://localhost:8080/"
        },
        "id": "yBgZKC8HqZLP",
        "outputId": "8a07f2ff-d5db-45b2-c3b1-0bb21103b354"
      },
      "outputs": [
        {
          "output_type": "execute_result",
          "data": {
            "text/plain": [
              "0.27640449438202247"
            ]
          },
          "metadata": {},
          "execution_count": 21
        }
      ],
      "source": [
        "# just to get an intuition on whether it is a good a bad prediction compute an accuracy of your model\n",
        "\n",
        "y_pred = clf.predict(X_test)\n",
        "accuracy_score(y_test, y_pred)"
      ]
    },
    {
      "cell_type": "code",
      "execution_count": 22,
      "metadata": {
        "colab": {
          "base_uri": "https://localhost:8080/"
        },
        "id": "Giz1GJZHqZLP",
        "outputId": "92e0cc22-b3e7-4d03-bf06-b91fd36e0cb0"
      },
      "outputs": [
        {
          "output_type": "execute_result",
          "data": {
            "text/plain": [
              "(array([ 5, 31, 32]), array([9480, 7923, 1732]))"
            ]
          },
          "metadata": {},
          "execution_count": 22
        }
      ],
      "source": [
        "# Remember this is a 38 class classification, count predicted classes\n",
        "\n",
        "np.unique(y_pred, return_counts=True)"
      ]
    },
    {
      "cell_type": "code",
      "execution_count": 23,
      "metadata": {
        "colab": {
          "base_uri": "https://localhost:8080/"
        },
        "id": "GnDbnknsqZLQ",
        "outputId": "9c6d8403-6e63-4a4e-bcfb-029388189129"
      },
      "outputs": [
        {
          "output_type": "execute_result",
          "data": {
            "text/plain": [
              "5     9729\n",
              "31    7917\n",
              "6     7571\n",
              "37    6755\n",
              "32    4904\n",
              "4     4602\n",
              "2     3674\n",
              "17    2958\n",
              "0     2914\n",
              "28    2404\n",
              "30    2330\n",
              "29    2230\n",
              "16    2087\n",
              "27    1624\n",
              "24    1587\n",
              "34    1486\n",
              "25    1052\n",
              "3     1022\n",
              "36     950\n",
              "22     865\n",
              "9      782\n",
              "14     742\n",
              "35     698\n",
              "19     628\n",
              "26     575\n",
              "13     513\n",
              "12     510\n",
              "23     475\n",
              "33     466\n",
              "10     439\n",
              "18     403\n",
              "20     394\n",
              "21     347\n",
              "11     300\n",
              "1      277\n",
              "7      215\n",
              "15     111\n",
              "8        3\n",
              "Name: TripType_encoded, dtype: int64"
            ]
          },
          "metadata": {},
          "execution_count": 23
        }
      ],
      "source": [
        "# Check value counts of a TripType on a train set\n",
        "\n",
        "y_train.value_counts()"
      ]
    },
    {
      "cell_type": "markdown",
      "metadata": {
        "id": "Z_j92l9gqZLQ"
      },
      "source": [
        "## Compare with the constant prediction\n"
      ]
    },
    {
      "cell_type": "code",
      "execution_count": 24,
      "metadata": {
        "colab": {
          "base_uri": "https://localhost:8080/"
        },
        "id": "ztuKBtokqZLQ",
        "outputId": "b5e80b88-2c2d-450f-daf8-4acd5994f75a"
      },
      "outputs": [
        {
          "output_type": "stream",
          "name": "stdout",
          "text": [
            "0.1270969427750196\n",
            "31.462615236917888\n"
          ]
        }
      ],
      "source": [
        "# Compute a log loss and an accuracy of a constant prediction (predict most frequent TripType)\n",
        "\n",
        "y_dummy = [5]*19135\n",
        "print(accuracy_score(y_test, y_dummy))\n",
        "\n",
        "y_dummy_proba = np.zeros((19135, 38))\n",
        "y_dummy_proba[:, 5] = 1\n",
        "print(log_loss(y_test, y_dummy_proba))"
      ]
    },
    {
      "cell_type": "code",
      "execution_count": 24,
      "metadata": {
        "id": "fuwxa9p1qZLQ"
      },
      "outputs": [],
      "source": []
    },
    {
      "cell_type": "markdown",
      "metadata": {
        "id": "nVWcObAhqZLQ"
      },
      "source": [
        "## Conclusions on the baseline\n",
        "1. Even with this simple features and relatively stupid predictions we are better than a constant prediction.\n",
        "2. Classifier mostly predicts frequent classes.\n",
        "3. Some frequent classes are predicted and some are not. This may be due to the fact that predicted\n",
        "classes are better described by the generated features."
      ]
    },
    {
      "cell_type": "code",
      "execution_count": 24,
      "metadata": {
        "id": "lpuR5uH1qZLQ"
      },
      "outputs": [],
      "source": []
    },
    {
      "cell_type": "markdown",
      "metadata": {
        "id": "6gzJQcbfqZLR"
      },
      "source": [
        "# 3. Deeper look on the features.\n",
        "\n",
        "### Columns description\n",
        "\n",
        "- `TripType` - a categorical id representing the type of shopping trip the customer made. This is the ground truth that you are predicting. TripType_999 is an \"other\" category.\n",
        "- `VisitNumber` - an id corresponding to a single trip by a single customer\n",
        "- `Weekday` - the weekday of the trip\n",
        "- `Upc`- the UPC number of the product purchased\n",
        "- `ScanCount` - the number of the given item that was purchased. A negative value indicates a product return.\n",
        "- `DepartmentDescription` - a high-level description of the item's department\n",
        "- `FinelineNumber` - a more refined category for each of the products, created by Walmart\n"
      ]
    },
    {
      "cell_type": "code",
      "execution_count": 25,
      "metadata": {
        "colab": {
          "base_uri": "https://localhost:8080/",
          "height": 206
        },
        "id": "3TOl1EKKqZLR",
        "outputId": "54e53aa6-39c6-424f-a362-4613e8332503"
      },
      "outputs": [
        {
          "output_type": "execute_result",
          "data": {
            "text/plain": [
              "   TripType  VisitNumber Weekday           Upc  ScanCount  \\\n",
              "0       999            5  Friday  6.811315e+10         -1   \n",
              "1        30            7  Friday  6.053882e+10          1   \n",
              "2        30            7  Friday  7.410811e+09          1   \n",
              "3        26            8  Friday  2.238404e+09          2   \n",
              "4        26            8  Friday  2.006614e+09          2   \n",
              "\n",
              "   DepartmentDescription  FinelineNumber  \n",
              "0     FINANCIAL SERVICES          1000.0  \n",
              "1                  SHOES          8931.0  \n",
              "2          PERSONAL CARE          4504.0  \n",
              "3  PAINT AND ACCESSORIES          3565.0  \n",
              "4  PAINT AND ACCESSORIES          1017.0  "
            ],
            "text/html": [
              "\n",
              "  <div id=\"df-8b76776c-d9b7-4a6e-9a57-94fcb68e9441\">\n",
              "    <div class=\"colab-df-container\">\n",
              "      <div>\n",
              "<style scoped>\n",
              "    .dataframe tbody tr th:only-of-type {\n",
              "        vertical-align: middle;\n",
              "    }\n",
              "\n",
              "    .dataframe tbody tr th {\n",
              "        vertical-align: top;\n",
              "    }\n",
              "\n",
              "    .dataframe thead th {\n",
              "        text-align: right;\n",
              "    }\n",
              "</style>\n",
              "<table border=\"1\" class=\"dataframe\">\n",
              "  <thead>\n",
              "    <tr style=\"text-align: right;\">\n",
              "      <th></th>\n",
              "      <th>TripType</th>\n",
              "      <th>VisitNumber</th>\n",
              "      <th>Weekday</th>\n",
              "      <th>Upc</th>\n",
              "      <th>ScanCount</th>\n",
              "      <th>DepartmentDescription</th>\n",
              "      <th>FinelineNumber</th>\n",
              "    </tr>\n",
              "  </thead>\n",
              "  <tbody>\n",
              "    <tr>\n",
              "      <th>0</th>\n",
              "      <td>999</td>\n",
              "      <td>5</td>\n",
              "      <td>Friday</td>\n",
              "      <td>6.811315e+10</td>\n",
              "      <td>-1</td>\n",
              "      <td>FINANCIAL SERVICES</td>\n",
              "      <td>1000.0</td>\n",
              "    </tr>\n",
              "    <tr>\n",
              "      <th>1</th>\n",
              "      <td>30</td>\n",
              "      <td>7</td>\n",
              "      <td>Friday</td>\n",
              "      <td>6.053882e+10</td>\n",
              "      <td>1</td>\n",
              "      <td>SHOES</td>\n",
              "      <td>8931.0</td>\n",
              "    </tr>\n",
              "    <tr>\n",
              "      <th>2</th>\n",
              "      <td>30</td>\n",
              "      <td>7</td>\n",
              "      <td>Friday</td>\n",
              "      <td>7.410811e+09</td>\n",
              "      <td>1</td>\n",
              "      <td>PERSONAL CARE</td>\n",
              "      <td>4504.0</td>\n",
              "    </tr>\n",
              "    <tr>\n",
              "      <th>3</th>\n",
              "      <td>26</td>\n",
              "      <td>8</td>\n",
              "      <td>Friday</td>\n",
              "      <td>2.238404e+09</td>\n",
              "      <td>2</td>\n",
              "      <td>PAINT AND ACCESSORIES</td>\n",
              "      <td>3565.0</td>\n",
              "    </tr>\n",
              "    <tr>\n",
              "      <th>4</th>\n",
              "      <td>26</td>\n",
              "      <td>8</td>\n",
              "      <td>Friday</td>\n",
              "      <td>2.006614e+09</td>\n",
              "      <td>2</td>\n",
              "      <td>PAINT AND ACCESSORIES</td>\n",
              "      <td>1017.0</td>\n",
              "    </tr>\n",
              "  </tbody>\n",
              "</table>\n",
              "</div>\n",
              "      <button class=\"colab-df-convert\" onclick=\"convertToInteractive('df-8b76776c-d9b7-4a6e-9a57-94fcb68e9441')\"\n",
              "              title=\"Convert this dataframe to an interactive table.\"\n",
              "              style=\"display:none;\">\n",
              "        \n",
              "  <svg xmlns=\"http://www.w3.org/2000/svg\" height=\"24px\"viewBox=\"0 0 24 24\"\n",
              "       width=\"24px\">\n",
              "    <path d=\"M0 0h24v24H0V0z\" fill=\"none\"/>\n",
              "    <path d=\"M18.56 5.44l.94 2.06.94-2.06 2.06-.94-2.06-.94-.94-2.06-.94 2.06-2.06.94zm-11 1L8.5 8.5l.94-2.06 2.06-.94-2.06-.94L8.5 2.5l-.94 2.06-2.06.94zm10 10l.94 2.06.94-2.06 2.06-.94-2.06-.94-.94-2.06-.94 2.06-2.06.94z\"/><path d=\"M17.41 7.96l-1.37-1.37c-.4-.4-.92-.59-1.43-.59-.52 0-1.04.2-1.43.59L10.3 9.45l-7.72 7.72c-.78.78-.78 2.05 0 2.83L4 21.41c.39.39.9.59 1.41.59.51 0 1.02-.2 1.41-.59l7.78-7.78 2.81-2.81c.8-.78.8-2.07 0-2.86zM5.41 20L4 18.59l7.72-7.72 1.47 1.35L5.41 20z\"/>\n",
              "  </svg>\n",
              "      </button>\n",
              "      \n",
              "  <style>\n",
              "    .colab-df-container {\n",
              "      display:flex;\n",
              "      flex-wrap:wrap;\n",
              "      gap: 12px;\n",
              "    }\n",
              "\n",
              "    .colab-df-convert {\n",
              "      background-color: #E8F0FE;\n",
              "      border: none;\n",
              "      border-radius: 50%;\n",
              "      cursor: pointer;\n",
              "      display: none;\n",
              "      fill: #1967D2;\n",
              "      height: 32px;\n",
              "      padding: 0 0 0 0;\n",
              "      width: 32px;\n",
              "    }\n",
              "\n",
              "    .colab-df-convert:hover {\n",
              "      background-color: #E2EBFA;\n",
              "      box-shadow: 0px 1px 2px rgba(60, 64, 67, 0.3), 0px 1px 3px 1px rgba(60, 64, 67, 0.15);\n",
              "      fill: #174EA6;\n",
              "    }\n",
              "\n",
              "    [theme=dark] .colab-df-convert {\n",
              "      background-color: #3B4455;\n",
              "      fill: #D2E3FC;\n",
              "    }\n",
              "\n",
              "    [theme=dark] .colab-df-convert:hover {\n",
              "      background-color: #434B5C;\n",
              "      box-shadow: 0px 1px 3px 1px rgba(0, 0, 0, 0.15);\n",
              "      filter: drop-shadow(0px 1px 2px rgba(0, 0, 0, 0.3));\n",
              "      fill: #FFFFFF;\n",
              "    }\n",
              "  </style>\n",
              "\n",
              "      <script>\n",
              "        const buttonEl =\n",
              "          document.querySelector('#df-8b76776c-d9b7-4a6e-9a57-94fcb68e9441 button.colab-df-convert');\n",
              "        buttonEl.style.display =\n",
              "          google.colab.kernel.accessAllowed ? 'block' : 'none';\n",
              "\n",
              "        async function convertToInteractive(key) {\n",
              "          const element = document.querySelector('#df-8b76776c-d9b7-4a6e-9a57-94fcb68e9441');\n",
              "          const dataTable =\n",
              "            await google.colab.kernel.invokeFunction('convertToInteractive',\n",
              "                                                     [key], {});\n",
              "          if (!dataTable) return;\n",
              "\n",
              "          const docLinkHtml = 'Like what you see? Visit the ' +\n",
              "            '<a target=\"_blank\" href=https://colab.research.google.com/notebooks/data_table.ipynb>data table notebook</a>'\n",
              "            + ' to learn more about interactive tables.';\n",
              "          element.innerHTML = '';\n",
              "          dataTable['output_type'] = 'display_data';\n",
              "          await google.colab.output.renderOutput(dataTable, element);\n",
              "          const docLink = document.createElement('div');\n",
              "          docLink.innerHTML = docLinkHtml;\n",
              "          element.appendChild(docLink);\n",
              "        }\n",
              "      </script>\n",
              "    </div>\n",
              "  </div>\n",
              "  "
            ]
          },
          "metadata": {},
          "execution_count": 25
        }
      ],
      "source": [
        "train.head()"
      ]
    },
    {
      "cell_type": "code",
      "execution_count": 26,
      "metadata": {
        "colab": {
          "base_uri": "https://localhost:8080/"
        },
        "id": "X76h6jOZqZLR",
        "outputId": "304805ea-50bb-4d3b-9a1c-610cbe3511c4"
      },
      "outputs": [
        {
          "output_type": "execute_result",
          "data": {
            "text/plain": [
              "TripType                   int64\n",
              "VisitNumber                int64\n",
              "Weekday                   object\n",
              "Upc                      float64\n",
              "ScanCount                  int64\n",
              "DepartmentDescription     object\n",
              "FinelineNumber           float64\n",
              "dtype: object"
            ]
          },
          "metadata": {},
          "execution_count": 26
        }
      ],
      "source": [
        "train.dtypes"
      ]
    },
    {
      "cell_type": "markdown",
      "metadata": {
        "id": "oloxjNuWqZLR"
      },
      "source": [
        "All features, except `ScanCount` are categorical, a negative value of a `ScanCount` indicates a product return.\n",
        "\n",
        "### 3.1 VisitNumber \n",
        "is an indicator of a visit, we need it to aggregate different purchases,\n",
        "but the number itself is not important it is just an index. Let's have a quick look on it."
      ]
    },
    {
      "cell_type": "code",
      "execution_count": 27,
      "metadata": {
        "colab": {
          "base_uri": "https://localhost:8080/"
        },
        "id": "baVZV_TXqZLR",
        "outputId": "646ff734-66a6-4557-c256-97f38aada49a"
      },
      "outputs": [
        {
          "output_type": "execute_result",
          "data": {
            "text/plain": [
              "72439     209\n",
              "88011     151\n",
              "9181      113\n",
              "60971     112\n",
              "65792     111\n",
              "         ... \n",
              "59978       1\n",
              "107116      1\n",
              "59988       1\n",
              "162017      1\n",
              "5           1\n",
              "Name: VisitNumber, Length: 95674, dtype: int64"
            ]
          },
          "metadata": {},
          "execution_count": 27
        }
      ],
      "source": [
        "train.VisitNumber.value_counts()"
      ]
    },
    {
      "cell_type": "code",
      "execution_count": 28,
      "metadata": {
        "colab": {
          "base_uri": "https://localhost:8080/",
          "height": 449
        },
        "id": "8U4opVvEqZLS",
        "outputId": "b50e0dae-0514-4560-d601-4e976cde184a"
      },
      "outputs": [
        {
          "output_type": "display_data",
          "data": {
            "text/plain": [
              "<Figure size 640x480 with 1 Axes>"
            ],
            "image/png": "[encoded data removed]"
          },
          "metadata": {}
        }
      ],
      "source": [
        "sns.histplot(data=train.VisitNumber.value_counts(), bins=50);"
      ]
    },
    {
      "cell_type": "code",
      "execution_count": 29,
      "metadata": {
        "colab": {
          "base_uri": "https://localhost:8080/"
        },
        "id": "HNE45ns5qZLS",
        "outputId": "cb7094fa-5845-48d9-95fd-8cef5c50eab1"
      },
      "outputs": [
        {
          "output_type": "execute_result",
          "data": {
            "text/plain": [
              "1     19563\n",
              "2     17255\n",
              "3     10362\n",
              "4      8038\n",
              "5      5884\n",
              "6      4633\n",
              "7      3716\n",
              "8      3154\n",
              "9      2593\n",
              "10     2251\n",
              "11     1889\n",
              "12     1746\n",
              "13     1519\n",
              "14     1253\n",
              "15     1207\n",
              "16     1030\n",
              "17      887\n",
              "18      772\n",
              "19      699\n",
              "20      674\n",
              "Name: VisitNumber, dtype: int64"
            ]
          },
          "metadata": {},
          "execution_count": 29
        }
      ],
      "source": [
        "train.VisitNumber.value_counts().value_counts().sort_index()[:20]"
      ]
    },
    {
      "cell_type": "markdown",
      "metadata": {
        "id": "42nnf2swqZLS"
      },
      "source": [
        "--- \n",
        "\n",
        "- More than half of all Visit consists of 4 or less purchases\n",
        "- 90% of Visits consist of 17 or less purchases"
      ]
    },
    {
      "cell_type": "code",
      "execution_count": 29,
      "metadata": {
        "id": "ZS8aZ4UuqZLS"
      },
      "outputs": [],
      "source": []
    },
    {
      "cell_type": "markdown",
      "metadata": {
        "id": "73yXJi2SqZLS"
      },
      "source": [
        "### 3.2 Weekday"
      ]
    },
    {
      "cell_type": "code",
      "execution_count": 30,
      "metadata": {
        "colab": {
          "base_uri": "https://localhost:8080/"
        },
        "id": "EYHkpocJqZLS",
        "outputId": "456ac3dc-4443-4bf2-8795-4158b82bd4ac"
      },
      "outputs": [
        {
          "output_type": "execute_result",
          "data": {
            "text/plain": [
              "Monday        83130\n",
              "Tuesday       72529\n",
              "Wednesday     71115\n",
              "Thursday      67962\n",
              "Friday        96247\n",
              "Saturday     122096\n",
              "Sunday       133975\n",
              "Name: Weekday, dtype: int64"
            ]
          },
          "metadata": {},
          "execution_count": 30
        }
      ],
      "source": [
        "# How many visits are on different weekdays\n",
        "weekdays = ['Monday', 'Tuesday', 'Wednesday','Thursday','Friday', 'Saturday', 'Sunday']\n",
        "\n",
        "train.Weekday.value_counts().reindex(weekdays)"
      ]
    },
    {
      "cell_type": "code",
      "execution_count": 31,
      "metadata": {
        "colab": {
          "base_uri": "https://localhost:8080/"
        },
        "id": "Sle5CMqpqZLS",
        "outputId": "2332e2a7-c2cf-46bf-e7fb-b8a5d05be190"
      },
      "outputs": [
        {
          "output_type": "execute_result",
          "data": {
            "text/plain": [
              "Weekday\n",
              "Monday       1926\n",
              "Tuesday      1878\n",
              "Wednesday    1871\n",
              "Thursday     1793\n",
              "Friday       2418\n",
              "Saturday     2763\n",
              "Sunday       2809\n",
              "Name: IsReturn, dtype: int64"
            ]
          },
          "metadata": {},
          "execution_count": 31
        }
      ],
      "source": [
        "# Do we have more returns on some weekdays?\n",
        "\n",
        "train['IsReturn'] = train['ScanCount'].apply(lambda x: x < 0)\n",
        "train.groupby(['Weekday'])['IsReturn'].sum().sort_values().reindex(weekdays)"
      ]
    },
    {
      "cell_type": "code",
      "execution_count": 32,
      "metadata": {
        "colab": {
          "base_uri": "https://localhost:8080/"
        },
        "id": "f28CGFWUqZLT",
        "outputId": "9e24ac8c-94c6-4ffe-bb7d-480a5f40648c"
      },
      "outputs": [
        {
          "output_type": "execute_result",
          "data": {
            "text/plain": [
              "-1     14394\n",
              "-2       814\n",
              "-3       143\n",
              "-4        76\n",
              "-5        16\n",
              "-6        10\n",
              "-9         2\n",
              "-12        1\n",
              "-7         1\n",
              "-10        1\n",
              "Name: ScanCount, dtype: int64"
            ]
          },
          "metadata": {},
          "execution_count": 32
        }
      ],
      "source": [
        "# Is there only `-1` returns?\n",
        "\n",
        "train[train.IsReturn].ScanCount.value_counts()"
      ]
    },
    {
      "cell_type": "markdown",
      "metadata": {
        "id": "C7MknR74qZLT"
      },
      "source": [
        "### 3.3 DepartmentDescription"
      ]
    },
    {
      "cell_type": "code",
      "execution_count": 33,
      "metadata": {
        "colab": {
          "base_uri": "https://localhost:8080/"
        },
        "id": "zl_NX-d0qZLT",
        "outputId": "ec167cb2-1308-4965-dc97-2c57bc95aa49"
      },
      "outputs": [
        {
          "output_type": "execute_result",
          "data": {
            "text/plain": [
              "DepartmentDescription\n",
              "GROCERY DRY GOODS              88718\n",
              "DSD GROCERY                    79814\n",
              "PRODUCE                        52813\n",
              "DAIRY                          50550\n",
              "PERSONAL CARE                  44819\n",
              "IMPULSE MERCHANDISE            31811\n",
              "HOUSEHOLD CHEMICALS/SUPP       26915\n",
              "PHARMACY OTC                   25620\n",
              "FROZEN FOODS                   25368\n",
              "HOUSEHOLD PAPER GOODS          17986\n",
              "COMM BREAD                     17516\n",
              "BEAUTY                         15077\n",
              "INFANT CONSUMABLE HARDLINES    13149\n",
              "PETS AND SUPPLIES              12592\n",
              "CANDY, TOBACCO, COOKIES        11745\n",
              "MENS WEAR                      11690\n",
              "MEAT - FRESH & FROZEN          10882\n",
              "SERVICE DELI                   10777\n",
              "PRE PACKED DELI                10722\n",
              "CELEBRATION                     9957\n",
              "Name: ScanCount, dtype: int64"
            ]
          },
          "metadata": {},
          "execution_count": 33
        }
      ],
      "source": [
        "# What are the most popular Departments? (total sum over ScanCount)\n",
        "\n",
        "train.groupby('DepartmentDescription').ScanCount.sum().sort_values(ascending=False)[:20]"
      ]
    },
    {
      "cell_type": "code",
      "execution_count": 34,
      "metadata": {
        "colab": {
          "base_uri": "https://localhost:8080/",
          "height": 519
        },
        "id": "yPficM51qZLT",
        "outputId": "ad0c6eb7-59af-4d39-f739-82623352052c"
      },
      "outputs": [
        {
          "output_type": "execute_result",
          "data": {
            "text/plain": [
              "    TripType  Count    DepartmentDescription\n",
              "0          3   5369       FINANCIAL SERVICES\n",
              "1          3    804      IMPULSE MERCHANDISE\n",
              "2          3     76    LARGE HOUSEHOLD GOODS\n",
              "3          4    563             PHARMACY OTC\n",
              "4          4     73              DSD GROCERY\n",
              "5          4     47      IMPULSE MERCHANDISE\n",
              "6          5   5281             PHARMACY OTC\n",
              "7          5   2714              PHARMACY RX\n",
              "8          5    922            PERSONAL CARE\n",
              "9          6   1000         LIQUOR,WINE,BEER\n",
              "10         6    674  CANDY, TOBACCO, COOKIES\n",
              "11         6    360              DSD GROCERY\n",
              "12         7   3669             SERVICE DELI\n",
              "13         7   3354        GROCERY DRY GOODS\n",
              "14         7   3022                  PRODUCE"
            ],
            "text/html": [
              "\n",
              "  <div id=\"df-195b3e25-7ab6-4f86-a1c6-44f68875dffb\">\n",
              "    <div class=\"colab-df-container\">\n",
              "      <div>\n",
              "<style scoped>\n",
              "    .dataframe tbody tr th:only-of-type {\n",
              "        vertical-align: middle;\n",
              "    }\n",
              "\n",
              "    .dataframe tbody tr th {\n",
              "        vertical-align: top;\n",
              "    }\n",
              "\n",
              "    .dataframe thead th {\n",
              "        text-align: right;\n",
              "    }\n",
              "</style>\n",
              "<table border=\"1\" class=\"dataframe\">\n",
              "  <thead>\n",
              "    <tr style=\"text-align: right;\">\n",
              "      <th></th>\n",
              "      <th>TripType</th>\n",
              "      <th>Count</th>\n",
              "      <th>DepartmentDescription</th>\n",
              "    </tr>\n",
              "  </thead>\n",
              "  <tbody>\n",
              "    <tr>\n",
              "      <th>0</th>\n",
              "      <td>3</td>\n",
              "      <td>5369</td>\n",
              "      <td>FINANCIAL SERVICES</td>\n",
              "    </tr>\n",
              "    <tr>\n",
              "      <th>1</th>\n",
              "      <td>3</td>\n",
              "      <td>804</td>\n",
              "      <td>IMPULSE MERCHANDISE</td>\n",
              "    </tr>\n",
              "    <tr>\n",
              "      <th>2</th>\n",
              "      <td>3</td>\n",
              "      <td>76</td>\n",
              "      <td>LARGE HOUSEHOLD GOODS</td>\n",
              "    </tr>\n",
              "    <tr>\n",
              "      <th>3</th>\n",
              "      <td>4</td>\n",
              "      <td>563</td>\n",
              "      <td>PHARMACY OTC</td>\n",
              "    </tr>\n",
              "    <tr>\n",
              "      <th>4</th>\n",
              "      <td>4</td>\n",
              "      <td>73</td>\n",
              "      <td>DSD GROCERY</td>\n",
              "    </tr>\n",
              "    <tr>\n",
              "      <th>5</th>\n",
              "      <td>4</td>\n",
              "      <td>47</td>\n",
              "      <td>IMPULSE MERCHANDISE</td>\n",
              "    </tr>\n",
              "    <tr>\n",
              "      <th>6</th>\n",
              "      <td>5</td>\n",
              "      <td>5281</td>\n",
              "      <td>PHARMACY OTC</td>\n",
              "    </tr>\n",
              "    <tr>\n",
              "      <th>7</th>\n",
              "      <td>5</td>\n",
              "      <td>2714</td>\n",
              "      <td>PHARMACY RX</td>\n",
              "    </tr>\n",
              "    <tr>\n",
              "      <th>8</th>\n",
              "      <td>5</td>\n",
              "      <td>922</td>\n",
              "      <td>PERSONAL CARE</td>\n",
              "    </tr>\n",
              "    <tr>\n",
              "      <th>9</th>\n",
              "      <td>6</td>\n",
              "      <td>1000</td>\n",
              "      <td>LIQUOR,WINE,BEER</td>\n",
              "    </tr>\n",
              "    <tr>\n",
              "      <th>10</th>\n",
              "      <td>6</td>\n",
              "      <td>674</td>\n",
              "      <td>CANDY, TOBACCO, COOKIES</td>\n",
              "    </tr>\n",
              "    <tr>\n",
              "      <th>11</th>\n",
              "      <td>6</td>\n",
              "      <td>360</td>\n",
              "      <td>DSD GROCERY</td>\n",
              "    </tr>\n",
              "    <tr>\n",
              "      <th>12</th>\n",
              "      <td>7</td>\n",
              "      <td>3669</td>\n",
              "      <td>SERVICE DELI</td>\n",
              "    </tr>\n",
              "    <tr>\n",
              "      <th>13</th>\n",
              "      <td>7</td>\n",
              "      <td>3354</td>\n",
              "      <td>GROCERY DRY GOODS</td>\n",
              "    </tr>\n",
              "    <tr>\n",
              "      <th>14</th>\n",
              "      <td>7</td>\n",
              "      <td>3022</td>\n",
              "      <td>PRODUCE</td>\n",
              "    </tr>\n",
              "  </tbody>\n",
              "</table>\n",
              "</div>\n",
              "      <button class=\"colab-df-convert\" onclick=\"convertToInteractive('df-195b3e25-7ab6-4f86-a1c6-44f68875dffb')\"\n",
              "              title=\"Convert this dataframe to an interactive table.\"\n",
              "              style=\"display:none;\">\n",
              "        \n",
              "  <svg xmlns=\"http://www.w3.org/2000/svg\" height=\"24px\"viewBox=\"0 0 24 24\"\n",
              "       width=\"24px\">\n",
              "    <path d=\"M0 0h24v24H0V0z\" fill=\"none\"/>\n",
              "    <path d=\"M18.56 5.44l.94 2.06.94-2.06 2.06-.94-2.06-.94-.94-2.06-.94 2.06-2.06.94zm-11 1L8.5 8.5l.94-2.06 2.06-.94-2.06-.94L8.5 2.5l-.94 2.06-2.06.94zm10 10l.94 2.06.94-2.06 2.06-.94-2.06-.94-.94-2.06-.94 2.06-2.06.94z\"/><path d=\"M17.41 7.96l-1.37-1.37c-.4-.4-.92-.59-1.43-.59-.52 0-1.04.2-1.43.59L10.3 9.45l-7.72 7.72c-.78.78-.78 2.05 0 2.83L4 21.41c.39.39.9.59 1.41.59.51 0 1.02-.2 1.41-.59l7.78-7.78 2.81-2.81c.8-.78.8-2.07 0-2.86zM5.41 20L4 18.59l7.72-7.72 1.47 1.35L5.41 20z\"/>\n",
              "  </svg>\n",
              "      </button>\n",
              "      \n",
              "  <style>\n",
              "    .colab-df-container {\n",
              "      display:flex;\n",
              "      flex-wrap:wrap;\n",
              "      gap: 12px;\n",
              "    }\n",
              "\n",
              "    .colab-df-convert {\n",
              "      background-color: #E8F0FE;\n",
              "      border: none;\n",
              "      border-radius: 50%;\n",
              "      cursor: pointer;\n",
              "      display: none;\n",
              "      fill: #1967D2;\n",
              "      height: 32px;\n",
              "      padding: 0 0 0 0;\n",
              "      width: 32px;\n",
              "    }\n",
              "\n",
              "    .colab-df-convert:hover {\n",
              "      background-color: #E2EBFA;\n",
              "      box-shadow: 0px 1px 2px rgba(60, 64, 67, 0.3), 0px 1px 3px 1px rgba(60, 64, 67, 0.15);\n",
              "      fill: #174EA6;\n",
              "    }\n",
              "\n",
              "    [theme=dark] .colab-df-convert {\n",
              "      background-color: #3B4455;\n",
              "      fill: #D2E3FC;\n",
              "    }\n",
              "\n",
              "    [theme=dark] .colab-df-convert:hover {\n",
              "      background-color: #434B5C;\n",
              "      box-shadow: 0px 1px 3px 1px rgba(0, 0, 0, 0.15);\n",
              "      filter: drop-shadow(0px 1px 2px rgba(0, 0, 0, 0.3));\n",
              "      fill: #FFFFFF;\n",
              "    }\n",
              "  </style>\n",
              "\n",
              "      <script>\n",
              "        const buttonEl =\n",
              "          document.querySelector('#df-195b3e25-7ab6-4f86-a1c6-44f68875dffb button.colab-df-convert');\n",
              "        buttonEl.style.display =\n",
              "          google.colab.kernel.accessAllowed ? 'block' : 'none';\n",
              "\n",
              "        async function convertToInteractive(key) {\n",
              "          const element = document.querySelector('#df-195b3e25-7ab6-4f86-a1c6-44f68875dffb');\n",
              "          const dataTable =\n",
              "            await google.colab.kernel.invokeFunction('convertToInteractive',\n",
              "                                                     [key], {});\n",
              "          if (!dataTable) return;\n",
              "\n",
              "          const docLinkHtml = 'Like what you see? Visit the ' +\n",
              "            '<a target=\"_blank\" href=https://colab.research.google.com/notebooks/data_table.ipynb>data table notebook</a>'\n",
              "            + ' to learn more about interactive tables.';\n",
              "          element.innerHTML = '';\n",
              "          dataTable['output_type'] = 'display_data';\n",
              "          await google.colab.output.renderOutput(dataTable, element);\n",
              "          const docLink = document.createElement('div');\n",
              "          docLink.innerHTML = docLinkHtml;\n",
              "          element.appendChild(docLink);\n",
              "        }\n",
              "      </script>\n",
              "    </div>\n",
              "  </div>\n",
              "  "
            ]
          },
          "metadata": {},
          "execution_count": 34
        }
      ],
      "source": [
        "# Does most popular DepartmentDescription differ for different TripTypes?\n",
        "# > Allows to more or less deanonymize `TripType`.\n",
        "\n",
        "gp = train.groupby('TripType')['DepartmentDescription'].value_counts().reset_index(name='Count')\n",
        "gp2 = gp.groupby(['TripType'])[['Count','DepartmentDescription']]\\\n",
        "                                                           .apply(pd.DataFrame.nlargest, n=3, columns=['Count'])\\\n",
        "                                                           .reset_index()\\\n",
        "                                                           .drop('level_1', axis=1)\n",
        "\n",
        "gp2[:15]"
      ]
    },
    {
      "cell_type": "code",
      "execution_count": 35,
      "metadata": {
        "colab": {
          "base_uri": "https://localhost:8080/",
          "height": 519
        },
        "id": "c3VTQjc_qZLU",
        "outputId": "75f2201e-6ea3-41d7-e247-e88ef8cda665"
      },
      "outputs": [
        {
          "output_type": "execute_result",
          "data": {
            "text/plain": [
              "    TripType  Count       DepartmentDescription\n",
              "51        25   5381                   MENS WEAR\n",
              "52        25   3716                  LADIESWEAR\n",
              "53        25   1836  GIRLS WEAR, 4-6X  AND 7-14\n",
              "87        37  13351                     PRODUCE\n",
              "88        37   5477           GROCERY DRY GOODS\n",
              "89        37   3667                       DAIRY\n",
              "90        38   7252                       DAIRY\n",
              "91        38   6417           GROCERY DRY GOODS\n",
              "92        38   4020                 DSD GROCERY\n",
              "93        39  12956                 DSD GROCERY\n",
              "94        39  12602           GROCERY DRY GOODS\n",
              "95        39   8126               PERSONAL CARE\n",
              "96        40  32639           GROCERY DRY GOODS\n",
              "97        40  22157                 DSD GROCERY\n",
              "98        40  17354                       DAIRY"
            ],
            "text/html": [
              "\n",
              "  <div id=\"df-9dbfc43c-ef39-448d-bfe0-8389f1e2f0ee\">\n",
              "    <div class=\"colab-df-container\">\n",
              "      <div>\n",
              "<style scoped>\n",
              "    .dataframe tbody tr th:only-of-type {\n",
              "        vertical-align: middle;\n",
              "    }\n",
              "\n",
              "    .dataframe tbody tr th {\n",
              "        vertical-align: top;\n",
              "    }\n",
              "\n",
              "    .dataframe thead th {\n",
              "        text-align: right;\n",
              "    }\n",
              "</style>\n",
              "<table border=\"1\" class=\"dataframe\">\n",
              "  <thead>\n",
              "    <tr style=\"text-align: right;\">\n",
              "      <th></th>\n",
              "      <th>TripType</th>\n",
              "      <th>Count</th>\n",
              "      <th>DepartmentDescription</th>\n",
              "    </tr>\n",
              "  </thead>\n",
              "  <tbody>\n",
              "    <tr>\n",
              "      <th>51</th>\n",
              "      <td>25</td>\n",
              "      <td>5381</td>\n",
              "      <td>MENS WEAR</td>\n",
              "    </tr>\n",
              "    <tr>\n",
              "      <th>52</th>\n",
              "      <td>25</td>\n",
              "      <td>3716</td>\n",
              "      <td>LADIESWEAR</td>\n",
              "    </tr>\n",
              "    <tr>\n",
              "      <th>53</th>\n",
              "      <td>25</td>\n",
              "      <td>1836</td>\n",
              "      <td>GIRLS WEAR, 4-6X  AND 7-14</td>\n",
              "    </tr>\n",
              "    <tr>\n",
              "      <th>87</th>\n",
              "      <td>37</td>\n",
              "      <td>13351</td>\n",
              "      <td>PRODUCE</td>\n",
              "    </tr>\n",
              "    <tr>\n",
              "      <th>88</th>\n",
              "      <td>37</td>\n",
              "      <td>5477</td>\n",
              "      <td>GROCERY DRY GOODS</td>\n",
              "    </tr>\n",
              "    <tr>\n",
              "      <th>89</th>\n",
              "      <td>37</td>\n",
              "      <td>3667</td>\n",
              "      <td>DAIRY</td>\n",
              "    </tr>\n",
              "    <tr>\n",
              "      <th>90</th>\n",
              "      <td>38</td>\n",
              "      <td>7252</td>\n",
              "      <td>DAIRY</td>\n",
              "    </tr>\n",
              "    <tr>\n",
              "      <th>91</th>\n",
              "      <td>38</td>\n",
              "      <td>6417</td>\n",
              "      <td>GROCERY DRY GOODS</td>\n",
              "    </tr>\n",
              "    <tr>\n",
              "      <th>92</th>\n",
              "      <td>38</td>\n",
              "      <td>4020</td>\n",
              "      <td>DSD GROCERY</td>\n",
              "    </tr>\n",
              "    <tr>\n",
              "      <th>93</th>\n",
              "      <td>39</td>\n",
              "      <td>12956</td>\n",
              "      <td>DSD GROCERY</td>\n",
              "    </tr>\n",
              "    <tr>\n",
              "      <th>94</th>\n",
              "      <td>39</td>\n",
              "      <td>12602</td>\n",
              "      <td>GROCERY DRY GOODS</td>\n",
              "    </tr>\n",
              "    <tr>\n",
              "      <th>95</th>\n",
              "      <td>39</td>\n",
              "      <td>8126</td>\n",
              "      <td>PERSONAL CARE</td>\n",
              "    </tr>\n",
              "    <tr>\n",
              "      <th>96</th>\n",
              "      <td>40</td>\n",
              "      <td>32639</td>\n",
              "      <td>GROCERY DRY GOODS</td>\n",
              "    </tr>\n",
              "    <tr>\n",
              "      <th>97</th>\n",
              "      <td>40</td>\n",
              "      <td>22157</td>\n",
              "      <td>DSD GROCERY</td>\n",
              "    </tr>\n",
              "    <tr>\n",
              "      <th>98</th>\n",
              "      <td>40</td>\n",
              "      <td>17354</td>\n",
              "      <td>DAIRY</td>\n",
              "    </tr>\n",
              "  </tbody>\n",
              "</table>\n",
              "</div>\n",
              "      <button class=\"colab-df-convert\" onclick=\"convertToInteractive('df-9dbfc43c-ef39-448d-bfe0-8389f1e2f0ee')\"\n",
              "              title=\"Convert this dataframe to an interactive table.\"\n",
              "              style=\"display:none;\">\n",
              "        \n",
              "  <svg xmlns=\"http://www.w3.org/2000/svg\" height=\"24px\"viewBox=\"0 0 24 24\"\n",
              "       width=\"24px\">\n",
              "    <path d=\"M0 0h24v24H0V0z\" fill=\"none\"/>\n",
              "    <path d=\"M18.56 5.44l.94 2.06.94-2.06 2.06-.94-2.06-.94-.94-2.06-.94 2.06-2.06.94zm-11 1L8.5 8.5l.94-2.06 2.06-.94-2.06-.94L8.5 2.5l-.94 2.06-2.06.94zm10 10l.94 2.06.94-2.06 2.06-.94-2.06-.94-.94-2.06-.94 2.06-2.06.94z\"/><path d=\"M17.41 7.96l-1.37-1.37c-.4-.4-.92-.59-1.43-.59-.52 0-1.04.2-1.43.59L10.3 9.45l-7.72 7.72c-.78.78-.78 2.05 0 2.83L4 21.41c.39.39.9.59 1.41.59.51 0 1.02-.2 1.41-.59l7.78-7.78 2.81-2.81c.8-.78.8-2.07 0-2.86zM5.41 20L4 18.59l7.72-7.72 1.47 1.35L5.41 20z\"/>\n",
              "  </svg>\n",
              "      </button>\n",
              "      \n",
              "  <style>\n",
              "    .colab-df-container {\n",
              "      display:flex;\n",
              "      flex-wrap:wrap;\n",
              "      gap: 12px;\n",
              "    }\n",
              "\n",
              "    .colab-df-convert {\n",
              "      background-color: #E8F0FE;\n",
              "      border: none;\n",
              "      border-radius: 50%;\n",
              "      cursor: pointer;\n",
              "      display: none;\n",
              "      fill: #1967D2;\n",
              "      height: 32px;\n",
              "      padding: 0 0 0 0;\n",
              "      width: 32px;\n",
              "    }\n",
              "\n",
              "    .colab-df-convert:hover {\n",
              "      background-color: #E2EBFA;\n",
              "      box-shadow: 0px 1px 2px rgba(60, 64, 67, 0.3), 0px 1px 3px 1px rgba(60, 64, 67, 0.15);\n",
              "      fill: #174EA6;\n",
              "    }\n",
              "\n",
              "    [theme=dark] .colab-df-convert {\n",
              "      background-color: #3B4455;\n",
              "      fill: #D2E3FC;\n",
              "    }\n",
              "\n",
              "    [theme=dark] .colab-df-convert:hover {\n",
              "      background-color: #434B5C;\n",
              "      box-shadow: 0px 1px 3px 1px rgba(0, 0, 0, 0.15);\n",
              "      filter: drop-shadow(0px 1px 2px rgba(0, 0, 0, 0.3));\n",
              "      fill: #FFFFFF;\n",
              "    }\n",
              "  </style>\n",
              "\n",
              "      <script>\n",
              "        const buttonEl =\n",
              "          document.querySelector('#df-9dbfc43c-ef39-448d-bfe0-8389f1e2f0ee button.colab-df-convert');\n",
              "        buttonEl.style.display =\n",
              "          google.colab.kernel.accessAllowed ? 'block' : 'none';\n",
              "\n",
              "        async function convertToInteractive(key) {\n",
              "          const element = document.querySelector('#df-9dbfc43c-ef39-448d-bfe0-8389f1e2f0ee');\n",
              "          const dataTable =\n",
              "            await google.colab.kernel.invokeFunction('convertToInteractive',\n",
              "                                                     [key], {});\n",
              "          if (!dataTable) return;\n",
              "\n",
              "          const docLinkHtml = 'Like what you see? Visit the ' +\n",
              "            '<a target=\"_blank\" href=https://colab.research.google.com/notebooks/data_table.ipynb>data table notebook</a>'\n",
              "            + ' to learn more about interactive tables.';\n",
              "          element.innerHTML = '';\n",
              "          dataTable['output_type'] = 'display_data';\n",
              "          await google.colab.output.renderOutput(dataTable, element);\n",
              "          const docLink = document.createElement('div');\n",
              "          docLink.innerHTML = docLinkHtml;\n",
              "          element.appendChild(docLink);\n",
              "        }\n",
              "      </script>\n",
              "    </div>\n",
              "  </div>\n",
              "  "
            ]
          },
          "metadata": {},
          "execution_count": 35
        }
      ],
      "source": [
        "# From our baseline, recall most popular TripTypes, let's deanonymize them.\n",
        "# Select subset of the previous table with TripType in [40, 39, 37, 38, 25]\n",
        "\n",
        "gp2[gp2.TripType.isin([40, 39, 37, 38, 25])]"
      ]
    },
    {
      "cell_type": "code",
      "execution_count": 36,
      "metadata": {
        "colab": {
          "base_uri": "https://localhost:8080/"
        },
        "id": "TYUGa9ibqZLU",
        "outputId": "e51e9687-cb75-4499-b654-b6efa6ebf7b2"
      },
      "outputs": [
        {
          "output_type": "execute_result",
          "data": {
            "text/plain": [
              "DepartmentDescription\n",
              "FINANCIAL SERVICES          1162\n",
              "LADIESWEAR                   800\n",
              "PRODUCE                      733\n",
              "PERSONAL CARE                682\n",
              "DSD GROCERY                  679\n",
              "MENS WEAR                    634\n",
              "GROCERY DRY GOODS            606\n",
              "PHARMACY OTC                 472\n",
              "IMPULSE MERCHANDISE          453\n",
              "BEAUTY                       452\n",
              "ELECTRONICS                  450\n",
              "HOUSEHOLD CHEMICALS/SUPP     392\n",
              "COOK AND DINE                382\n",
              "TOYS                         356\n",
              "DAIRY                        343\n",
              "Name: IsReturn, dtype: int64"
            ]
          },
          "metadata": {},
          "execution_count": 36
        }
      ],
      "source": [
        "# What are the DepartmentDescription with most returns?\n",
        "\n",
        "train.groupby('DepartmentDescription')['IsReturn'].sum().sort_values(ascending=False)[:15]"
      ]
    },
    {
      "cell_type": "code",
      "execution_count": 36,
      "metadata": {
        "id": "BFNSUejZqZLU"
      },
      "outputs": [],
      "source": []
    },
    {
      "cell_type": "markdown",
      "metadata": {
        "id": "LjrVgS1KqZLU"
      },
      "source": [
        "### 3.4 FinelineNumber\n",
        "\n",
        "> according to the data description `FinelineNumber` is just a more detailed `DepartmentDescription`"
      ]
    },
    {
      "cell_type": "code",
      "execution_count": 37,
      "metadata": {
        "colab": {
          "base_uri": "https://localhost:8080/",
          "height": 612
        },
        "id": "mM_q--ndqZLU",
        "outputId": "9d699cda-e608-40c9-efdb-cd8797d345b8"
      },
      "outputs": [
        {
          "output_type": "execute_result",
          "data": {
            "text/plain": [
              "DepartmentDescription  DAIRY  DSD GROCERY  GROCERY DRY GOODS  \\\n",
              "FinelineNumber                                                 \n",
              "100.0                      0            0                 95   \n",
              "110.0                      0            0                  0   \n",
              "115.0                      0            0                  0   \n",
              "135.0                      0            0                  0   \n",
              "203.0                      0            0                  0   \n",
              "808.0                      0            0                  0   \n",
              "1407.0                  2659            0                  0   \n",
              "1508.0                  4961            0                  0   \n",
              "3004.0                     0         1074                109   \n",
              "3555.0                     0            0               2056   \n",
              "3600.0                     0            0               2455   \n",
              "3601.0                     0           37                261   \n",
              "4606.0                     0         2721                  0   \n",
              "5501.0                     0            0                  0   \n",
              "9546.0                     0         2997                  0   \n",
              "\n",
              "DepartmentDescription  HOUSEHOLD CHEMICALS/SUPP  HOUSEHOLD PAPER GOODS  \\\n",
              "FinelineNumber                                                           \n",
              "100.0                                         0                      0   \n",
              "110.0                                       536                    770   \n",
              "115.0                                        10                      0   \n",
              "135.0                                         0                      0   \n",
              "203.0                                         0                     69   \n",
              "808.0                                         0                      0   \n",
              "1407.0                                        0                      0   \n",
              "1508.0                                        0                      0   \n",
              "3004.0                                        0                    587   \n",
              "3555.0                                        0                      0   \n",
              "3600.0                                        0                      0   \n",
              "3601.0                                        0                      0   \n",
              "4606.0                                        0                      0   \n",
              "5501.0                                        0                      0   \n",
              "9546.0                                        0                      0   \n",
              "\n",
              "DepartmentDescription  IMPULSE MERCHANDISE  PERSONAL CARE  PHARMACY OTC  \\\n",
              "FinelineNumber                                                            \n",
              "100.0                                 2354              0             0   \n",
              "110.0                                  773              0             0   \n",
              "115.0                                 2576              0             0   \n",
              "135.0                                 4417             26             0   \n",
              "203.0                                    0           2353             0   \n",
              "808.0                                 4200            140             0   \n",
              "1407.0                                   0            177             0   \n",
              "1508.0                                   0              0             0   \n",
              "3004.0                                   0              0             0   \n",
              "3555.0                                   0              0             0   \n",
              "3600.0                                   0              0             0   \n",
              "3601.0                                   0              0             0   \n",
              "4606.0                                   0              0             0   \n",
              "5501.0                                   0              0             2   \n",
              "9546.0                                   0              0             0   \n",
              "\n",
              "DepartmentDescription  PRODUCE  \n",
              "FinelineNumber                  \n",
              "100.0                       69  \n",
              "110.0                        0  \n",
              "115.0                        0  \n",
              "135.0                        0  \n",
              "203.0                        0  \n",
              "808.0                        0  \n",
              "1407.0                       0  \n",
              "1508.0                       0  \n",
              "3004.0                     486  \n",
              "3555.0                       0  \n",
              "3600.0                       0  \n",
              "3601.0                    2034  \n",
              "4606.0                       2  \n",
              "5501.0                    7799  \n",
              "9546.0                       0  "
            ],
            "text/html": [
              "\n",
              "  <div id=\"df-c71f6bda-1158-4019-9922-a70ae9e22f66\">\n",
              "    <div class=\"colab-df-container\">\n",
              "      <div>\n",
              "<style scoped>\n",
              "    .dataframe tbody tr th:only-of-type {\n",
              "        vertical-align: middle;\n",
              "    }\n",
              "\n",
              "    .dataframe tbody tr th {\n",
              "        vertical-align: top;\n",
              "    }\n",
              "\n",
              "    .dataframe thead th {\n",
              "        text-align: right;\n",
              "    }\n",
              "</style>\n",
              "<table border=\"1\" class=\"dataframe\">\n",
              "  <thead>\n",
              "    <tr style=\"text-align: right;\">\n",
              "      <th>DepartmentDescription</th>\n",
              "      <th>DAIRY</th>\n",
              "      <th>DSD GROCERY</th>\n",
              "      <th>GROCERY DRY GOODS</th>\n",
              "      <th>HOUSEHOLD CHEMICALS/SUPP</th>\n",
              "      <th>HOUSEHOLD PAPER GOODS</th>\n",
              "      <th>IMPULSE MERCHANDISE</th>\n",
              "      <th>PERSONAL CARE</th>\n",
              "      <th>PHARMACY OTC</th>\n",
              "      <th>PRODUCE</th>\n",
              "    </tr>\n",
              "    <tr>\n",
              "      <th>FinelineNumber</th>\n",
              "      <th></th>\n",
              "      <th></th>\n",
              "      <th></th>\n",
              "      <th></th>\n",
              "      <th></th>\n",
              "      <th></th>\n",
              "      <th></th>\n",
              "      <th></th>\n",
              "      <th></th>\n",
              "    </tr>\n",
              "  </thead>\n",
              "  <tbody>\n",
              "    <tr>\n",
              "      <th>100.0</th>\n",
              "      <td>0</td>\n",
              "      <td>0</td>\n",
              "      <td>95</td>\n",
              "      <td>0</td>\n",
              "      <td>0</td>\n",
              "      <td>2354</td>\n",
              "      <td>0</td>\n",
              "      <td>0</td>\n",
              "      <td>69</td>\n",
              "    </tr>\n",
              "    <tr>\n",
              "      <th>110.0</th>\n",
              "      <td>0</td>\n",
              "      <td>0</td>\n",
              "      <td>0</td>\n",
              "      <td>536</td>\n",
              "      <td>770</td>\n",
              "      <td>773</td>\n",
              "      <td>0</td>\n",
              "      <td>0</td>\n",
              "      <td>0</td>\n",
              "    </tr>\n",
              "    <tr>\n",
              "      <th>115.0</th>\n",
              "      <td>0</td>\n",
              "      <td>0</td>\n",
              "      <td>0</td>\n",
              "      <td>10</td>\n",
              "      <td>0</td>\n",
              "      <td>2576</td>\n",
              "      <td>0</td>\n",
              "      <td>0</td>\n",
              "      <td>0</td>\n",
              "    </tr>\n",
              "    <tr>\n",
              "      <th>135.0</th>\n",
              "      <td>0</td>\n",
              "      <td>0</td>\n",
              "      <td>0</td>\n",
              "      <td>0</td>\n",
              "      <td>0</td>\n",
              "      <td>4417</td>\n",
              "      <td>26</td>\n",
              "      <td>0</td>\n",
              "      <td>0</td>\n",
              "    </tr>\n",
              "    <tr>\n",
              "      <th>203.0</th>\n",
              "      <td>0</td>\n",
              "      <td>0</td>\n",
              "      <td>0</td>\n",
              "      <td>0</td>\n",
              "      <td>69</td>\n",
              "      <td>0</td>\n",
              "      <td>2353</td>\n",
              "      <td>0</td>\n",
              "      <td>0</td>\n",
              "    </tr>\n",
              "    <tr>\n",
              "      <th>808.0</th>\n",
              "      <td>0</td>\n",
              "      <td>0</td>\n",
              "      <td>0</td>\n",
              "      <td>0</td>\n",
              "      <td>0</td>\n",
              "      <td>4200</td>\n",
              "      <td>140</td>\n",
              "      <td>0</td>\n",
              "      <td>0</td>\n",
              "    </tr>\n",
              "    <tr>\n",
              "      <th>1407.0</th>\n",
              "      <td>2659</td>\n",
              "      <td>0</td>\n",
              "      <td>0</td>\n",
              "      <td>0</td>\n",
              "      <td>0</td>\n",
              "      <td>0</td>\n",
              "      <td>177</td>\n",
              "      <td>0</td>\n",
              "      <td>0</td>\n",
              "    </tr>\n",
              "    <tr>\n",
              "      <th>1508.0</th>\n",
              "      <td>4961</td>\n",
              "      <td>0</td>\n",
              "      <td>0</td>\n",
              "      <td>0</td>\n",
              "      <td>0</td>\n",
              "      <td>0</td>\n",
              "      <td>0</td>\n",
              "      <td>0</td>\n",
              "      <td>0</td>\n",
              "    </tr>\n",
              "    <tr>\n",
              "      <th>3004.0</th>\n",
              "      <td>0</td>\n",
              "      <td>1074</td>\n",
              "      <td>109</td>\n",
              "      <td>0</td>\n",
              "      <td>587</td>\n",
              "      <td>0</td>\n",
              "      <td>0</td>\n",
              "      <td>0</td>\n",
              "      <td>486</td>\n",
              "    </tr>\n",
              "    <tr>\n",
              "      <th>3555.0</th>\n",
              "      <td>0</td>\n",
              "      <td>0</td>\n",
              "      <td>2056</td>\n",
              "      <td>0</td>\n",
              "      <td>0</td>\n",
              "      <td>0</td>\n",
              "      <td>0</td>\n",
              "      <td>0</td>\n",
              "      <td>0</td>\n",
              "    </tr>\n",
              "    <tr>\n",
              "      <th>3600.0</th>\n",
              "      <td>0</td>\n",
              "      <td>0</td>\n",
              "      <td>2455</td>\n",
              "      <td>0</td>\n",
              "      <td>0</td>\n",
              "      <td>0</td>\n",
              "      <td>0</td>\n",
              "      <td>0</td>\n",
              "      <td>0</td>\n",
              "    </tr>\n",
              "    <tr>\n",
              "      <th>3601.0</th>\n",
              "      <td>0</td>\n",
              "      <td>37</td>\n",
              "      <td>261</td>\n",
              "      <td>0</td>\n",
              "      <td>0</td>\n",
              "      <td>0</td>\n",
              "      <td>0</td>\n",
              "      <td>0</td>\n",
              "      <td>2034</td>\n",
              "    </tr>\n",
              "    <tr>\n",
              "      <th>4606.0</th>\n",
              "      <td>0</td>\n",
              "      <td>2721</td>\n",
              "      <td>0</td>\n",
              "      <td>0</td>\n",
              "      <td>0</td>\n",
              "      <td>0</td>\n",
              "      <td>0</td>\n",
              "      <td>0</td>\n",
              "      <td>2</td>\n",
              "    </tr>\n",
              "    <tr>\n",
              "      <th>5501.0</th>\n",
              "      <td>0</td>\n",
              "      <td>0</td>\n",
              "      <td>0</td>\n",
              "      <td>0</td>\n",
              "      <td>0</td>\n",
              "      <td>0</td>\n",
              "      <td>0</td>\n",
              "      <td>2</td>\n",
              "      <td>7799</td>\n",
              "    </tr>\n",
              "    <tr>\n",
              "      <th>9546.0</th>\n",
              "      <td>0</td>\n",
              "      <td>2997</td>\n",
              "      <td>0</td>\n",
              "      <td>0</td>\n",
              "      <td>0</td>\n",
              "      <td>0</td>\n",
              "      <td>0</td>\n",
              "      <td>0</td>\n",
              "      <td>0</td>\n",
              "    </tr>\n",
              "  </tbody>\n",
              "</table>\n",
              "</div>\n",
              "      <button class=\"colab-df-convert\" onclick=\"convertToInteractive('df-c71f6bda-1158-4019-9922-a70ae9e22f66')\"\n",
              "              title=\"Convert this dataframe to an interactive table.\"\n",
              "              style=\"display:none;\">\n",
              "        \n",
              "  <svg xmlns=\"http://www.w3.org/2000/svg\" height=\"24px\"viewBox=\"0 0 24 24\"\n",
              "       width=\"24px\">\n",
              "    <path d=\"M0 0h24v24H0V0z\" fill=\"none\"/>\n",
              "    <path d=\"M18.56 5.44l.94 2.06.94-2.06 2.06-.94-2.06-.94-.94-2.06-.94 2.06-2.06.94zm-11 1L8.5 8.5l.94-2.06 2.06-.94-2.06-.94L8.5 2.5l-.94 2.06-2.06.94zm10 10l.94 2.06.94-2.06 2.06-.94-2.06-.94-.94-2.06-.94 2.06-2.06.94z\"/><path d=\"M17.41 7.96l-1.37-1.37c-.4-.4-.92-.59-1.43-.59-.52 0-1.04.2-1.43.59L10.3 9.45l-7.72 7.72c-.78.78-.78 2.05 0 2.83L4 21.41c.39.39.9.59 1.41.59.51 0 1.02-.2 1.41-.59l7.78-7.78 2.81-2.81c.8-.78.8-2.07 0-2.86zM5.41 20L4 18.59l7.72-7.72 1.47 1.35L5.41 20z\"/>\n",
              "  </svg>\n",
              "      </button>\n",
              "      \n",
              "  <style>\n",
              "    .colab-df-container {\n",
              "      display:flex;\n",
              "      flex-wrap:wrap;\n",
              "      gap: 12px;\n",
              "    }\n",
              "\n",
              "    .colab-df-convert {\n",
              "      background-color: #E8F0FE;\n",
              "      border: none;\n",
              "      border-radius: 50%;\n",
              "      cursor: pointer;\n",
              "      display: none;\n",
              "      fill: #1967D2;\n",
              "      height: 32px;\n",
              "      padding: 0 0 0 0;\n",
              "      width: 32px;\n",
              "    }\n",
              "\n",
              "    .colab-df-convert:hover {\n",
              "      background-color: #E2EBFA;\n",
              "      box-shadow: 0px 1px 2px rgba(60, 64, 67, 0.3), 0px 1px 3px 1px rgba(60, 64, 67, 0.15);\n",
              "      fill: #174EA6;\n",
              "    }\n",
              "\n",
              "    [theme=dark] .colab-df-convert {\n",
              "      background-color: #3B4455;\n",
              "      fill: #D2E3FC;\n",
              "    }\n",
              "\n",
              "    [theme=dark] .colab-df-convert:hover {\n",
              "      background-color: #434B5C;\n",
              "      box-shadow: 0px 1px 3px 1px rgba(0, 0, 0, 0.15);\n",
              "      filter: drop-shadow(0px 1px 2px rgba(0, 0, 0, 0.3));\n",
              "      fill: #FFFFFF;\n",
              "    }\n",
              "  </style>\n",
              "\n",
              "      <script>\n",
              "        const buttonEl =\n",
              "          document.querySelector('#df-c71f6bda-1158-4019-9922-a70ae9e22f66 button.colab-df-convert');\n",
              "        buttonEl.style.display =\n",
              "          google.colab.kernel.accessAllowed ? 'block' : 'none';\n",
              "\n",
              "        async function convertToInteractive(key) {\n",
              "          const element = document.querySelector('#df-c71f6bda-1158-4019-9922-a70ae9e22f66');\n",
              "          const dataTable =\n",
              "            await google.colab.kernel.invokeFunction('convertToInteractive',\n",
              "                                                     [key], {});\n",
              "          if (!dataTable) return;\n",
              "\n",
              "          const docLinkHtml = 'Like what you see? Visit the ' +\n",
              "            '<a target=\"_blank\" href=https://colab.research.google.com/notebooks/data_table.ipynb>data table notebook</a>'\n",
              "            + ' to learn more about interactive tables.';\n",
              "          element.innerHTML = '';\n",
              "          dataTable['output_type'] = 'display_data';\n",
              "          await google.colab.output.renderOutput(dataTable, element);\n",
              "          const docLink = document.createElement('div');\n",
              "          docLink.innerHTML = docLinkHtml;\n",
              "          element.appendChild(docLink);\n",
              "        }\n",
              "      </script>\n",
              "    </div>\n",
              "  </div>\n",
              "  "
            ]
          },
          "metadata": {},
          "execution_count": 37
        }
      ],
      "source": [
        "# Build a crosstab between DepartmentDescription and FinelineNumber,\n",
        "# for most popular DepartmentDescription (total ScanCount > 20_000)\n",
        "# and most popular FinelineNumber (total ScanCount > 2000)\n",
        "\n",
        "\n",
        "popular_dd = train.groupby('DepartmentDescription').ScanCount.sum().sort_values(ascending=False)[:10].index\n",
        "sub = train[train.DepartmentDescription.isin(popular_dd)]\n",
        "sub = sub[sub.FinelineNumber.isin(sub.FinelineNumber.value_counts().iloc[:15].index)]\n",
        "\n",
        "tab = pd.crosstab(sub.FinelineNumber, sub.DepartmentDescription)\n",
        "tab"
      ]
    },
    {
      "cell_type": "code",
      "execution_count": 37,
      "metadata": {
        "id": "XarOaqHqqZLV"
      },
      "outputs": [],
      "source": []
    },
    {
      "cell_type": "markdown",
      "metadata": {
        "id": "E3OIRX-vqZLV"
      },
      "source": [
        "### 3.5 Upc"
      ]
    },
    {
      "cell_type": "code",
      "execution_count": 38,
      "metadata": {
        "colab": {
          "base_uri": "https://localhost:8080/"
        },
        "id": "VPFtI4sQqZLV",
        "outputId": "f7927125-8316-4eba-cf06-3dbdcd14a0d0"
      },
      "outputs": [
        {
          "output_type": "execute_result",
          "data": {
            "text/plain": [
              "4.011000e+03    7657\n",
              "6.053886e+10    2501\n",
              "7.874235e+09    2067\n",
              "7.874235e+09    1883\n",
              "4.046000e+03    1652\n",
              "                ... \n",
              "1.714581e+09       1\n",
              "8.961101e+11       1\n",
              "7.461946e+10       1\n",
              "7.245368e+10       1\n",
              "5.440000e+09       1\n",
              "Name: Upc, Length: 97714, dtype: int64"
            ]
          },
          "metadata": {},
          "execution_count": 38
        }
      ],
      "source": [
        "train.Upc.value_counts()"
      ]
    },
    {
      "cell_type": "code",
      "execution_count": 38,
      "metadata": {
        "id": "LOR3q13MqZLV"
      },
      "outputs": [],
      "source": []
    },
    {
      "cell_type": "markdown",
      "metadata": {
        "id": "GVrBG5VnqZLV"
      },
      "source": [
        "## Conclusions on EDA\n",
        "\n",
        " - Visits are mostly consist of small number of products\n",
        " - Large visits are on weekends\n",
        " - `TripType` depends on `DepartmentDescription` and `FinelineNumber`\n",
        " - `Upc` is something like a bar code, could be usefull but contains almost 100k unique values\n",
        " "
      ]
    },
    {
      "cell_type": "markdown",
      "metadata": {
        "id": "g86XNPSzqZLV"
      },
      "source": [
        "# 4. Generate features"
      ]
    },
    {
      "cell_type": "code",
      "execution_count": 39,
      "metadata": {
        "id": "F3SKPtLyqZLW"
      },
      "outputs": [],
      "source": [
        "train = pd.read_csv('train.csv')\n",
        "# test = pd.read_csv('walmart-recruiting-trip-type-classification/test.csv')"
      ]
    },
    {
      "cell_type": "code",
      "execution_count": 40,
      "metadata": {
        "id": "htX0gJzTqZLW"
      },
      "outputs": [],
      "source": [
        "def return_nth(x, n=0):\n",
        "    try:\n",
        "        return x[n]\n",
        "    except:\n",
        "        return np.nan\n",
        "    \n",
        "def return_nth_val(x, n=0):\n",
        "    try:\n",
        "        return x[n]\n",
        "    except:\n",
        "        return 0\n",
        "    \n",
        "def is_weekend(x):\n",
        "    return int(x in ['Sunday', 'Saturday'])\n",
        "\n",
        "def has_return(x):\n",
        "    return int(any(_x < 0 for _x in x))\n",
        "\n",
        "def sum_return(x):\n",
        "    return np.sum([_x for _x in x if _x < 0])"
      ]
    },
    {
      "cell_type": "code",
      "execution_count": 41,
      "metadata": {
        "id": "KPHsC5BSqZLW"
      },
      "outputs": [],
      "source": [
        "df = train.copy()"
      ]
    },
    {
      "cell_type": "code",
      "execution_count": 42,
      "metadata": {
        "id": "6DEParK0qZLW"
      },
      "outputs": [],
      "source": [
        "def generate_features(df):\n",
        "    \n",
        "    df = df.copy()\n",
        "    \n",
        "    # 1. Most frequent DepartmentDescription in the purchase, second most frequent, third, fourth.\n",
        "    f = lambda grp: grp.value_counts().nlargest(6)\n",
        "    x = df.groupby('VisitNumber')['DepartmentDescription'].apply(f).reset_index()\n",
        "    gp = x.groupby('VisitNumber')['level_1'].unique()\n",
        "\n",
        "    df['PopularCategory'] = df.VisitNumber.map(gp)\n",
        "    for i in range(4):\n",
        "        df[f'Category_{i}'] = df['PopularCategory'].apply(return_nth, args=[i])\n",
        "\n",
        "    # 2. Same for FinelineNumber, but 6\n",
        "    x = df.groupby('VisitNumber')['FinelineNumber'].apply(f).reset_index()\n",
        "    gp = x.groupby('VisitNumber')['level_1'].unique()\n",
        "\n",
        "    df['PopularFineline'] = df.VisitNumber.map(gp)\n",
        "    for i in range(6):\n",
        "        df[f'Fineline_{i}'] = df['PopularFineline'].apply(return_nth, args=[i]).astype(object)\n",
        "\n",
        "    # 3. Count number of unique DepartmentDescription in the purchase\n",
        "    gp = df.groupby('VisitNumber')['DepartmentDescription'].nunique()\n",
        "    df['#Unique_Department'] = df.VisitNumber.map(gp)\n",
        "\n",
        "    # 4. Count number of unique FinelineNumber in the purchase.\n",
        "    gp = df.groupby('VisitNumber')['FinelineNumber'].nunique()\n",
        "    df['#Unique_Fineline'] = df.VisitNumber.map(gp)\n",
        "\n",
        "    # 5. Count ScanCount (number of unique Upc in the purchase)\n",
        "\n",
        "    gp = df.groupby('VisitNumber')['ScanCount'].count()\n",
        "    df['#UniqueScanCount'] = df['VisitNumber'].map(gp)   \n",
        "\n",
        "    # 6. Sum ScanCount\n",
        "\n",
        "    gp = df.groupby('VisitNumber')['ScanCount'].sum()\n",
        "    df['TotalScanCount'] = df['VisitNumber'].map(gp)\n",
        "\n",
        "    # 7. Is weekend\n",
        "\n",
        "    df['is_Weekend'] = df['Weekday'].apply(is_weekend).astype(object)\n",
        "\n",
        "    # 8. Sum returns\n",
        "\n",
        "    gp = df.groupby('VisitNumber')['ScanCount'].apply(sum_return)\n",
        "    df['total_return'] = df.VisitNumber.map(gp)\n",
        "    df['total_return'].fillna(0, inplace=True)\n",
        "\n",
        "    # Drop old and intermediate features\n",
        "\n",
        "    df = df.drop(['Upc', 'ScanCount', 'DepartmentDescription',\n",
        "                  'FinelineNumber', 'PopularFineline', 'PopularCategory'], axis=1)\n",
        "\n",
        "    # Drop duplicated rows (with the same VisitNumber)\n",
        "\n",
        "    df = df.drop_duplicates(keep='first')\n",
        "    \n",
        "    return df"
      ]
    },
    {
      "cell_type": "code",
      "execution_count": 43,
      "metadata": {
        "id": "tQlnQewdqZLW"
      },
      "outputs": [],
      "source": [
        "# Running this cell takes about 10 minutes\n",
        "df = generate_features(df)"
      ]
    },
    {
      "cell_type": "markdown",
      "metadata": {
        "id": "-pjldXP_qZLW"
      },
      "source": [
        "# 5. Train a model"
      ]
    },
    {
      "cell_type": "code",
      "source": [
        "pip install catboost"
      ],
      "metadata": {
        "colab": {
          "base_uri": "https://localhost:8080/"
        },
        "id": "WbKNEMlPeVZK",
        "outputId": "9f5dcaa7-f451-4a4a-ba33-f85032252ddd"
      },
      "execution_count": 45,
      "outputs": [
        {
          "output_type": "stream",
          "name": "stdout",
          "text": [
            "Looking in indexes: https://pypi.org/simple, https://us-python.pkg.dev/colab-wheels/public/simple/\n",
            "Collecting catboost\n",
            "  Downloading catboost-1.1.1-cp39-none-manylinux1_x86_64.whl (76.6 MB)\n",
            "\u001b[2K     \u001b[90m━━━━━━━━━━━━━━━━━━━━━━━━━━━━━━━━━━━━━━━━\u001b[0m \u001b[32m76.6/76.6 MB\u001b[0m \u001b[31m13.1 MB/s\u001b[0m eta \u001b[36m0:00:00\u001b[0m\n",
            "\u001b[?25hRequirement already satisfied: numpy>=1.16.0 in /usr/local/lib/python3.9/dist-packages (from catboost) (1.22.4)\n",
            "Requirement already satisfied: scipy in /usr/local/lib/python3.9/dist-packages (from catboost) (1.10.1)\n",
            "Requirement already satisfied: six in /usr/local/lib/python3.9/dist-packages (from catboost) (1.16.0)\n",
            "Requirement already satisfied: graphviz in /usr/local/lib/python3.9/dist-packages (from catboost) (0.20.1)\n",
            "Requirement already satisfied: pandas>=0.24.0 in /usr/local/lib/python3.9/dist-packages (from catboost) (1.4.4)\n",
            "Requirement already satisfied: plotly in /usr/local/lib/python3.9/dist-packages (from catboost) (5.13.1)\n",
            "Requirement already satisfied: matplotlib in /usr/local/lib/python3.9/dist-packages (from catboost) (3.7.1)\n",
            "Requirement already satisfied: python-dateutil>=2.8.1 in /usr/local/lib/python3.9/dist-packages (from pandas>=0.24.0->catboost) (2.8.2)\n",
            "Requirement already satisfied: pytz>=2020.1 in /usr/local/lib/python3.9/dist-packages (from pandas>=0.24.0->catboost) (2022.7.1)\n",
            "Requirement already satisfied: pillow>=6.2.0 in /usr/local/lib/python3.9/dist-packages (from matplotlib->catboost) (8.4.0)\n",
            "Requirement already satisfied: cycler>=0.10 in /usr/local/lib/python3.9/dist-packages (from matplotlib->catboost) (0.11.0)\n",
            "Requirement already satisfied: pyparsing>=2.3.1 in /usr/local/lib/python3.9/dist-packages (from matplotlib->catboost) (3.0.9)\n",
            "Requirement already satisfied: fonttools>=4.22.0 in /usr/local/lib/python3.9/dist-packages (from matplotlib->catboost) (4.39.3)\n",
            "Requirement already satisfied: kiwisolver>=1.0.1 in /usr/local/lib/python3.9/dist-packages (from matplotlib->catboost) (1.4.4)\n",
            "Requirement already satisfied: importlib-resources>=3.2.0 in /usr/local/lib/python3.9/dist-packages (from matplotlib->catboost) (5.12.0)\n",
            "Requirement already satisfied: packaging>=20.0 in /usr/local/lib/python3.9/dist-packages (from matplotlib->catboost) (23.0)\n",
            "Requirement already satisfied: contourpy>=1.0.1 in /usr/local/lib/python3.9/dist-packages (from matplotlib->catboost) (1.0.7)\n",
            "Requirement already satisfied: tenacity>=6.2.0 in /usr/local/lib/python3.9/dist-packages (from plotly->catboost) (8.2.2)\n",
            "Requirement already satisfied: zipp>=3.1.0 in /usr/local/lib/python3.9/dist-packages (from importlib-resources>=3.2.0->matplotlib->catboost) (3.15.0)\n",
            "Installing collected packages: catboost\n",
            "Successfully installed catboost-1.1.1\n"
          ]
        }
      ]
    },
    {
      "cell_type": "code",
      "execution_count": 46,
      "metadata": {
        "id": "JlK4PlKHqZLX"
      },
      "outputs": [],
      "source": [
        "from catboost import CatBoostClassifier, Pool"
      ]
    },
    {
      "cell_type": "code",
      "execution_count": 47,
      "metadata": {
        "colab": {
          "base_uri": "https://localhost:8080/"
        },
        "id": "YBcy6lXbqZLX",
        "outputId": "a8007338-72fc-489a-f94d-82cca59979de"
      },
      "outputs": [
        {
          "output_type": "stream",
          "name": "stdout",
          "text": [
            "-2 TripType int64\n",
            "-1 VisitNumber int64\n",
            "0 Weekday object\n",
            "1 Category_0 object\n",
            "2 Category_1 object\n",
            "3 Category_2 object\n",
            "4 Category_3 object\n",
            "5 Fineline_0 object\n",
            "6 Fineline_1 object\n",
            "7 Fineline_2 object\n",
            "8 Fineline_3 object\n",
            "9 Fineline_4 object\n",
            "10 Fineline_5 object\n",
            "11 #Unique_Department int64\n",
            "12 #Unique_Fineline int64\n",
            "13 #UniqueScanCount int64\n",
            "14 TotalScanCount int64\n",
            "15 is_Weekend object\n",
            "16 total_return float64\n"
          ]
        }
      ],
      "source": [
        "for i, col in enumerate(df.columns):\n",
        "    print(i-2, col, df[col].dtype)"
      ]
    },
    {
      "cell_type": "code",
      "execution_count": 48,
      "metadata": {
        "id": "4umTqRLXqZLX"
      },
      "outputs": [],
      "source": [
        "for col in df.columns:\n",
        "    if col.startswith('Category'):\n",
        "        df[col]=df[col].apply(str)\n",
        "    if col.startswith('Fineline'):\n",
        "        df[col]=df[col].apply(str)"
      ]
    },
    {
      "cell_type": "code",
      "execution_count": 49,
      "metadata": {
        "id": "cepdB-BXqZLX"
      },
      "outputs": [],
      "source": [
        "df.fillna('NaN', inplace=True)\n",
        "x_train, x_eval = train_test_split(df, test_size=0.1, random_state=10, shuffle=True)\n",
        "\n",
        "cat_features = [*list(range(10)), 15]\n",
        "\n",
        "data_train = Pool(x_train.drop(['TripType', 'VisitNumber'], axis=1), \n",
        "                  label=x_train.TripType,\n",
        "                  cat_features=cat_features)\n",
        "\n",
        "data_eval = Pool(x_eval.drop(['TripType', 'VisitNumber'], axis=1), \n",
        "                 label=x_eval.TripType,\n",
        "                 cat_features=cat_features)"
      ]
    },
    {
      "cell_type": "code",
      "execution_count": 50,
      "metadata": {
        "id": "VByGZ5JIqZLY"
      },
      "outputs": [],
      "source": [
        "ctb_params = {\n",
        "    'depth': 4,\n",
        "    'learning_rate': .3,\n",
        "    'l2_leaf_reg': 3,\n",
        "    'loss_function': 'MultiClass',\n",
        "    'verbose': 1,\n",
        "    'thread_count': 12,\n",
        "    'iterations': 100\n",
        "}"
      ]
    },
    {
      "cell_type": "code",
      "execution_count": 51,
      "metadata": {
        "colab": {
          "base_uri": "https://localhost:8080/"
        },
        "id": "Xy8ec6vqqZLY",
        "outputId": "82071936-d362-43d3-d39e-048ac1836126"
      },
      "outputs": [
        {
          "output_type": "stream",
          "name": "stdout",
          "text": [
            "0:\tlearn: 2.5003169\ttest: 2.5023496\tbest: 2.5023496 (0)\ttotal: 24s\tremaining: 39m 37s\n",
            "1:\tlearn: 2.1687069\ttest: 2.1689262\tbest: 2.1689262 (1)\ttotal: 48s\tremaining: 39m 13s\n",
            "2:\tlearn: 1.9832113\ttest: 1.9666134\tbest: 1.9666134 (2)\ttotal: 1m 10s\tremaining: 38m\n",
            "3:\tlearn: 1.9312787\ttest: 1.9138151\tbest: 1.9138151 (3)\ttotal: 1m 34s\tremaining: 37m 45s\n",
            "4:\tlearn: 1.8529427\ttest: 1.8356256\tbest: 1.8356256 (4)\ttotal: 1m 57s\tremaining: 37m 15s\n",
            "5:\tlearn: 1.7816361\ttest: 1.7633018\tbest: 1.7633018 (5)\ttotal: 2m 20s\tremaining: 36m 43s\n",
            "6:\tlearn: 1.7063736\ttest: 1.6891190\tbest: 1.6891190 (6)\ttotal: 2m 43s\tremaining: 36m 13s\n",
            "7:\tlearn: 1.6517512\ttest: 1.6333151\tbest: 1.6333151 (7)\ttotal: 3m 7s\tremaining: 35m 50s\n",
            "8:\tlearn: 1.6079575\ttest: 1.5863785\tbest: 1.5863785 (8)\ttotal: 3m 29s\tremaining: 35m 20s\n",
            "9:\tlearn: 1.5607590\ttest: 1.5449389\tbest: 1.5449389 (9)\ttotal: 3m 52s\tremaining: 34m 50s\n",
            "10:\tlearn: 1.5295865\ttest: 1.5129462\tbest: 1.5129462 (10)\ttotal: 4m 22s\tremaining: 35m 26s\n",
            "11:\tlearn: 1.5023356\ttest: 1.4865528\tbest: 1.4865528 (11)\ttotal: 4m 45s\tremaining: 34m 51s\n",
            "12:\tlearn: 1.4759889\ttest: 1.4589769\tbest: 1.4589769 (12)\ttotal: 5m 7s\tremaining: 34m 19s\n",
            "13:\tlearn: 1.4513513\ttest: 1.4349187\tbest: 1.4349187 (13)\ttotal: 5m 30s\tremaining: 33m 52s\n",
            "14:\tlearn: 1.4093920\ttest: 1.3899054\tbest: 1.3899054 (14)\ttotal: 5m 54s\tremaining: 33m 31s\n",
            "15:\tlearn: 1.3940246\ttest: 1.3764160\tbest: 1.3764160 (15)\ttotal: 6m 18s\tremaining: 33m 4s\n",
            "16:\tlearn: 1.3805233\ttest: 1.3635848\tbest: 1.3635848 (16)\ttotal: 6m 41s\tremaining: 32m 39s\n",
            "17:\tlearn: 1.3651301\ttest: 1.3497011\tbest: 1.3497011 (17)\ttotal: 7m 5s\tremaining: 32m 16s\n",
            "18:\tlearn: 1.3448050\ttest: 1.3310756\tbest: 1.3310756 (18)\ttotal: 7m 28s\tremaining: 31m 50s\n",
            "19:\tlearn: 1.3254717\ttest: 1.3147028\tbest: 1.3147028 (19)\ttotal: 7m 50s\tremaining: 31m 20s\n",
            "20:\tlearn: 1.3181286\ttest: 1.3074625\tbest: 1.3074625 (20)\ttotal: 8m 15s\tremaining: 31m 4s\n",
            "21:\tlearn: 1.3033474\ttest: 1.2937173\tbest: 1.2937173 (21)\ttotal: 8m 38s\tremaining: 30m 39s\n",
            "22:\tlearn: 1.2865869\ttest: 1.2764722\tbest: 1.2764722 (22)\ttotal: 9m 1s\tremaining: 30m 13s\n",
            "23:\tlearn: 1.2764250\ttest: 1.2663214\tbest: 1.2663214 (23)\ttotal: 9m 24s\tremaining: 29m 48s\n",
            "24:\tlearn: 1.2675800\ttest: 1.2593734\tbest: 1.2593734 (24)\ttotal: 9m 48s\tremaining: 29m 25s\n",
            "25:\tlearn: 1.2607738\ttest: 1.2529364\tbest: 1.2529364 (25)\ttotal: 10m 11s\tremaining: 29m\n",
            "26:\tlearn: 1.2519358\ttest: 1.2446447\tbest: 1.2446447 (26)\ttotal: 10m 34s\tremaining: 28m 36s\n",
            "27:\tlearn: 1.2456152\ttest: 1.2386894\tbest: 1.2386894 (27)\ttotal: 10m 56s\tremaining: 28m 8s\n",
            "28:\tlearn: 1.2381411\ttest: 1.2320929\tbest: 1.2320929 (28)\ttotal: 11m 19s\tremaining: 27m 44s\n",
            "29:\tlearn: 1.2269570\ttest: 1.2203671\tbest: 1.2203671 (29)\ttotal: 11m 42s\tremaining: 27m 19s\n",
            "30:\tlearn: 1.2213628\ttest: 1.2152439\tbest: 1.2152439 (30)\ttotal: 12m 5s\tremaining: 26m 55s\n",
            "31:\tlearn: 1.2162747\ttest: 1.2105803\tbest: 1.2105803 (31)\ttotal: 12m 29s\tremaining: 26m 32s\n",
            "32:\tlearn: 1.2112866\ttest: 1.2052769\tbest: 1.2052769 (32)\ttotal: 12m 52s\tremaining: 26m 8s\n",
            "33:\tlearn: 1.2000497\ttest: 1.1956024\tbest: 1.1956024 (33)\ttotal: 13m 15s\tremaining: 25m 44s\n",
            "34:\tlearn: 1.1939892\ttest: 1.1883364\tbest: 1.1883364 (34)\ttotal: 13m 38s\tremaining: 25m 20s\n",
            "35:\tlearn: 1.1871308\ttest: 1.1810231\tbest: 1.1810231 (35)\ttotal: 14m 2s\tremaining: 24m 57s\n",
            "36:\tlearn: 1.1841605\ttest: 1.1781205\tbest: 1.1781205 (36)\ttotal: 14m 25s\tremaining: 24m 33s\n",
            "37:\tlearn: 1.1789922\ttest: 1.1732812\tbest: 1.1732812 (37)\ttotal: 14m 48s\tremaining: 24m 9s\n",
            "38:\tlearn: 1.1743804\ttest: 1.1689386\tbest: 1.1689386 (38)\ttotal: 15m 11s\tremaining: 23m 46s\n",
            "39:\tlearn: 1.1680319\ttest: 1.1625572\tbest: 1.1625572 (39)\ttotal: 15m 34s\tremaining: 23m 22s\n",
            "40:\tlearn: 1.1563173\ttest: 1.1507975\tbest: 1.1507975 (40)\ttotal: 15m 57s\tremaining: 22m 57s\n",
            "41:\tlearn: 1.1472898\ttest: 1.1416406\tbest: 1.1416406 (41)\ttotal: 16m 19s\tremaining: 22m 32s\n",
            "42:\tlearn: 1.1418761\ttest: 1.1364382\tbest: 1.1364382 (42)\ttotal: 16m 42s\tremaining: 22m 9s\n",
            "43:\tlearn: 1.1371027\ttest: 1.1333730\tbest: 1.1333730 (43)\ttotal: 17m 5s\tremaining: 21m 45s\n",
            "44:\tlearn: 1.1336865\ttest: 1.1307347\tbest: 1.1307347 (44)\ttotal: 17m 28s\tremaining: 21m 21s\n",
            "45:\tlearn: 1.1268924\ttest: 1.1232199\tbest: 1.1232199 (45)\ttotal: 17m 51s\tremaining: 20m 58s\n",
            "46:\tlearn: 1.1231575\ttest: 1.1206113\tbest: 1.1206113 (46)\ttotal: 18m 14s\tremaining: 20m 33s\n",
            "47:\tlearn: 1.1200062\ttest: 1.1184550\tbest: 1.1184550 (47)\ttotal: 18m 36s\tremaining: 20m 9s\n",
            "48:\tlearn: 1.1160065\ttest: 1.1151888\tbest: 1.1151888 (48)\ttotal: 18m 59s\tremaining: 19m 46s\n",
            "49:\tlearn: 1.1107245\ttest: 1.1097650\tbest: 1.1097650 (49)\ttotal: 19m 22s\tremaining: 19m 22s\n",
            "50:\tlearn: 1.1083436\ttest: 1.1074552\tbest: 1.1074552 (50)\ttotal: 19m 45s\tremaining: 18m 59s\n",
            "51:\tlearn: 1.1052335\ttest: 1.1057256\tbest: 1.1057256 (51)\ttotal: 20m 8s\tremaining: 18m 35s\n",
            "52:\tlearn: 1.1010385\ttest: 1.1023919\tbest: 1.1023919 (52)\ttotal: 20m 31s\tremaining: 18m 11s\n",
            "53:\tlearn: 1.0988073\ttest: 1.1004593\tbest: 1.1004593 (53)\ttotal: 20m 53s\tremaining: 17m 47s\n",
            "54:\tlearn: 1.0955675\ttest: 1.0977436\tbest: 1.0977436 (54)\ttotal: 21m 16s\tremaining: 17m 24s\n",
            "55:\tlearn: 1.0931655\ttest: 1.0962087\tbest: 1.0962087 (55)\ttotal: 21m 39s\tremaining: 17m 1s\n",
            "56:\tlearn: 1.0846477\ttest: 1.0868180\tbest: 1.0868180 (56)\ttotal: 22m 2s\tremaining: 16m 37s\n",
            "57:\tlearn: 1.0812217\ttest: 1.0842444\tbest: 1.0842444 (57)\ttotal: 22m 25s\tremaining: 16m 14s\n",
            "58:\tlearn: 1.0767836\ttest: 1.0805692\tbest: 1.0805692 (58)\ttotal: 22m 47s\tremaining: 15m 50s\n",
            "59:\tlearn: 1.0716801\ttest: 1.0752567\tbest: 1.0752567 (59)\ttotal: 23m 10s\tremaining: 15m 26s\n",
            "60:\tlearn: 1.0689948\ttest: 1.0729903\tbest: 1.0729903 (60)\ttotal: 23m 33s\tremaining: 15m 3s\n",
            "61:\tlearn: 1.0649202\ttest: 1.0696213\tbest: 1.0696213 (61)\ttotal: 23m 56s\tremaining: 14m 40s\n",
            "62:\tlearn: 1.0613892\ttest: 1.0667417\tbest: 1.0667417 (62)\ttotal: 24m 18s\tremaining: 14m 16s\n",
            "63:\tlearn: 1.0600272\ttest: 1.0652697\tbest: 1.0652697 (63)\ttotal: 24m 42s\tremaining: 13m 53s\n",
            "64:\tlearn: 1.0571416\ttest: 1.0627080\tbest: 1.0627080 (64)\ttotal: 25m 3s\tremaining: 13m 29s\n",
            "65:\tlearn: 1.0547364\ttest: 1.0605785\tbest: 1.0605785 (65)\ttotal: 25m 26s\tremaining: 13m 6s\n",
            "66:\tlearn: 1.0529791\ttest: 1.0594927\tbest: 1.0594927 (66)\ttotal: 25m 49s\tremaining: 12m 43s\n",
            "67:\tlearn: 1.0492948\ttest: 1.0563483\tbest: 1.0563483 (67)\ttotal: 26m 12s\tremaining: 12m 20s\n",
            "68:\tlearn: 1.0463738\ttest: 1.0541088\tbest: 1.0541088 (68)\ttotal: 26m 35s\tremaining: 11m 57s\n",
            "69:\tlearn: 1.0439411\ttest: 1.0520114\tbest: 1.0520114 (69)\ttotal: 26m 58s\tremaining: 11m 33s\n",
            "70:\tlearn: 1.0415290\ttest: 1.0504884\tbest: 1.0504884 (70)\ttotal: 27m 21s\tremaining: 11m 10s\n",
            "71:\tlearn: 1.0397583\ttest: 1.0486588\tbest: 1.0486588 (71)\ttotal: 27m 43s\tremaining: 10m 47s\n",
            "72:\tlearn: 1.0367657\ttest: 1.0459610\tbest: 1.0459610 (72)\ttotal: 28m 7s\tremaining: 10m 23s\n",
            "73:\tlearn: 1.0352038\ttest: 1.0451704\tbest: 1.0451704 (73)\ttotal: 28m 30s\tremaining: 10m\n",
            "74:\tlearn: 1.0331350\ttest: 1.0430946\tbest: 1.0430946 (74)\ttotal: 28m 53s\tremaining: 9m 37s\n",
            "75:\tlearn: 1.0315487\ttest: 1.0419671\tbest: 1.0419671 (75)\ttotal: 29m 16s\tremaining: 9m 14s\n",
            "76:\tlearn: 1.0286367\ttest: 1.0394386\tbest: 1.0394386 (76)\ttotal: 29m 38s\tremaining: 8m 51s\n",
            "77:\tlearn: 1.0269718\ttest: 1.0377279\tbest: 1.0377279 (77)\ttotal: 30m\tremaining: 8m 27s\n",
            "78:\tlearn: 1.0264379\ttest: 1.0374975\tbest: 1.0374975 (78)\ttotal: 30m 24s\tremaining: 8m 4s\n",
            "79:\tlearn: 1.0254383\ttest: 1.0364091\tbest: 1.0364091 (79)\ttotal: 30m 46s\tremaining: 7m 41s\n",
            "80:\tlearn: 1.0245575\ttest: 1.0356005\tbest: 1.0356005 (80)\ttotal: 31m 10s\tremaining: 7m 18s\n",
            "81:\tlearn: 1.0208074\ttest: 1.0323972\tbest: 1.0323972 (81)\ttotal: 31m 33s\tremaining: 6m 55s\n",
            "82:\tlearn: 1.0189833\ttest: 1.0313264\tbest: 1.0313264 (82)\ttotal: 31m 55s\tremaining: 6m 32s\n",
            "83:\tlearn: 1.0187331\ttest: 1.0311633\tbest: 1.0311633 (83)\ttotal: 32m 17s\tremaining: 6m 9s\n",
            "84:\tlearn: 1.0180017\ttest: 1.0306803\tbest: 1.0306803 (84)\ttotal: 32m 41s\tremaining: 5m 46s\n",
            "85:\tlearn: 1.0157915\ttest: 1.0293787\tbest: 1.0293787 (85)\ttotal: 33m 3s\tremaining: 5m 22s\n",
            "86:\tlearn: 1.0141607\ttest: 1.0285778\tbest: 1.0285778 (86)\ttotal: 33m 26s\tremaining: 4m 59s\n",
            "87:\tlearn: 1.0098456\ttest: 1.0236930\tbest: 1.0236930 (87)\ttotal: 33m 49s\tremaining: 4m 36s\n",
            "88:\tlearn: 1.0086300\ttest: 1.0225413\tbest: 1.0225413 (88)\ttotal: 34m 11s\tremaining: 4m 13s\n",
            "89:\tlearn: 1.0075344\ttest: 1.0219727\tbest: 1.0219727 (89)\ttotal: 34m 34s\tremaining: 3m 50s\n",
            "90:\tlearn: 1.0068755\ttest: 1.0212340\tbest: 1.0212340 (90)\ttotal: 34m 57s\tremaining: 3m 27s\n",
            "91:\tlearn: 1.0047642\ttest: 1.0195326\tbest: 1.0195326 (91)\ttotal: 35m 20s\tremaining: 3m 4s\n",
            "92:\tlearn: 1.0032390\ttest: 1.0182526\tbest: 1.0182526 (92)\ttotal: 35m 43s\tremaining: 2m 41s\n",
            "93:\tlearn: 1.0013494\ttest: 1.0171458\tbest: 1.0171458 (93)\ttotal: 36m 6s\tremaining: 2m 18s\n",
            "94:\tlearn: 1.0010556\ttest: 1.0169773\tbest: 1.0169773 (94)\ttotal: 36m 28s\tremaining: 1m 55s\n",
            "95:\tlearn: 1.0002817\ttest: 1.0166992\tbest: 1.0166992 (95)\ttotal: 36m 51s\tremaining: 1m 32s\n",
            "96:\tlearn: 0.9998320\ttest: 1.0165175\tbest: 1.0165175 (96)\ttotal: 37m 14s\tremaining: 1m 9s\n",
            "97:\tlearn: 0.9992700\ttest: 1.0160388\tbest: 1.0160388 (97)\ttotal: 37m 37s\tremaining: 46.1s\n",
            "98:\tlearn: 0.9985497\ttest: 1.0155789\tbest: 1.0155789 (98)\ttotal: 38m\tremaining: 23s\n",
            "99:\tlearn: 0.9974930\ttest: 1.0145020\tbest: 1.0145020 (99)\ttotal: 38m 24s\tremaining: 0us\n",
            "\n",
            "bestTest = 1.014501969\n",
            "bestIteration = 99\n",
            "\n"
          ]
        },
        {
          "output_type": "execute_result",
          "data": {
            "text/plain": [
              "<catboost.core.CatBoostClassifier at 0x7fcd6a1b48e0>"
            ]
          },
          "metadata": {},
          "execution_count": 51
        }
      ],
      "source": [
        "model = CatBoostClassifier(**ctb_params)\n",
        "model.fit(X = data_train, silent=False, eval_set=data_eval)"
      ]
    },
    {
      "cell_type": "code",
      "execution_count": null,
      "metadata": {
        "id": "f3Q6UiRgqZLY"
      },
      "outputs": [],
      "source": [
        "model.best_iteration_"
      ]
    },
    {
      "cell_type": "code",
      "execution_count": 52,
      "metadata": {
        "id": "awlZl3dyqZLZ"
      },
      "outputs": [],
      "source": [
        "model.save_model('catboost_depth=4_lr=.3_l2=3')\n",
        "# model = CatBoostClassifier()\n",
        "# model = model.load_model('catboost_depth=6_lr=.03_l2=3')"
      ]
    },
    {
      "cell_type": "code",
      "execution_count": null,
      "metadata": {
        "id": "w_3bOgf1qZLb"
      },
      "outputs": [],
      "source": []
    }
  ],
  "metadata": {
    "kernelspec": {
      "display_name": "Python 3 (ipykernel)",
      "language": "python",
      "name": "python3"
    },
    "language_info": {
      "codemirror_mode": {
        "name": "ipython",
        "version": 3
      },
      "file_extension": ".py",
      "mimetype": "text/x-python",
      "name": "python",
      "nbconvert_exporter": "python",
      "pygments_lexer": "ipython3",
      "version": "3.9.13"
    },
    "colab": {
      "provenance": []
    },
    "accelerator": "GPU",
    "gpuClass": "standard"
  },
  "nbformat": 4,
  "nbformat_minor": 0
}