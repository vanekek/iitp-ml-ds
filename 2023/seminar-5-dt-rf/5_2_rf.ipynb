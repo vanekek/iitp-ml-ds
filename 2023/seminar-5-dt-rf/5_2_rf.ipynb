{
 "cells": [
  {
   "cell_type": "markdown",
   "metadata": {},
   "source": [
    "Случайный лес: ансамбли деревьев = бэггинг фичей и объектов + блендинг"
   ]
  },
  {
   "cell_type": "code",
   "execution_count": 1,
   "metadata": {},
   "outputs": [],
   "source": [
    "from sklearn.tree import DecisionTreeClassifier\n",
    "from sklearn.metrics import accuracy_score\n",
    "from sklearn.datasets import load_digits\n",
    "from sklearn.model_selection import KFold, cross_val_score, train_test_split\n",
    "from tqdm import tqdm_notebook\n",
    "\n",
    "import warnings\n",
    "warnings.filterwarnings('ignore')\n",
    "\n",
    "import matplotlib.pyplot as plt\n",
    "%matplotlib inline"
   ]
  },
  {
   "cell_type": "markdown",
   "metadata": {},
   "source": [
    "![ensemble_idea](forrest_idea.png)"
   ]
  },
  {
   "cell_type": "code",
   "execution_count": 2,
   "metadata": {},
   "outputs": [],
   "source": [
    "X, y = load_digits(n_class=10, return_X_y=True)"
   ]
  },
  {
   "cell_type": "code",
   "execution_count": 3,
   "metadata": {},
   "outputs": [
    {
     "data": {
      "text/plain": [
       "(1797, 64)"
      ]
     },
     "execution_count": 3,
     "metadata": {},
     "output_type": "execute_result"
    }
   ],
   "source": [
    "X.shape"
   ]
  },
  {
   "cell_type": "markdown",
   "metadata": {},
   "source": [
    "## 1. Случайные подмножества признаков"
   ]
  },
  {
   "cell_type": "code",
   "execution_count": 28,
   "metadata": {
    "scrolled": false
   },
   "outputs": [
    {
     "name": "stdout",
     "output_type": "stream",
     "text": [
      "Точность классификатора: 0.313\n",
      "Признаки по которым проходило разделение: (array([10, 33, 43]),)\n",
      "\n",
      "-------\n",
      "\n",
      "Точность классификатора: 0.340\n",
      "Признаки по которым проходило разделение: (array([21, 50, 54]),)\n",
      "\n",
      "-------\n",
      "\n",
      "Точность классификатора: 0.337\n",
      "Признаки по которым проходило разделение: (array([ 2, 25, 44]),)\n",
      "\n",
      "-------\n",
      "\n",
      "Точность классификатора: 0.301\n",
      "Признаки по которым проходило разделение: (array([10, 28, 61]),)\n",
      "\n",
      "-------\n",
      "\n",
      "Точность классификатора: 0.274\n",
      "Признаки по которым проходило разделение: (array([36, 43, 58]),)\n",
      "\n",
      "-------\n",
      "\n"
     ]
    }
   ],
   "source": [
    "predict_proba_models = []\n",
    "\n",
    "X_train, X_test, y_train, y_test = train_test_split(X, y,\n",
    "                                                    test_size=0.33,\n",
    "                                                    random_state=1)\n",
    "\n",
    "for state in range(5):\n",
    "    \n",
    "    model = DecisionTreeClassifier(max_features=4,\n",
    "                                   max_depth=2,\n",
    "                                   random_state=state)\n",
    "\n",
    "    model.fit(X_train, y_train)\n",
    "    y_pred = model.predict_proba(X_test)\n",
    "    predict_proba_models.append(y_pred)\n",
    "\n",
    "    y_pred = model.predict(X_test)\n",
    "\n",
    "    print('Точность классификатора: {:.3f}'.format(accuracy_score(y_test, y_pred)))\n",
    "    print('Признаки по которым проходило разделение: {}'.format(np.nonzero(model.feature_importances_)))\n",
    "    print('\\n-------\\n')"
   ]
  },
  {
   "cell_type": "code",
   "execution_count": null,
   "metadata": {},
   "outputs": [],
   "source": []
  },
  {
   "cell_type": "code",
   "execution_count": 29,
   "metadata": {},
   "outputs": [
    {
     "name": "stdout",
     "output_type": "stream",
     "text": [
      "(5, 594, 10)\n",
      "0.6430976430976431\n"
     ]
    }
   ],
   "source": [
    "predict_proba_models = np.array(predict_proba_models)\n",
    "\n",
    "print(predict_proba_models.shape)\n",
    "\n",
    "mean_predict_proba = predict_proba_models.sum(axis=0) / 5\n",
    "mean_predict = np.argmax(mean_predict_proba, axis=1)\n",
    "\n",
    "print(accuracy_score(y_test, mean_predict))"
   ]
  },
  {
   "cell_type": "code",
   "execution_count": null,
   "metadata": {},
   "outputs": [],
   "source": []
  },
  {
   "cell_type": "code",
   "execution_count": null,
   "metadata": {},
   "outputs": [],
   "source": []
  },
  {
   "cell_type": "markdown",
   "metadata": {},
   "source": [
    "## 2. Случайные подмножества объектов"
   ]
  },
  {
   "cell_type": "code",
   "execution_count": 5,
   "metadata": {},
   "outputs": [
    {
     "name": "stdout",
     "output_type": "stream",
     "text": [
      "Точность классификатора: 0.241\n",
      "Признаки по которым проходило разделение: (array([19, 25, 49]),)\n",
      "\n",
      "-------\n",
      "\n",
      "Точность классификатора: 0.310\n",
      "Признаки по которым проходило разделение: (array([ 2, 25, 44]),)\n",
      "\n",
      "-------\n",
      "\n",
      "Точность классификатора: 0.224\n",
      "Признаки по которым проходило разделение: (array([ 2, 19, 25]),)\n",
      "\n",
      "-------\n",
      "\n",
      "Точность классификатора: 0.229\n",
      "Признаки по которым проходило разделение: (array([ 6, 19, 25]),)\n",
      "\n",
      "-------\n",
      "\n",
      "Точность классификатора: 0.237\n",
      "Признаки по которым проходило разделение: (array([ 2, 19, 25]),)\n",
      "\n",
      "-------\n",
      "\n"
     ]
    }
   ],
   "source": [
    "predict_proba_models = []\n",
    "\n",
    "\n",
    "X_train, X_test, y_train, y_test = train_test_split(X, y,\n",
    "                                                    test_size=0.33,\n",
    "                                                    random_state=1)\n",
    "\n",
    "def bootstrap_indices(random_state, n_samples):\n",
    "    \"\"\"Private function used to _parallel_build_trees function.\"\"\"\n",
    "    random_instance = np.random.RandomState(random_state)\n",
    "    sample_indices = random_instance.randint(0, n_samples, n_samples)\n",
    "\n",
    "    return sample_indices\n",
    "\n",
    "for state in range(5):\n",
    "   \n",
    "    ind = bootstrap_indices(state, X_train.shape[0])\n",
    "    X_train_, y_train_ = X_train[ind], y_train[ind]\n",
    "    \n",
    "    model = DecisionTreeClassifier(max_features=4,\n",
    "                                   max_depth=2,\n",
    "                                   random_state=2)\n",
    "\n",
    "    model.fit(X_train_, y_train_)\n",
    "    y_pred = model.predict_proba(X_test)\n",
    "    \n",
    "    predict_proba_models.append(y_pred)\n",
    "    \n",
    "    y_pred = model.predict(X_test)\n",
    "    print('Точность классификатора: {:.3f}'.format(accuracy_score(y_test, y_pred)))\n",
    "    print('Признаки по которым проходило разделение: {}'.format(np.nonzero(model.feature_importances_)))\n",
    "    print('\\n-------\\n')"
   ]
  },
  {
   "cell_type": "code",
   "execution_count": 6,
   "metadata": {},
   "outputs": [
    {
     "name": "stdout",
     "output_type": "stream",
     "text": [
      "(5, 594, 10)\n",
      "0.3552188552188552\n"
     ]
    }
   ],
   "source": [
    "predict_proba_models = np.array(predict_proba_models)\n",
    "\n",
    "print(predict_proba_models.shape)\n",
    "\n",
    "mean_predict_proba = predict_proba_models.sum(axis=0) / 5\n",
    "mean_predict = np.argmax(mean_predict_proba, axis=1)\n",
    "\n",
    "print(accuracy_score(y_test, mean_predict))"
   ]
  },
  {
   "cell_type": "code",
   "execution_count": null,
   "metadata": {},
   "outputs": [],
   "source": []
  },
  {
   "cell_type": "code",
   "execution_count": null,
   "metadata": {},
   "outputs": [],
   "source": []
  },
  {
   "cell_type": "markdown",
   "metadata": {},
   "source": [
    "## 3. Случайные признаки + Сэмплинг данных"
   ]
  },
  {
   "cell_type": "code",
   "execution_count": 7,
   "metadata": {},
   "outputs": [
    {
     "name": "stdout",
     "output_type": "stream",
     "text": [
      "Точность классификатора: 0.551\n",
      "Точность классификатора: 0.630\n",
      "Точность классификатора: 0.694\n",
      "Точность классификатора: 0.657\n",
      "Точность классификатора: 0.567\n",
      "(5, 594, 10)\n",
      "0.8198653198653199\n"
     ]
    }
   ],
   "source": [
    "X_train, X_test, y_train, y_test = train_test_split(X,\n",
    "                                                    y,\n",
    "                                                    test_size=0.33,\n",
    "                                                    random_state=1)\n",
    "\n",
    "#-------------------------------------------------------------------------------------------\n",
    "# TRAINING\n",
    "\n",
    "models = []\n",
    "rs = list(range(5))\n",
    "\n",
    "for state in rs:\n",
    "    \n",
    "    ind = bootstrap_indices(state, X_train.shape[0])\n",
    "    X_train_, y_train_ = X_train[ind], y_train[ind]\n",
    "    \n",
    "    model = DecisionTreeClassifier(max_features=32,\n",
    "                                   splitter = 'best',\n",
    "                                   max_depth=4,\n",
    "                                   random_state=state+10)\n",
    "\n",
    "    model.fit(X_train_, y_train_)    \n",
    "    models.append(model)\n",
    "\n",
    "    \n",
    "#-------------------------------------------------------------------------------------------\n",
    "# PREDICTION\n",
    "\n",
    "predict_proba_models = []\n",
    "\n",
    "\n",
    "for model in models:\n",
    "\n",
    "    y_pred = model.predict_proba(X_test)\n",
    "    predict_proba_models.append(y_pred)\n",
    "    y_pred = model.predict(X_test)\n",
    "\n",
    "    print('Точность классификатора: {:.3f}'.format(accuracy_score(y_test, y_pred)))\n",
    "    \n",
    "    \n",
    "predict_proba_models = np.array(predict_proba_models)\n",
    "\n",
    "print(predict_proba_models.shape)\n",
    "\n",
    "mean_predict_proba = predict_proba_models.sum(axis=0) / 5\n",
    "mean_predict = np.argmax(mean_predict_proba, axis=1)\n",
    "\n",
    "print(accuracy_score(y_test, mean_predict))"
   ]
  },
  {
   "cell_type": "code",
   "execution_count": null,
   "metadata": {},
   "outputs": [],
   "source": []
  },
  {
   "cell_type": "code",
   "execution_count": null,
   "metadata": {},
   "outputs": [],
   "source": []
  },
  {
   "cell_type": "markdown",
   "metadata": {},
   "source": [
    "## 4. Случайный лес "
   ]
  },
  {
   "cell_type": "code",
   "execution_count": null,
   "metadata": {},
   "outputs": [],
   "source": []
  },
  {
   "cell_type": "code",
   "execution_count": 8,
   "metadata": {},
   "outputs": [],
   "source": [
    "from sklearn.ensemble import RandomForestClassifier"
   ]
  },
  {
   "cell_type": "code",
   "execution_count": 9,
   "metadata": {},
   "outputs": [
    {
     "name": "stdout",
     "output_type": "stream",
     "text": [
      "0.7777777777777778\n"
     ]
    }
   ],
   "source": [
    "X_train, X_test, y_train, y_test = train_test_split(X, y, test_size=0.33, random_state=1)\n",
    "\n",
    "model = RandomForestClassifier(n_estimators=5,\n",
    "                               max_features=32,\n",
    "                               max_depth=4,\n",
    "                               random_state=1) \n",
    "\n",
    "model.fit(X_train, y_train)\n",
    "y_pred = model.predict(X_test)\n",
    "\n",
    "print(accuracy_score(y_test, y_pred))"
   ]
  },
  {
   "cell_type": "code",
   "execution_count": 10,
   "metadata": {},
   "outputs": [],
   "source": [
    "rs = []\n",
    "for m in model.estimators_:\n",
    "    rs.append(m.random_state)"
   ]
  },
  {
   "cell_type": "code",
   "execution_count": 11,
   "metadata": {},
   "outputs": [
    {
     "data": {
      "text/plain": [
       "[1791095845, 2135392491, 946286476, 1857819720, 491263]"
      ]
     },
     "execution_count": 11,
     "metadata": {},
     "output_type": "execute_result"
    }
   ],
   "source": [
    "rs"
   ]
  },
  {
   "cell_type": "code",
   "execution_count": 12,
   "metadata": {},
   "outputs": [
    {
     "data": {
      "text/plain": [
       "[DecisionTreeClassifier(class_weight=None, criterion='gini', max_depth=4,\n",
       "             max_features=32, max_leaf_nodes=None,\n",
       "             min_impurity_decrease=0.0, min_impurity_split=None,\n",
       "             min_samples_leaf=1, min_samples_split=2,\n",
       "             min_weight_fraction_leaf=0.0, presort=False,\n",
       "             random_state=1791095845, splitter='best'),\n",
       " DecisionTreeClassifier(class_weight=None, criterion='gini', max_depth=4,\n",
       "             max_features=32, max_leaf_nodes=None,\n",
       "             min_impurity_decrease=0.0, min_impurity_split=None,\n",
       "             min_samples_leaf=1, min_samples_split=2,\n",
       "             min_weight_fraction_leaf=0.0, presort=False,\n",
       "             random_state=2135392491, splitter='best'),\n",
       " DecisionTreeClassifier(class_weight=None, criterion='gini', max_depth=4,\n",
       "             max_features=32, max_leaf_nodes=None,\n",
       "             min_impurity_decrease=0.0, min_impurity_split=None,\n",
       "             min_samples_leaf=1, min_samples_split=2,\n",
       "             min_weight_fraction_leaf=0.0, presort=False,\n",
       "             random_state=946286476, splitter='best'),\n",
       " DecisionTreeClassifier(class_weight=None, criterion='gini', max_depth=4,\n",
       "             max_features=32, max_leaf_nodes=None,\n",
       "             min_impurity_decrease=0.0, min_impurity_split=None,\n",
       "             min_samples_leaf=1, min_samples_split=2,\n",
       "             min_weight_fraction_leaf=0.0, presort=False,\n",
       "             random_state=1857819720, splitter='best'),\n",
       " DecisionTreeClassifier(class_weight=None, criterion='gini', max_depth=4,\n",
       "             max_features=32, max_leaf_nodes=None,\n",
       "             min_impurity_decrease=0.0, min_impurity_split=None,\n",
       "             min_samples_leaf=1, min_samples_split=2,\n",
       "             min_weight_fraction_leaf=0.0, presort=False,\n",
       "             random_state=491263, splitter='best')]"
      ]
     },
     "execution_count": 12,
     "metadata": {},
     "output_type": "execute_result"
    }
   ],
   "source": [
    "model.estimators_"
   ]
  },
  {
   "cell_type": "code",
   "execution_count": null,
   "metadata": {},
   "outputs": [],
   "source": []
  },
  {
   "cell_type": "code",
   "execution_count": 13,
   "metadata": {},
   "outputs": [],
   "source": [
    "# from sklearn.tree import export_graphviz\n",
    "\n",
    "# for est,i in zip(model.estimators_,range(5)):\n",
    "#     export_graphviz(est, out_file='tree{}.dot'.format(i), filled=True)"
   ]
  },
  {
   "cell_type": "code",
   "execution_count": 14,
   "metadata": {},
   "outputs": [],
   "source": [
    "# !dot -Tpng 'tree0.dot' -o 'tree0.png'"
   ]
  },
  {
   "cell_type": "code",
   "execution_count": null,
   "metadata": {},
   "outputs": [],
   "source": []
  },
  {
   "cell_type": "code",
   "execution_count": null,
   "metadata": {},
   "outputs": [],
   "source": []
  },
  {
   "cell_type": "code",
   "execution_count": null,
   "metadata": {},
   "outputs": [],
   "source": []
  },
  {
   "cell_type": "markdown",
   "metadata": {},
   "source": [
    "### 4.1. Параметры Случайного леса: число деревьев"
   ]
  },
  {
   "cell_type": "code",
   "execution_count": null,
   "metadata": {},
   "outputs": [],
   "source": []
  },
  {
   "cell_type": "code",
   "execution_count": 15,
   "metadata": {},
   "outputs": [
    {
     "data": {
      "text/plain": [
       "(1203, 64)"
      ]
     },
     "execution_count": 15,
     "metadata": {},
     "output_type": "execute_result"
    }
   ],
   "source": [
    "X_train.shape"
   ]
  },
  {
   "cell_type": "code",
   "execution_count": 16,
   "metadata": {},
   "outputs": [
    {
     "data": {
      "text/plain": [
       "(594, 64)"
      ]
     },
     "execution_count": 16,
     "metadata": {},
     "output_type": "execute_result"
    }
   ],
   "source": [
    "X_test.shape"
   ]
  },
  {
   "cell_type": "code",
   "execution_count": 17,
   "metadata": {},
   "outputs": [
    {
     "data": {
      "application/vnd.jupyter.widget-view+json": {
       "model_id": "688aa5b2412946d9af517b814f8d9902",
       "version_major": 2,
       "version_minor": 0
      },
      "text/plain": [
       "HBox(children=(IntProgress(value=0, max=50), HTML(value='')))"
      ]
     },
     "metadata": {},
     "output_type": "display_data"
    },
    {
     "name": "stdout",
     "output_type": "stream",
     "text": [
      "\n"
     ]
    }
   ],
   "source": [
    "acc_train = []\n",
    "acc_test = []\n",
    "\n",
    "for n in tqdm_notebook(range(1,100,2)):\n",
    "    \n",
    "    model = RandomForestClassifier(n_estimators=n,\n",
    "                                   max_features=4,\n",
    "                                   max_depth=2,\n",
    "                                   random_state=1, n_jobs=-1) \n",
    "    model.fit(X_train, y_train)\n",
    "    \n",
    "    y_pred = model.predict(X_test)\n",
    "\n",
    "    acc_train.append(accuracy_score(y_train, model.predict(X_train)))\n",
    "    acc_test.append(accuracy_score(y_test, y_pred))"
   ]
  },
  {
   "cell_type": "code",
   "execution_count": 18,
   "metadata": {},
   "outputs": [
    {
     "data": {
      "image/png": "[encoded data removed]",
      "text/plain": [
       "<Figure size 720x360 with 1 Axes>"
      ]
     },
     "metadata": {
      "needs_background": "light"
     },
     "output_type": "display_data"
    }
   ],
   "source": [
    "plt.rc('font', **{'size':20})\n",
    "\n",
    "plt.figure(figsize=(10,5))\n",
    "plt.plot(list(range(1,100,2)), 1-np.array(acc_train), c='r', label='Train error')\n",
    "plt.plot(list(range(1,100,2)), 1-np.array(acc_test), c='b', label='Test error')\n",
    "plt.xlabel('Число деревьев')\n",
    "plt.ylabel('Ошибка предсказания')\n",
    "plt.legend();"
   ]
  },
  {
   "cell_type": "code",
   "execution_count": null,
   "metadata": {},
   "outputs": [],
   "source": []
  },
  {
   "cell_type": "markdown",
   "metadata": {},
   "source": [
    "### 4.2. Параметры Случайного леса: глубина дерева"
   ]
  },
  {
   "cell_type": "code",
   "execution_count": 23,
   "metadata": {},
   "outputs": [
    {
     "data": {
      "application/vnd.jupyter.widget-view+json": {
       "model_id": "2b8a7a3e0b304336b9d01d196b9a4eff",
       "version_major": 2,
       "version_minor": 0
      },
      "text/plain": [
       "HBox(children=(IntProgress(value=0, max=19), HTML(value='')))"
      ]
     },
     "metadata": {},
     "output_type": "display_data"
    },
    {
     "name": "stdout",
     "output_type": "stream",
     "text": [
      "\n"
     ]
    }
   ],
   "source": [
    "acc_train = []\n",
    "acc_test = []\n",
    "\n",
    "for n in tqdm_notebook(range(1,20,1)):\n",
    "    \n",
    "    model = RandomForestClassifier(n_estimators=5,\n",
    "                                   max_features=4,\n",
    "                                   max_depth=n,\n",
    "                                   random_state=1, n_jobs=-1) \n",
    "    model.fit(X_train, y_train)\n",
    "    \n",
    "    y_pred = model.predict(X_test)\n",
    "\n",
    "    acc_train.append(accuracy_score(y_train, model.predict(X_train)))\n",
    "    acc_test.append(accuracy_score(y_test, y_pred))"
   ]
  },
  {
   "cell_type": "code",
   "execution_count": 24,
   "metadata": {},
   "outputs": [
    {
     "data": {
      "image/png": "[encoded data removed]",
      "text/plain": [
       "<Figure size 720x360 with 1 Axes>"
      ]
     },
     "metadata": {
      "needs_background": "light"
     },
     "output_type": "display_data"
    }
   ],
   "source": [
    "plt.figure(figsize=(10,5))\n",
    "plt.plot(list(range(1,20,1)), 1-np.array(acc_train), c='r', label='Train error')\n",
    "plt.plot(list(range(1,20,1)), 1-np.array(acc_test), c='b', label='Test error')\n",
    "plt.xlabel('Глубина дерева (Tree depth)')\n",
    "plt.ylabel('Ошибка предсказания')\n",
    "plt.legend();"
   ]
  },
  {
   "cell_type": "code",
   "execution_count": null,
   "metadata": {},
   "outputs": [],
   "source": []
  },
  {
   "cell_type": "markdown",
   "metadata": {},
   "source": [
    "### 4.3. Параметры Случайного леса: количество признаков"
   ]
  },
  {
   "cell_type": "code",
   "execution_count": null,
   "metadata": {},
   "outputs": [],
   "source": []
  },
  {
   "cell_type": "code",
   "execution_count": 21,
   "metadata": {},
   "outputs": [
    {
     "data": {
      "application/vnd.jupyter.widget-view+json": {
       "model_id": "c429423f81ae48579b9b4d3ce33e325a",
       "version_major": 2,
       "version_minor": 0
      },
      "text/plain": [
       "HBox(children=(IntProgress(value=0, max=63), HTML(value='')))"
      ]
     },
     "metadata": {},
     "output_type": "display_data"
    },
    {
     "name": "stdout",
     "output_type": "stream",
     "text": [
      "\n"
     ]
    }
   ],
   "source": [
    "acc_train = []\n",
    "acc_test = []\n",
    "\n",
    "for n in tqdm_notebook(range(1,64)):\n",
    "    \n",
    "    model = RandomForestClassifier(n_estimators=15,\n",
    "                                   max_features=n,\n",
    "                                   max_depth=2,\n",
    "                                   random_state=1, n_jobs=-1) \n",
    "    model.fit(X_train, y_train)\n",
    "    \n",
    "    y_pred = model.predict(X_test)\n",
    "\n",
    "    acc_train.append(accuracy_score(y_train, model.predict(X_train)))\n",
    "    acc_test.append(accuracy_score(y_test, y_pred))"
   ]
  },
  {
   "cell_type": "code",
   "execution_count": 32,
   "metadata": {},
   "outputs": [
    {
     "data": {
      "image/png": "[encoded data removed]",
      "text/plain": [
       "<Figure size 720x360 with 1 Axes>"
      ]
     },
     "metadata": {
      "needs_background": "light"
     },
     "output_type": "display_data"
    }
   ],
   "source": [
    "plt.figure(figsize=(10,5))\n",
    "plt.plot(list(range(1,64)), 1-np.array(acc_train), c='r', label='Train error')\n",
    "plt.plot(list(range(1,64)), 1-np.array(acc_test), c='b', label='Test error')\n",
    "\n",
    "plt.legend();"
   ]
  },
  {
   "cell_type": "code",
   "execution_count": null,
   "metadata": {},
   "outputs": [],
   "source": []
  },
  {
   "cell_type": "code",
   "execution_count": null,
   "metadata": {},
   "outputs": [],
   "source": []
  },
  {
   "cell_type": "markdown",
   "metadata": {},
   "source": [
    "## Деревья на случайных признаках\n",
    "\n",
    "выбор признака в узле с вероятностью, зачем?"
   ]
  },
  {
   "cell_type": "markdown",
   "metadata": {},
   "source": [
    "Ответ- помогает сильно скорелированным признакам\n",
    "получить +- одинаковый вес (если брать аргмакс то какой то признак может сильно просесть)"
   ]
  },
  {
   "cell_type": "code",
   "execution_count": null,
   "metadata": {},
   "outputs": [],
   "source": []
  },
  {
   "cell_type": "code",
   "execution_count": null,
   "metadata": {},
   "outputs": [],
   "source": [
    "from sklearn.ensemble import ExtraTreesClassifier"
   ]
  },
  {
   "cell_type": "code",
   "execution_count": null,
   "metadata": {},
   "outputs": [],
   "source": [
    "X_train, X_test, y_train, y_test = train_test_split(X, y, test_size=0.33, random_state=1)\n",
    "\n",
    "model = ExtraTreesClassifier(n_estimators=5, max_features=4, max_depth=2, random_state=1, bootstrap=True) \n",
    "\n",
    "model.fit(X_train, y_train)\n",
    "y_pred = model.predict(X_test)\n",
    "\n",
    "print(accuracy_score(y_test, y_pred))"
   ]
  },
  {
   "cell_type": "code",
   "execution_count": null,
   "metadata": {},
   "outputs": [],
   "source": []
  }
 ],
 "metadata": {
  "kernelspec": {
   "display_name": "Python 3",
   "language": "python",
   "name": "python3"
  },
  "language_info": {
   "codemirror_mode": {
    "name": "ipython",
    "version": 3
   },
   "file_extension": ".py",
   "mimetype": "text/x-python",
   "name": "python",
   "nbconvert_exporter": "python",
   "pygments_lexer": "ipython3",
   "version": "3.8.8"
  }
 },
 "nbformat": 4,
 "nbformat_minor": 2
}
