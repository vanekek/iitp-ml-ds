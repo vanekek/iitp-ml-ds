{
  "cells": [
    {
      "cell_type": "markdown",
      "id": "f43bb357",
      "metadata": {
        "id": "f43bb357"
      },
      "source": [
        "# Решающее дерево для задачи регрессии\n",
        "\n",
        "\n",
        "Ваше домашнее задание состоит из 2 частей, задания 1-3 включают в себя имплементацию алгоритма Решающего дерева для задачи регрессии, в задании 4 необходимо применить метод решающего дерева к набору данных стоимости квартир.\n",
        "\n",
        "# 1. Починить имплементацию решающего дерева\n",
        "\n",
        "Ниже представлена имплементация алгоритма Решающего дерева для задачи регрессии и пример запуска. В качестве критерия остановки выступает максимальная глубина дерева и минимальное количество наблюдений в листе.\n",
        "\n",
        "Вам необходимо внести несколько изменений:\n",
        "\n",
        "    1.1  Сейчас min_samples_leaf не используется, таким образом в листах дерева может оказаться произвольное количество наблюдений, вам необходимо это починить.\n",
        "    1.2 Для удобства отслеживания числа наблюдений в каждом узле добавьте поле \"support\" (количество наблюдейний в текущем узле) в словарь `self.tree`."
      ]
    },
    {
      "cell_type": "code",
      "execution_count": 1,
      "id": "6d12334b",
      "metadata": {
        "id": "6d12334b"
      },
      "outputs": [],
      "source": [
        "import numpy as np\n",
        "\n",
        "class DecisionTreeRegressor:\n",
        "    def __init__(self, max_depth, min_samples_leaf):\n",
        "        \"\"\"\n",
        "        max_depth, int - максимальная глубина дерева\n",
        "        min_samples_leaf, int - минимальное количество наблюдений в листе\n",
        "        \"\"\"\n",
        "        self.max_depth = max_depth\n",
        "        self.min_samples_leaf = min_samples_leaf\n",
        "        self.tree = None\n",
        "        \n",
        "    def _split_data(self, X, y, feature_index, threshold):\n",
        "        left_mask = X[:, feature_index] <= threshold\n",
        "        right_mask = X[:, feature_index] > threshold\n",
        "        X_left, y_left = X[left_mask], y[left_mask]\n",
        "        X_right, y_right = X[right_mask], y[right_mask]\n",
        "        return X_left, y_left, X_right, y_right\n",
        "    \n",
        "    def _mse(self, y):\n",
        "        return np.mean((y - np.mean(y))**2)\n",
        "    \n",
        "    def _best_split(self, X, y):\n",
        "        best_feature_index, best_threshold = None, None\n",
        "        best_mse = float('inf')\n",
        "        n_features = X.shape[1]\n",
        "        for feature_index in range(n_features):\n",
        "            feature_values = X[:, feature_index]\n",
        "            thresholds = np.unique(feature_values)\n",
        "            for threshold in thresholds:\n",
        "                X_left, y_left, X_right, y_right = self._split_data(X, y, feature_index, threshold)\n",
        "                mse_left = self._mse(y_left)\n",
        "                mse_right = self._mse(y_right)\n",
        "                mse_split = (len(y_left) * mse_left + len(y_right) * mse_right) / len(y)\n",
        "                if mse_split < best_mse:\n",
        "                    best_mse = mse_split\n",
        "                    best_feature_index = feature_index\n",
        "                    best_threshold = threshold\n",
        "        return best_feature_index, best_threshold\n",
        "    \n",
        "    def _build_tree(self, X, y, depth):\n",
        "        if depth == self.max_depth:\n",
        "            return np.mean(y)\n",
        "        feature_index, threshold = self._best_split(X, y)\n",
        "        if feature_index is None:\n",
        "            return np.mean(y)\n",
        "        X_left, y_left, X_right, y_right = self._split_data(X, y, feature_index, threshold)\n",
        "        #Stop, if number of samples in nodes after split is too small#\n",
        "        if y_left.shape[0] < self.min_samples_leaf or y_right.shape[0] < self.min_samples_leaf :\n",
        "          return np.mean(y)\n",
        "        tree = {\n",
        "            'feature_index': feature_index,\n",
        "            'threshold': threshold\n",
        "        }\n",
        "        tree['left'] = self._build_tree(X_left, y_left, depth + 1)\n",
        "        tree['right'] = self._build_tree(X_right, y_right, depth + 1)\n",
        "        #Adding support attribute#\n",
        "        tree['support'] = X.shape[0]\n",
        "        return tree\n",
        "    \n",
        "    def fit(self, X, y):\n",
        "        self.tree = self._build_tree(X, y, depth=0)\n",
        "    \n",
        "    def _predict_one(self, tree, x):\n",
        "        if isinstance(tree, float):\n",
        "            return tree\n",
        "        feature_index, threshold = tree['feature_index'], tree['threshold']\n",
        "        if x[feature_index] <= threshold:\n",
        "            return self._predict_one(tree['left'], x)\n",
        "        else:\n",
        "            return self._predict_one(tree['right'], x)\n",
        "        \n",
        "    def predict(self, X):\n",
        "        predictions = []\n",
        "        for x in X:\n",
        "            prediction = self._predict_one(self.tree, x)\n",
        "            predictions.append(prediction)\n",
        "        return np.array(predictions)"
      ]
    },
    {
      "cell_type": "code",
      "execution_count": 2,
      "id": "da72439f",
      "metadata": {
        "id": "da72439f"
      },
      "outputs": [],
      "source": [
        "dt = DecisionTreeRegressor(3, 50)"
      ]
    },
    {
      "cell_type": "code",
      "execution_count": 3,
      "id": "b3dc5dfa",
      "metadata": {
        "id": "b3dc5dfa"
      },
      "outputs": [],
      "source": [
        "from sklearn.datasets import fetch_openml"
      ]
    },
    {
      "cell_type": "code",
      "execution_count": 9,
      "id": "c3770af0",
      "metadata": {
        "colab": {
          "base_uri": "https://localhost:8080/"
        },
        "id": "c3770af0",
        "outputId": "29fdb771-58e0-4717-c231-c4241e196fdf"
      },
      "outputs": [
        {
          "output_type": "stream",
          "name": "stderr",
          "text": [
            "/usr/local/lib/python3.9/dist-packages/sklearn/datasets/_openml.py:968: FutureWarning: The default value of `parser` will change from `'liac-arff'` to `'auto'` in 1.4. You can set `parser='auto'` to silence this warning. Therefore, an `ImportError` will be raised from 1.4 if the dataset is dense and pandas is not installed. Note that the pandas parser may return different data types. See the Notes Section in fetch_openml's API doc for details.\n",
            "  warn(\n"
          ]
        }
      ],
      "source": [
        "X, y = fetch_openml(name=\"house_prices\", as_frame=True, return_X_y=True)\n",
        "X = X.dropna(axis=1)\n",
        "X = X.loc[:, X.dtypes == 'int64']\n",
        "X.drop('Id', axis=1, inplace=True)"
      ]
    },
    {
      "cell_type": "code",
      "source": [
        "X"
      ],
      "metadata": {
        "colab": {
          "base_uri": "https://localhost:8080/",
          "height": 487
        },
        "id": "5vo7jy9yYrVF",
        "outputId": "a98d21ea-7736-4c5e-91fb-8e6d7a9a2d2a"
      },
      "id": "5vo7jy9yYrVF",
      "execution_count": 10,
      "outputs": [
        {
          "output_type": "execute_result",
          "data": {
            "text/plain": [
              "      MSSubClass  LotArea  OverallQual  OverallCond  YearBuilt  YearRemodAdd  \\\n",
              "0             60     8450            7            5       2003          2003   \n",
              "1             20     9600            6            8       1976          1976   \n",
              "2             60    11250            7            5       2001          2002   \n",
              "3             70     9550            7            5       1915          1970   \n",
              "4             60    14260            8            5       2000          2000   \n",
              "...          ...      ...          ...          ...        ...           ...   \n",
              "1455          60     7917            6            5       1999          2000   \n",
              "1456          20    13175            6            6       1978          1988   \n",
              "1457          70     9042            7            9       1941          2006   \n",
              "1458          20     9717            5            6       1950          1996   \n",
              "1459          20     9937            5            6       1965          1965   \n",
              "\n",
              "      BsmtFinSF1  BsmtFinSF2  BsmtUnfSF  TotalBsmtSF  ...  GarageArea  \\\n",
              "0            706           0        150          856  ...         548   \n",
              "1            978           0        284         1262  ...         460   \n",
              "2            486           0        434          920  ...         608   \n",
              "3            216           0        540          756  ...         642   \n",
              "4            655           0        490         1145  ...         836   \n",
              "...          ...         ...        ...          ...  ...         ...   \n",
              "1455           0           0        953          953  ...         460   \n",
              "1456         790         163        589         1542  ...         500   \n",
              "1457         275           0        877         1152  ...         252   \n",
              "1458          49        1029          0         1078  ...         240   \n",
              "1459         830         290        136         1256  ...         276   \n",
              "\n",
              "      WoodDeckSF  OpenPorchSF  EnclosedPorch  3SsnPorch  ScreenPorch  \\\n",
              "0              0           61              0          0            0   \n",
              "1            298            0              0          0            0   \n",
              "2              0           42              0          0            0   \n",
              "3              0           35            272          0            0   \n",
              "4            192           84              0          0            0   \n",
              "...          ...          ...            ...        ...          ...   \n",
              "1455           0           40              0          0            0   \n",
              "1456         349            0              0          0            0   \n",
              "1457           0           60              0          0            0   \n",
              "1458         366            0            112          0            0   \n",
              "1459         736           68              0          0            0   \n",
              "\n",
              "      PoolArea  MiscVal  MoSold  YrSold  \n",
              "0            0        0       2    2008  \n",
              "1            0        0       5    2007  \n",
              "2            0        0       9    2008  \n",
              "3            0        0       2    2006  \n",
              "4            0        0      12    2008  \n",
              "...        ...      ...     ...     ...  \n",
              "1455         0        0       8    2007  \n",
              "1456         0        0       2    2010  \n",
              "1457         0     2500       5    2010  \n",
              "1458         0        0       4    2010  \n",
              "1459         0        0       6    2008  \n",
              "\n",
              "[1460 rows x 33 columns]"
            ],
            "text/html": [
              "\n",
              "  <div id=\"df-5db837df-a371-48a6-8607-eb42ac4e8253\">\n",
              "    <div class=\"colab-df-container\">\n",
              "      <div>\n",
              "<style scoped>\n",
              "    .dataframe tbody tr th:only-of-type {\n",
              "        vertical-align: middle;\n",
              "    }\n",
              "\n",
              "    .dataframe tbody tr th {\n",
              "        vertical-align: top;\n",
              "    }\n",
              "\n",
              "    .dataframe thead th {\n",
              "        text-align: right;\n",
              "    }\n",
              "</style>\n",
              "<table border=\"1\" class=\"dataframe\">\n",
              "  <thead>\n",
              "    <tr style=\"text-align: right;\">\n",
              "      <th></th>\n",
              "      <th>MSSubClass</th>\n",
              "      <th>LotArea</th>\n",
              "      <th>OverallQual</th>\n",
              "      <th>OverallCond</th>\n",
              "      <th>YearBuilt</th>\n",
              "      <th>YearRemodAdd</th>\n",
              "      <th>BsmtFinSF1</th>\n",
              "      <th>BsmtFinSF2</th>\n",
              "      <th>BsmtUnfSF</th>\n",
              "      <th>TotalBsmtSF</th>\n",
              "      <th>...</th>\n",
              "      <th>GarageArea</th>\n",
              "      <th>WoodDeckSF</th>\n",
              "      <th>OpenPorchSF</th>\n",
              "      <th>EnclosedPorch</th>\n",
              "      <th>3SsnPorch</th>\n",
              "      <th>ScreenPorch</th>\n",
              "      <th>PoolArea</th>\n",
              "      <th>MiscVal</th>\n",
              "      <th>MoSold</th>\n",
              "      <th>YrSold</th>\n",
              "    </tr>\n",
              "  </thead>\n",
              "  <tbody>\n",
              "    <tr>\n",
              "      <th>0</th>\n",
              "      <td>60</td>\n",
              "      <td>8450</td>\n",
              "      <td>7</td>\n",
              "      <td>5</td>\n",
              "      <td>2003</td>\n",
              "      <td>2003</td>\n",
              "      <td>706</td>\n",
              "      <td>0</td>\n",
              "      <td>150</td>\n",
              "      <td>856</td>\n",
              "      <td>...</td>\n",
              "      <td>548</td>\n",
              "      <td>0</td>\n",
              "      <td>61</td>\n",
              "      <td>0</td>\n",
              "      <td>0</td>\n",
              "      <td>0</td>\n",
              "      <td>0</td>\n",
              "      <td>0</td>\n",
              "      <td>2</td>\n",
              "      <td>2008</td>\n",
              "    </tr>\n",
              "    <tr>\n",
              "      <th>1</th>\n",
              "      <td>20</td>\n",
              "      <td>9600</td>\n",
              "      <td>6</td>\n",
              "      <td>8</td>\n",
              "      <td>1976</td>\n",
              "      <td>1976</td>\n",
              "      <td>978</td>\n",
              "      <td>0</td>\n",
              "      <td>284</td>\n",
              "      <td>1262</td>\n",
              "      <td>...</td>\n",
              "      <td>460</td>\n",
              "      <td>298</td>\n",
              "      <td>0</td>\n",
              "      <td>0</td>\n",
              "      <td>0</td>\n",
              "      <td>0</td>\n",
              "      <td>0</td>\n",
              "      <td>0</td>\n",
              "      <td>5</td>\n",
              "      <td>2007</td>\n",
              "    </tr>\n",
              "    <tr>\n",
              "      <th>2</th>\n",
              "      <td>60</td>\n",
              "      <td>11250</td>\n",
              "      <td>7</td>\n",
              "      <td>5</td>\n",
              "      <td>2001</td>\n",
              "      <td>2002</td>\n",
              "      <td>486</td>\n",
              "      <td>0</td>\n",
              "      <td>434</td>\n",
              "      <td>920</td>\n",
              "      <td>...</td>\n",
              "      <td>608</td>\n",
              "      <td>0</td>\n",
              "      <td>42</td>\n",
              "      <td>0</td>\n",
              "      <td>0</td>\n",
              "      <td>0</td>\n",
              "      <td>0</td>\n",
              "      <td>0</td>\n",
              "      <td>9</td>\n",
              "      <td>2008</td>\n",
              "    </tr>\n",
              "    <tr>\n",
              "      <th>3</th>\n",
              "      <td>70</td>\n",
              "      <td>9550</td>\n",
              "      <td>7</td>\n",
              "      <td>5</td>\n",
              "      <td>1915</td>\n",
              "      <td>1970</td>\n",
              "      <td>216</td>\n",
              "      <td>0</td>\n",
              "      <td>540</td>\n",
              "      <td>756</td>\n",
              "      <td>...</td>\n",
              "      <td>642</td>\n",
              "      <td>0</td>\n",
              "      <td>35</td>\n",
              "      <td>272</td>\n",
              "      <td>0</td>\n",
              "      <td>0</td>\n",
              "      <td>0</td>\n",
              "      <td>0</td>\n",
              "      <td>2</td>\n",
              "      <td>2006</td>\n",
              "    </tr>\n",
              "    <tr>\n",
              "      <th>4</th>\n",
              "      <td>60</td>\n",
              "      <td>14260</td>\n",
              "      <td>8</td>\n",
              "      <td>5</td>\n",
              "      <td>2000</td>\n",
              "      <td>2000</td>\n",
              "      <td>655</td>\n",
              "      <td>0</td>\n",
              "      <td>490</td>\n",
              "      <td>1145</td>\n",
              "      <td>...</td>\n",
              "      <td>836</td>\n",
              "      <td>192</td>\n",
              "      <td>84</td>\n",
              "      <td>0</td>\n",
              "      <td>0</td>\n",
              "      <td>0</td>\n",
              "      <td>0</td>\n",
              "      <td>0</td>\n",
              "      <td>12</td>\n",
              "      <td>2008</td>\n",
              "    </tr>\n",
              "    <tr>\n",
              "      <th>...</th>\n",
              "      <td>...</td>\n",
              "      <td>...</td>\n",
              "      <td>...</td>\n",
              "      <td>...</td>\n",
              "      <td>...</td>\n",
              "      <td>...</td>\n",
              "      <td>...</td>\n",
              "      <td>...</td>\n",
              "      <td>...</td>\n",
              "      <td>...</td>\n",
              "      <td>...</td>\n",
              "      <td>...</td>\n",
              "      <td>...</td>\n",
              "      <td>...</td>\n",
              "      <td>...</td>\n",
              "      <td>...</td>\n",
              "      <td>...</td>\n",
              "      <td>...</td>\n",
              "      <td>...</td>\n",
              "      <td>...</td>\n",
              "      <td>...</td>\n",
              "    </tr>\n",
              "    <tr>\n",
              "      <th>1455</th>\n",
              "      <td>60</td>\n",
              "      <td>7917</td>\n",
              "      <td>6</td>\n",
              "      <td>5</td>\n",
              "      <td>1999</td>\n",
              "      <td>2000</td>\n",
              "      <td>0</td>\n",
              "      <td>0</td>\n",
              "      <td>953</td>\n",
              "      <td>953</td>\n",
              "      <td>...</td>\n",
              "      <td>460</td>\n",
              "      <td>0</td>\n",
              "      <td>40</td>\n",
              "      <td>0</td>\n",
              "      <td>0</td>\n",
              "      <td>0</td>\n",
              "      <td>0</td>\n",
              "      <td>0</td>\n",
              "      <td>8</td>\n",
              "      <td>2007</td>\n",
              "    </tr>\n",
              "    <tr>\n",
              "      <th>1456</th>\n",
              "      <td>20</td>\n",
              "      <td>13175</td>\n",
              "      <td>6</td>\n",
              "      <td>6</td>\n",
              "      <td>1978</td>\n",
              "      <td>1988</td>\n",
              "      <td>790</td>\n",
              "      <td>163</td>\n",
              "      <td>589</td>\n",
              "      <td>1542</td>\n",
              "      <td>...</td>\n",
              "      <td>500</td>\n",
              "      <td>349</td>\n",
              "      <td>0</td>\n",
              "      <td>0</td>\n",
              "      <td>0</td>\n",
              "      <td>0</td>\n",
              "      <td>0</td>\n",
              "      <td>0</td>\n",
              "      <td>2</td>\n",
              "      <td>2010</td>\n",
              "    </tr>\n",
              "    <tr>\n",
              "      <th>1457</th>\n",
              "      <td>70</td>\n",
              "      <td>9042</td>\n",
              "      <td>7</td>\n",
              "      <td>9</td>\n",
              "      <td>1941</td>\n",
              "      <td>2006</td>\n",
              "      <td>275</td>\n",
              "      <td>0</td>\n",
              "      <td>877</td>\n",
              "      <td>1152</td>\n",
              "      <td>...</td>\n",
              "      <td>252</td>\n",
              "      <td>0</td>\n",
              "      <td>60</td>\n",
              "      <td>0</td>\n",
              "      <td>0</td>\n",
              "      <td>0</td>\n",
              "      <td>0</td>\n",
              "      <td>2500</td>\n",
              "      <td>5</td>\n",
              "      <td>2010</td>\n",
              "    </tr>\n",
              "    <tr>\n",
              "      <th>1458</th>\n",
              "      <td>20</td>\n",
              "      <td>9717</td>\n",
              "      <td>5</td>\n",
              "      <td>6</td>\n",
              "      <td>1950</td>\n",
              "      <td>1996</td>\n",
              "      <td>49</td>\n",
              "      <td>1029</td>\n",
              "      <td>0</td>\n",
              "      <td>1078</td>\n",
              "      <td>...</td>\n",
              "      <td>240</td>\n",
              "      <td>366</td>\n",
              "      <td>0</td>\n",
              "      <td>112</td>\n",
              "      <td>0</td>\n",
              "      <td>0</td>\n",
              "      <td>0</td>\n",
              "      <td>0</td>\n",
              "      <td>4</td>\n",
              "      <td>2010</td>\n",
              "    </tr>\n",
              "    <tr>\n",
              "      <th>1459</th>\n",
              "      <td>20</td>\n",
              "      <td>9937</td>\n",
              "      <td>5</td>\n",
              "      <td>6</td>\n",
              "      <td>1965</td>\n",
              "      <td>1965</td>\n",
              "      <td>830</td>\n",
              "      <td>290</td>\n",
              "      <td>136</td>\n",
              "      <td>1256</td>\n",
              "      <td>...</td>\n",
              "      <td>276</td>\n",
              "      <td>736</td>\n",
              "      <td>68</td>\n",
              "      <td>0</td>\n",
              "      <td>0</td>\n",
              "      <td>0</td>\n",
              "      <td>0</td>\n",
              "      <td>0</td>\n",
              "      <td>6</td>\n",
              "      <td>2008</td>\n",
              "    </tr>\n",
              "  </tbody>\n",
              "</table>\n",
              "<p>1460 rows × 33 columns</p>\n",
              "</div>\n",
              "      <button class=\"colab-df-convert\" onclick=\"convertToInteractive('df-5db837df-a371-48a6-8607-eb42ac4e8253')\"\n",
              "              title=\"Convert this dataframe to an interactive table.\"\n",
              "              style=\"display:none;\">\n",
              "        \n",
              "  <svg xmlns=\"http://www.w3.org/2000/svg\" height=\"24px\"viewBox=\"0 0 24 24\"\n",
              "       width=\"24px\">\n",
              "    <path d=\"M0 0h24v24H0V0z\" fill=\"none\"/>\n",
              "    <path d=\"M18.56 5.44l.94 2.06.94-2.06 2.06-.94-2.06-.94-.94-2.06-.94 2.06-2.06.94zm-11 1L8.5 8.5l.94-2.06 2.06-.94-2.06-.94L8.5 2.5l-.94 2.06-2.06.94zm10 10l.94 2.06.94-2.06 2.06-.94-2.06-.94-.94-2.06-.94 2.06-2.06.94z\"/><path d=\"M17.41 7.96l-1.37-1.37c-.4-.4-.92-.59-1.43-.59-.52 0-1.04.2-1.43.59L10.3 9.45l-7.72 7.72c-.78.78-.78 2.05 0 2.83L4 21.41c.39.39.9.59 1.41.59.51 0 1.02-.2 1.41-.59l7.78-7.78 2.81-2.81c.8-.78.8-2.07 0-2.86zM5.41 20L4 18.59l7.72-7.72 1.47 1.35L5.41 20z\"/>\n",
              "  </svg>\n",
              "      </button>\n",
              "      \n",
              "  <style>\n",
              "    .colab-df-container {\n",
              "      display:flex;\n",
              "      flex-wrap:wrap;\n",
              "      gap: 12px;\n",
              "    }\n",
              "\n",
              "    .colab-df-convert {\n",
              "      background-color: #E8F0FE;\n",
              "      border: none;\n",
              "      border-radius: 50%;\n",
              "      cursor: pointer;\n",
              "      display: none;\n",
              "      fill: #1967D2;\n",
              "      height: 32px;\n",
              "      padding: 0 0 0 0;\n",
              "      width: 32px;\n",
              "    }\n",
              "\n",
              "    .colab-df-convert:hover {\n",
              "      background-color: #E2EBFA;\n",
              "      box-shadow: 0px 1px 2px rgba(60, 64, 67, 0.3), 0px 1px 3px 1px rgba(60, 64, 67, 0.15);\n",
              "      fill: #174EA6;\n",
              "    }\n",
              "\n",
              "    [theme=dark] .colab-df-convert {\n",
              "      background-color: #3B4455;\n",
              "      fill: #D2E3FC;\n",
              "    }\n",
              "\n",
              "    [theme=dark] .colab-df-convert:hover {\n",
              "      background-color: #434B5C;\n",
              "      box-shadow: 0px 1px 3px 1px rgba(0, 0, 0, 0.15);\n",
              "      filter: drop-shadow(0px 1px 2px rgba(0, 0, 0, 0.3));\n",
              "      fill: #FFFFFF;\n",
              "    }\n",
              "  </style>\n",
              "\n",
              "      <script>\n",
              "        const buttonEl =\n",
              "          document.querySelector('#df-5db837df-a371-48a6-8607-eb42ac4e8253 button.colab-df-convert');\n",
              "        buttonEl.style.display =\n",
              "          google.colab.kernel.accessAllowed ? 'block' : 'none';\n",
              "\n",
              "        async function convertToInteractive(key) {\n",
              "          const element = document.querySelector('#df-5db837df-a371-48a6-8607-eb42ac4e8253');\n",
              "          const dataTable =\n",
              "            await google.colab.kernel.invokeFunction('convertToInteractive',\n",
              "                                                     [key], {});\n",
              "          if (!dataTable) return;\n",
              "\n",
              "          const docLinkHtml = 'Like what you see? Visit the ' +\n",
              "            '<a target=\"_blank\" href=https://colab.research.google.com/notebooks/data_table.ipynb>data table notebook</a>'\n",
              "            + ' to learn more about interactive tables.';\n",
              "          element.innerHTML = '';\n",
              "          dataTable['output_type'] = 'display_data';\n",
              "          await google.colab.output.renderOutput(dataTable, element);\n",
              "          const docLink = document.createElement('div');\n",
              "          docLink.innerHTML = docLinkHtml;\n",
              "          element.appendChild(docLink);\n",
              "        }\n",
              "      </script>\n",
              "    </div>\n",
              "  </div>\n",
              "  "
            ]
          },
          "metadata": {},
          "execution_count": 10
        }
      ]
    },
    {
      "cell_type": "code",
      "source": [
        "np.isinf(X).sum()"
      ],
      "metadata": {
        "colab": {
          "base_uri": "https://localhost:8080/"
        },
        "id": "RF76lko6m8p8",
        "outputId": "6c41a787-7522-44eb-de90-a9037c716f80"
      },
      "id": "RF76lko6m8p8",
      "execution_count": 62,
      "outputs": [
        {
          "output_type": "execute_result",
          "data": {
            "text/plain": [
              "MSSubClass       0\n",
              "LotArea          0\n",
              "OverallQual      0\n",
              "OverallCond      0\n",
              "YearBuilt        0\n",
              "YearRemodAdd     0\n",
              "BsmtFinSF1       0\n",
              "BsmtFinSF2       0\n",
              "BsmtUnfSF        0\n",
              "TotalBsmtSF      0\n",
              "1stFlrSF         0\n",
              "2ndFlrSF         0\n",
              "LowQualFinSF     0\n",
              "GrLivArea        0\n",
              "BsmtFullBath     0\n",
              "BsmtHalfBath     0\n",
              "FullBath         0\n",
              "HalfBath         0\n",
              "BedroomAbvGr     0\n",
              "KitchenAbvGr     0\n",
              "TotRmsAbvGrd     0\n",
              "Fireplaces       0\n",
              "GarageCars       0\n",
              "GarageArea       0\n",
              "WoodDeckSF       0\n",
              "OpenPorchSF      0\n",
              "EnclosedPorch    0\n",
              "3SsnPorch        0\n",
              "ScreenPorch      0\n",
              "PoolArea         0\n",
              "MiscVal          0\n",
              "MoSold           0\n",
              "YrSold           0\n",
              "dtype: int64"
            ]
          },
          "metadata": {},
          "execution_count": 62
        }
      ]
    },
    {
      "cell_type": "code",
      "source": [
        "X[X.columns].astype(float)"
      ],
      "metadata": {
        "colab": {
          "base_uri": "https://localhost:8080/",
          "height": 487
        },
        "id": "Mem510ZVY62i",
        "outputId": "55050b3f-887d-4f19-fbb9-93f9cb229b42"
      },
      "id": "Mem510ZVY62i",
      "execution_count": 16,
      "outputs": [
        {
          "output_type": "execute_result",
          "data": {
            "text/plain": [
              "      MSSubClass  LotArea  OverallQual  OverallCond  YearBuilt  YearRemodAdd  \\\n",
              "0           60.0   8450.0          7.0          5.0     2003.0        2003.0   \n",
              "1           20.0   9600.0          6.0          8.0     1976.0        1976.0   \n",
              "2           60.0  11250.0          7.0          5.0     2001.0        2002.0   \n",
              "3           70.0   9550.0          7.0          5.0     1915.0        1970.0   \n",
              "4           60.0  14260.0          8.0          5.0     2000.0        2000.0   \n",
              "...          ...      ...          ...          ...        ...           ...   \n",
              "1455        60.0   7917.0          6.0          5.0     1999.0        2000.0   \n",
              "1456        20.0  13175.0          6.0          6.0     1978.0        1988.0   \n",
              "1457        70.0   9042.0          7.0          9.0     1941.0        2006.0   \n",
              "1458        20.0   9717.0          5.0          6.0     1950.0        1996.0   \n",
              "1459        20.0   9937.0          5.0          6.0     1965.0        1965.0   \n",
              "\n",
              "      BsmtFinSF1  BsmtFinSF2  BsmtUnfSF  TotalBsmtSF  ...  GarageArea  \\\n",
              "0          706.0         0.0      150.0        856.0  ...       548.0   \n",
              "1          978.0         0.0      284.0       1262.0  ...       460.0   \n",
              "2          486.0         0.0      434.0        920.0  ...       608.0   \n",
              "3          216.0         0.0      540.0        756.0  ...       642.0   \n",
              "4          655.0         0.0      490.0       1145.0  ...       836.0   \n",
              "...          ...         ...        ...          ...  ...         ...   \n",
              "1455         0.0         0.0      953.0        953.0  ...       460.0   \n",
              "1456       790.0       163.0      589.0       1542.0  ...       500.0   \n",
              "1457       275.0         0.0      877.0       1152.0  ...       252.0   \n",
              "1458        49.0      1029.0        0.0       1078.0  ...       240.0   \n",
              "1459       830.0       290.0      136.0       1256.0  ...       276.0   \n",
              "\n",
              "      WoodDeckSF  OpenPorchSF  EnclosedPorch  3SsnPorch  ScreenPorch  \\\n",
              "0            0.0         61.0            0.0        0.0          0.0   \n",
              "1          298.0          0.0            0.0        0.0          0.0   \n",
              "2            0.0         42.0            0.0        0.0          0.0   \n",
              "3            0.0         35.0          272.0        0.0          0.0   \n",
              "4          192.0         84.0            0.0        0.0          0.0   \n",
              "...          ...          ...            ...        ...          ...   \n",
              "1455         0.0         40.0            0.0        0.0          0.0   \n",
              "1456       349.0          0.0            0.0        0.0          0.0   \n",
              "1457         0.0         60.0            0.0        0.0          0.0   \n",
              "1458       366.0          0.0          112.0        0.0          0.0   \n",
              "1459       736.0         68.0            0.0        0.0          0.0   \n",
              "\n",
              "      PoolArea  MiscVal  MoSold  YrSold  \n",
              "0          0.0      0.0     2.0  2008.0  \n",
              "1          0.0      0.0     5.0  2007.0  \n",
              "2          0.0      0.0     9.0  2008.0  \n",
              "3          0.0      0.0     2.0  2006.0  \n",
              "4          0.0      0.0    12.0  2008.0  \n",
              "...        ...      ...     ...     ...  \n",
              "1455       0.0      0.0     8.0  2007.0  \n",
              "1456       0.0      0.0     2.0  2010.0  \n",
              "1457       0.0   2500.0     5.0  2010.0  \n",
              "1458       0.0      0.0     4.0  2010.0  \n",
              "1459       0.0      0.0     6.0  2008.0  \n",
              "\n",
              "[1460 rows x 33 columns]"
            ],
            "text/html": [
              "\n",
              "  <div id=\"df-380d2d69-78c0-4293-a0a8-82d042a59b1e\">\n",
              "    <div class=\"colab-df-container\">\n",
              "      <div>\n",
              "<style scoped>\n",
              "    .dataframe tbody tr th:only-of-type {\n",
              "        vertical-align: middle;\n",
              "    }\n",
              "\n",
              "    .dataframe tbody tr th {\n",
              "        vertical-align: top;\n",
              "    }\n",
              "\n",
              "    .dataframe thead th {\n",
              "        text-align: right;\n",
              "    }\n",
              "</style>\n",
              "<table border=\"1\" class=\"dataframe\">\n",
              "  <thead>\n",
              "    <tr style=\"text-align: right;\">\n",
              "      <th></th>\n",
              "      <th>MSSubClass</th>\n",
              "      <th>LotArea</th>\n",
              "      <th>OverallQual</th>\n",
              "      <th>OverallCond</th>\n",
              "      <th>YearBuilt</th>\n",
              "      <th>YearRemodAdd</th>\n",
              "      <th>BsmtFinSF1</th>\n",
              "      <th>BsmtFinSF2</th>\n",
              "      <th>BsmtUnfSF</th>\n",
              "      <th>TotalBsmtSF</th>\n",
              "      <th>...</th>\n",
              "      <th>GarageArea</th>\n",
              "      <th>WoodDeckSF</th>\n",
              "      <th>OpenPorchSF</th>\n",
              "      <th>EnclosedPorch</th>\n",
              "      <th>3SsnPorch</th>\n",
              "      <th>ScreenPorch</th>\n",
              "      <th>PoolArea</th>\n",
              "      <th>MiscVal</th>\n",
              "      <th>MoSold</th>\n",
              "      <th>YrSold</th>\n",
              "    </tr>\n",
              "  </thead>\n",
              "  <tbody>\n",
              "    <tr>\n",
              "      <th>0</th>\n",
              "      <td>60.0</td>\n",
              "      <td>8450.0</td>\n",
              "      <td>7.0</td>\n",
              "      <td>5.0</td>\n",
              "      <td>2003.0</td>\n",
              "      <td>2003.0</td>\n",
              "      <td>706.0</td>\n",
              "      <td>0.0</td>\n",
              "      <td>150.0</td>\n",
              "      <td>856.0</td>\n",
              "      <td>...</td>\n",
              "      <td>548.0</td>\n",
              "      <td>0.0</td>\n",
              "      <td>61.0</td>\n",
              "      <td>0.0</td>\n",
              "      <td>0.0</td>\n",
              "      <td>0.0</td>\n",
              "      <td>0.0</td>\n",
              "      <td>0.0</td>\n",
              "      <td>2.0</td>\n",
              "      <td>2008.0</td>\n",
              "    </tr>\n",
              "    <tr>\n",
              "      <th>1</th>\n",
              "      <td>20.0</td>\n",
              "      <td>9600.0</td>\n",
              "      <td>6.0</td>\n",
              "      <td>8.0</td>\n",
              "      <td>1976.0</td>\n",
              "      <td>1976.0</td>\n",
              "      <td>978.0</td>\n",
              "      <td>0.0</td>\n",
              "      <td>284.0</td>\n",
              "      <td>1262.0</td>\n",
              "      <td>...</td>\n",
              "      <td>460.0</td>\n",
              "      <td>298.0</td>\n",
              "      <td>0.0</td>\n",
              "      <td>0.0</td>\n",
              "      <td>0.0</td>\n",
              "      <td>0.0</td>\n",
              "      <td>0.0</td>\n",
              "      <td>0.0</td>\n",
              "      <td>5.0</td>\n",
              "      <td>2007.0</td>\n",
              "    </tr>\n",
              "    <tr>\n",
              "      <th>2</th>\n",
              "      <td>60.0</td>\n",
              "      <td>11250.0</td>\n",
              "      <td>7.0</td>\n",
              "      <td>5.0</td>\n",
              "      <td>2001.0</td>\n",
              "      <td>2002.0</td>\n",
              "      <td>486.0</td>\n",
              "      <td>0.0</td>\n",
              "      <td>434.0</td>\n",
              "      <td>920.0</td>\n",
              "      <td>...</td>\n",
              "      <td>608.0</td>\n",
              "      <td>0.0</td>\n",
              "      <td>42.0</td>\n",
              "      <td>0.0</td>\n",
              "      <td>0.0</td>\n",
              "      <td>0.0</td>\n",
              "      <td>0.0</td>\n",
              "      <td>0.0</td>\n",
              "      <td>9.0</td>\n",
              "      <td>2008.0</td>\n",
              "    </tr>\n",
              "    <tr>\n",
              "      <th>3</th>\n",
              "      <td>70.0</td>\n",
              "      <td>9550.0</td>\n",
              "      <td>7.0</td>\n",
              "      <td>5.0</td>\n",
              "      <td>1915.0</td>\n",
              "      <td>1970.0</td>\n",
              "      <td>216.0</td>\n",
              "      <td>0.0</td>\n",
              "      <td>540.0</td>\n",
              "      <td>756.0</td>\n",
              "      <td>...</td>\n",
              "      <td>642.0</td>\n",
              "      <td>0.0</td>\n",
              "      <td>35.0</td>\n",
              "      <td>272.0</td>\n",
              "      <td>0.0</td>\n",
              "      <td>0.0</td>\n",
              "      <td>0.0</td>\n",
              "      <td>0.0</td>\n",
              "      <td>2.0</td>\n",
              "      <td>2006.0</td>\n",
              "    </tr>\n",
              "    <tr>\n",
              "      <th>4</th>\n",
              "      <td>60.0</td>\n",
              "      <td>14260.0</td>\n",
              "      <td>8.0</td>\n",
              "      <td>5.0</td>\n",
              "      <td>2000.0</td>\n",
              "      <td>2000.0</td>\n",
              "      <td>655.0</td>\n",
              "      <td>0.0</td>\n",
              "      <td>490.0</td>\n",
              "      <td>1145.0</td>\n",
              "      <td>...</td>\n",
              "      <td>836.0</td>\n",
              "      <td>192.0</td>\n",
              "      <td>84.0</td>\n",
              "      <td>0.0</td>\n",
              "      <td>0.0</td>\n",
              "      <td>0.0</td>\n",
              "      <td>0.0</td>\n",
              "      <td>0.0</td>\n",
              "      <td>12.0</td>\n",
              "      <td>2008.0</td>\n",
              "    </tr>\n",
              "    <tr>\n",
              "      <th>...</th>\n",
              "      <td>...</td>\n",
              "      <td>...</td>\n",
              "      <td>...</td>\n",
              "      <td>...</td>\n",
              "      <td>...</td>\n",
              "      <td>...</td>\n",
              "      <td>...</td>\n",
              "      <td>...</td>\n",
              "      <td>...</td>\n",
              "      <td>...</td>\n",
              "      <td>...</td>\n",
              "      <td>...</td>\n",
              "      <td>...</td>\n",
              "      <td>...</td>\n",
              "      <td>...</td>\n",
              "      <td>...</td>\n",
              "      <td>...</td>\n",
              "      <td>...</td>\n",
              "      <td>...</td>\n",
              "      <td>...</td>\n",
              "      <td>...</td>\n",
              "    </tr>\n",
              "    <tr>\n",
              "      <th>1455</th>\n",
              "      <td>60.0</td>\n",
              "      <td>7917.0</td>\n",
              "      <td>6.0</td>\n",
              "      <td>5.0</td>\n",
              "      <td>1999.0</td>\n",
              "      <td>2000.0</td>\n",
              "      <td>0.0</td>\n",
              "      <td>0.0</td>\n",
              "      <td>953.0</td>\n",
              "      <td>953.0</td>\n",
              "      <td>...</td>\n",
              "      <td>460.0</td>\n",
              "      <td>0.0</td>\n",
              "      <td>40.0</td>\n",
              "      <td>0.0</td>\n",
              "      <td>0.0</td>\n",
              "      <td>0.0</td>\n",
              "      <td>0.0</td>\n",
              "      <td>0.0</td>\n",
              "      <td>8.0</td>\n",
              "      <td>2007.0</td>\n",
              "    </tr>\n",
              "    <tr>\n",
              "      <th>1456</th>\n",
              "      <td>20.0</td>\n",
              "      <td>13175.0</td>\n",
              "      <td>6.0</td>\n",
              "      <td>6.0</td>\n",
              "      <td>1978.0</td>\n",
              "      <td>1988.0</td>\n",
              "      <td>790.0</td>\n",
              "      <td>163.0</td>\n",
              "      <td>589.0</td>\n",
              "      <td>1542.0</td>\n",
              "      <td>...</td>\n",
              "      <td>500.0</td>\n",
              "      <td>349.0</td>\n",
              "      <td>0.0</td>\n",
              "      <td>0.0</td>\n",
              "      <td>0.0</td>\n",
              "      <td>0.0</td>\n",
              "      <td>0.0</td>\n",
              "      <td>0.0</td>\n",
              "      <td>2.0</td>\n",
              "      <td>2010.0</td>\n",
              "    </tr>\n",
              "    <tr>\n",
              "      <th>1457</th>\n",
              "      <td>70.0</td>\n",
              "      <td>9042.0</td>\n",
              "      <td>7.0</td>\n",
              "      <td>9.0</td>\n",
              "      <td>1941.0</td>\n",
              "      <td>2006.0</td>\n",
              "      <td>275.0</td>\n",
              "      <td>0.0</td>\n",
              "      <td>877.0</td>\n",
              "      <td>1152.0</td>\n",
              "      <td>...</td>\n",
              "      <td>252.0</td>\n",
              "      <td>0.0</td>\n",
              "      <td>60.0</td>\n",
              "      <td>0.0</td>\n",
              "      <td>0.0</td>\n",
              "      <td>0.0</td>\n",
              "      <td>0.0</td>\n",
              "      <td>2500.0</td>\n",
              "      <td>5.0</td>\n",
              "      <td>2010.0</td>\n",
              "    </tr>\n",
              "    <tr>\n",
              "      <th>1458</th>\n",
              "      <td>20.0</td>\n",
              "      <td>9717.0</td>\n",
              "      <td>5.0</td>\n",
              "      <td>6.0</td>\n",
              "      <td>1950.0</td>\n",
              "      <td>1996.0</td>\n",
              "      <td>49.0</td>\n",
              "      <td>1029.0</td>\n",
              "      <td>0.0</td>\n",
              "      <td>1078.0</td>\n",
              "      <td>...</td>\n",
              "      <td>240.0</td>\n",
              "      <td>366.0</td>\n",
              "      <td>0.0</td>\n",
              "      <td>112.0</td>\n",
              "      <td>0.0</td>\n",
              "      <td>0.0</td>\n",
              "      <td>0.0</td>\n",
              "      <td>0.0</td>\n",
              "      <td>4.0</td>\n",
              "      <td>2010.0</td>\n",
              "    </tr>\n",
              "    <tr>\n",
              "      <th>1459</th>\n",
              "      <td>20.0</td>\n",
              "      <td>9937.0</td>\n",
              "      <td>5.0</td>\n",
              "      <td>6.0</td>\n",
              "      <td>1965.0</td>\n",
              "      <td>1965.0</td>\n",
              "      <td>830.0</td>\n",
              "      <td>290.0</td>\n",
              "      <td>136.0</td>\n",
              "      <td>1256.0</td>\n",
              "      <td>...</td>\n",
              "      <td>276.0</td>\n",
              "      <td>736.0</td>\n",
              "      <td>68.0</td>\n",
              "      <td>0.0</td>\n",
              "      <td>0.0</td>\n",
              "      <td>0.0</td>\n",
              "      <td>0.0</td>\n",
              "      <td>0.0</td>\n",
              "      <td>6.0</td>\n",
              "      <td>2008.0</td>\n",
              "    </tr>\n",
              "  </tbody>\n",
              "</table>\n",
              "<p>1460 rows × 33 columns</p>\n",
              "</div>\n",
              "      <button class=\"colab-df-convert\" onclick=\"convertToInteractive('df-380d2d69-78c0-4293-a0a8-82d042a59b1e')\"\n",
              "              title=\"Convert this dataframe to an interactive table.\"\n",
              "              style=\"display:none;\">\n",
              "        \n",
              "  <svg xmlns=\"http://www.w3.org/2000/svg\" height=\"24px\"viewBox=\"0 0 24 24\"\n",
              "       width=\"24px\">\n",
              "    <path d=\"M0 0h24v24H0V0z\" fill=\"none\"/>\n",
              "    <path d=\"M18.56 5.44l.94 2.06.94-2.06 2.06-.94-2.06-.94-.94-2.06-.94 2.06-2.06.94zm-11 1L8.5 8.5l.94-2.06 2.06-.94-2.06-.94L8.5 2.5l-.94 2.06-2.06.94zm10 10l.94 2.06.94-2.06 2.06-.94-2.06-.94-.94-2.06-.94 2.06-2.06.94z\"/><path d=\"M17.41 7.96l-1.37-1.37c-.4-.4-.92-.59-1.43-.59-.52 0-1.04.2-1.43.59L10.3 9.45l-7.72 7.72c-.78.78-.78 2.05 0 2.83L4 21.41c.39.39.9.59 1.41.59.51 0 1.02-.2 1.41-.59l7.78-7.78 2.81-2.81c.8-.78.8-2.07 0-2.86zM5.41 20L4 18.59l7.72-7.72 1.47 1.35L5.41 20z\"/>\n",
              "  </svg>\n",
              "      </button>\n",
              "      \n",
              "  <style>\n",
              "    .colab-df-container {\n",
              "      display:flex;\n",
              "      flex-wrap:wrap;\n",
              "      gap: 12px;\n",
              "    }\n",
              "\n",
              "    .colab-df-convert {\n",
              "      background-color: #E8F0FE;\n",
              "      border: none;\n",
              "      border-radius: 50%;\n",
              "      cursor: pointer;\n",
              "      display: none;\n",
              "      fill: #1967D2;\n",
              "      height: 32px;\n",
              "      padding: 0 0 0 0;\n",
              "      width: 32px;\n",
              "    }\n",
              "\n",
              "    .colab-df-convert:hover {\n",
              "      background-color: #E2EBFA;\n",
              "      box-shadow: 0px 1px 2px rgba(60, 64, 67, 0.3), 0px 1px 3px 1px rgba(60, 64, 67, 0.15);\n",
              "      fill: #174EA6;\n",
              "    }\n",
              "\n",
              "    [theme=dark] .colab-df-convert {\n",
              "      background-color: #3B4455;\n",
              "      fill: #D2E3FC;\n",
              "    }\n",
              "\n",
              "    [theme=dark] .colab-df-convert:hover {\n",
              "      background-color: #434B5C;\n",
              "      box-shadow: 0px 1px 3px 1px rgba(0, 0, 0, 0.15);\n",
              "      filter: drop-shadow(0px 1px 2px rgba(0, 0, 0, 0.3));\n",
              "      fill: #FFFFFF;\n",
              "    }\n",
              "  </style>\n",
              "\n",
              "      <script>\n",
              "        const buttonEl =\n",
              "          document.querySelector('#df-380d2d69-78c0-4293-a0a8-82d042a59b1e button.colab-df-convert');\n",
              "        buttonEl.style.display =\n",
              "          google.colab.kernel.accessAllowed ? 'block' : 'none';\n",
              "\n",
              "        async function convertToInteractive(key) {\n",
              "          const element = document.querySelector('#df-380d2d69-78c0-4293-a0a8-82d042a59b1e');\n",
              "          const dataTable =\n",
              "            await google.colab.kernel.invokeFunction('convertToInteractive',\n",
              "                                                     [key], {});\n",
              "          if (!dataTable) return;\n",
              "\n",
              "          const docLinkHtml = 'Like what you see? Visit the ' +\n",
              "            '<a target=\"_blank\" href=https://colab.research.google.com/notebooks/data_table.ipynb>data table notebook</a>'\n",
              "            + ' to learn more about interactive tables.';\n",
              "          element.innerHTML = '';\n",
              "          dataTable['output_type'] = 'display_data';\n",
              "          await google.colab.output.renderOutput(dataTable, element);\n",
              "          const docLink = document.createElement('div');\n",
              "          docLink.innerHTML = docLinkHtml;\n",
              "          element.appendChild(docLink);\n",
              "        }\n",
              "      </script>\n",
              "    </div>\n",
              "  </div>\n",
              "  "
            ]
          },
          "metadata": {},
          "execution_count": 16
        }
      ]
    },
    {
      "cell_type": "code",
      "execution_count": 17,
      "id": "e3071ab3",
      "metadata": {
        "colab": {
          "base_uri": "https://localhost:8080/"
        },
        "id": "e3071ab3",
        "outputId": "66b95f62-50f8-497f-c6ac-63a7994f514f"
      },
      "outputs": [
        {
          "output_type": "stream",
          "name": "stderr",
          "text": [
            "/usr/local/lib/python3.9/dist-packages/numpy/core/fromnumeric.py:3474: RuntimeWarning: Mean of empty slice.\n",
            "  return _methods._mean(a, axis=axis, dtype=dtype,\n",
            "/usr/local/lib/python3.9/dist-packages/numpy/core/_methods.py:189: RuntimeWarning: invalid value encountered in double_scalars\n",
            "  ret = ret.dtype.type(ret / rcount)\n"
          ]
        }
      ],
      "source": [
        "dt.fit(X.values, y.values)"
      ]
    },
    {
      "cell_type": "code",
      "execution_count": 18,
      "id": "f1ca4dc0",
      "metadata": {
        "colab": {
          "base_uri": "https://localhost:8080/"
        },
        "id": "f1ca4dc0",
        "outputId": "8809584a-37e3-48fe-99bf-e2140e643aab"
      },
      "outputs": [
        {
          "output_type": "execute_result",
          "data": {
            "text/plain": [
              "array([194238.74476987, 124907.77836879, 194238.74476987, 194238.74476987,\n",
              "       314894.55384615])"
            ]
          },
          "metadata": {},
          "execution_count": 18
        }
      ],
      "source": [
        "dt.predict(X.values[:5])"
      ]
    },
    {
      "cell_type": "code",
      "execution_count": 19,
      "id": "0a1a2a7d",
      "metadata": {
        "colab": {
          "base_uri": "https://localhost:8080/"
        },
        "id": "0a1a2a7d",
        "outputId": "c4dfe959-1df7-4e3b-e067-af5e7fb0d61c"
      },
      "outputs": [
        {
          "output_type": "execute_result",
          "data": {
            "text/plain": [
              "{'feature_index': 2,\n",
              " 'threshold': 7,\n",
              " 'left': {'feature_index': 2,\n",
              "  'threshold': 6,\n",
              "  'left': {'feature_index': 13,\n",
              "   'threshold': 1376,\n",
              "   'left': 124907.77836879433,\n",
              "   'right': 165466.08908045976,\n",
              "   'support': 912},\n",
              "  'right': {'feature_index': 13,\n",
              "   'threshold': 1935,\n",
              "   'left': 194238.74476987447,\n",
              "   'right': 247980.9875,\n",
              "   'support': 319},\n",
              "  'support': 1231},\n",
              " 'right': {'feature_index': 2,\n",
              "  'threshold': 8,\n",
              "  'left': {'feature_index': 13,\n",
              "   'threshold': 1970,\n",
              "   'left': 249392.46601941748,\n",
              "   'right': 314894.55384615384,\n",
              "   'support': 168},\n",
              "  'right': 388486.08196721313,\n",
              "  'support': 229},\n",
              " 'support': 1460}"
            ]
          },
          "metadata": {},
          "execution_count": 19
        }
      ],
      "source": [
        "dt.tree"
      ]
    },
    {
      "cell_type": "code",
      "execution_count": null,
      "id": "48be899e",
      "metadata": {
        "id": "48be899e"
      },
      "outputs": [],
      "source": []
    },
    {
      "cell_type": "code",
      "execution_count": null,
      "id": "e9da3c11",
      "metadata": {
        "id": "e9da3c11"
      },
      "outputs": [],
      "source": []
    },
    {
      "cell_type": "markdown",
      "id": "86f0a3f3",
      "metadata": {
        "id": "86f0a3f3"
      },
      "source": [
        "# 2. Воспользуйтесь `line_profiler` \n",
        "\n",
        "Текущая имплементация Решающего дерева работает очень медленно. Чтобы локализовать что отнимает так много времени воспользуйтесь `line_profiler`.\n",
        "\n",
        "    2.1 Что занимает больше всего времени на этапе обучения решающего дерева?\n",
        "    \n",
        "https://jakevdp.github.io/PythonDataScienceHandbook/01.07-timing-and-profiling.html"
      ]
    },
    {
      "cell_type": "code",
      "execution_count": 20,
      "id": "12d20345",
      "metadata": {
        "colab": {
          "base_uri": "https://localhost:8080/"
        },
        "id": "12d20345",
        "outputId": "dbfddba1-9bd1-4f43-a3d8-d4822fab6c54"
      },
      "outputs": [
        {
          "output_type": "stream",
          "name": "stdout",
          "text": [
            "Looking in indexes: https://pypi.org/simple, https://us-python.pkg.dev/colab-wheels/public/simple/\n",
            "Collecting line_profiler\n",
            "  Downloading line_profiler-4.0.3-cp39-cp39-manylinux_2_17_x86_64.manylinux2014_x86_64.whl (662 kB)\n",
            "\u001b[2K     \u001b[90m━━━━━━━━━━━━━━━━━━━━━━━━━━━━━━━━━━━━━━\u001b[0m \u001b[32m662.2/662.2 KB\u001b[0m \u001b[31m28.4 MB/s\u001b[0m eta \u001b[36m0:00:00\u001b[0m\n",
            "\u001b[?25hInstalling collected packages: line_profiler\n",
            "Successfully installed line_profiler-4.0.3\n"
          ]
        }
      ],
      "source": [
        "pip install line_profiler"
      ]
    },
    {
      "cell_type": "code",
      "execution_count": 21,
      "id": "65cf37dc",
      "metadata": {
        "id": "65cf37dc"
      },
      "outputs": [],
      "source": [
        "%load_ext line_profiler"
      ]
    },
    {
      "cell_type": "code",
      "execution_count": 45,
      "id": "7a45ca5e",
      "metadata": {
        "id": "7a45ca5e"
      },
      "outputs": [],
      "source": [
        "%lprun -f dt._build_tree dt._build_tree(X.values[:100], y.values[:100], 7)"
      ]
    },
    {
      "cell_type": "markdown",
      "source": [
        "Как мы видим, 99.9% времени занимает вычисление лучшего сплита в этом узле.\n"
      ],
      "metadata": {
        "id": "H9JDr9qbbmBJ"
      },
      "id": "H9JDr9qbbmBJ"
    },
    {
      "cell_type": "code",
      "source": [],
      "metadata": {
        "id": "jRSWbd84bknV"
      },
      "id": "jRSWbd84bknV",
      "execution_count": null,
      "outputs": []
    },
    {
      "cell_type": "code",
      "execution_count": null,
      "id": "8c739f9e",
      "metadata": {
        "id": "8c739f9e"
      },
      "outputs": [],
      "source": []
    },
    {
      "cell_type": "markdown",
      "id": "e11520fe",
      "metadata": {
        "id": "e11520fe"
      },
      "source": [
        "# 3. Гистограммы\n",
        "\n",
        "Вместо того чтобы перебирать все уникальные значения признака в методе `self._best_split` мы будем восстанавливать гистограмму распределения признака и перебирать только уникальные значения в бинах, см. пример:"
      ]
    },
    {
      "cell_type": "code",
      "execution_count": 23,
      "id": "fbdc85b5",
      "metadata": {
        "id": "fbdc85b5"
      },
      "outputs": [],
      "source": [
        "x = np.random.normal(0, 1, 200)"
      ]
    },
    {
      "cell_type": "code",
      "execution_count": 24,
      "id": "d428a49c",
      "metadata": {
        "colab": {
          "base_uri": "https://localhost:8080/"
        },
        "id": "d428a49c",
        "outputId": "71289045-3758-40d5-8531-1f584155b1ea"
      },
      "outputs": [
        {
          "output_type": "execute_result",
          "data": {
            "text/plain": [
              "200"
            ]
          },
          "metadata": {},
          "execution_count": 24
        }
      ],
      "source": [
        "len(np.unique(x))"
      ]
    },
    {
      "cell_type": "code",
      "execution_count": 26,
      "id": "2921cd55",
      "metadata": {
        "id": "2921cd55"
      },
      "outputs": [],
      "source": [
        "bins_height, bins_edges = np.histogram(x, bins=10)\n",
        "bins_centers = (bins_edges[:-1]+bins_edges[1:])/2"
      ]
    },
    {
      "cell_type": "code",
      "execution_count": 27,
      "id": "9dd79f0d",
      "metadata": {
        "colab": {
          "base_uri": "https://localhost:8080/"
        },
        "id": "9dd79f0d",
        "outputId": "a4427e88-0245-48c1-b8e2-59b4949f0b72"
      },
      "outputs": [
        {
          "output_type": "execute_result",
          "data": {
            "text/plain": [
              "10"
            ]
          },
          "metadata": {},
          "execution_count": 27
        }
      ],
      "source": [
        "len(bins_centers)"
      ]
    },
    {
      "cell_type": "markdown",
      "id": "947ad4d9",
      "metadata": {
        "id": "947ad4d9"
      },
      "source": [
        "Т.е. вместо \"200\" уникальных трешхолдов мы будем использовать только \"10\"."
      ]
    },
    {
      "cell_type": "code",
      "execution_count": 30,
      "id": "b39f3613",
      "metadata": {
        "id": "b39f3613"
      },
      "outputs": [],
      "source": [
        "import matplotlib.pyplot as plt"
      ]
    },
    {
      "cell_type": "code",
      "execution_count": 31,
      "id": "948f45f1",
      "metadata": {
        "colab": {
          "base_uri": "https://localhost:8080/"
        },
        "id": "948f45f1",
        "outputId": "f1c68008-a368-41bf-87db-7e927c6f9204"
      },
      "outputs": [
        {
          "output_type": "execute_result",
          "data": {
            "text/plain": [
              "array([-2.37663854, -1.81631803, -1.25599751, -0.695677  , -0.13535649,\n",
              "        0.42496402,  0.98528454,  1.54560505,  2.10592556,  2.66624608])"
            ]
          },
          "metadata": {},
          "execution_count": 31
        }
      ],
      "source": [
        "bins_centers"
      ]
    },
    {
      "cell_type": "code",
      "execution_count": 32,
      "id": "324cba97",
      "metadata": {
        "colab": {
          "base_uri": "https://localhost:8080/"
        },
        "id": "324cba97",
        "outputId": "6f6061c9-e91f-4bee-b1a8-22485c2cb606"
      },
      "outputs": [
        {
          "output_type": "execute_result",
          "data": {
            "text/plain": [
              "array([-0.56032051, -0.56032051, -0.56032051, -0.56032051, -0.56032051,\n",
              "       -0.56032051, -0.56032051, -0.56032051, -0.56032051, -0.56032051])"
            ]
          },
          "metadata": {},
          "execution_count": 32
        }
      ],
      "source": [
        "# Ширина бинов одинакова\n",
        "bins_edges[:-1]-bins_edges[1:] "
      ]
    },
    {
      "cell_type": "code",
      "execution_count": 36,
      "id": "d2878eba",
      "metadata": {
        "colab": {
          "base_uri": "https://localhost:8080/",
          "height": 265
        },
        "id": "d2878eba",
        "outputId": "34dc65df-1749-45aa-a7b8-cdf226fc2328"
      },
      "outputs": [
        {
          "output_type": "display_data",
          "data": {
            "text/plain": [
              "<Figure size 432x288 with 1 Axes>"
            ],
            "image/png": "[encoded data removed]"
          },
          "metadata": {
            "needs_background": "light"
          }
        }
      ],
      "source": [
        "plt.bar(bins_centers, bins_height, width=0.6);"
      ]
    },
    {
      "cell_type": "markdown",
      "id": "4ca8fe75",
      "metadata": {
        "id": "4ca8fe75"
      },
      "source": [
        "### Выбор числа бинов\n",
        "\n",
        "Количество бинов гистограммы может сильно повлиять на то как вы приближаете ваше распределение"
      ]
    },
    {
      "cell_type": "code",
      "execution_count": 37,
      "id": "3de2b679",
      "metadata": {
        "colab": {
          "base_uri": "https://localhost:8080/",
          "height": 491
        },
        "id": "3de2b679",
        "outputId": "cf8f3dd5-ca40-4a1e-9370-6b0075c65fd4"
      },
      "outputs": [
        {
          "output_type": "display_data",
          "data": {
            "text/plain": [
              "<Figure size 864x648 with 12 Axes>"
            ],
            "image/png": "[encoded data removed]"
          },
          "metadata": {
            "needs_background": "light"
          }
        }
      ],
      "source": [
        "fig, axs = plt.subplots(3, 4, figsize=(12, 9))\n",
        "n_bins = np.round(np.linspace(1, 50, 12)).astype(int)\n",
        "\n",
        "for i, ax in enumerate(axs.flatten()):\n",
        "    ax.hist(x, bins=n_bins[i])\n",
        "    ax.set_title(f'number of bins is {n_bins[i]}')"
      ]
    },
    {
      "cell_type": "code",
      "execution_count": null,
      "id": "7ebba3d8",
      "metadata": {
        "id": "7ebba3d8"
      },
      "outputs": [],
      "source": []
    },
    {
      "cell_type": "markdown",
      "id": "6b2a962c",
      "metadata": {
        "id": "6b2a962c"
      },
      "source": [
        "### Метод Freedman–Diaconis \n",
        "\n",
        "https://en.wikipedia.org/wiki/Freedman%E2%80%93Diaconis_rule\n",
        "\n",
        "Для выбора числа бинов в гистограмме воспользуйте правилом Freedman–Diaconis:\n",
        "\n",
        "$$\\text{Bin width} = 2 \\cdot \\frac{IQR(x)}{x^{1/3}}$$\n",
        "\n",
        "Где IQR это inter quartile range, то есть расстояние между 25 и 75 перцентилем распределения.\n",
        "\n",
        "    3.1 Метод Freedman–Diaconis дает формулу для ширины бина (одинаковая для всех бинов), а чему в таком случае равно число бинов?\n",
        "    3.2 Имплементируйте функцию для подсчета числа бинов по формуле Freedman–Diaconis"
      ]
    },
    {
      "cell_type": "code",
      "execution_count": null,
      "id": "e57681a6",
      "metadata": {
        "id": "e57681a6"
      },
      "outputs": [],
      "source": [
        "# iqr\n",
        "np.quantile(x, 0.75) - np.quantile(x, 0.25)"
      ]
    },
    {
      "cell_type": "code",
      "execution_count": 90,
      "id": "4c3ff3f4",
      "metadata": {
        "id": "4c3ff3f4"
      },
      "outputs": [],
      "source": [
        "def number_of_bins_FD(x):\n",
        "  bin_width = 2*(np.quantile(x, 0.75) - np.quantile(x, 0.25))/(np.cbrt(len(x)))\n",
        "  if bin_width != 0.0:\n",
        "    return int(np.floor((np.max(x) - np.min(x))/bin_width)) + 1\n",
        "  else :\n",
        "    return 1"
      ]
    },
    {
      "cell_type": "code",
      "execution_count": 91,
      "id": "caa125aa",
      "metadata": {
        "colab": {
          "base_uri": "https://localhost:8080/"
        },
        "id": "caa125aa",
        "outputId": "19897243-9056-455d-d153-031daa898d81"
      },
      "outputs": [
        {
          "output_type": "execute_result",
          "data": {
            "text/plain": [
              "45"
            ]
          },
          "metadata": {},
          "execution_count": 91
        }
      ],
      "source": [
        "number_of_bins_FD(X.values[:,6])"
      ]
    },
    {
      "cell_type": "markdown",
      "id": "d6eb6b26",
      "metadata": {
        "id": "d6eb6b26"
      },
      "source": [
        "### В методе `self._best_split` замените перебор всех уникальных трешхолдов на перебор только по уникальным бинам\n",
        "\n",
        "Количество бинов подбирайте методом Freedman–Diaconis\n",
        "\n",
        "    3.3 Засеките время обучения вашего регрессора до и после имплементации гистограмм, насколько быстрее стало обучение?\n",
        "    3.4 Сравните скорость работы вашей имплементации решающего дерева и имплементации sklearn.tree.DecisionTreeRegressor, с аналогичными гиперпараметрами\n",
        "    3.5 Перечислите другие способы ускорения алгоритма решающего дерева (кроме приближения распределений признаков гистограмми)"
      ]
    },
    {
      "cell_type": "code",
      "source": [
        "class DecisionTreeRegressor_boosted:\n",
        "    def __init__(self, max_depth, min_samples_leaf):\n",
        "        \"\"\"\n",
        "        max_depth, int - максимальная глубина дерева\n",
        "        min_samples_leaf, int - минимальное количество наблюдений в листе\n",
        "        \"\"\"\n",
        "        self.max_depth = max_depth\n",
        "        self.min_samples_leaf = min_samples_leaf\n",
        "        self.tree = None\n",
        "        \n",
        "    def _split_data(self, X, y, feature_index, threshold):\n",
        "        left_mask = X[:, feature_index] <= threshold\n",
        "        right_mask = X[:, feature_index] > threshold\n",
        "        X_left, y_left = X[left_mask], y[left_mask]\n",
        "        X_right, y_right = X[right_mask], y[right_mask]\n",
        "        return X_left, y_left, X_right, y_right\n",
        "    \n",
        "    def _mse(self, y):\n",
        "        return np.mean((y - np.mean(y))**2)\n",
        "    \n",
        "    def _best_split(self, X, y):\n",
        "        best_feature_index, best_threshold = None, None\n",
        "        best_mse = float('inf')\n",
        "        n_features = X.shape[1]\n",
        "        for feature_index in range(n_features):\n",
        "            #implementing Freedman–Diaconis#\n",
        "            number_of_thresholds = number_of_bins_FD(X[:, feature_index])\n",
        "            bins_height, bins_edges = np.histogram(X[:, feature_index], bins=number_of_thresholds)\n",
        "            thresholds = (bins_edges[:-1]+bins_edges[1:])/2\n",
        "            for threshold in thresholds:\n",
        "                X_left, y_left, X_right, y_right = self._split_data(X, y, feature_index, threshold)\n",
        "                mse_left = self._mse(y_left)\n",
        "                mse_right = self._mse(y_right)\n",
        "                mse_split = (len(y_left) * mse_left + len(y_right) * mse_right) / len(y)\n",
        "                if mse_split < best_mse:\n",
        "                    best_mse = mse_split\n",
        "                    best_feature_index = feature_index\n",
        "                    best_threshold = threshold\n",
        "        return best_feature_index, best_threshold\n",
        "    \n",
        "    def _build_tree(self, X, y, depth):\n",
        "        if depth == self.max_depth:\n",
        "            return np.mean(y)\n",
        "        feature_index, threshold = self._best_split(X, y)\n",
        "        if feature_index is None:\n",
        "            return np.mean(y)\n",
        "        X_left, y_left, X_right, y_right = self._split_data(X, y, feature_index, threshold)\n",
        "        #Stop, if number of samples in nodes after split is too small#\n",
        "        if y_left.shape[0] < self.min_samples_leaf or y_right.shape[0] < self.min_samples_leaf :\n",
        "          return np.mean(y)\n",
        "        tree = {\n",
        "            'feature_index': feature_index,\n",
        "            'threshold': threshold\n",
        "        }\n",
        "        tree['left'] = self._build_tree(X_left, y_left, depth + 1)\n",
        "        tree['right'] = self._build_tree(X_right, y_right, depth + 1)\n",
        "        #Adding support attribute#\n",
        "        tree['support'] = X.shape[0]\n",
        "        return tree\n",
        "    \n",
        "    def fit(self, X, y):\n",
        "        self.tree = self._build_tree(X, y, depth=0)\n",
        "    \n",
        "    def _predict_one(self, tree, x):\n",
        "        if isinstance(tree, float):\n",
        "            return tree\n",
        "        feature_index, threshold = tree['feature_index'], tree['threshold']\n",
        "        if x[feature_index] <= threshold:\n",
        "            return self._predict_one(tree['left'], x)\n",
        "        else:\n",
        "            return self._predict_one(tree['right'], x)\n",
        "        \n",
        "    def predict(self, X):\n",
        "        predictions = []\n",
        "        for x in X:\n",
        "            prediction = self._predict_one(self.tree, x)\n",
        "            predictions.append(prediction)\n",
        "        return np.array(predictions)"
      ],
      "metadata": {
        "id": "bpk-s0U8iQms"
      },
      "id": "bpk-s0U8iQms",
      "execution_count": 92,
      "outputs": []
    },
    {
      "cell_type": "code",
      "source": [
        "dt_new = DecisionTreeRegressor_boosted(3,50)\n",
        "dt_new.fit(X.values, y.values)"
      ],
      "metadata": {
        "colab": {
          "base_uri": "https://localhost:8080/"
        },
        "id": "BIraIJn-iQon",
        "outputId": "71792d3a-df57-49fc-843b-612d9ad65397"
      },
      "id": "BIraIJn-iQon",
      "execution_count": 93,
      "outputs": [
        {
          "output_type": "stream",
          "name": "stderr",
          "text": [
            "/usr/local/lib/python3.9/dist-packages/numpy/core/fromnumeric.py:3474: RuntimeWarning: Mean of empty slice.\n",
            "  return _methods._mean(a, axis=axis, dtype=dtype,\n",
            "/usr/local/lib/python3.9/dist-packages/numpy/core/_methods.py:189: RuntimeWarning: invalid value encountered in double_scalars\n",
            "  ret = ret.dtype.type(ret / rcount)\n"
          ]
        }
      ]
    },
    {
      "cell_type": "code",
      "source": [
        "%lprun -f dt.fit dt.fit(X.values, y.values)"
      ],
      "metadata": {
        "id": "JDEdXCD6iQqv"
      },
      "id": "JDEdXCD6iQqv",
      "execution_count": 101,
      "outputs": []
    },
    {
      "cell_type": "code",
      "source": [
        "%lprun -f dt_new.fit dt.fit(X.values, y.values)"
      ],
      "metadata": {
        "colab": {
          "base_uri": "https://localhost:8080/"
        },
        "id": "ByMTdBr_iQr_",
        "outputId": "7ad2aa38-f175-4348-bb98-c0fc298e5783"
      },
      "id": "ByMTdBr_iQr_",
      "execution_count": 102,
      "outputs": [
        {
          "output_type": "stream",
          "name": "stderr",
          "text": [
            "/usr/local/lib/python3.9/dist-packages/numpy/core/fromnumeric.py:3474: RuntimeWarning: Mean of empty slice.\n",
            "  return _methods._mean(a, axis=axis, dtype=dtype,\n",
            "/usr/local/lib/python3.9/dist-packages/numpy/core/_methods.py:189: RuntimeWarning: invalid value encountered in double_scalars\n",
            "  ret = ret.dtype.type(ret / rcount)\n"
          ]
        }
      ]
    },
    {
      "cell_type": "markdown",
      "source": [
        "Сократили время в 4 раза"
      ],
      "metadata": {
        "id": "9QU5wzpPpUGD"
      },
      "id": "9QU5wzpPpUGD"
    },
    {
      "cell_type": "code",
      "execution_count": 103,
      "id": "834e94e1",
      "metadata": {
        "id": "834e94e1"
      },
      "outputs": [],
      "source": [
        "import sklearn\n",
        "DecisionTree_sklearn = sklearn.tree.DecisionTreeRegressor(max_depth = 3, min_samples_leaf = 50)"
      ]
    },
    {
      "cell_type": "code",
      "execution_count": 104,
      "id": "e4c870f3",
      "metadata": {
        "id": "e4c870f3"
      },
      "outputs": [],
      "source": [
        "%lprun -f DecisionTree_sklearn.fit DecisionTree_sklearn.fit(X.values[:100], y.values[:100])"
      ]
    },
    {
      "cell_type": "markdown",
      "id": "be258550",
      "metadata": {
        "id": "be258550"
      },
      "source": [
        "# 4. House pricing\n",
        "\n",
        "воспользуйтесь набором данных из ДЗ2. Обучите алгоритм Решающего дерева (воспользуйтесь имплементацией из sklearn), не забудьте разделить данные на тренировочную и тестовую выборки. \n",
        "\n",
        "    4.1. Влияет ли нормировка признаков на алгоритм Решающего дерева? Почему?\n",
        "    4.2. Переберите различные значения гиперпараметров решающего дерева с использованием функции GridSearchCV, какое наилучшее качество в терминах mean_squared_error вам удалось получить? Насколько это лучше/хуже качества линейных моделей (на том же train-test разбиении).\n",
        "    4.3. Сравните важность признаков которую предлагает встроенный метод DecisionTreeRegressor().feature_importances_ с важностью признаков полученной для линейных моделей, прокомментируйте."
      ]
    },
    {
      "cell_type": "code",
      "execution_count": null,
      "id": "7ce6d450",
      "metadata": {
        "id": "7ce6d450"
      },
      "outputs": [],
      "source": []
    },
    {
      "cell_type": "code",
      "execution_count": null,
      "id": "11d69f86",
      "metadata": {
        "id": "11d69f86"
      },
      "outputs": [],
      "source": []
    },
    {
      "cell_type": "markdown",
      "id": "12745cdf",
      "metadata": {
        "id": "12745cdf"
      },
      "source": [
        "## Подготовьте репорт о выполненном домашнем задании\n",
        "\n",
        "Вы можете вставлять в текст таблицы и/или графики на ваше усмотрение, текст репорта не должен превышать 2 страниц 12 кеглем Times New Roman (крайне желательно 1 страница)\n",
        "\n",
        "Подготовленный репорт и jupyter notebook c вашим решением необходимо отправить на почту kurmukovai@gmail.com, с темой письма [iitp-intro-ds-2023-ha4-Surname], например [iitp-intro-ds-2023-ha4-Kurmukov] до 23:59:59 МСК 26.03.2023."
      ]
    },
    {
      "cell_type": "code",
      "execution_count": null,
      "id": "9a6e867c",
      "metadata": {
        "id": "9a6e867c"
      },
      "outputs": [],
      "source": []
    }
  ],
  "metadata": {
    "kernelspec": {
      "display_name": "Python 3 (ipykernel)",
      "language": "python",
      "name": "python3"
    },
    "language_info": {
      "codemirror_mode": {
        "name": "ipython",
        "version": 3
      },
      "file_extension": ".py",
      "mimetype": "text/x-python",
      "name": "python",
      "nbconvert_exporter": "python",
      "pygments_lexer": "ipython3",
      "version": "3.9.13"
    },
    "colab": {
      "provenance": [],
      "toc_visible": true
    }
  },
  "nbformat": 4,
  "nbformat_minor": 5
}