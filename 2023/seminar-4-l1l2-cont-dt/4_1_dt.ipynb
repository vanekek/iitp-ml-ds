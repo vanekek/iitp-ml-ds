{
 "cells": [
  {
   "cell_type": "markdown",
   "metadata": {},
   "source": [
    "\n",
    "# Decision tree (classification) algorithm\n",
    "---\n",
    "- **Traininig**:\n",
    "    1. Find most *informative* combination of `node of the tree`,  `feature`, and  `split value`\n",
    "    2. Do split if `max_depth` is not reached\n",
    "    3. Iterate over 1-2.\n",
    "    \n",
    "    \n",
    "- **Inference** (prediction):\n",
    "    - Follow the rules ^_^.\n",
    "    \n",
    "\n",
    "## Decision tree example\n",
    "\n",
    "![](fancy_tree.png)\n",
    "\n",
    "picture link https://yadi.sk/i/fKgXgTdruFVMng\n",
    "\n",
    "---\n",
    "\n",
    "## Probabilities (sample means)\n",
    "\n",
    "> Before the first split:\n",
    "\n",
    "$$P(y=\\text{BLUE}) = \\frac{9}{20} = 0.45$$\n",
    "\n",
    "$$P(y=\\text{YELLOW}) = \\frac{11}{20} = 0.55$$\n",
    "\n",
    "> After the first split:\n",
    "\n",
    "$$P(y=\\text{BLUE}|X\\leq 12) = \\frac{8}{13} \\approx 0.62$$\n",
    "$$P(y=\\text{BLUE}|X> 12) = \\frac{1}{7} \\approx 0.14$$\n",
    "\n",
    "$$P(y=\\text{YELLOW}|X\\leq 12) = \\frac{5}{13} \\approx 0.38$$\n",
    "$$P(y=\\text{YELLOW}|X > 12) = \\frac{6}{7} \\approx 0.86$$\n",
    "\n",
    "\n",
    "---\n",
    "\n",
    "## Entropy\n",
    "\n",
    "$$\n",
    "H(p) = - \\sum_i^K p_i\\log(p_i)\n",
    "$$\n",
    "\n",
    "\n",
    "> Before the first split\n",
    "\n",
    "$$H = - 0.45 \\log 0.45 - 0.55 \\log 0.55 \\approx -0.69 $$\n",
    "\n",
    "> After the first split\n",
    "\n",
    "$$H_{\\text{left}} = - 0.62 \\log 0.62 - 0.38 \\log 0.38 \\approx -0.66$$\n",
    "\n",
    "$$H_{\\text{right}} = - 0.14 \\log 0.14 - 0.86 \\log 0.86 \\approx -0.40$$\n",
    "\n",
    "$$H_{\\text{total}} =  - \\frac{13}{20} 0.66 - \\frac{7}{20} 0.40 \\approx -0.86$$\n",
    "\n",
    "## Information Gain\n",
    "$$\n",
    "IG = H(\\text{parent}) - H(\\text{child})\n",
    "$$\n",
    "\n",
    "\n",
    "$$IG = -0.69 - (-0.86) = 0.13$$"
   ]
  },
  {
   "cell_type": "code",
   "execution_count": null,
   "metadata": {},
   "outputs": [],
   "source": []
  },
  {
   "cell_type": "code",
   "execution_count": null,
   "metadata": {},
   "outputs": [],
   "source": [
    "# !pip install -q kaggle\n",
    "# !kaggle competitions download -c forest-cover-type-prediction\n",
    "# !unzip forest-cover-type-prediction.zip -d forest-cover-type-prediction"
   ]
  },
  {
   "cell_type": "markdown",
   "metadata": {},
   "source": [
    "# Kaggle's 'Forest Cover Type Prediction' competition\n",
    "\n",
    "Read in the data as pandas dataframes. Data was downloaded as csv files from the Kaggle competition Data page https://www.kaggle.com/c/forest-cover-type-prediction/data.\n",
    "\n",
    "> You could install kaggle package https://github.com/Kaggle/kaggle-api and obtain this dataset by `kaggle competitions download -c forest-cover-type-prediction`"
   ]
  },
  {
   "cell_type": "code",
   "execution_count": null,
   "metadata": {},
   "outputs": [],
   "source": [
    "import pandas as pd\n",
    "import numpy as np"
   ]
  },
  {
   "cell_type": "code",
   "execution_count": null,
   "metadata": {},
   "outputs": [],
   "source": [
    "df = pd.read_csv('./forest-cover-type-prediction/train.csv', index_col=0)"
   ]
  },
  {
   "cell_type": "code",
   "execution_count": null,
   "metadata": {},
   "outputs": [],
   "source": [
    "df.head()"
   ]
  },
  {
   "cell_type": "code",
   "execution_count": null,
   "metadata": {},
   "outputs": [],
   "source": [
    "df.shape"
   ]
  },
  {
   "cell_type": "code",
   "execution_count": null,
   "metadata": {},
   "outputs": [],
   "source": [
    "df.columns"
   ]
  },
  {
   "cell_type": "code",
   "execution_count": null,
   "metadata": {},
   "outputs": [],
   "source": [
    "df.Cover_Type.value_counts()"
   ]
  },
  {
   "cell_type": "code",
   "execution_count": null,
   "metadata": {},
   "outputs": [],
   "source": [
    "df.count()"
   ]
  },
  {
   "cell_type": "markdown",
   "metadata": {},
   "source": [
    "# Split data"
   ]
  },
  {
   "cell_type": "code",
   "execution_count": null,
   "metadata": {},
   "outputs": [],
   "source": [
    "from sklearn.model_selection import train_test_split, KFold, GridSearchCV\n",
    "from sklearn.tree import DecisionTreeClassifier"
   ]
  },
  {
   "cell_type": "code",
   "execution_count": null,
   "metadata": {},
   "outputs": [],
   "source": [
    "X_train, X_test, y_train, y_test = train_test_split(df.drop('Cover_Type', axis=1),\n",
    "                                                    df.Cover_Type, train_size=.80, random_state=1)"
   ]
  },
  {
   "cell_type": "code",
   "execution_count": null,
   "metadata": {},
   "outputs": [],
   "source": [
    "clf = DecisionTreeClassifier()\n",
    "\n",
    "params_grid = {\n",
    "    'criterion': ['gini', 'entropy'],\n",
    "    'max_depth': np.arange(3, 30),\n",
    "    'min_samples_split': np.arange(10, 30, 5)\n",
    "}\n",
    "\n",
    "cv = KFold(n_splits=5, shuffle=True, random_state=5)"
   ]
  },
  {
   "cell_type": "code",
   "execution_count": null,
   "metadata": {},
   "outputs": [],
   "source": [
    "gs = GridSearchCV(clf, param_grid=params_grid, cv=cv, n_jobs=-1, verbose=1)\n",
    "\n",
    "gs.fit(X_train, y_train)"
   ]
  },
  {
   "cell_type": "code",
   "execution_count": null,
   "metadata": {},
   "outputs": [],
   "source": [
    "gs.best_estimator_"
   ]
  },
  {
   "cell_type": "code",
   "execution_count": null,
   "metadata": {},
   "outputs": [],
   "source": [
    "gs.best_params_"
   ]
  },
  {
   "cell_type": "code",
   "execution_count": null,
   "metadata": {},
   "outputs": [],
   "source": [
    "gs.best_score_"
   ]
  },
  {
   "cell_type": "code",
   "execution_count": null,
   "metadata": {},
   "outputs": [],
   "source": [
    "from sklearn.metrics import accuracy_score"
   ]
  },
  {
   "cell_type": "code",
   "execution_count": null,
   "metadata": {},
   "outputs": [],
   "source": [
    "y_pred = gs.predict(X_test)\n",
    "\n",
    "accuracy_score(y_test, y_pred)"
   ]
  },
  {
   "cell_type": "code",
   "execution_count": null,
   "metadata": {},
   "outputs": [],
   "source": []
  },
  {
   "cell_type": "markdown",
   "metadata": {},
   "source": [
    "# Public test (we do not have labels for them)"
   ]
  },
  {
   "cell_type": "code",
   "execution_count": null,
   "metadata": {},
   "outputs": [],
   "source": [
    "test = pd.read_csv('./forest-cover-type-prediction/test.csv', index_col=0)"
   ]
  },
  {
   "cell_type": "code",
   "execution_count": null,
   "metadata": {},
   "outputs": [],
   "source": [
    "gs.best_estimator_.fit(df.drop('Cover_Type', axis=1), df.Cover_Type)"
   ]
  },
  {
   "cell_type": "code",
   "execution_count": null,
   "metadata": {},
   "outputs": [],
   "source": [
    "y_pred_leaderboard = gs.predict(test)"
   ]
  },
  {
   "cell_type": "code",
   "execution_count": null,
   "metadata": {},
   "outputs": [],
   "source": [
    "predictions = pd.DataFrame(data=y_pred_leaderboard,\n",
    "                           index=test.index, \n",
    "                           columns=['Cover_Type'])\n",
    "predictions.to_csv('decision_tree.csv')"
   ]
  },
  {
   "cell_type": "code",
   "execution_count": null,
   "metadata": {},
   "outputs": [],
   "source": [
    "# !kaggle competitions submit -c forest-cover-type-prediction -f decision_tree.csv -m \"{'criterion': 'entropy', 'max_depth': 24, 'min_samples_split': 10}\""
   ]
  },
  {
   "cell_type": "code",
   "execution_count": null,
   "metadata": {},
   "outputs": [],
   "source": []
  },
  {
   "cell_type": "code",
   "execution_count": null,
   "metadata": {},
   "outputs": [],
   "source": [
    "y_test.value_counts()"
   ]
  },
  {
   "cell_type": "code",
   "execution_count": null,
   "metadata": {},
   "outputs": [],
   "source": [
    "predictions.Cover_Type.value_counts()"
   ]
  },
  {
   "cell_type": "code",
   "execution_count": null,
   "metadata": {},
   "outputs": [],
   "source": []
  },
  {
   "cell_type": "markdown",
   "metadata": {},
   "source": [
    "# Useful links\n",
    "\n",
    "\n",
    "- All parameters of a DecisionTreeClassifier explained https://towardsdatascience.com/how-to-tune-a-decision-tree-f03721801680 \n"
   ]
  },
  {
   "cell_type": "code",
   "execution_count": null,
   "metadata": {},
   "outputs": [],
   "source": []
  }
 ],
 "metadata": {
  "kernelspec": {
   "display_name": "Python 3 (ipykernel)",
   "language": "python",
   "name": "python3"
  },
  "language_info": {
   "codemirror_mode": {
    "name": "ipython",
    "version": 3
   },
   "file_extension": ".py",
   "mimetype": "text/x-python",
   "name": "python",
   "nbconvert_exporter": "python",
   "pygments_lexer": "ipython3",
   "version": "3.9.13"
  }
 },
 "nbformat": 4,
 "nbformat_minor": 4
}
